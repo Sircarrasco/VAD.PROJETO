{
 "cells": [
  {
   "attachments": {},
   "cell_type": "markdown",
   "metadata": {},
   "source": [
    "# Merge datasets"
   ]
  },
  {
   "cell_type": "code",
   "execution_count": 1,
   "metadata": {},
   "outputs": [],
   "source": [
    "import pandas as pd\n",
    "import os \n",
    "import numpy as np"
   ]
  },
  {
   "cell_type": "code",
   "execution_count": 2,
   "metadata": {},
   "outputs": [],
   "source": [
    "data_path = os.path.join('..', 'data')"
   ]
  },
  {
   "attachments": {},
   "cell_type": "markdown",
   "metadata": {},
   "source": [
    "## Cost of living"
   ]
  },
  {
   "cell_type": "code",
   "execution_count": 3,
   "metadata": {},
   "outputs": [],
   "source": [
    "metadata = pd.read_csv( os.path.join(data_path,  'metadata.csv'), sep=';')"
   ]
  },
  {
   "cell_type": "code",
   "execution_count": 11,
   "metadata": {},
   "outputs": [],
   "source": [
    "df = pd.read_csv(os.path.join(data_path, 'cost-of-living_v2.csv'))"
   ]
  },
  {
   "cell_type": "code",
   "execution_count": 12,
   "metadata": {},
   "outputs": [],
   "source": [
    "df = df.drop('city', axis=1)"
   ]
  },
  {
   "cell_type": "code",
   "execution_count": 13,
   "metadata": {},
   "outputs": [],
   "source": [
    "data = df.groupby('country').mean()"
   ]
  },
  {
   "cell_type": "code",
   "execution_count": 14,
   "metadata": {},
   "outputs": [],
   "source": [
    "data = data.reset_index()"
   ]
  },
  {
   "cell_type": "code",
   "execution_count": 15,
   "metadata": {},
   "outputs": [
    {
     "data": {
      "text/plain": [
       "0              Afghanistan\n",
       "3           American Samoa\n",
       "4                  Andorra\n",
       "6                 Anguilla\n",
       "7      Antigua And Barbuda\n",
       "              ...         \n",
       "200                 Tuvalu\n",
       "208                Vanuatu\n",
       "209           Vatican City\n",
       "212                  Yemen\n",
       "213                 Zambia\n",
       "Name: country, Length: 62, dtype: object"
      ]
     },
     "execution_count": 15,
     "metadata": {},
     "output_type": "execute_result"
    }
   ],
   "source": [
    "data.country.loc[data.isnull().any(axis=1)==True]"
   ]
  },
  {
   "cell_type": "code",
   "execution_count": 16,
   "metadata": {},
   "outputs": [],
   "source": [
    "data.to_csv(os.path.join(data_path, 'cost_of_living_per_country.csv'))"
   ]
  },
  {
   "cell_type": "code",
   "execution_count": 17,
   "metadata": {},
   "outputs": [
    {
     "name": "stdout",
     "output_type": "stream",
     "text": [
      "<class 'pandas.core.frame.DataFrame'>\n",
      "RangeIndex: 215 entries, 0 to 214\n",
      "Data columns (total 57 columns):\n",
      " #   Column        Non-Null Count  Dtype  \n",
      "---  ------        --------------  -----  \n",
      " 0   country       215 non-null    object \n",
      " 1   x1            212 non-null    float64\n",
      " 2   x2            212 non-null    float64\n",
      " 3   x3            211 non-null    float64\n",
      " 4   x4            211 non-null    float64\n",
      " 5   x5            210 non-null    float64\n",
      " 6   x6            212 non-null    float64\n",
      " 7   x7            214 non-null    float64\n",
      " 8   x8            214 non-null    float64\n",
      " 9   x9            214 non-null    float64\n",
      " 10  x10           214 non-null    float64\n",
      " 11  x11           210 non-null    float64\n",
      " 12  x12           212 non-null    float64\n",
      " 13  x13           203 non-null    float64\n",
      " 14  x14           210 non-null    float64\n",
      " 15  x15           208 non-null    float64\n",
      " 16  x16           209 non-null    float64\n",
      " 17  x17           210 non-null    float64\n",
      " 18  x18           210 non-null    float64\n",
      " 19  x19           209 non-null    float64\n",
      " 20  x20           208 non-null    float64\n",
      " 21  x21           208 non-null    float64\n",
      " 22  x22           206 non-null    float64\n",
      " 23  x23           209 non-null    float64\n",
      " 24  x24           209 non-null    float64\n",
      " 25  x25           205 non-null    float64\n",
      " 26  x26           207 non-null    float64\n",
      " 27  x27           206 non-null    float64\n",
      " 28  x28           203 non-null    float64\n",
      " 29  x29           186 non-null    float64\n",
      " 30  x30           201 non-null    float64\n",
      " 31  x31           195 non-null    float64\n",
      " 32  x32           194 non-null    float64\n",
      " 33  x33           208 non-null    float64\n",
      " 34  x34           194 non-null    float64\n",
      " 35  x35           190 non-null    float64\n",
      " 36  x36           208 non-null    float64\n",
      " 37  x37           198 non-null    float64\n",
      " 38  x38           206 non-null    float64\n",
      " 39  x39           207 non-null    float64\n",
      " 40  x40           194 non-null    float64\n",
      " 41  x41           200 non-null    float64\n",
      " 42  x42           195 non-null    float64\n",
      " 43  x43           195 non-null    float64\n",
      " 44  x44           199 non-null    float64\n",
      " 45  x45           197 non-null    float64\n",
      " 46  x46           199 non-null    float64\n",
      " 47  x47           199 non-null    float64\n",
      " 48  x48           211 non-null    float64\n",
      " 49  x49           212 non-null    float64\n",
      " 50  x50           206 non-null    float64\n",
      " 51  x51           208 non-null    float64\n",
      " 52  x52           190 non-null    float64\n",
      " 53  x53           189 non-null    float64\n",
      " 54  x54           209 non-null    float64\n",
      " 55  x55           188 non-null    float64\n",
      " 56  data_quality  215 non-null    float64\n",
      "dtypes: float64(56), object(1)\n",
      "memory usage: 95.9+ KB\n"
     ]
    }
   ],
   "source": [
    "data.info()"
   ]
  },
  {
   "cell_type": "code",
   "execution_count": 82,
   "metadata": {},
   "outputs": [],
   "source": [
    "# data.columns = list(metadata.description)"
   ]
  },
  {
   "cell_type": "code",
   "execution_count": 24,
   "metadata": {},
   "outputs": [],
   "source": [
    "columns = ['country'] + columns"
   ]
  },
  {
   "cell_type": "code",
   "execution_count": 30,
   "metadata": {},
   "outputs": [
    {
     "name": "stdout",
     "output_type": "stream",
     "text": [
      "<class 'pandas.core.frame.DataFrame'>\n",
      "RangeIndex: 215 entries, 0 to 214\n",
      "Data columns (total 57 columns):\n",
      " #   Column        Non-Null Count  Dtype  \n",
      "---  ------        --------------  -----  \n",
      " 0   country       215 non-null    object \n",
      " 1   x1            212 non-null    float64\n",
      " 2   x2            212 non-null    float64\n",
      " 3   x3            211 non-null    float64\n",
      " 4   x4            211 non-null    float64\n",
      " 5   x5            210 non-null    float64\n",
      " 6   x6            212 non-null    float64\n",
      " 7   x7            214 non-null    float64\n",
      " 8   x8            214 non-null    float64\n",
      " 9   x9            214 non-null    float64\n",
      " 10  x10           214 non-null    float64\n",
      " 11  x11           210 non-null    float64\n",
      " 12  x12           212 non-null    float64\n",
      " 13  x13           203 non-null    float64\n",
      " 14  x14           210 non-null    float64\n",
      " 15  x15           208 non-null    float64\n",
      " 16  x16           209 non-null    float64\n",
      " 17  x17           210 non-null    float64\n",
      " 18  x18           210 non-null    float64\n",
      " 19  x19           209 non-null    float64\n",
      " 20  x20           208 non-null    float64\n",
      " 21  x21           208 non-null    float64\n",
      " 22  x22           206 non-null    float64\n",
      " 23  x23           209 non-null    float64\n",
      " 24  x24           209 non-null    float64\n",
      " 25  x25           205 non-null    float64\n",
      " 26  x26           207 non-null    float64\n",
      " 27  x27           206 non-null    float64\n",
      " 28  x28           203 non-null    float64\n",
      " 29  x29           186 non-null    float64\n",
      " 30  x30           201 non-null    float64\n",
      " 31  x31           195 non-null    float64\n",
      " 32  x32           194 non-null    float64\n",
      " 33  x33           208 non-null    float64\n",
      " 34  x34           194 non-null    float64\n",
      " 35  x35           190 non-null    float64\n",
      " 36  x36           208 non-null    float64\n",
      " 37  x37           198 non-null    float64\n",
      " 38  x38           206 non-null    float64\n",
      " 39  x39           207 non-null    float64\n",
      " 40  x40           194 non-null    float64\n",
      " 41  x41           200 non-null    float64\n",
      " 42  x42           195 non-null    float64\n",
      " 43  x43           195 non-null    float64\n",
      " 44  x44           199 non-null    float64\n",
      " 45  x45           197 non-null    float64\n",
      " 46  x46           199 non-null    float64\n",
      " 47  x47           199 non-null    float64\n",
      " 48  x48           211 non-null    float64\n",
      " 49  x49           212 non-null    float64\n",
      " 50  x50           206 non-null    float64\n",
      " 51  x51           208 non-null    float64\n",
      " 52  x52           190 non-null    float64\n",
      " 53  x53           189 non-null    float64\n",
      " 54  x54           209 non-null    float64\n",
      " 55  x55           188 non-null    float64\n",
      " 56  data_quality  215 non-null    float64\n",
      "dtypes: float64(56), object(1)\n",
      "memory usage: 95.9+ KB\n"
     ]
    }
   ],
   "source": [
    "data.info()"
   ]
  },
  {
   "cell_type": "code",
   "execution_count": 32,
   "metadata": {},
   "outputs": [
    {
     "data": {
      "text/plain": [
       "array(['Afghanistan', 'Albania', 'Algeria', 'American Samoa', 'Andorra',\n",
       "       'Angola', 'Anguilla', 'Antigua And Barbuda', 'Argentina',\n",
       "       'Armenia', 'Aruba', 'Australia', 'Austria', 'Azerbaijan',\n",
       "       'Bahamas', 'Bahrain', 'Bangladesh', 'Barbados', 'Belarus',\n",
       "       'Belgium', 'Belize', 'Benin', 'Bermuda', 'Bhutan', 'Bolivia',\n",
       "       'Bosnia And Herzegovina', 'Botswana', 'Brazil',\n",
       "       'British Virgin Islands', 'Brunei', 'Bulgaria', 'Burkina Faso',\n",
       "       'Burundi', 'Cambodia', 'Cameroon', 'Canada', 'Cape Verde', 'Chad',\n",
       "       'Chile', 'China', 'Colombia', 'Comoros', 'Congo', 'Cook Islands',\n",
       "       'Costa Rica', 'Croatia', 'Cuba', 'Curacao', 'Cyprus',\n",
       "       'Czech Republic', 'Denmark', 'Djibouti', 'Dominica',\n",
       "       'Dominican Republic', 'Ecuador', 'Egypt', 'El Salvador',\n",
       "       'Equatorial Guinea', 'Eritrea', 'Estonia', 'Ethiopia',\n",
       "       'Falkland Islands', 'Faroe Islands', 'Fiji', 'Finland', 'France',\n",
       "       'French Guiana', 'French Polynesia', 'Gabon', 'Gambia', 'Georgia',\n",
       "       'Germany', 'Ghana', 'Gibraltar', 'Greece', 'Greenland',\n",
       "       'Guadeloupe', 'Guatemala', 'Guinea', 'Guinea-Bissau', 'Guyana',\n",
       "       'Haiti', 'Honduras', 'Hong Kong', 'Hungary', 'Iceland', 'India',\n",
       "       'Indonesia', 'Iran', 'Iraq', 'Ireland', 'Isle Of Man', 'Israel',\n",
       "       'Italy', 'Ivory Coast', 'Jamaica', 'Japan', 'Jersey', 'Jordan',\n",
       "       'Kazakhstan', 'Kenya', 'Kosovo (Disputed Territory)', 'Kuwait',\n",
       "       'Kyrgyzstan', 'Laos', 'Latvia', 'Lebanon', 'Lesotho', 'Liberia',\n",
       "       'Libya', 'Liechtenstein', 'Lithuania', 'Luxembourg', 'Madagascar',\n",
       "       'Malawi', 'Malaysia', 'Maldives', 'Mali', 'Malta',\n",
       "       'Marshall Islands', 'Martinique', 'Mauritania', 'Mauritius',\n",
       "       'Mexico', 'Moldova', 'Monaco', 'Mongolia', 'Montenegro',\n",
       "       'Montserrat', 'Morocco', 'Mozambique', 'Myanmar', 'Namibia',\n",
       "       'Nauru', 'Nepal', 'Netherlands', 'New Caledonia', 'New Zealand',\n",
       "       'Nicaragua', 'Niger', 'Nigeria', 'North Korea', 'North Macedonia',\n",
       "       'Norway', 'Oman', 'Pakistan', 'Panama', 'Papua New Guinea',\n",
       "       'Paraguay', 'Peru', 'Philippines', 'Poland', 'Portugal',\n",
       "       'Puerto Rico', 'Qatar', 'Reunion', 'Romania', 'Russia', 'Rwanda',\n",
       "       'Saint Helena', 'Saint Kitts And Nevis', 'Saint Lucia',\n",
       "       'Saint Vincent And The Grenadines', 'Samoa', 'San Marino',\n",
       "       'Sao Tome And Principe', 'Saudi Arabia', 'Senegal', 'Serbia',\n",
       "       'Seychelles', 'Sierra Leone', 'Singapore', 'Sint Maarten',\n",
       "       'Slovakia', 'Slovenia', 'Solomon Islands', 'Somalia',\n",
       "       'South Africa', 'South Korea', 'South Sudan', 'Spain', 'Sri Lanka',\n",
       "       'Sudan', 'Suriname', 'Swaziland', 'Sweden', 'Switzerland', 'Syria',\n",
       "       'Taiwan', 'Tajikistan', 'Tanzania', 'Thailand', 'Timor-Leste',\n",
       "       'Togo', 'Tonga', 'Trinidad And Tobago', 'Tunisia', 'Turkey',\n",
       "       'Turkmenistan', 'Turks And Caicos Islands', 'Tuvalu', 'Uganda',\n",
       "       'Ukraine', 'United Arab Emirates', 'United Kingdom',\n",
       "       'United States', 'Uruguay', 'Uzbekistan', 'Vanuatu',\n",
       "       'Vatican City', 'Venezuela', 'Vietnam', 'Yemen', 'Zambia',\n",
       "       'Zimbabwe'], dtype=object)"
      ]
     },
     "execution_count": 32,
     "metadata": {},
     "output_type": "execute_result"
    }
   ],
   "source": [
    "data['country'].unique()"
   ]
  },
  {
   "cell_type": "code",
   "execution_count": 33,
   "metadata": {},
   "outputs": [
    {
     "data": {
      "text/html": [
       "<div>\n",
       "<style scoped>\n",
       "    .dataframe tbody tr th:only-of-type {\n",
       "        vertical-align: middle;\n",
       "    }\n",
       "\n",
       "    .dataframe tbody tr th {\n",
       "        vertical-align: top;\n",
       "    }\n",
       "\n",
       "    .dataframe thead th {\n",
       "        text-align: right;\n",
       "    }\n",
       "</style>\n",
       "<table border=\"1\" class=\"dataframe\">\n",
       "  <thead>\n",
       "    <tr style=\"text-align: right;\">\n",
       "      <th></th>\n",
       "      <th>country</th>\n",
       "      <th>x1</th>\n",
       "      <th>x2</th>\n",
       "      <th>x3</th>\n",
       "      <th>x4</th>\n",
       "      <th>x5</th>\n",
       "      <th>x6</th>\n",
       "      <th>x7</th>\n",
       "      <th>x8</th>\n",
       "      <th>x9</th>\n",
       "      <th>...</th>\n",
       "      <th>x47</th>\n",
       "      <th>x48</th>\n",
       "      <th>x49</th>\n",
       "      <th>x50</th>\n",
       "      <th>x51</th>\n",
       "      <th>x52</th>\n",
       "      <th>x53</th>\n",
       "      <th>x54</th>\n",
       "      <th>x55</th>\n",
       "      <th>data_quality</th>\n",
       "    </tr>\n",
       "  </thead>\n",
       "  <tbody>\n",
       "    <tr>\n",
       "      <th>0</th>\n",
       "      <td>Afghanistan</td>\n",
       "      <td>1.690000</td>\n",
       "      <td>6.870000</td>\n",
       "      <td>2.977500</td>\n",
       "      <td>2.260000</td>\n",
       "      <td>NaN</td>\n",
       "      <td>0.597500</td>\n",
       "      <td>0.327500</td>\n",
       "      <td>0.140000</td>\n",
       "      <td>0.512000</td>\n",
       "      <td>...</td>\n",
       "      <td>27.965000</td>\n",
       "      <td>82.317500</td>\n",
       "      <td>46.140000</td>\n",
       "      <td>151.596667</td>\n",
       "      <td>94.163333</td>\n",
       "      <td>486.063333</td>\n",
       "      <td>239.113333</td>\n",
       "      <td>191.463333</td>\n",
       "      <td>11.193333</td>\n",
       "      <td>0.166667</td>\n",
       "    </tr>\n",
       "    <tr>\n",
       "      <th>1</th>\n",
       "      <td>Albania</td>\n",
       "      <td>4.460000</td>\n",
       "      <td>25.532000</td>\n",
       "      <td>4.223333</td>\n",
       "      <td>1.378667</td>\n",
       "      <td>1.842667</td>\n",
       "      <td>1.198667</td>\n",
       "      <td>1.148667</td>\n",
       "      <td>0.604000</td>\n",
       "      <td>1.136667</td>\n",
       "      <td>...</td>\n",
       "      <td>77.191429</td>\n",
       "      <td>204.213636</td>\n",
       "      <td>125.985455</td>\n",
       "      <td>366.069000</td>\n",
       "      <td>219.701000</td>\n",
       "      <td>887.849000</td>\n",
       "      <td>536.041111</td>\n",
       "      <td>368.735000</td>\n",
       "      <td>4.880833</td>\n",
       "      <td>0.200000</td>\n",
       "    </tr>\n",
       "    <tr>\n",
       "      <th>2</th>\n",
       "      <td>Algeria</td>\n",
       "      <td>1.956562</td>\n",
       "      <td>13.983750</td>\n",
       "      <td>2.830000</td>\n",
       "      <td>1.419615</td>\n",
       "      <td>1.627778</td>\n",
       "      <td>0.507333</td>\n",
       "      <td>0.489091</td>\n",
       "      <td>0.198788</td>\n",
       "      <td>0.673333</td>\n",
       "      <td>...</td>\n",
       "      <td>63.352258</td>\n",
       "      <td>145.281034</td>\n",
       "      <td>96.479630</td>\n",
       "      <td>239.689643</td>\n",
       "      <td>166.367778</td>\n",
       "      <td>947.055789</td>\n",
       "      <td>616.633684</td>\n",
       "      <td>262.671034</td>\n",
       "      <td>6.372667</td>\n",
       "      <td>0.088235</td>\n",
       "    </tr>\n",
       "    <tr>\n",
       "      <th>3</th>\n",
       "      <td>American Samoa</td>\n",
       "      <td>23.820000</td>\n",
       "      <td>6.660000</td>\n",
       "      <td>22.130000</td>\n",
       "      <td>1.910000</td>\n",
       "      <td>1.910000</td>\n",
       "      <td>1.000000</td>\n",
       "      <td>1.190000</td>\n",
       "      <td>2.110000</td>\n",
       "      <td>1.050000</td>\n",
       "      <td>...</td>\n",
       "      <td>NaN</td>\n",
       "      <td>89.460000</td>\n",
       "      <td>NaN</td>\n",
       "      <td>NaN</td>\n",
       "      <td>NaN</td>\n",
       "      <td>NaN</td>\n",
       "      <td>NaN</td>\n",
       "      <td>NaN</td>\n",
       "      <td>NaN</td>\n",
       "      <td>0.000000</td>\n",
       "    </tr>\n",
       "    <tr>\n",
       "      <th>4</th>\n",
       "      <td>Andorra</td>\n",
       "      <td>13.173333</td>\n",
       "      <td>40.920000</td>\n",
       "      <td>7.010000</td>\n",
       "      <td>2.073333</td>\n",
       "      <td>2.600000</td>\n",
       "      <td>1.380000</td>\n",
       "      <td>1.713333</td>\n",
       "      <td>1.370000</td>\n",
       "      <td>0.950000</td>\n",
       "      <td>...</td>\n",
       "      <td>124.693333</td>\n",
       "      <td>823.490000</td>\n",
       "      <td>664.736667</td>\n",
       "      <td>1724.043333</td>\n",
       "      <td>1320.693333</td>\n",
       "      <td>4390.603333</td>\n",
       "      <td>4109.603333</td>\n",
       "      <td>2842.183333</td>\n",
       "      <td>2.843333</td>\n",
       "      <td>0.000000</td>\n",
       "    </tr>\n",
       "    <tr>\n",
       "      <th>...</th>\n",
       "      <td>...</td>\n",
       "      <td>...</td>\n",
       "      <td>...</td>\n",
       "      <td>...</td>\n",
       "      <td>...</td>\n",
       "      <td>...</td>\n",
       "      <td>...</td>\n",
       "      <td>...</td>\n",
       "      <td>...</td>\n",
       "      <td>...</td>\n",
       "      <td>...</td>\n",
       "      <td>...</td>\n",
       "      <td>...</td>\n",
       "      <td>...</td>\n",
       "      <td>...</td>\n",
       "      <td>...</td>\n",
       "      <td>...</td>\n",
       "      <td>...</td>\n",
       "      <td>...</td>\n",
       "      <td>...</td>\n",
       "      <td>...</td>\n",
       "    </tr>\n",
       "    <tr>\n",
       "      <th>210</th>\n",
       "      <td>Venezuela</td>\n",
       "      <td>8.618824</td>\n",
       "      <td>32.763333</td>\n",
       "      <td>9.021765</td>\n",
       "      <td>1.442353</td>\n",
       "      <td>2.205882</td>\n",
       "      <td>1.928824</td>\n",
       "      <td>1.110000</td>\n",
       "      <td>0.799412</td>\n",
       "      <td>1.508333</td>\n",
       "      <td>...</td>\n",
       "      <td>68.483750</td>\n",
       "      <td>193.940000</td>\n",
       "      <td>181.823333</td>\n",
       "      <td>384.291667</td>\n",
       "      <td>296.666667</td>\n",
       "      <td>665.510000</td>\n",
       "      <td>550.611250</td>\n",
       "      <td>193.140000</td>\n",
       "      <td>31.720000</td>\n",
       "      <td>0.055556</td>\n",
       "    </tr>\n",
       "    <tr>\n",
       "      <th>211</th>\n",
       "      <td>Vietnam</td>\n",
       "      <td>2.115882</td>\n",
       "      <td>18.662353</td>\n",
       "      <td>4.231429</td>\n",
       "      <td>0.790625</td>\n",
       "      <td>1.542353</td>\n",
       "      <td>1.689412</td>\n",
       "      <td>0.478824</td>\n",
       "      <td>0.281176</td>\n",
       "      <td>1.337368</td>\n",
       "      <td>...</td>\n",
       "      <td>75.618947</td>\n",
       "      <td>324.830000</td>\n",
       "      <td>201.647273</td>\n",
       "      <td>728.840909</td>\n",
       "      <td>472.695455</td>\n",
       "      <td>1748.847778</td>\n",
       "      <td>986.321111</td>\n",
       "      <td>443.186667</td>\n",
       "      <td>11.003125</td>\n",
       "      <td>0.095238</td>\n",
       "    </tr>\n",
       "    <tr>\n",
       "      <th>212</th>\n",
       "      <td>Yemen</td>\n",
       "      <td>6.150000</td>\n",
       "      <td>32.616667</td>\n",
       "      <td>11.158333</td>\n",
       "      <td>2.265000</td>\n",
       "      <td>2.282500</td>\n",
       "      <td>2.540000</td>\n",
       "      <td>1.610000</td>\n",
       "      <td>0.660000</td>\n",
       "      <td>2.298000</td>\n",
       "      <td>...</td>\n",
       "      <td>71.310000</td>\n",
       "      <td>162.295000</td>\n",
       "      <td>93.740000</td>\n",
       "      <td>443.155000</td>\n",
       "      <td>221.605000</td>\n",
       "      <td>2786.350000</td>\n",
       "      <td>1015.360000</td>\n",
       "      <td>439.540000</td>\n",
       "      <td>12.875000</td>\n",
       "      <td>0.142857</td>\n",
       "    </tr>\n",
       "    <tr>\n",
       "      <th>213</th>\n",
       "      <td>Zambia</td>\n",
       "      <td>2.988000</td>\n",
       "      <td>18.370000</td>\n",
       "      <td>3.170000</td>\n",
       "      <td>1.152000</td>\n",
       "      <td>1.494000</td>\n",
       "      <td>1.742000</td>\n",
       "      <td>0.822000</td>\n",
       "      <td>0.458000</td>\n",
       "      <td>1.248000</td>\n",
       "      <td>...</td>\n",
       "      <td>105.640000</td>\n",
       "      <td>262.010000</td>\n",
       "      <td>168.400000</td>\n",
       "      <td>832.640000</td>\n",
       "      <td>439.960000</td>\n",
       "      <td>10763.910000</td>\n",
       "      <td>NaN</td>\n",
       "      <td>396.940000</td>\n",
       "      <td>26.000000</td>\n",
       "      <td>0.142857</td>\n",
       "    </tr>\n",
       "    <tr>\n",
       "      <th>214</th>\n",
       "      <td>Zimbabwe</td>\n",
       "      <td>6.843750</td>\n",
       "      <td>36.250000</td>\n",
       "      <td>6.187500</td>\n",
       "      <td>1.318750</td>\n",
       "      <td>1.971429</td>\n",
       "      <td>2.285000</td>\n",
       "      <td>0.665000</td>\n",
       "      <td>0.470000</td>\n",
       "      <td>1.688750</td>\n",
       "      <td>...</td>\n",
       "      <td>53.572500</td>\n",
       "      <td>196.586667</td>\n",
       "      <td>209.665000</td>\n",
       "      <td>534.723333</td>\n",
       "      <td>426.390000</td>\n",
       "      <td>1122.050000</td>\n",
       "      <td>1041.260000</td>\n",
       "      <td>311.110000</td>\n",
       "      <td>15.000000</td>\n",
       "      <td>0.100000</td>\n",
       "    </tr>\n",
       "  </tbody>\n",
       "</table>\n",
       "<p>215 rows × 57 columns</p>\n",
       "</div>"
      ],
      "text/plain": [
       "            country         x1         x2         x3        x4        x5  \\\n",
       "0       Afghanistan   1.690000   6.870000   2.977500  2.260000       NaN   \n",
       "1           Albania   4.460000  25.532000   4.223333  1.378667  1.842667   \n",
       "2           Algeria   1.956562  13.983750   2.830000  1.419615  1.627778   \n",
       "3    American Samoa  23.820000   6.660000  22.130000  1.910000  1.910000   \n",
       "4           Andorra  13.173333  40.920000   7.010000  2.073333  2.600000   \n",
       "..              ...        ...        ...        ...       ...       ...   \n",
       "210       Venezuela   8.618824  32.763333   9.021765  1.442353  2.205882   \n",
       "211         Vietnam   2.115882  18.662353   4.231429  0.790625  1.542353   \n",
       "212           Yemen   6.150000  32.616667  11.158333  2.265000  2.282500   \n",
       "213          Zambia   2.988000  18.370000   3.170000  1.152000  1.494000   \n",
       "214        Zimbabwe   6.843750  36.250000   6.187500  1.318750  1.971429   \n",
       "\n",
       "           x6        x7        x8        x9  ...         x47         x48  \\\n",
       "0    0.597500  0.327500  0.140000  0.512000  ...   27.965000   82.317500   \n",
       "1    1.198667  1.148667  0.604000  1.136667  ...   77.191429  204.213636   \n",
       "2    0.507333  0.489091  0.198788  0.673333  ...   63.352258  145.281034   \n",
       "3    1.000000  1.190000  2.110000  1.050000  ...         NaN   89.460000   \n",
       "4    1.380000  1.713333  1.370000  0.950000  ...  124.693333  823.490000   \n",
       "..        ...       ...       ...       ...  ...         ...         ...   \n",
       "210  1.928824  1.110000  0.799412  1.508333  ...   68.483750  193.940000   \n",
       "211  1.689412  0.478824  0.281176  1.337368  ...   75.618947  324.830000   \n",
       "212  2.540000  1.610000  0.660000  2.298000  ...   71.310000  162.295000   \n",
       "213  1.742000  0.822000  0.458000  1.248000  ...  105.640000  262.010000   \n",
       "214  2.285000  0.665000  0.470000  1.688750  ...   53.572500  196.586667   \n",
       "\n",
       "            x49          x50          x51           x52          x53  \\\n",
       "0     46.140000   151.596667    94.163333    486.063333   239.113333   \n",
       "1    125.985455   366.069000   219.701000    887.849000   536.041111   \n",
       "2     96.479630   239.689643   166.367778    947.055789   616.633684   \n",
       "3           NaN          NaN          NaN           NaN          NaN   \n",
       "4    664.736667  1724.043333  1320.693333   4390.603333  4109.603333   \n",
       "..          ...          ...          ...           ...          ...   \n",
       "210  181.823333   384.291667   296.666667    665.510000   550.611250   \n",
       "211  201.647273   728.840909   472.695455   1748.847778   986.321111   \n",
       "212   93.740000   443.155000   221.605000   2786.350000  1015.360000   \n",
       "213  168.400000   832.640000   439.960000  10763.910000          NaN   \n",
       "214  209.665000   534.723333   426.390000   1122.050000  1041.260000   \n",
       "\n",
       "             x54        x55  data_quality  \n",
       "0     191.463333  11.193333      0.166667  \n",
       "1     368.735000   4.880833      0.200000  \n",
       "2     262.671034   6.372667      0.088235  \n",
       "3            NaN        NaN      0.000000  \n",
       "4    2842.183333   2.843333      0.000000  \n",
       "..           ...        ...           ...  \n",
       "210   193.140000  31.720000      0.055556  \n",
       "211   443.186667  11.003125      0.095238  \n",
       "212   439.540000  12.875000      0.142857  \n",
       "213   396.940000  26.000000      0.142857  \n",
       "214   311.110000  15.000000      0.100000  \n",
       "\n",
       "[215 rows x 57 columns]"
      ]
     },
     "execution_count": 33,
     "metadata": {},
     "output_type": "execute_result"
    }
   ],
   "source": [
    "data"
   ]
  },
  {
   "cell_type": "code",
   "execution_count": 34,
   "metadata": {},
   "outputs": [],
   "source": [
    "dataset = pd.DataFrame(data[columns])"
   ]
  },
  {
   "cell_type": "code",
   "execution_count": 35,
   "metadata": {},
   "outputs": [],
   "source": [
    "dataset.country = dataset.country.str.title()"
   ]
  },
  {
   "attachments": {},
   "cell_type": "markdown",
   "metadata": {},
   "source": [
    "## Unesco"
   ]
  },
  {
   "cell_type": "code",
   "execution_count": 36,
   "metadata": {},
   "outputs": [],
   "source": [
    "unesco = pd.read_csv(os.path.join('..', 'data', 'unesco.csv'))"
   ]
  },
  {
   "cell_type": "code",
   "execution_count": 37,
   "metadata": {},
   "outputs": [],
   "source": [
    "unesco.Country = unesco.Country.str.title()"
   ]
  },
  {
   "cell_type": "code",
   "execution_count": 38,
   "metadata": {},
   "outputs": [],
   "source": [
    "dataset['unesco_props'] = np.nan\n",
    "for country, prop in zip(unesco.Country, unesco.Properties):\n",
    "    indexes = dataset['country'] == country\n",
    "    dataset.loc[indexes, 'unesco_props'] = prop\n"
   ]
  },
  {
   "cell_type": "code",
   "execution_count": 40,
   "metadata": {},
   "outputs": [
    {
     "data": {
      "text/plain": [
       "30"
      ]
     },
     "execution_count": 40,
     "metadata": {},
     "output_type": "execute_result"
    }
   ],
   "source": [
    "dataset.unesco_props.isnull().sum()"
   ]
  },
  {
   "cell_type": "code",
   "execution_count": 41,
   "metadata": {},
   "outputs": [
    {
     "data": {
      "text/plain": [
       "3                   American Samoa\n",
       "6                         Anguilla\n",
       "10                           Aruba\n",
       "22                         Bermuda\n",
       "28          British Virgin Islands\n",
       "47                         Curacao\n",
       "61                Falkland Islands\n",
       "62                   Faroe Islands\n",
       "66                   French Guiana\n",
       "67                French Polynesia\n",
       "73                       Gibraltar\n",
       "75                       Greenland\n",
       "76                      Guadeloupe\n",
       "83                       Hong Kong\n",
       "91                     Isle Of Man\n",
       "97                          Jersey\n",
       "101    Kosovo (Disputed Territory)\n",
       "110                  Liechtenstein\n",
       "120                     Martinique\n",
       "128                     Montserrat\n",
       "133                          Nauru\n",
       "136                  New Caledonia\n",
       "153                    Puerto Rico\n",
       "155                        Reunion\n",
       "159                   Saint Helena\n",
       "172                   Sint Maarten\n",
       "188                         Taiwan\n",
       "199       Turks And Caicos Islands\n",
       "200                         Tuvalu\n",
       "209                   Vatican City\n",
       "Name: country, dtype: object"
      ]
     },
     "execution_count": 41,
     "metadata": {},
     "output_type": "execute_result"
    }
   ],
   "source": [
    "dataset.loc[dataset.unesco_props.isnull(), 'country']"
   ]
  },
  {
   "attachments": {},
   "cell_type": "markdown",
   "metadata": {},
   "source": [
    "## Safety index"
   ]
  },
  {
   "cell_type": "code",
   "execution_count": 42,
   "metadata": {},
   "outputs": [],
   "source": [
    "safety = pd.read_csv(os.path.join('..', 'data', 'safety_index.csv'))"
   ]
  },
  {
   "cell_type": "code",
   "execution_count": 43,
   "metadata": {},
   "outputs": [],
   "source": [
    "safety.Country = safety.Country.str.title()"
   ]
  },
  {
   "cell_type": "code",
   "execution_count": 44,
   "metadata": {},
   "outputs": [],
   "source": [
    "dataset['safety_index'] = np.nan\n",
    "for country, ind in zip(safety.Country, safety['Safety Index']):\n",
    "    indexes = dataset['country'] == country\n",
    "    dataset.loc[indexes, 'safety_index'] = ind"
   ]
  },
  {
   "cell_type": "code",
   "execution_count": 45,
   "metadata": {},
   "outputs": [
    {
     "data": {
      "text/plain": [
       "75"
      ]
     },
     "execution_count": 45,
     "metadata": {},
     "output_type": "execute_result"
    }
   ],
   "source": [
    "dataset.safety_index.isnull().sum()"
   ]
  },
  {
   "cell_type": "code",
   "execution_count": 46,
   "metadata": {},
   "outputs": [
    {
     "name": "stdout",
     "output_type": "stream",
     "text": [
      "American Samoa\n",
      "Andorra\n",
      "Anguilla\n",
      "Antigua And Barbuda\n",
      "Aruba\n",
      "Benin\n",
      "Bermuda\n",
      "Bhutan\n",
      "British Virgin Islands\n",
      "Burkina Faso\n",
      "Burundi\n",
      "Cape Verde\n",
      "Chad\n",
      "Comoros\n",
      "Congo\n",
      "Cook Islands\n",
      "Curacao\n",
      "Djibouti\n",
      "Dominica\n",
      "Equatorial Guinea\n",
      "Eritrea\n",
      "Falkland Islands\n",
      "Faroe Islands\n",
      "French Guiana\n",
      "French Polynesia\n",
      "Gabon\n",
      "Gambia\n",
      "Gibraltar\n",
      "Greenland\n",
      "Guadeloupe\n",
      "Guinea\n",
      "Guinea-Bissau\n",
      "Haiti\n",
      "Ivory Coast\n",
      "Jersey\n",
      "Laos\n",
      "Lesotho\n",
      "Liberia\n",
      "Liechtenstein\n",
      "Madagascar\n",
      "Malawi\n",
      "Mali\n",
      "Marshall Islands\n",
      "Martinique\n",
      "Mauritania\n",
      "Montserrat\n",
      "Nauru\n",
      "New Caledonia\n",
      "Niger\n",
      "Reunion\n",
      "Saint Helena\n",
      "Saint Kitts And Nevis\n",
      "Saint Lucia\n",
      "Saint Vincent And The Grenadines\n",
      "Samoa\n",
      "San Marino\n",
      "Sao Tome And Principe\n",
      "Senegal\n",
      "Seychelles\n",
      "Sierra Leone\n",
      "Sint Maarten\n",
      "Solomon Islands\n",
      "South Sudan\n",
      "Suriname\n",
      "Swaziland\n",
      "Tajikistan\n",
      "Timor-Leste\n",
      "Togo\n",
      "Tonga\n",
      "Turkmenistan\n",
      "Turks And Caicos Islands\n",
      "Tuvalu\n",
      "Vanuatu\n",
      "Vatican City\n",
      "Yemen\n"
     ]
    }
   ],
   "source": [
    "for country in dataset.loc[dataset.safety_index.isnull(), 'country']:\n",
    "    print(country)"
   ]
  },
  {
   "cell_type": "code",
   "execution_count": 47,
   "metadata": {},
   "outputs": [],
   "source": [
    "dataset.to_csv(os.path.join('..', 'data', 'dataset_alpha.csv'), index=False)"
   ]
  },
  {
   "cell_type": "code",
   "execution_count": 48,
   "metadata": {},
   "outputs": [
    {
     "data": {
      "text/html": [
       "<div>\n",
       "<style scoped>\n",
       "    .dataframe tbody tr th:only-of-type {\n",
       "        vertical-align: middle;\n",
       "    }\n",
       "\n",
       "    .dataframe tbody tr th {\n",
       "        vertical-align: top;\n",
       "    }\n",
       "\n",
       "    .dataframe thead th {\n",
       "        text-align: right;\n",
       "    }\n",
       "</style>\n",
       "<table border=\"1\" class=\"dataframe\">\n",
       "  <thead>\n",
       "    <tr style=\"text-align: right;\">\n",
       "      <th></th>\n",
       "      <th>country</th>\n",
       "      <th>x1</th>\n",
       "      <th>x2</th>\n",
       "      <th>x3</th>\n",
       "      <th>x4</th>\n",
       "      <th>x5</th>\n",
       "      <th>x6</th>\n",
       "      <th>x7</th>\n",
       "      <th>x8</th>\n",
       "      <th>x23</th>\n",
       "      <th>...</th>\n",
       "      <th>x27</th>\n",
       "      <th>x28</th>\n",
       "      <th>x30</th>\n",
       "      <th>x33</th>\n",
       "      <th>x37</th>\n",
       "      <th>x38</th>\n",
       "      <th>x48</th>\n",
       "      <th>x49</th>\n",
       "      <th>unesco_props</th>\n",
       "      <th>safety_index</th>\n",
       "    </tr>\n",
       "  </thead>\n",
       "  <tbody>\n",
       "    <tr>\n",
       "      <th>0</th>\n",
       "      <td>Afghanistan</td>\n",
       "      <td>1.690000</td>\n",
       "      <td>6.870000</td>\n",
       "      <td>2.977500</td>\n",
       "      <td>2.260000</td>\n",
       "      <td>NaN</td>\n",
       "      <td>0.597500</td>\n",
       "      <td>0.327500</td>\n",
       "      <td>0.140000</td>\n",
       "      <td>0.226000</td>\n",
       "      <td>...</td>\n",
       "      <td>1.370000</td>\n",
       "      <td>0.230000</td>\n",
       "      <td>0.985000</td>\n",
       "      <td>0.794000</td>\n",
       "      <td>0.040000</td>\n",
       "      <td>320.150000</td>\n",
       "      <td>82.317500</td>\n",
       "      <td>46.140000</td>\n",
       "      <td>2.0</td>\n",
       "      <td>23.0</td>\n",
       "    </tr>\n",
       "    <tr>\n",
       "      <th>1</th>\n",
       "      <td>Albania</td>\n",
       "      <td>4.460000</td>\n",
       "      <td>25.532000</td>\n",
       "      <td>4.223333</td>\n",
       "      <td>1.378667</td>\n",
       "      <td>1.842667</td>\n",
       "      <td>1.198667</td>\n",
       "      <td>1.148667</td>\n",
       "      <td>0.604000</td>\n",
       "      <td>0.534000</td>\n",
       "      <td>...</td>\n",
       "      <td>2.871333</td>\n",
       "      <td>0.471818</td>\n",
       "      <td>2.520667</td>\n",
       "      <td>1.752000</td>\n",
       "      <td>0.185455</td>\n",
       "      <td>16.179286</td>\n",
       "      <td>204.213636</td>\n",
       "      <td>125.985455</td>\n",
       "      <td>4.0</td>\n",
       "      <td>53.9</td>\n",
       "    </tr>\n",
       "    <tr>\n",
       "      <th>2</th>\n",
       "      <td>Algeria</td>\n",
       "      <td>1.956562</td>\n",
       "      <td>13.983750</td>\n",
       "      <td>2.830000</td>\n",
       "      <td>1.419615</td>\n",
       "      <td>1.627778</td>\n",
       "      <td>0.507333</td>\n",
       "      <td>0.489091</td>\n",
       "      <td>0.198788</td>\n",
       "      <td>0.270294</td>\n",
       "      <td>...</td>\n",
       "      <td>2.108750</td>\n",
       "      <td>0.211429</td>\n",
       "      <td>0.810968</td>\n",
       "      <td>0.300000</td>\n",
       "      <td>0.065000</td>\n",
       "      <td>37.448710</td>\n",
       "      <td>145.281034</td>\n",
       "      <td>96.479630</td>\n",
       "      <td>7.0</td>\n",
       "      <td>46.2</td>\n",
       "    </tr>\n",
       "    <tr>\n",
       "      <th>3</th>\n",
       "      <td>American Samoa</td>\n",
       "      <td>23.820000</td>\n",
       "      <td>6.660000</td>\n",
       "      <td>22.130000</td>\n",
       "      <td>1.910000</td>\n",
       "      <td>1.910000</td>\n",
       "      <td>1.000000</td>\n",
       "      <td>1.190000</td>\n",
       "      <td>2.110000</td>\n",
       "      <td>NaN</td>\n",
       "      <td>...</td>\n",
       "      <td>NaN</td>\n",
       "      <td>NaN</td>\n",
       "      <td>NaN</td>\n",
       "      <td>NaN</td>\n",
       "      <td>NaN</td>\n",
       "      <td>81.140000</td>\n",
       "      <td>89.460000</td>\n",
       "      <td>NaN</td>\n",
       "      <td>NaN</td>\n",
       "      <td>NaN</td>\n",
       "    </tr>\n",
       "    <tr>\n",
       "      <th>4</th>\n",
       "      <td>Andorra</td>\n",
       "      <td>13.173333</td>\n",
       "      <td>40.920000</td>\n",
       "      <td>7.010000</td>\n",
       "      <td>2.073333</td>\n",
       "      <td>2.600000</td>\n",
       "      <td>1.380000</td>\n",
       "      <td>1.713333</td>\n",
       "      <td>1.370000</td>\n",
       "      <td>0.760000</td>\n",
       "      <td>...</td>\n",
       "      <td>5.883333</td>\n",
       "      <td>1.950000</td>\n",
       "      <td>2.450000</td>\n",
       "      <td>1.756667</td>\n",
       "      <td>0.370000</td>\n",
       "      <td>36.996667</td>\n",
       "      <td>823.490000</td>\n",
       "      <td>664.736667</td>\n",
       "      <td>1.0</td>\n",
       "      <td>NaN</td>\n",
       "    </tr>\n",
       "    <tr>\n",
       "      <th>...</th>\n",
       "      <td>...</td>\n",
       "      <td>...</td>\n",
       "      <td>...</td>\n",
       "      <td>...</td>\n",
       "      <td>...</td>\n",
       "      <td>...</td>\n",
       "      <td>...</td>\n",
       "      <td>...</td>\n",
       "      <td>...</td>\n",
       "      <td>...</td>\n",
       "      <td>...</td>\n",
       "      <td>...</td>\n",
       "      <td>...</td>\n",
       "      <td>...</td>\n",
       "      <td>...</td>\n",
       "      <td>...</td>\n",
       "      <td>...</td>\n",
       "      <td>...</td>\n",
       "      <td>...</td>\n",
       "      <td>...</td>\n",
       "      <td>...</td>\n",
       "    </tr>\n",
       "    <tr>\n",
       "      <th>210</th>\n",
       "      <td>Venezuela</td>\n",
       "      <td>8.618824</td>\n",
       "      <td>32.763333</td>\n",
       "      <td>9.021765</td>\n",
       "      <td>1.442353</td>\n",
       "      <td>2.205882</td>\n",
       "      <td>1.928824</td>\n",
       "      <td>1.110000</td>\n",
       "      <td>0.799412</td>\n",
       "      <td>1.235714</td>\n",
       "      <td>...</td>\n",
       "      <td>3.534667</td>\n",
       "      <td>0.563333</td>\n",
       "      <td>4.040000</td>\n",
       "      <td>0.501111</td>\n",
       "      <td>0.065000</td>\n",
       "      <td>45.231765</td>\n",
       "      <td>193.940000</td>\n",
       "      <td>181.823333</td>\n",
       "      <td>3.0</td>\n",
       "      <td>16.4</td>\n",
       "    </tr>\n",
       "    <tr>\n",
       "      <th>211</th>\n",
       "      <td>Vietnam</td>\n",
       "      <td>2.115882</td>\n",
       "      <td>18.662353</td>\n",
       "      <td>4.231429</td>\n",
       "      <td>0.790625</td>\n",
       "      <td>1.542353</td>\n",
       "      <td>1.689412</td>\n",
       "      <td>0.478824</td>\n",
       "      <td>0.281176</td>\n",
       "      <td>0.640526</td>\n",
       "      <td>...</td>\n",
       "      <td>1.130000</td>\n",
       "      <td>0.318750</td>\n",
       "      <td>0.467368</td>\n",
       "      <td>0.963684</td>\n",
       "      <td>0.078000</td>\n",
       "      <td>9.987368</td>\n",
       "      <td>324.830000</td>\n",
       "      <td>201.647273</td>\n",
       "      <td>8.0</td>\n",
       "      <td>54.2</td>\n",
       "    </tr>\n",
       "    <tr>\n",
       "      <th>212</th>\n",
       "      <td>Yemen</td>\n",
       "      <td>6.150000</td>\n",
       "      <td>32.616667</td>\n",
       "      <td>11.158333</td>\n",
       "      <td>2.265000</td>\n",
       "      <td>2.282500</td>\n",
       "      <td>2.540000</td>\n",
       "      <td>1.610000</td>\n",
       "      <td>0.660000</td>\n",
       "      <td>1.072000</td>\n",
       "      <td>...</td>\n",
       "      <td>3.836000</td>\n",
       "      <td>0.600000</td>\n",
       "      <td>2.000000</td>\n",
       "      <td>2.334000</td>\n",
       "      <td>0.056000</td>\n",
       "      <td>60.766000</td>\n",
       "      <td>162.295000</td>\n",
       "      <td>93.740000</td>\n",
       "      <td>5.0</td>\n",
       "      <td>NaN</td>\n",
       "    </tr>\n",
       "    <tr>\n",
       "      <th>213</th>\n",
       "      <td>Zambia</td>\n",
       "      <td>2.988000</td>\n",
       "      <td>18.370000</td>\n",
       "      <td>3.170000</td>\n",
       "      <td>1.152000</td>\n",
       "      <td>1.494000</td>\n",
       "      <td>1.742000</td>\n",
       "      <td>0.822000</td>\n",
       "      <td>0.458000</td>\n",
       "      <td>0.890000</td>\n",
       "      <td>...</td>\n",
       "      <td>2.482000</td>\n",
       "      <td>1.450000</td>\n",
       "      <td>3.000000</td>\n",
       "      <td>1.360000</td>\n",
       "      <td>0.070000</td>\n",
       "      <td>103.740000</td>\n",
       "      <td>262.010000</td>\n",
       "      <td>168.400000</td>\n",
       "      <td>1.0</td>\n",
       "      <td>53.7</td>\n",
       "    </tr>\n",
       "    <tr>\n",
       "      <th>214</th>\n",
       "      <td>Zimbabwe</td>\n",
       "      <td>6.843750</td>\n",
       "      <td>36.250000</td>\n",
       "      <td>6.187500</td>\n",
       "      <td>1.318750</td>\n",
       "      <td>1.971429</td>\n",
       "      <td>2.285000</td>\n",
       "      <td>0.665000</td>\n",
       "      <td>0.470000</td>\n",
       "      <td>0.981250</td>\n",
       "      <td>...</td>\n",
       "      <td>2.000000</td>\n",
       "      <td>0.666667</td>\n",
       "      <td>4.375000</td>\n",
       "      <td>1.437500</td>\n",
       "      <td>0.190000</td>\n",
       "      <td>102.812500</td>\n",
       "      <td>196.586667</td>\n",
       "      <td>209.665000</td>\n",
       "      <td>5.0</td>\n",
       "      <td>40.3</td>\n",
       "    </tr>\n",
       "  </tbody>\n",
       "</table>\n",
       "<p>215 rows × 22 columns</p>\n",
       "</div>"
      ],
      "text/plain": [
       "            country         x1         x2         x3        x4        x5  \\\n",
       "0       Afghanistan   1.690000   6.870000   2.977500  2.260000       NaN   \n",
       "1           Albania   4.460000  25.532000   4.223333  1.378667  1.842667   \n",
       "2           Algeria   1.956562  13.983750   2.830000  1.419615  1.627778   \n",
       "3    American Samoa  23.820000   6.660000  22.130000  1.910000  1.910000   \n",
       "4           Andorra  13.173333  40.920000   7.010000  2.073333  2.600000   \n",
       "..              ...        ...        ...        ...       ...       ...   \n",
       "210       Venezuela   8.618824  32.763333   9.021765  1.442353  2.205882   \n",
       "211         Vietnam   2.115882  18.662353   4.231429  0.790625  1.542353   \n",
       "212           Yemen   6.150000  32.616667  11.158333  2.265000  2.282500   \n",
       "213          Zambia   2.988000  18.370000   3.170000  1.152000  1.494000   \n",
       "214        Zimbabwe   6.843750  36.250000   6.187500  1.318750  1.971429   \n",
       "\n",
       "           x6        x7        x8       x23  ...       x27       x28  \\\n",
       "0    0.597500  0.327500  0.140000  0.226000  ...  1.370000  0.230000   \n",
       "1    1.198667  1.148667  0.604000  0.534000  ...  2.871333  0.471818   \n",
       "2    0.507333  0.489091  0.198788  0.270294  ...  2.108750  0.211429   \n",
       "3    1.000000  1.190000  2.110000       NaN  ...       NaN       NaN   \n",
       "4    1.380000  1.713333  1.370000  0.760000  ...  5.883333  1.950000   \n",
       "..        ...       ...       ...       ...  ...       ...       ...   \n",
       "210  1.928824  1.110000  0.799412  1.235714  ...  3.534667  0.563333   \n",
       "211  1.689412  0.478824  0.281176  0.640526  ...  1.130000  0.318750   \n",
       "212  2.540000  1.610000  0.660000  1.072000  ...  3.836000  0.600000   \n",
       "213  1.742000  0.822000  0.458000  0.890000  ...  2.482000  1.450000   \n",
       "214  2.285000  0.665000  0.470000  0.981250  ...  2.000000  0.666667   \n",
       "\n",
       "          x30       x33       x37         x38         x48         x49  \\\n",
       "0    0.985000  0.794000  0.040000  320.150000   82.317500   46.140000   \n",
       "1    2.520667  1.752000  0.185455   16.179286  204.213636  125.985455   \n",
       "2    0.810968  0.300000  0.065000   37.448710  145.281034   96.479630   \n",
       "3         NaN       NaN       NaN   81.140000   89.460000         NaN   \n",
       "4    2.450000  1.756667  0.370000   36.996667  823.490000  664.736667   \n",
       "..        ...       ...       ...         ...         ...         ...   \n",
       "210  4.040000  0.501111  0.065000   45.231765  193.940000  181.823333   \n",
       "211  0.467368  0.963684  0.078000    9.987368  324.830000  201.647273   \n",
       "212  2.000000  2.334000  0.056000   60.766000  162.295000   93.740000   \n",
       "213  3.000000  1.360000  0.070000  103.740000  262.010000  168.400000   \n",
       "214  4.375000  1.437500  0.190000  102.812500  196.586667  209.665000   \n",
       "\n",
       "     unesco_props  safety_index  \n",
       "0             2.0          23.0  \n",
       "1             4.0          53.9  \n",
       "2             7.0          46.2  \n",
       "3             NaN           NaN  \n",
       "4             1.0           NaN  \n",
       "..            ...           ...  \n",
       "210           3.0          16.4  \n",
       "211           8.0          54.2  \n",
       "212           5.0           NaN  \n",
       "213           1.0          53.7  \n",
       "214           5.0          40.3  \n",
       "\n",
       "[215 rows x 22 columns]"
      ]
     },
     "execution_count": 48,
     "metadata": {},
     "output_type": "execute_result"
    }
   ],
   "source": [
    "# Ler o dataset_alpha.csv\n",
    "data = pd.read_csv( os.path.join(data_path,  'dataset_alpha.csv'), sep=',')\n",
    "data"
   ]
  },
  {
   "cell_type": "code",
   "execution_count": 50,
   "metadata": {},
   "outputs": [
    {
     "data": {
      "text/plain": [
       "3                   American Samoa\n",
       "6                         Anguilla\n",
       "10                           Aruba\n",
       "22                         Bermuda\n",
       "28          British Virgin Islands\n",
       "47                         Curacao\n",
       "61                Falkland Islands\n",
       "62                   Faroe Islands\n",
       "66                   French Guiana\n",
       "67                French Polynesia\n",
       "73                       Gibraltar\n",
       "75                       Greenland\n",
       "76                      Guadeloupe\n",
       "83                       Hong Kong\n",
       "91                     Isle Of Man\n",
       "97                          Jersey\n",
       "101    Kosovo (Disputed Territory)\n",
       "110                  Liechtenstein\n",
       "120                     Martinique\n",
       "128                     Montserrat\n",
       "133                          Nauru\n",
       "136                  New Caledonia\n",
       "153                    Puerto Rico\n",
       "155                        Reunion\n",
       "159                   Saint Helena\n",
       "172                   Sint Maarten\n",
       "188                         Taiwan\n",
       "199       Turks And Caicos Islands\n",
       "200                         Tuvalu\n",
       "209                   Vatican City\n",
       "Name: country, dtype: object"
      ]
     },
     "execution_count": 50,
     "metadata": {},
     "output_type": "execute_result"
    }
   ],
   "source": [
    "# ver que paises o safety_index esta a null\n",
    "data.loc[data.unesco_props.isnull(), 'country']"
   ]
  },
  {
   "cell_type": "code",
   "execution_count": 51,
   "metadata": {},
   "outputs": [
    {
     "data": {
      "text/plain": [
       "30"
      ]
     },
     "execution_count": 51,
     "metadata": {},
     "output_type": "execute_result"
    }
   ],
   "source": [
    "data.unesco_props.isnull().sum()"
   ]
  },
  {
   "attachments": {},
   "cell_type": "markdown",
   "metadata": {},
   "source": [
    "## Quality of life"
   ]
  },
  {
   "cell_type": "code",
   "execution_count": 54,
   "metadata": {},
   "outputs": [],
   "source": [
    "# Preprocessamento do dataset quality_life_index.csv\n",
    "quality = pd.read_csv(os.path.join('..', 'data', 'quality_life_index.csv'))\n",
    "quality.Nome = quality.Nome.str.title()\n",
    "data['quality_of_life'] = np.nan\n",
    "for country, ind in zip(quality.Nome, quality['Index']):\n",
    "    indexes = data['country'] == country\n",
    "    data.loc[indexes, 'quality_of_life'] = ind"
   ]
  },
  {
   "cell_type": "code",
   "execution_count": 55,
   "metadata": {},
   "outputs": [
    {
     "data": {
      "text/html": [
       "<div>\n",
       "<style scoped>\n",
       "    .dataframe tbody tr th:only-of-type {\n",
       "        vertical-align: middle;\n",
       "    }\n",
       "\n",
       "    .dataframe tbody tr th {\n",
       "        vertical-align: top;\n",
       "    }\n",
       "\n",
       "    .dataframe thead th {\n",
       "        text-align: right;\n",
       "    }\n",
       "</style>\n",
       "<table border=\"1\" class=\"dataframe\">\n",
       "  <thead>\n",
       "    <tr style=\"text-align: right;\">\n",
       "      <th></th>\n",
       "      <th>country</th>\n",
       "      <th>x1</th>\n",
       "      <th>x2</th>\n",
       "      <th>x3</th>\n",
       "      <th>x4</th>\n",
       "      <th>x5</th>\n",
       "      <th>x6</th>\n",
       "      <th>x7</th>\n",
       "      <th>x8</th>\n",
       "      <th>x23</th>\n",
       "      <th>...</th>\n",
       "      <th>x28</th>\n",
       "      <th>x30</th>\n",
       "      <th>x33</th>\n",
       "      <th>x37</th>\n",
       "      <th>x38</th>\n",
       "      <th>x48</th>\n",
       "      <th>x49</th>\n",
       "      <th>unesco_props</th>\n",
       "      <th>safety_index</th>\n",
       "      <th>quality_of_life</th>\n",
       "    </tr>\n",
       "  </thead>\n",
       "  <tbody>\n",
       "    <tr>\n",
       "      <th>0</th>\n",
       "      <td>Afghanistan</td>\n",
       "      <td>1.690000</td>\n",
       "      <td>6.870000</td>\n",
       "      <td>2.977500</td>\n",
       "      <td>2.260000</td>\n",
       "      <td>NaN</td>\n",
       "      <td>0.597500</td>\n",
       "      <td>0.327500</td>\n",
       "      <td>0.140000</td>\n",
       "      <td>0.226000</td>\n",
       "      <td>...</td>\n",
       "      <td>0.230000</td>\n",
       "      <td>0.985000</td>\n",
       "      <td>0.794000</td>\n",
       "      <td>0.040000</td>\n",
       "      <td>320.150000</td>\n",
       "      <td>82.317500</td>\n",
       "      <td>46.140000</td>\n",
       "      <td>2.0</td>\n",
       "      <td>23.0</td>\n",
       "      <td>38.1</td>\n",
       "    </tr>\n",
       "    <tr>\n",
       "      <th>1</th>\n",
       "      <td>Albania</td>\n",
       "      <td>4.460000</td>\n",
       "      <td>25.532000</td>\n",
       "      <td>4.223333</td>\n",
       "      <td>1.378667</td>\n",
       "      <td>1.842667</td>\n",
       "      <td>1.198667</td>\n",
       "      <td>1.148667</td>\n",
       "      <td>0.604000</td>\n",
       "      <td>0.534000</td>\n",
       "      <td>...</td>\n",
       "      <td>0.471818</td>\n",
       "      <td>2.520667</td>\n",
       "      <td>1.752000</td>\n",
       "      <td>0.185455</td>\n",
       "      <td>16.179286</td>\n",
       "      <td>204.213636</td>\n",
       "      <td>125.985455</td>\n",
       "      <td>4.0</td>\n",
       "      <td>53.9</td>\n",
       "      <td>68.2</td>\n",
       "    </tr>\n",
       "    <tr>\n",
       "      <th>2</th>\n",
       "      <td>Algeria</td>\n",
       "      <td>1.956562</td>\n",
       "      <td>13.983750</td>\n",
       "      <td>2.830000</td>\n",
       "      <td>1.419615</td>\n",
       "      <td>1.627778</td>\n",
       "      <td>0.507333</td>\n",
       "      <td>0.489091</td>\n",
       "      <td>0.198788</td>\n",
       "      <td>0.270294</td>\n",
       "      <td>...</td>\n",
       "      <td>0.211429</td>\n",
       "      <td>0.810968</td>\n",
       "      <td>0.300000</td>\n",
       "      <td>0.065000</td>\n",
       "      <td>37.448710</td>\n",
       "      <td>145.281034</td>\n",
       "      <td>96.479630</td>\n",
       "      <td>7.0</td>\n",
       "      <td>46.2</td>\n",
       "      <td>60.6</td>\n",
       "    </tr>\n",
       "    <tr>\n",
       "      <th>3</th>\n",
       "      <td>American Samoa</td>\n",
       "      <td>23.820000</td>\n",
       "      <td>6.660000</td>\n",
       "      <td>22.130000</td>\n",
       "      <td>1.910000</td>\n",
       "      <td>1.910000</td>\n",
       "      <td>1.000000</td>\n",
       "      <td>1.190000</td>\n",
       "      <td>2.110000</td>\n",
       "      <td>NaN</td>\n",
       "      <td>...</td>\n",
       "      <td>NaN</td>\n",
       "      <td>NaN</td>\n",
       "      <td>NaN</td>\n",
       "      <td>NaN</td>\n",
       "      <td>81.140000</td>\n",
       "      <td>89.460000</td>\n",
       "      <td>NaN</td>\n",
       "      <td>NaN</td>\n",
       "      <td>NaN</td>\n",
       "      <td>NaN</td>\n",
       "    </tr>\n",
       "    <tr>\n",
       "      <th>4</th>\n",
       "      <td>Andorra</td>\n",
       "      <td>13.173333</td>\n",
       "      <td>40.920000</td>\n",
       "      <td>7.010000</td>\n",
       "      <td>2.073333</td>\n",
       "      <td>2.600000</td>\n",
       "      <td>1.380000</td>\n",
       "      <td>1.713333</td>\n",
       "      <td>1.370000</td>\n",
       "      <td>0.760000</td>\n",
       "      <td>...</td>\n",
       "      <td>1.950000</td>\n",
       "      <td>2.450000</td>\n",
       "      <td>1.756667</td>\n",
       "      <td>0.370000</td>\n",
       "      <td>36.996667</td>\n",
       "      <td>823.490000</td>\n",
       "      <td>664.736667</td>\n",
       "      <td>1.0</td>\n",
       "      <td>NaN</td>\n",
       "      <td>79.0</td>\n",
       "    </tr>\n",
       "    <tr>\n",
       "      <th>...</th>\n",
       "      <td>...</td>\n",
       "      <td>...</td>\n",
       "      <td>...</td>\n",
       "      <td>...</td>\n",
       "      <td>...</td>\n",
       "      <td>...</td>\n",
       "      <td>...</td>\n",
       "      <td>...</td>\n",
       "      <td>...</td>\n",
       "      <td>...</td>\n",
       "      <td>...</td>\n",
       "      <td>...</td>\n",
       "      <td>...</td>\n",
       "      <td>...</td>\n",
       "      <td>...</td>\n",
       "      <td>...</td>\n",
       "      <td>...</td>\n",
       "      <td>...</td>\n",
       "      <td>...</td>\n",
       "      <td>...</td>\n",
       "      <td>...</td>\n",
       "    </tr>\n",
       "    <tr>\n",
       "      <th>210</th>\n",
       "      <td>Venezuela</td>\n",
       "      <td>8.618824</td>\n",
       "      <td>32.763333</td>\n",
       "      <td>9.021765</td>\n",
       "      <td>1.442353</td>\n",
       "      <td>2.205882</td>\n",
       "      <td>1.928824</td>\n",
       "      <td>1.110000</td>\n",
       "      <td>0.799412</td>\n",
       "      <td>1.235714</td>\n",
       "      <td>...</td>\n",
       "      <td>0.563333</td>\n",
       "      <td>4.040000</td>\n",
       "      <td>0.501111</td>\n",
       "      <td>0.065000</td>\n",
       "      <td>45.231765</td>\n",
       "      <td>193.940000</td>\n",
       "      <td>181.823333</td>\n",
       "      <td>3.0</td>\n",
       "      <td>16.4</td>\n",
       "      <td>49.6</td>\n",
       "    </tr>\n",
       "    <tr>\n",
       "      <th>211</th>\n",
       "      <td>Vietnam</td>\n",
       "      <td>2.115882</td>\n",
       "      <td>18.662353</td>\n",
       "      <td>4.231429</td>\n",
       "      <td>0.790625</td>\n",
       "      <td>1.542353</td>\n",
       "      <td>1.689412</td>\n",
       "      <td>0.478824</td>\n",
       "      <td>0.281176</td>\n",
       "      <td>0.640526</td>\n",
       "      <td>...</td>\n",
       "      <td>0.318750</td>\n",
       "      <td>0.467368</td>\n",
       "      <td>0.963684</td>\n",
       "      <td>0.078000</td>\n",
       "      <td>9.987368</td>\n",
       "      <td>324.830000</td>\n",
       "      <td>201.647273</td>\n",
       "      <td>8.0</td>\n",
       "      <td>54.2</td>\n",
       "      <td>57.4</td>\n",
       "    </tr>\n",
       "    <tr>\n",
       "      <th>212</th>\n",
       "      <td>Yemen</td>\n",
       "      <td>6.150000</td>\n",
       "      <td>32.616667</td>\n",
       "      <td>11.158333</td>\n",
       "      <td>2.265000</td>\n",
       "      <td>2.282500</td>\n",
       "      <td>2.540000</td>\n",
       "      <td>1.610000</td>\n",
       "      <td>0.660000</td>\n",
       "      <td>1.072000</td>\n",
       "      <td>...</td>\n",
       "      <td>0.600000</td>\n",
       "      <td>2.000000</td>\n",
       "      <td>2.334000</td>\n",
       "      <td>0.056000</td>\n",
       "      <td>60.766000</td>\n",
       "      <td>162.295000</td>\n",
       "      <td>93.740000</td>\n",
       "      <td>5.0</td>\n",
       "      <td>NaN</td>\n",
       "      <td>34.3</td>\n",
       "    </tr>\n",
       "    <tr>\n",
       "      <th>213</th>\n",
       "      <td>Zambia</td>\n",
       "      <td>2.988000</td>\n",
       "      <td>18.370000</td>\n",
       "      <td>3.170000</td>\n",
       "      <td>1.152000</td>\n",
       "      <td>1.494000</td>\n",
       "      <td>1.742000</td>\n",
       "      <td>0.822000</td>\n",
       "      <td>0.458000</td>\n",
       "      <td>0.890000</td>\n",
       "      <td>...</td>\n",
       "      <td>1.450000</td>\n",
       "      <td>3.000000</td>\n",
       "      <td>1.360000</td>\n",
       "      <td>0.070000</td>\n",
       "      <td>103.740000</td>\n",
       "      <td>262.010000</td>\n",
       "      <td>168.400000</td>\n",
       "      <td>1.0</td>\n",
       "      <td>53.7</td>\n",
       "      <td>48.5</td>\n",
       "    </tr>\n",
       "    <tr>\n",
       "      <th>214</th>\n",
       "      <td>Zimbabwe</td>\n",
       "      <td>6.843750</td>\n",
       "      <td>36.250000</td>\n",
       "      <td>6.187500</td>\n",
       "      <td>1.318750</td>\n",
       "      <td>1.971429</td>\n",
       "      <td>2.285000</td>\n",
       "      <td>0.665000</td>\n",
       "      <td>0.470000</td>\n",
       "      <td>0.981250</td>\n",
       "      <td>...</td>\n",
       "      <td>0.666667</td>\n",
       "      <td>4.375000</td>\n",
       "      <td>1.437500</td>\n",
       "      <td>0.190000</td>\n",
       "      <td>102.812500</td>\n",
       "      <td>196.586667</td>\n",
       "      <td>209.665000</td>\n",
       "      <td>5.0</td>\n",
       "      <td>40.3</td>\n",
       "      <td>44.7</td>\n",
       "    </tr>\n",
       "  </tbody>\n",
       "</table>\n",
       "<p>215 rows × 23 columns</p>\n",
       "</div>"
      ],
      "text/plain": [
       "            country         x1         x2         x3        x4        x5  \\\n",
       "0       Afghanistan   1.690000   6.870000   2.977500  2.260000       NaN   \n",
       "1           Albania   4.460000  25.532000   4.223333  1.378667  1.842667   \n",
       "2           Algeria   1.956562  13.983750   2.830000  1.419615  1.627778   \n",
       "3    American Samoa  23.820000   6.660000  22.130000  1.910000  1.910000   \n",
       "4           Andorra  13.173333  40.920000   7.010000  2.073333  2.600000   \n",
       "..              ...        ...        ...        ...       ...       ...   \n",
       "210       Venezuela   8.618824  32.763333   9.021765  1.442353  2.205882   \n",
       "211         Vietnam   2.115882  18.662353   4.231429  0.790625  1.542353   \n",
       "212           Yemen   6.150000  32.616667  11.158333  2.265000  2.282500   \n",
       "213          Zambia   2.988000  18.370000   3.170000  1.152000  1.494000   \n",
       "214        Zimbabwe   6.843750  36.250000   6.187500  1.318750  1.971429   \n",
       "\n",
       "           x6        x7        x8       x23  ...       x28       x30  \\\n",
       "0    0.597500  0.327500  0.140000  0.226000  ...  0.230000  0.985000   \n",
       "1    1.198667  1.148667  0.604000  0.534000  ...  0.471818  2.520667   \n",
       "2    0.507333  0.489091  0.198788  0.270294  ...  0.211429  0.810968   \n",
       "3    1.000000  1.190000  2.110000       NaN  ...       NaN       NaN   \n",
       "4    1.380000  1.713333  1.370000  0.760000  ...  1.950000  2.450000   \n",
       "..        ...       ...       ...       ...  ...       ...       ...   \n",
       "210  1.928824  1.110000  0.799412  1.235714  ...  0.563333  4.040000   \n",
       "211  1.689412  0.478824  0.281176  0.640526  ...  0.318750  0.467368   \n",
       "212  2.540000  1.610000  0.660000  1.072000  ...  0.600000  2.000000   \n",
       "213  1.742000  0.822000  0.458000  0.890000  ...  1.450000  3.000000   \n",
       "214  2.285000  0.665000  0.470000  0.981250  ...  0.666667  4.375000   \n",
       "\n",
       "          x33       x37         x38         x48         x49  unesco_props  \\\n",
       "0    0.794000  0.040000  320.150000   82.317500   46.140000           2.0   \n",
       "1    1.752000  0.185455   16.179286  204.213636  125.985455           4.0   \n",
       "2    0.300000  0.065000   37.448710  145.281034   96.479630           7.0   \n",
       "3         NaN       NaN   81.140000   89.460000         NaN           NaN   \n",
       "4    1.756667  0.370000   36.996667  823.490000  664.736667           1.0   \n",
       "..        ...       ...         ...         ...         ...           ...   \n",
       "210  0.501111  0.065000   45.231765  193.940000  181.823333           3.0   \n",
       "211  0.963684  0.078000    9.987368  324.830000  201.647273           8.0   \n",
       "212  2.334000  0.056000   60.766000  162.295000   93.740000           5.0   \n",
       "213  1.360000  0.070000  103.740000  262.010000  168.400000           1.0   \n",
       "214  1.437500  0.190000  102.812500  196.586667  209.665000           5.0   \n",
       "\n",
       "     safety_index  quality_of_life  \n",
       "0            23.0             38.1  \n",
       "1            53.9             68.2  \n",
       "2            46.2             60.6  \n",
       "3             NaN              NaN  \n",
       "4             NaN             79.0  \n",
       "..            ...              ...  \n",
       "210          16.4             49.6  \n",
       "211          54.2             57.4  \n",
       "212           NaN             34.3  \n",
       "213          53.7             48.5  \n",
       "214          40.3             44.7  \n",
       "\n",
       "[215 rows x 23 columns]"
      ]
     },
     "execution_count": 55,
     "metadata": {},
     "output_type": "execute_result"
    }
   ],
   "source": [
    "data"
   ]
  },
  {
   "cell_type": "code",
   "execution_count": 56,
   "metadata": {},
   "outputs": [
    {
     "data": {
      "text/plain": [
       "30"
      ]
     },
     "execution_count": 56,
     "metadata": {},
     "output_type": "execute_result"
    }
   ],
   "source": [
    "data.quality_of_life.isnull().sum()"
   ]
  },
  {
   "cell_type": "code",
   "execution_count": 57,
   "metadata": {},
   "outputs": [
    {
     "name": "stdout",
     "output_type": "stream",
     "text": [
      "American Samoa\n",
      "Anguilla\n",
      "Aruba\n",
      "Bermuda\n",
      "British Virgin Islands\n",
      "Cook Islands\n",
      "Curacao\n",
      "Falkland Islands\n",
      "Faroe Islands\n",
      "French Guiana\n",
      "French Polynesia\n",
      "Gibraltar\n",
      "Greenland\n",
      "Guadeloupe\n",
      "Isle Of Man\n",
      "Jersey\n",
      "Martinique\n",
      "Montserrat\n",
      "New Caledonia\n",
      "North Korea\n",
      "Puerto Rico\n",
      "Reunion\n",
      "Saint Helena\n",
      "Saint Kitts And Nevis\n",
      "Saint Lucia\n",
      "Saint Vincent And The Grenadines\n",
      "Sint Maarten\n",
      "South Sudan\n",
      "Turks And Caicos Islands\n",
      "Vatican City\n"
     ]
    }
   ],
   "source": [
    "for country in data.loc[data.quality_of_life.isnull(), 'country']:\n",
    "    print(country)"
   ]
  },
  {
   "cell_type": "code",
   "execution_count": 58,
   "metadata": {},
   "outputs": [],
   "source": [
    "data.to_csv(os.path.join(data_path, 'dataset_alpha.csv'), index=False)"
   ]
  },
  {
   "attachments": {},
   "cell_type": "markdown",
   "metadata": {},
   "source": [
    "## Population"
   ]
  },
  {
   "cell_type": "code",
   "execution_count": 4,
   "metadata": {},
   "outputs": [],
   "source": [
    "data = pd.read_csv(os.path.join(data_path, 'dataset_alpha.csv'))"
   ]
  },
  {
   "cell_type": "code",
   "execution_count": 63,
   "metadata": {},
   "outputs": [],
   "source": [
    "pop_total = pd.read_csv(os.path.join(data_path, 'population.csv'))\n",
    "pop_total['Country Name'] = pop_total['Country Name'].str.title()"
   ]
  },
  {
   "cell_type": "code",
   "execution_count": 64,
   "metadata": {},
   "outputs": [],
   "source": [
    "data['total_population'] = np.nan\n",
    "data['code'] = np.nan\n",
    "for country, pop, code in zip(pop_total['Country Name'], pop_total['2021'], pop_total['Country Code']):\n",
    "    # print()\n",
    "    indexes = data['country'] == country\n",
    "    data.loc[indexes, 'total_population'] = pop\n",
    "    data.loc[indexes, 'code'] = code"
   ]
  },
  {
   "cell_type": "code",
   "execution_count": 66,
   "metadata": {},
   "outputs": [
    {
     "name": "stdout",
     "output_type": "stream",
     "text": [
      "Anguilla\n",
      "Brunei\n",
      "Congo\n",
      "Cook Islands\n",
      "Falkland Islands\n",
      "French Guiana\n",
      "Guadeloupe\n",
      "Hong Kong\n",
      "Jersey\n",
      "Martinique\n",
      "Montserrat\n",
      "Reunion\n",
      "Saint Helena\n",
      "Saint Kitts And Nevis\n",
      "Saint Lucia\n",
      "Saint Vincent And The Grenadines\n",
      "Sint Maarten\n",
      "Taiwan\n",
      "Vatican City\n"
     ]
    }
   ],
   "source": [
    "for country, code in zip(data.loc[data.code.isnull(), 'country'], data.loc[data.code.isnull(), 'code']):\n",
    "    print(country)"
   ]
  },
  {
   "attachments": {},
   "cell_type": "markdown",
   "metadata": {},
   "source": [
    "## GDP"
   ]
  },
  {
   "cell_type": "code",
   "execution_count": 73,
   "metadata": {},
   "outputs": [],
   "source": [
    "countries = pd.read_csv(os.path.join(data_path, 'GDP_global.csv'))\n",
    "countries.COUNTRY = countries.COUNTRY.str.title()\n",
    "data['GDP'] = np.nan\n",
    "for country, code, gdp in zip(countries.COUNTRY, countries.CODE, countries['GDP (BILLIONS)']):\n",
    "    indexes = data['country'] == country\n",
    "    data.loc[indexes, 'code'] = code\n",
    "    data.loc[indexes, 'GDP'] = gdp"
   ]
  },
  {
   "cell_type": "code",
   "execution_count": 74,
   "metadata": {},
   "outputs": [
    {
     "name": "stdout",
     "output_type": "stream",
     "text": [
      "French Guiana\n",
      "Guadeloupe\n",
      "Martinique\n",
      "Montserrat\n",
      "Reunion\n",
      "Saint Helena\n",
      "Vatican City\n"
     ]
    }
   ],
   "source": [
    "for country, code in zip(data.loc[data.code.isnull(), 'country'], data.loc[data.code.isnull(), 'code']):\n",
    "    print(country)"
   ]
  },
  {
   "attachments": {},
   "cell_type": "markdown",
   "metadata": {},
   "source": [
    "## Population (age and gender)"
   ]
  },
  {
   "cell_type": "code",
   "execution_count": 75,
   "metadata": {},
   "outputs": [],
   "source": [
    "pops_path = os.path.join(data_path, 'population')\n",
    "for pop_dataset in os.listdir(pops_path):\n",
    "    column_name = pop_dataset.split('.')[0]\n",
    "    pop_data = pd.read_csv(os.path.join(pops_path, pop_dataset))\n",
    "\n",
    "    data[column_name] = np.nan\n",
    "    for code, pops in zip(pop_data['Country Code'], pop_data['2021']):\n",
    "        indexes = data.code == code\n",
    "        data.loc[indexes, column_name] = pops\n",
    "    \n",
    "    "
   ]
  },
  {
   "cell_type": "code",
   "execution_count": 16,
   "metadata": {},
   "outputs": [],
   "source": [
    "path = os.path.join(data_path, 'population')\n",
    "female_pop = pd.read_csv(os.path.join(path, 'population_female.csv'))\n",
    "male_pop = pd.read_csv(os.path.join(path, 'population_male.csv'))"
   ]
  },
  {
   "cell_type": "code",
   "execution_count": 19,
   "metadata": {},
   "outputs": [],
   "source": [
    "for code, pops in zip(female_pop['Country Code'], female_pop['2021']):\n",
    "        indexes = data.code == code\n",
    "        data.loc[indexes, 'female_population'] = pops"
   ]
  },
  {
   "cell_type": "code",
   "execution_count": 20,
   "metadata": {},
   "outputs": [],
   "source": [
    "for code, pops in zip(male_pop['Country Code'], male_pop['2021']):\n",
    "        indexes = data.code == code\n",
    "        data.loc[indexes, 'male_population'] = pops"
   ]
  },
  {
   "cell_type": "code",
   "execution_count": 23,
   "metadata": {},
   "outputs": [],
   "source": [
    "data.to_csv(os.path.join(data_path, 'dataset_alpha.csv'), index=False)"
   ]
  },
  {
   "attachments": {},
   "cell_type": "markdown",
   "metadata": {},
   "source": [
    "### Average processing"
   ]
  },
  {
   "cell_type": "code",
   "execution_count": 41,
   "metadata": {},
   "outputs": [
    {
     "data": {
      "text/html": [
       "<div>\n",
       "<style scoped>\n",
       "    .dataframe tbody tr th:only-of-type {\n",
       "        vertical-align: middle;\n",
       "    }\n",
       "\n",
       "    .dataframe tbody tr th {\n",
       "        vertical-align: top;\n",
       "    }\n",
       "\n",
       "    .dataframe thead th {\n",
       "        text-align: right;\n",
       "    }\n",
       "</style>\n",
       "<table border=\"1\" class=\"dataframe\">\n",
       "  <thead>\n",
       "    <tr style=\"text-align: right;\">\n",
       "      <th></th>\n",
       "      <th>country</th>\n",
       "      <th>x1</th>\n",
       "      <th>x2</th>\n",
       "      <th>x3</th>\n",
       "      <th>x4</th>\n",
       "      <th>x5</th>\n",
       "      <th>x6</th>\n",
       "      <th>x7</th>\n",
       "      <th>x8</th>\n",
       "      <th>x23</th>\n",
       "      <th>...</th>\n",
       "      <th>GDP</th>\n",
       "      <th>pop_0_14_%</th>\n",
       "      <th>pop_0_14_%_female</th>\n",
       "      <th>pop_0_14_%_male</th>\n",
       "      <th>pop_15_64_%</th>\n",
       "      <th>pop_15_64_%_female</th>\n",
       "      <th>pop_15_64_%_male</th>\n",
       "      <th>pop_65_plus_%</th>\n",
       "      <th>pop_65_plus_%_female</th>\n",
       "      <th>pop_65_plus_%_male</th>\n",
       "    </tr>\n",
       "  </thead>\n",
       "  <tbody>\n",
       "    <tr>\n",
       "      <th>0</th>\n",
       "      <td>Afghanistan</td>\n",
       "      <td>1.690000</td>\n",
       "      <td>6.870000</td>\n",
       "      <td>2.977500</td>\n",
       "      <td>2.260000</td>\n",
       "      <td>NaN</td>\n",
       "      <td>0.597500</td>\n",
       "      <td>0.327500</td>\n",
       "      <td>0.140000</td>\n",
       "      <td>0.226000</td>\n",
       "      <td>...</td>\n",
       "      <td>21.71</td>\n",
       "      <td>43.424543</td>\n",
       "      <td>42.836470</td>\n",
       "      <td>44.000703</td>\n",
       "      <td>54.171399</td>\n",
       "      <td>54.395516</td>\n",
       "      <td>53.951822</td>\n",
       "      <td>2.404058</td>\n",
       "      <td>2.768015</td>\n",
       "      <td>2.047475</td>\n",
       "    </tr>\n",
       "    <tr>\n",
       "      <th>1</th>\n",
       "      <td>Albania</td>\n",
       "      <td>4.460000</td>\n",
       "      <td>25.532000</td>\n",
       "      <td>4.223333</td>\n",
       "      <td>1.378667</td>\n",
       "      <td>1.842667</td>\n",
       "      <td>1.198667</td>\n",
       "      <td>1.148667</td>\n",
       "      <td>0.604000</td>\n",
       "      <td>0.534000</td>\n",
       "      <td>...</td>\n",
       "      <td>13.40</td>\n",
       "      <td>16.281724</td>\n",
       "      <td>15.945701</td>\n",
       "      <td>16.618407</td>\n",
       "      <td>67.484035</td>\n",
       "      <td>67.366308</td>\n",
       "      <td>67.601993</td>\n",
       "      <td>16.234241</td>\n",
       "      <td>16.687991</td>\n",
       "      <td>15.779600</td>\n",
       "    </tr>\n",
       "    <tr>\n",
       "      <th>2</th>\n",
       "      <td>Algeria</td>\n",
       "      <td>1.956562</td>\n",
       "      <td>13.983750</td>\n",
       "      <td>2.830000</td>\n",
       "      <td>1.419615</td>\n",
       "      <td>1.627778</td>\n",
       "      <td>0.507333</td>\n",
       "      <td>0.489091</td>\n",
       "      <td>0.198788</td>\n",
       "      <td>0.270294</td>\n",
       "      <td>...</td>\n",
       "      <td>227.80</td>\n",
       "      <td>30.712077</td>\n",
       "      <td>30.617768</td>\n",
       "      <td>30.802962</td>\n",
       "      <td>63.105923</td>\n",
       "      <td>62.825857</td>\n",
       "      <td>63.375825</td>\n",
       "      <td>6.182000</td>\n",
       "      <td>6.556375</td>\n",
       "      <td>5.821213</td>\n",
       "    </tr>\n",
       "    <tr>\n",
       "      <th>3</th>\n",
       "      <td>American Samoa</td>\n",
       "      <td>23.820000</td>\n",
       "      <td>6.660000</td>\n",
       "      <td>22.130000</td>\n",
       "      <td>1.910000</td>\n",
       "      <td>1.910000</td>\n",
       "      <td>1.000000</td>\n",
       "      <td>1.190000</td>\n",
       "      <td>2.110000</td>\n",
       "      <td>NaN</td>\n",
       "      <td>...</td>\n",
       "      <td>0.75</td>\n",
       "      <td>27.511935</td>\n",
       "      <td>26.431021</td>\n",
       "      <td>28.615012</td>\n",
       "      <td>65.643388</td>\n",
       "      <td>65.910490</td>\n",
       "      <td>65.370811</td>\n",
       "      <td>6.844676</td>\n",
       "      <td>7.658489</td>\n",
       "      <td>6.014177</td>\n",
       "    </tr>\n",
       "    <tr>\n",
       "      <th>4</th>\n",
       "      <td>Andorra</td>\n",
       "      <td>13.173333</td>\n",
       "      <td>40.920000</td>\n",
       "      <td>7.010000</td>\n",
       "      <td>2.073333</td>\n",
       "      <td>2.600000</td>\n",
       "      <td>1.380000</td>\n",
       "      <td>1.713333</td>\n",
       "      <td>1.370000</td>\n",
       "      <td>0.760000</td>\n",
       "      <td>...</td>\n",
       "      <td>4.80</td>\n",
       "      <td>13.074753</td>\n",
       "      <td>13.063209</td>\n",
       "      <td>13.085814</td>\n",
       "      <td>72.389731</td>\n",
       "      <td>71.570972</td>\n",
       "      <td>73.174267</td>\n",
       "      <td>14.535516</td>\n",
       "      <td>15.365819</td>\n",
       "      <td>13.739919</td>\n",
       "    </tr>\n",
       "    <tr>\n",
       "      <th>...</th>\n",
       "      <td>...</td>\n",
       "      <td>...</td>\n",
       "      <td>...</td>\n",
       "      <td>...</td>\n",
       "      <td>...</td>\n",
       "      <td>...</td>\n",
       "      <td>...</td>\n",
       "      <td>...</td>\n",
       "      <td>...</td>\n",
       "      <td>...</td>\n",
       "      <td>...</td>\n",
       "      <td>...</td>\n",
       "      <td>...</td>\n",
       "      <td>...</td>\n",
       "      <td>...</td>\n",
       "      <td>...</td>\n",
       "      <td>...</td>\n",
       "      <td>...</td>\n",
       "      <td>...</td>\n",
       "      <td>...</td>\n",
       "      <td>...</td>\n",
       "    </tr>\n",
       "    <tr>\n",
       "      <th>210</th>\n",
       "      <td>Venezuela</td>\n",
       "      <td>8.618824</td>\n",
       "      <td>32.763333</td>\n",
       "      <td>9.021765</td>\n",
       "      <td>1.442353</td>\n",
       "      <td>2.205882</td>\n",
       "      <td>1.928824</td>\n",
       "      <td>1.110000</td>\n",
       "      <td>0.799412</td>\n",
       "      <td>1.235714</td>\n",
       "      <td>...</td>\n",
       "      <td>209.20</td>\n",
       "      <td>28.170727</td>\n",
       "      <td>27.150558</td>\n",
       "      <td>29.211820</td>\n",
       "      <td>63.491136</td>\n",
       "      <td>63.327932</td>\n",
       "      <td>63.657687</td>\n",
       "      <td>8.338137</td>\n",
       "      <td>9.521510</td>\n",
       "      <td>7.130493</td>\n",
       "    </tr>\n",
       "    <tr>\n",
       "      <th>211</th>\n",
       "      <td>Vietnam</td>\n",
       "      <td>2.115882</td>\n",
       "      <td>18.662353</td>\n",
       "      <td>4.231429</td>\n",
       "      <td>0.790625</td>\n",
       "      <td>1.542353</td>\n",
       "      <td>1.689412</td>\n",
       "      <td>0.478824</td>\n",
       "      <td>0.281176</td>\n",
       "      <td>0.640526</td>\n",
       "      <td>...</td>\n",
       "      <td>187.80</td>\n",
       "      <td>22.545150</td>\n",
       "      <td>21.130319</td>\n",
       "      <td>23.995125</td>\n",
       "      <td>68.701716</td>\n",
       "      <td>68.456868</td>\n",
       "      <td>68.952645</td>\n",
       "      <td>8.753134</td>\n",
       "      <td>10.412813</td>\n",
       "      <td>7.052230</td>\n",
       "    </tr>\n",
       "    <tr>\n",
       "      <th>212</th>\n",
       "      <td>Yemen</td>\n",
       "      <td>6.150000</td>\n",
       "      <td>32.616667</td>\n",
       "      <td>11.158333</td>\n",
       "      <td>2.265000</td>\n",
       "      <td>2.282500</td>\n",
       "      <td>2.540000</td>\n",
       "      <td>1.610000</td>\n",
       "      <td>0.660000</td>\n",
       "      <td>1.072000</td>\n",
       "      <td>...</td>\n",
       "      <td>45.45</td>\n",
       "      <td>39.872107</td>\n",
       "      <td>39.344254</td>\n",
       "      <td>40.388712</td>\n",
       "      <td>57.438854</td>\n",
       "      <td>57.554137</td>\n",
       "      <td>57.326028</td>\n",
       "      <td>2.689038</td>\n",
       "      <td>3.101609</td>\n",
       "      <td>2.285260</td>\n",
       "    </tr>\n",
       "    <tr>\n",
       "      <th>213</th>\n",
       "      <td>Zambia</td>\n",
       "      <td>2.988000</td>\n",
       "      <td>18.370000</td>\n",
       "      <td>3.170000</td>\n",
       "      <td>1.152000</td>\n",
       "      <td>1.494000</td>\n",
       "      <td>1.742000</td>\n",
       "      <td>0.822000</td>\n",
       "      <td>0.458000</td>\n",
       "      <td>0.890000</td>\n",
       "      <td>...</td>\n",
       "      <td>25.61</td>\n",
       "      <td>43.262363</td>\n",
       "      <td>42.711936</td>\n",
       "      <td>43.827404</td>\n",
       "      <td>54.998707</td>\n",
       "      <td>55.174338</td>\n",
       "      <td>54.818413</td>\n",
       "      <td>1.738930</td>\n",
       "      <td>2.113726</td>\n",
       "      <td>1.354183</td>\n",
       "    </tr>\n",
       "    <tr>\n",
       "      <th>214</th>\n",
       "      <td>Zimbabwe</td>\n",
       "      <td>6.843750</td>\n",
       "      <td>36.250000</td>\n",
       "      <td>6.187500</td>\n",
       "      <td>1.318750</td>\n",
       "      <td>1.971429</td>\n",
       "      <td>2.285000</td>\n",
       "      <td>0.665000</td>\n",
       "      <td>0.470000</td>\n",
       "      <td>0.981250</td>\n",
       "      <td>...</td>\n",
       "      <td>13.74</td>\n",
       "      <td>40.893305</td>\n",
       "      <td>38.759415</td>\n",
       "      <td>43.283516</td>\n",
       "      <td>55.743353</td>\n",
       "      <td>57.424404</td>\n",
       "      <td>53.860375</td>\n",
       "      <td>3.363343</td>\n",
       "      <td>3.816182</td>\n",
       "      <td>2.856109</td>\n",
       "    </tr>\n",
       "  </tbody>\n",
       "</table>\n",
       "<p>215 rows × 35 columns</p>\n",
       "</div>"
      ],
      "text/plain": [
       "            country         x1         x2         x3        x4        x5  \\\n",
       "0       Afghanistan   1.690000   6.870000   2.977500  2.260000       NaN   \n",
       "1           Albania   4.460000  25.532000   4.223333  1.378667  1.842667   \n",
       "2           Algeria   1.956562  13.983750   2.830000  1.419615  1.627778   \n",
       "3    American Samoa  23.820000   6.660000  22.130000  1.910000  1.910000   \n",
       "4           Andorra  13.173333  40.920000   7.010000  2.073333  2.600000   \n",
       "..              ...        ...        ...        ...       ...       ...   \n",
       "210       Venezuela   8.618824  32.763333   9.021765  1.442353  2.205882   \n",
       "211         Vietnam   2.115882  18.662353   4.231429  0.790625  1.542353   \n",
       "212           Yemen   6.150000  32.616667  11.158333  2.265000  2.282500   \n",
       "213          Zambia   2.988000  18.370000   3.170000  1.152000  1.494000   \n",
       "214        Zimbabwe   6.843750  36.250000   6.187500  1.318750  1.971429   \n",
       "\n",
       "           x6        x7        x8       x23  ...     GDP  pop_0_14_%  \\\n",
       "0    0.597500  0.327500  0.140000  0.226000  ...   21.71   43.424543   \n",
       "1    1.198667  1.148667  0.604000  0.534000  ...   13.40   16.281724   \n",
       "2    0.507333  0.489091  0.198788  0.270294  ...  227.80   30.712077   \n",
       "3    1.000000  1.190000  2.110000       NaN  ...    0.75   27.511935   \n",
       "4    1.380000  1.713333  1.370000  0.760000  ...    4.80   13.074753   \n",
       "..        ...       ...       ...       ...  ...     ...         ...   \n",
       "210  1.928824  1.110000  0.799412  1.235714  ...  209.20   28.170727   \n",
       "211  1.689412  0.478824  0.281176  0.640526  ...  187.80   22.545150   \n",
       "212  2.540000  1.610000  0.660000  1.072000  ...   45.45   39.872107   \n",
       "213  1.742000  0.822000  0.458000  0.890000  ...   25.61   43.262363   \n",
       "214  2.285000  0.665000  0.470000  0.981250  ...   13.74   40.893305   \n",
       "\n",
       "     pop_0_14_%_female  pop_0_14_%_male  pop_15_64_%  pop_15_64_%_female  \\\n",
       "0            42.836470        44.000703    54.171399           54.395516   \n",
       "1            15.945701        16.618407    67.484035           67.366308   \n",
       "2            30.617768        30.802962    63.105923           62.825857   \n",
       "3            26.431021        28.615012    65.643388           65.910490   \n",
       "4            13.063209        13.085814    72.389731           71.570972   \n",
       "..                 ...              ...          ...                 ...   \n",
       "210          27.150558        29.211820    63.491136           63.327932   \n",
       "211          21.130319        23.995125    68.701716           68.456868   \n",
       "212          39.344254        40.388712    57.438854           57.554137   \n",
       "213          42.711936        43.827404    54.998707           55.174338   \n",
       "214          38.759415        43.283516    55.743353           57.424404   \n",
       "\n",
       "     pop_15_64_%_male  pop_65_plus_%  pop_65_plus_%_female  pop_65_plus_%_male  \n",
       "0           53.951822       2.404058              2.768015            2.047475  \n",
       "1           67.601993      16.234241             16.687991           15.779600  \n",
       "2           63.375825       6.182000              6.556375            5.821213  \n",
       "3           65.370811       6.844676              7.658489            6.014177  \n",
       "4           73.174267      14.535516             15.365819           13.739919  \n",
       "..                ...            ...                   ...                 ...  \n",
       "210         63.657687       8.338137              9.521510            7.130493  \n",
       "211         68.952645       8.753134             10.412813            7.052230  \n",
       "212         57.326028       2.689038              3.101609            2.285260  \n",
       "213         54.818413       1.738930              2.113726            1.354183  \n",
       "214         53.860375       3.363343              3.816182            2.856109  \n",
       "\n",
       "[215 rows x 35 columns]"
      ]
     },
     "execution_count": 41,
     "metadata": {},
     "output_type": "execute_result"
    }
   ],
   "source": [
    "path = os.path.join('..', 'data', 'dataset_alpha.csv')\n",
    "data = pd.read_csv(path)\n",
    "data"
   ]
  },
  {
   "cell_type": "code",
   "execution_count": 42,
   "metadata": {},
   "outputs": [],
   "source": [
    "# Columns Categories\n",
    "meals = [1, 2, 3, 4, 5, 6, 7, 8]# o 0 n conta\n",
    "market = [23, 25, 24, 27]\n",
    "transports = [28, 30, 33]\n",
    "internet = [37, 38]\n",
    "habitation = [48, 49]\n",
    "cols = meals + market + transports + internet + habitation\n",
    "columns = [f'x{c}' for c in cols if c!=0]\n",
    "columns = ['country'] + columns"
   ]
  },
  {
   "cell_type": "code",
   "execution_count": 43,
   "metadata": {},
   "outputs": [],
   "source": [
    "# divide the price of bedrooms by 30 due to the months having on average 30 day.\n",
    "data[\"x48\"] = data[\"x48\"] / 30.437\n",
    "data[\"x49\"] = data[\"x49\"] / 30.437\n",
    "\n",
    "# divide the meals by 2\n",
    "data[\"x2\"] = data[\"x2\"] / 2\n",
    "\n",
    "data[\"x38\"] = data[\"x38\"] / 30.437\n"
   ]
  },
  {
   "cell_type": "code",
   "execution_count": 44,
   "metadata": {},
   "outputs": [
    {
     "data": {
      "text/plain": [
       "0       3.435000\n",
       "1      12.766000\n",
       "2       6.991875\n",
       "3       3.330000\n",
       "4      20.460000\n",
       "         ...    \n",
       "210    16.381667\n",
       "211     9.331176\n",
       "212    16.308333\n",
       "213     9.185000\n",
       "214    18.125000\n",
       "Name: x2, Length: 215, dtype: float64"
      ]
     },
     "execution_count": 44,
     "metadata": {},
     "output_type": "execute_result"
    }
   ],
   "source": [
    "data.x2"
   ]
  },
  {
   "cell_type": "markdown",
   "metadata": {},
   "source": []
  },
  {
   "cell_type": "code",
   "execution_count": 45,
   "metadata": {},
   "outputs": [
    {
     "data": {
      "text/plain": [
       "0       1.690000\n",
       "1       4.460000\n",
       "2       1.956562\n",
       "3      23.820000\n",
       "4      13.173333\n",
       "         ...    \n",
       "210     8.618824\n",
       "211     2.115882\n",
       "212     6.150000\n",
       "213     2.988000\n",
       "214     6.843750\n",
       "Name: x1, Length: 215, dtype: float64"
      ]
     },
     "execution_count": 45,
     "metadata": {},
     "output_type": "execute_result"
    }
   ],
   "source": [
    "data.x1"
   ]
  },
  {
   "cell_type": "code",
   "execution_count": 46,
   "metadata": {},
   "outputs": [
    {
     "ename": "SyntaxError",
     "evalue": "invalid syntax (2738076976.py, line 1)",
     "output_type": "error",
     "traceback": [
      "\u001b[0;36m  Cell \u001b[0;32mIn[46], line 1\u001b[0;36m\u001b[0m\n\u001b[0;31m    data[\"\"]data.x38\u001b[0m\n\u001b[0m            ^\u001b[0m\n\u001b[0;31mSyntaxError\u001b[0m\u001b[0;31m:\u001b[0m invalid syntax\n"
     ]
    }
   ],
   "source": [
    "data.x38"
   ]
  },
  {
   "cell_type": "code",
   "execution_count": 37,
   "metadata": {},
   "outputs": [],
   "source": [
    "data['average_cost_rich'] = 2 * data.x2 + data.x24 + data.x48 + data.x30 + 60 * data.x37 + data.x38 + data.x6 + data.x23\n",
    "\n",
    "data['average_cost_medium'] = 2 * data.x3 + data.x4 + data.x49 + data.x28 + 30 * data.x37 + data.x38 + data.x6 + data.x23\n",
    "\n",
    "data['average_cost_lower'] = 2 * data.x1 + data.x49 + data.x8 + 10 * data.x37 + data.x23"
   ]
  },
  {
   "cell_type": "code",
   "execution_count": 38,
   "metadata": {},
   "outputs": [],
   "source": [
    "averages = data[['average_cost_rich', 'average_cost_medium', 'average_cost_lower']]\n"
   ]
  },
  {
   "cell_type": "code",
   "execution_count": 10,
   "metadata": {},
   "outputs": [
    {
     "data": {
      "text/html": [
       "<div>\n",
       "<style scoped>\n",
       "    .dataframe tbody tr th:only-of-type {\n",
       "        vertical-align: middle;\n",
       "    }\n",
       "\n",
       "    .dataframe tbody tr th {\n",
       "        vertical-align: top;\n",
       "    }\n",
       "\n",
       "    .dataframe thead th {\n",
       "        text-align: right;\n",
       "    }\n",
       "</style>\n",
       "<table border=\"1\" class=\"dataframe\">\n",
       "  <thead>\n",
       "    <tr style=\"text-align: right;\">\n",
       "      <th></th>\n",
       "      <th>country</th>\n",
       "      <th>x1</th>\n",
       "      <th>x2</th>\n",
       "      <th>x3</th>\n",
       "      <th>x4</th>\n",
       "      <th>x5</th>\n",
       "      <th>x6</th>\n",
       "      <th>x7</th>\n",
       "      <th>x8</th>\n",
       "      <th>x23</th>\n",
       "      <th>...</th>\n",
       "      <th>pop_15_64_%</th>\n",
       "      <th>pop_15_64_%_female</th>\n",
       "      <th>pop_15_64_%_male</th>\n",
       "      <th>pop_65_plus_%</th>\n",
       "      <th>pop_65_plus_%_female</th>\n",
       "      <th>pop_65_plus_%_male</th>\n",
       "      <th>continent</th>\n",
       "      <th>average_cost_rich</th>\n",
       "      <th>average_cost_medium</th>\n",
       "      <th>average_cost_lower</th>\n",
       "    </tr>\n",
       "  </thead>\n",
       "  <tbody>\n",
       "    <tr>\n",
       "      <th>0</th>\n",
       "      <td>Afghanistan</td>\n",
       "      <td>1.690000</td>\n",
       "      <td>6.870000</td>\n",
       "      <td>2.977500</td>\n",
       "      <td>2.260000</td>\n",
       "      <td>NaN</td>\n",
       "      <td>0.597500</td>\n",
       "      <td>0.327500</td>\n",
       "      <td>0.140000</td>\n",
       "      <td>0.226000</td>\n",
       "      <td>...</td>\n",
       "      <td>54.171399</td>\n",
       "      <td>54.395516</td>\n",
       "      <td>53.951822</td>\n",
       "      <td>2.404058</td>\n",
       "      <td>2.768015</td>\n",
       "      <td>2.047475</td>\n",
       "      <td>Asia</td>\n",
       "      <td>424.636000</td>\n",
       "      <td>376.758500</td>\n",
       "      <td>50.286000</td>\n",
       "    </tr>\n",
       "    <tr>\n",
       "      <th>1</th>\n",
       "      <td>Albania</td>\n",
       "      <td>4.460000</td>\n",
       "      <td>25.532000</td>\n",
       "      <td>4.223333</td>\n",
       "      <td>1.378667</td>\n",
       "      <td>1.842667</td>\n",
       "      <td>1.198667</td>\n",
       "      <td>1.148667</td>\n",
       "      <td>0.604000</td>\n",
       "      <td>0.534000</td>\n",
       "      <td>...</td>\n",
       "      <td>67.484035</td>\n",
       "      <td>67.366308</td>\n",
       "      <td>67.601993</td>\n",
       "      <td>16.234241</td>\n",
       "      <td>16.687991</td>\n",
       "      <td>15.779600</td>\n",
       "      <td>Europe</td>\n",
       "      <td>291.958195</td>\n",
       "      <td>159.758195</td>\n",
       "      <td>137.898000</td>\n",
       "    </tr>\n",
       "    <tr>\n",
       "      <th>2</th>\n",
       "      <td>Algeria</td>\n",
       "      <td>1.956562</td>\n",
       "      <td>13.983750</td>\n",
       "      <td>2.830000</td>\n",
       "      <td>1.419615</td>\n",
       "      <td>1.627778</td>\n",
       "      <td>0.507333</td>\n",
       "      <td>0.489091</td>\n",
       "      <td>0.198788</td>\n",
       "      <td>0.270294</td>\n",
       "      <td>...</td>\n",
       "      <td>63.105923</td>\n",
       "      <td>62.825857</td>\n",
       "      <td>63.375825</td>\n",
       "      <td>6.182000</td>\n",
       "      <td>6.556375</td>\n",
       "      <td>5.821213</td>\n",
       "      <td>Africa</td>\n",
       "      <td>223.223439</td>\n",
       "      <td>143.947011</td>\n",
       "      <td>101.511837</td>\n",
       "    </tr>\n",
       "    <tr>\n",
       "      <th>3</th>\n",
       "      <td>American Samoa</td>\n",
       "      <td>23.820000</td>\n",
       "      <td>6.660000</td>\n",
       "      <td>22.130000</td>\n",
       "      <td>1.910000</td>\n",
       "      <td>1.910000</td>\n",
       "      <td>1.000000</td>\n",
       "      <td>1.190000</td>\n",
       "      <td>2.110000</td>\n",
       "      <td>NaN</td>\n",
       "      <td>...</td>\n",
       "      <td>65.643388</td>\n",
       "      <td>65.910490</td>\n",
       "      <td>65.370811</td>\n",
       "      <td>6.844676</td>\n",
       "      <td>7.658489</td>\n",
       "      <td>6.014177</td>\n",
       "      <td>Oceania</td>\n",
       "      <td>NaN</td>\n",
       "      <td>NaN</td>\n",
       "      <td>NaN</td>\n",
       "    </tr>\n",
       "    <tr>\n",
       "      <th>4</th>\n",
       "      <td>Andorra</td>\n",
       "      <td>13.173333</td>\n",
       "      <td>40.920000</td>\n",
       "      <td>7.010000</td>\n",
       "      <td>2.073333</td>\n",
       "      <td>2.600000</td>\n",
       "      <td>1.380000</td>\n",
       "      <td>1.713333</td>\n",
       "      <td>1.370000</td>\n",
       "      <td>0.760000</td>\n",
       "      <td>...</td>\n",
       "      <td>72.389731</td>\n",
       "      <td>71.570972</td>\n",
       "      <td>73.174267</td>\n",
       "      <td>14.535516</td>\n",
       "      <td>15.365819</td>\n",
       "      <td>13.739919</td>\n",
       "      <td>Europe</td>\n",
       "      <td>974.880000</td>\n",
       "      <td>733.016667</td>\n",
       "      <td>696.913333</td>\n",
       "    </tr>\n",
       "    <tr>\n",
       "      <th>...</th>\n",
       "      <td>...</td>\n",
       "      <td>...</td>\n",
       "      <td>...</td>\n",
       "      <td>...</td>\n",
       "      <td>...</td>\n",
       "      <td>...</td>\n",
       "      <td>...</td>\n",
       "      <td>...</td>\n",
       "      <td>...</td>\n",
       "      <td>...</td>\n",
       "      <td>...</td>\n",
       "      <td>...</td>\n",
       "      <td>...</td>\n",
       "      <td>...</td>\n",
       "      <td>...</td>\n",
       "      <td>...</td>\n",
       "      <td>...</td>\n",
       "      <td>...</td>\n",
       "      <td>...</td>\n",
       "      <td>...</td>\n",
       "      <td>...</td>\n",
       "    </tr>\n",
       "    <tr>\n",
       "      <th>210</th>\n",
       "      <td>Venezuela</td>\n",
       "      <td>8.618824</td>\n",
       "      <td>32.763333</td>\n",
       "      <td>9.021765</td>\n",
       "      <td>1.442353</td>\n",
       "      <td>2.205882</td>\n",
       "      <td>1.928824</td>\n",
       "      <td>1.110000</td>\n",
       "      <td>0.799412</td>\n",
       "      <td>1.235714</td>\n",
       "      <td>...</td>\n",
       "      <td>63.491136</td>\n",
       "      <td>63.327932</td>\n",
       "      <td>63.657687</td>\n",
       "      <td>8.338137</td>\n",
       "      <td>9.521510</td>\n",
       "      <td>7.130493</td>\n",
       "      <td>South America</td>\n",
       "      <td>323.523683</td>\n",
       "      <td>252.218852</td>\n",
       "      <td>201.746106</td>\n",
       "    </tr>\n",
       "    <tr>\n",
       "      <th>211</th>\n",
       "      <td>Vietnam</td>\n",
       "      <td>2.115882</td>\n",
       "      <td>18.662353</td>\n",
       "      <td>4.231429</td>\n",
       "      <td>0.790625</td>\n",
       "      <td>1.542353</td>\n",
       "      <td>1.689412</td>\n",
       "      <td>0.478824</td>\n",
       "      <td>0.281176</td>\n",
       "      <td>0.640526</td>\n",
       "      <td>...</td>\n",
       "      <td>68.701716</td>\n",
       "      <td>68.456868</td>\n",
       "      <td>68.952645</td>\n",
       "      <td>8.753134</td>\n",
       "      <td>10.412813</td>\n",
       "      <td>7.052230</td>\n",
       "      <td>Asia</td>\n",
       "      <td>387.208270</td>\n",
       "      <td>225.876811</td>\n",
       "      <td>207.580740</td>\n",
       "    </tr>\n",
       "    <tr>\n",
       "      <th>212</th>\n",
       "      <td>Yemen</td>\n",
       "      <td>6.150000</td>\n",
       "      <td>32.616667</td>\n",
       "      <td>11.158333</td>\n",
       "      <td>2.265000</td>\n",
       "      <td>2.282500</td>\n",
       "      <td>2.540000</td>\n",
       "      <td>1.610000</td>\n",
       "      <td>0.660000</td>\n",
       "      <td>1.072000</td>\n",
       "      <td>...</td>\n",
       "      <td>57.438854</td>\n",
       "      <td>57.554137</td>\n",
       "      <td>57.326028</td>\n",
       "      <td>2.689038</td>\n",
       "      <td>3.101609</td>\n",
       "      <td>2.285260</td>\n",
       "      <td>Asia</td>\n",
       "      <td>312.581333</td>\n",
       "      <td>184.979667</td>\n",
       "      <td>108.332000</td>\n",
       "    </tr>\n",
       "    <tr>\n",
       "      <th>213</th>\n",
       "      <td>Zambia</td>\n",
       "      <td>2.988000</td>\n",
       "      <td>18.370000</td>\n",
       "      <td>3.170000</td>\n",
       "      <td>1.152000</td>\n",
       "      <td>1.494000</td>\n",
       "      <td>1.742000</td>\n",
       "      <td>0.822000</td>\n",
       "      <td>0.458000</td>\n",
       "      <td>0.890000</td>\n",
       "      <td>...</td>\n",
       "      <td>54.998707</td>\n",
       "      <td>55.174338</td>\n",
       "      <td>54.818413</td>\n",
       "      <td>1.738930</td>\n",
       "      <td>2.113726</td>\n",
       "      <td>1.354183</td>\n",
       "      <td>Africa</td>\n",
       "      <td>417.066000</td>\n",
       "      <td>285.814000</td>\n",
       "      <td>176.424000</td>\n",
       "    </tr>\n",
       "    <tr>\n",
       "      <th>214</th>\n",
       "      <td>Zimbabwe</td>\n",
       "      <td>6.843750</td>\n",
       "      <td>36.250000</td>\n",
       "      <td>6.187500</td>\n",
       "      <td>1.318750</td>\n",
       "      <td>1.971429</td>\n",
       "      <td>2.285000</td>\n",
       "      <td>0.665000</td>\n",
       "      <td>0.470000</td>\n",
       "      <td>0.981250</td>\n",
       "      <td>...</td>\n",
       "      <td>55.743353</td>\n",
       "      <td>57.424404</td>\n",
       "      <td>53.860375</td>\n",
       "      <td>3.363343</td>\n",
       "      <td>3.816182</td>\n",
       "      <td>2.856109</td>\n",
       "      <td>Africa</td>\n",
       "      <td>399.377917</td>\n",
       "      <td>335.804167</td>\n",
       "      <td>226.703750</td>\n",
       "    </tr>\n",
       "  </tbody>\n",
       "</table>\n",
       "<p>215 rows × 39 columns</p>\n",
       "</div>"
      ],
      "text/plain": [
       "            country         x1         x2         x3        x4        x5  \\\n",
       "0       Afghanistan   1.690000   6.870000   2.977500  2.260000       NaN   \n",
       "1           Albania   4.460000  25.532000   4.223333  1.378667  1.842667   \n",
       "2           Algeria   1.956562  13.983750   2.830000  1.419615  1.627778   \n",
       "3    American Samoa  23.820000   6.660000  22.130000  1.910000  1.910000   \n",
       "4           Andorra  13.173333  40.920000   7.010000  2.073333  2.600000   \n",
       "..              ...        ...        ...        ...       ...       ...   \n",
       "210       Venezuela   8.618824  32.763333   9.021765  1.442353  2.205882   \n",
       "211         Vietnam   2.115882  18.662353   4.231429  0.790625  1.542353   \n",
       "212           Yemen   6.150000  32.616667  11.158333  2.265000  2.282500   \n",
       "213          Zambia   2.988000  18.370000   3.170000  1.152000  1.494000   \n",
       "214        Zimbabwe   6.843750  36.250000   6.187500  1.318750  1.971429   \n",
       "\n",
       "           x6        x7        x8       x23  ...  pop_15_64_%  \\\n",
       "0    0.597500  0.327500  0.140000  0.226000  ...    54.171399   \n",
       "1    1.198667  1.148667  0.604000  0.534000  ...    67.484035   \n",
       "2    0.507333  0.489091  0.198788  0.270294  ...    63.105923   \n",
       "3    1.000000  1.190000  2.110000       NaN  ...    65.643388   \n",
       "4    1.380000  1.713333  1.370000  0.760000  ...    72.389731   \n",
       "..        ...       ...       ...       ...  ...          ...   \n",
       "210  1.928824  1.110000  0.799412  1.235714  ...    63.491136   \n",
       "211  1.689412  0.478824  0.281176  0.640526  ...    68.701716   \n",
       "212  2.540000  1.610000  0.660000  1.072000  ...    57.438854   \n",
       "213  1.742000  0.822000  0.458000  0.890000  ...    54.998707   \n",
       "214  2.285000  0.665000  0.470000  0.981250  ...    55.743353   \n",
       "\n",
       "     pop_15_64_%_female  pop_15_64_%_male  pop_65_plus_%  \\\n",
       "0             54.395516         53.951822       2.404058   \n",
       "1             67.366308         67.601993      16.234241   \n",
       "2             62.825857         63.375825       6.182000   \n",
       "3             65.910490         65.370811       6.844676   \n",
       "4             71.570972         73.174267      14.535516   \n",
       "..                  ...               ...            ...   \n",
       "210           63.327932         63.657687       8.338137   \n",
       "211           68.456868         68.952645       8.753134   \n",
       "212           57.554137         57.326028       2.689038   \n",
       "213           55.174338         54.818413       1.738930   \n",
       "214           57.424404         53.860375       3.363343   \n",
       "\n",
       "     pop_65_plus_%_female  pop_65_plus_%_male      continent  \\\n",
       "0                2.768015            2.047475           Asia   \n",
       "1               16.687991           15.779600         Europe   \n",
       "2                6.556375            5.821213         Africa   \n",
       "3                7.658489            6.014177        Oceania   \n",
       "4               15.365819           13.739919         Europe   \n",
       "..                    ...                 ...            ...   \n",
       "210              9.521510            7.130493  South America   \n",
       "211             10.412813            7.052230           Asia   \n",
       "212              3.101609            2.285260           Asia   \n",
       "213              2.113726            1.354183         Africa   \n",
       "214              3.816182            2.856109         Africa   \n",
       "\n",
       "     average_cost_rich  average_cost_medium  average_cost_lower  \n",
       "0           424.636000           376.758500           50.286000  \n",
       "1           291.958195           159.758195          137.898000  \n",
       "2           223.223439           143.947011          101.511837  \n",
       "3                  NaN                  NaN                 NaN  \n",
       "4           974.880000           733.016667          696.913333  \n",
       "..                 ...                  ...                 ...  \n",
       "210         323.523683           252.218852          201.746106  \n",
       "211         387.208270           225.876811          207.580740  \n",
       "212         312.581333           184.979667          108.332000  \n",
       "213         417.066000           285.814000          176.424000  \n",
       "214         399.377917           335.804167          226.703750  \n",
       "\n",
       "[215 rows x 39 columns]"
      ]
     },
     "execution_count": 10,
     "metadata": {},
     "output_type": "execute_result"
    }
   ],
   "source": [
    "data"
   ]
  },
  {
   "cell_type": "code",
   "execution_count": 31,
   "metadata": {},
   "outputs": [],
   "source": [
    "data.loc[data.country == \"Solomon Islands\", \"x38\"] = (40 + (160 / 2))"
   ]
  },
  {
   "cell_type": "code",
   "execution_count": 35,
   "metadata": {},
   "outputs": [
    {
     "data": {
      "text/plain": [
       "175    SLB\n",
       "Name: code, dtype: object"
      ]
     },
     "execution_count": 35,
     "metadata": {},
     "output_type": "execute_result"
    }
   ],
   "source": [
    "data.loc[data.country == \"Solomon Islands\", \"code\"]"
   ]
  },
  {
   "cell_type": "code",
   "execution_count": 42,
   "metadata": {},
   "outputs": [],
   "source": [
    "data.to_csv(os.path.join('..', 'data', 'dataset_alpha.csv'), index=False)"
   ]
  },
  {
   "cell_type": "code",
   "execution_count": 39,
   "metadata": {},
   "outputs": [
    {
     "data": {
      "application/vnd.plotly.v1+json": {
       "config": {
        "plotlyServerURL": "https://plot.ly"
       },
       "data": [
        {
         "coloraxis": "coloraxis",
         "geo": "geo",
         "hovertemplate": "code=%{location}<br>average_cost_rich=%{z}<extra></extra>",
         "locationmode": "ISO-3",
         "locations": [
          "AFG",
          "ALB",
          "DZA",
          "ASM",
          "AND",
          "AGO",
          "AIA",
          "ATG",
          "ARG",
          "ARM",
          "ABW",
          "AUS",
          "AUT",
          "AZE",
          "BHM",
          "BHR",
          "BGD",
          "BRB",
          "BLR",
          "BEL",
          "BLZ",
          "BEN",
          "BMU",
          "BTN",
          "BOL",
          "BIH",
          "BWA",
          "BRA",
          "VGB",
          "BRN",
          "BGR",
          "BFA",
          "BDI",
          "KHM",
          "CMR",
          "CAN",
          "CPV",
          "TCD",
          "CHL",
          "CHN",
          "COL",
          "COM",
          "COD",
          "COK",
          "CRI",
          "HRV",
          "CUB",
          "CUW",
          "CYP",
          "CZE",
          "DNK",
          "DJI",
          "DMA",
          "DOM",
          "ECU",
          "EGY",
          "SLV",
          "GNQ",
          "ERI",
          "EST",
          "ETH",
          "FLK",
          "FRO",
          "FJI",
          "FIN",
          "FRA",
          null,
          "PYF",
          "GAB",
          "GMB",
          "GEO",
          "DEU",
          "GHA",
          "GIB",
          "GRC",
          "GRL",
          null,
          "GTM",
          "GIN",
          "GNB",
          "GUY",
          "HTI",
          "HND",
          "HKG",
          "HUN",
          "ISL",
          "IND",
          "IDN",
          "IRN",
          "IRQ",
          "IRL",
          "IMN",
          "ISR",
          "ITA",
          "CIV",
          "JAM",
          "JPN",
          "JEY",
          "JOR",
          "KAZ",
          "KEN",
          "KSV",
          "KWT",
          "KGZ",
          "LAO",
          "LVA",
          "LBN",
          "LSO",
          "LBR",
          "LBY",
          "LIE",
          "LTU",
          "LUX",
          "MDG",
          "MWI",
          "MYS",
          "MDV",
          "MLI",
          "MLT",
          "MHL",
          null,
          "MRT",
          "MUS",
          "MEX",
          "MDA",
          "MCO",
          "MNG",
          "MNE",
          null,
          "MAR",
          "MOZ",
          "MMR",
          "NAM",
          "NRU",
          "NPL",
          "NLD",
          "NCL",
          "NZL",
          "NIC",
          "NER",
          "NGA",
          "KOR",
          "MKD",
          "NOR",
          "OMN",
          "PAK",
          "PAN",
          "PNG",
          "PRY",
          "PER",
          "PHL",
          "POL",
          "PRT",
          "PRI",
          "QAT",
          null,
          "ROU",
          "RUS",
          "RWA",
          null,
          "KNA",
          "LCA",
          "VCT",
          "WSM",
          "SMR",
          "STP",
          "SAU",
          "SEN",
          "SRB",
          "SYC",
          "SLE",
          "SGP",
          "SXM",
          "SVK",
          "SVN",
          "SLB",
          "SOM",
          "ZAF",
          "PRK",
          "SSD",
          "ESP",
          "LKA",
          "SDN",
          "SUR",
          "SWZ",
          "SWE",
          "CHE",
          "SYR",
          "TWN",
          "TJK",
          "TZA",
          "THA",
          "TLS",
          "TGO",
          "TON",
          "TTO",
          "TUN",
          "TUR",
          "TKM",
          "TCA",
          "TUV",
          "UGA",
          "UKR",
          "ARE",
          "GBR",
          "USA",
          "URY",
          "UZB",
          "VUT",
          null,
          "VEN",
          "VNM",
          "YEM",
          "ZMB",
          "ZWE"
         ],
         "name": "",
         "type": "choropleth",
         "z": [
          424.636,
          291.9581948051948,
          223.22343935309385,
          null,
          974.8800000000002,
          563.2199999999999,
          1277.1399999999999,
          null,
          305.9600417465232,
          681.6306666666667,
          1017.21,
          1442.6445563246282,
          892.0471478521478,
          210.56027272727275,
          1395.78,
          1149,
          133.25308333333334,
          786.29,
          318.7862878787878,
          1000.0404223921873,
          524.795,
          311.93999999999994,
          3755.08,
          206.58333333333334,
          419.4125,
          245.95134615384615,
          320.4383333333333,
          328.29360585112585,
          null,
          869.7599999999999,
          315.42831362889984,
          510.33000000000004,
          377.96000000000004,
          496.6529007936508,
          201.2640476190476,
          1323.9265421915027,
          null,
          null,
          506.5651290733421,
          428.8897389062646,
          239.32155735785952,
          null,
          1353.6966666666667,
          null,
          522.2950000000001,
          448.355064935065,
          591.3315277777778,
          798.4599999999999,
          814.6628571428572,
          612.5897327935222,
          1214.498,
          1010.135,
          570.13,
          473.5434848484848,
          452.3434523809525,
          158.60472587719298,
          748.1500000000001,
          642.08,
          null,
          431.83327272727274,
          704.9514999999999,
          null,
          null,
          479.6433333333333,
          920.4708148148148,
          895.3434326113571,
          null,
          1160.5700000000002,
          1113.07,
          254.25999999999996,
          460.4189999999999,
          875.7627955639285,
          415.24550000000005,
          1962.81,
          630.2770173967925,
          1373.3600000000001,
          null,
          516.1619999999998,
          721.58,
          null,
          503.91999999999996,
          null,
          497.72415151515156,
          2480.5600000000004,
          382.9165992589373,
          1539.9433333333332,
          152.4927446066293,
          288.36215839025675,
          923.0173238017428,
          376.3691731601731,
          1478.342246753247,
          1304.0100000000002,
          1233.1760415966492,
          748.8934473334668,
          708.08,
          452.63583333333327,
          702.178092779939,
          1991.46,
          328.20440476190464,
          280.72675457875465,
          246.35335414585418,
          332.64592857142856,
          886.1600000000001,
          366.30999999999995,
          733.3149999999999,
          372.24016666666665,
          655.9591666666666,
          388.97,
          1487.5066666666667,
          216.72400000000005,
          1534.923333333334,
          464.4777005107036,
          1681.434416666667,
          347.786,
          488.34666666666664,
          374.8852718702865,
          1033.5,
          null,
          1042.482840770791,
          1309.92,
          null,
          497.32000000000005,
          336.525,
          452.40468251423073,
          253.95933333333332,
          null,
          238.96666666666658,
          469.62969696969697,
          null,
          308.39692172850795,
          988.0524999999999,
          484.52500000000003,
          535.625,
          null,
          128.64558225108223,
          1318.1216127706523,
          1070.2700000000002,
          1075.407387923861,
          320.26899999999995,
          633.2099999999999,
          795.504347711065,
          null,
          234.3615393061045,
          1218.1171641633725,
          578.0213809523809,
          119.1055532537011,
          736.699,
          5466.6825,
          398.6190000000001,
          341.96284354126266,
          355.63400575510013,
          521.0466815174212,
          773.3949239889874,
          769.1196666666666,
          1678.1599999999999,
          null,
          340.808567070776,
          494.90806380344026,
          552.3633333333332,
          906.9899999999999,
          null,
          646.1600000000001,
          559.84,
          null,
          null,
          416.39,
          526.9459959150327,
          644.3549999999999,
          271.0889982893451,
          1151.62,
          1611.3,
          2944.6700000000005,
          1327.75,
          544.2617287477879,
          556.6252705066271,
          null,
          307.4983333333334,
          471.3347111602056,
          506.87720454058683,
          2530.2200000000003,
          799.4660051776675,
          123.0441597985348,
          434.5666666666666,
          610.23,
          372.99000000000007,
          919.3877887808233,
          1813.4838698988513,
          229.42882051282055,
          510.93706293706293,
          440.43,
          411.00619047619057,
          310.20923530315633,
          869.01,
          377.53000000000003,
          null,
          616.2458333333333,
          182.63359649122808,
          216.93684292748185,
          1193.917,
          null,
          null,
          304.2702777777778,
          263.6596581670362,
          2448.3140000000003,
          1221.3609483154537,
          1671.1411415123277,
          584.5034285714286,
          288.5326785714286,
          null,
          null,
          323.5236834733894,
          387.20826969384245,
          312.5813333333334,
          417.066,
          399.3779166666667
         ]
        }
       ],
       "layout": {
        "coloraxis": {
         "colorbar": {
          "title": {
           "text": "average_cost_rich"
          }
         },
         "colorscale": [
          [
           0,
           "#0d0887"
          ],
          [
           0.1111111111111111,
           "#46039f"
          ],
          [
           0.2222222222222222,
           "#7201a8"
          ],
          [
           0.3333333333333333,
           "#9c179e"
          ],
          [
           0.4444444444444444,
           "#bd3786"
          ],
          [
           0.5555555555555556,
           "#d8576b"
          ],
          [
           0.6666666666666666,
           "#ed7953"
          ],
          [
           0.7777777777777778,
           "#fb9f3a"
          ],
          [
           0.8888888888888888,
           "#fdca26"
          ],
          [
           1,
           "#f0f921"
          ]
         ]
        },
        "geo": {
         "center": {},
         "domain": {
          "x": [
           0,
           1
          ],
          "y": [
           0,
           1
          ]
         },
         "scope": "world"
        },
        "legend": {
         "tracegroupgap": 0
        },
        "margin": {
         "t": 60
        },
        "template": {
         "data": {
          "bar": [
           {
            "error_x": {
             "color": "#2a3f5f"
            },
            "error_y": {
             "color": "#2a3f5f"
            },
            "marker": {
             "line": {
              "color": "#E5ECF6",
              "width": 0.5
             },
             "pattern": {
              "fillmode": "overlay",
              "size": 10,
              "solidity": 0.2
             }
            },
            "type": "bar"
           }
          ],
          "barpolar": [
           {
            "marker": {
             "line": {
              "color": "#E5ECF6",
              "width": 0.5
             },
             "pattern": {
              "fillmode": "overlay",
              "size": 10,
              "solidity": 0.2
             }
            },
            "type": "barpolar"
           }
          ],
          "carpet": [
           {
            "aaxis": {
             "endlinecolor": "#2a3f5f",
             "gridcolor": "white",
             "linecolor": "white",
             "minorgridcolor": "white",
             "startlinecolor": "#2a3f5f"
            },
            "baxis": {
             "endlinecolor": "#2a3f5f",
             "gridcolor": "white",
             "linecolor": "white",
             "minorgridcolor": "white",
             "startlinecolor": "#2a3f5f"
            },
            "type": "carpet"
           }
          ],
          "choropleth": [
           {
            "colorbar": {
             "outlinewidth": 0,
             "ticks": ""
            },
            "type": "choropleth"
           }
          ],
          "contour": [
           {
            "colorbar": {
             "outlinewidth": 0,
             "ticks": ""
            },
            "colorscale": [
             [
              0,
              "#0d0887"
             ],
             [
              0.1111111111111111,
              "#46039f"
             ],
             [
              0.2222222222222222,
              "#7201a8"
             ],
             [
              0.3333333333333333,
              "#9c179e"
             ],
             [
              0.4444444444444444,
              "#bd3786"
             ],
             [
              0.5555555555555556,
              "#d8576b"
             ],
             [
              0.6666666666666666,
              "#ed7953"
             ],
             [
              0.7777777777777778,
              "#fb9f3a"
             ],
             [
              0.8888888888888888,
              "#fdca26"
             ],
             [
              1,
              "#f0f921"
             ]
            ],
            "type": "contour"
           }
          ],
          "contourcarpet": [
           {
            "colorbar": {
             "outlinewidth": 0,
             "ticks": ""
            },
            "type": "contourcarpet"
           }
          ],
          "heatmap": [
           {
            "colorbar": {
             "outlinewidth": 0,
             "ticks": ""
            },
            "colorscale": [
             [
              0,
              "#0d0887"
             ],
             [
              0.1111111111111111,
              "#46039f"
             ],
             [
              0.2222222222222222,
              "#7201a8"
             ],
             [
              0.3333333333333333,
              "#9c179e"
             ],
             [
              0.4444444444444444,
              "#bd3786"
             ],
             [
              0.5555555555555556,
              "#d8576b"
             ],
             [
              0.6666666666666666,
              "#ed7953"
             ],
             [
              0.7777777777777778,
              "#fb9f3a"
             ],
             [
              0.8888888888888888,
              "#fdca26"
             ],
             [
              1,
              "#f0f921"
             ]
            ],
            "type": "heatmap"
           }
          ],
          "heatmapgl": [
           {
            "colorbar": {
             "outlinewidth": 0,
             "ticks": ""
            },
            "colorscale": [
             [
              0,
              "#0d0887"
             ],
             [
              0.1111111111111111,
              "#46039f"
             ],
             [
              0.2222222222222222,
              "#7201a8"
             ],
             [
              0.3333333333333333,
              "#9c179e"
             ],
             [
              0.4444444444444444,
              "#bd3786"
             ],
             [
              0.5555555555555556,
              "#d8576b"
             ],
             [
              0.6666666666666666,
              "#ed7953"
             ],
             [
              0.7777777777777778,
              "#fb9f3a"
             ],
             [
              0.8888888888888888,
              "#fdca26"
             ],
             [
              1,
              "#f0f921"
             ]
            ],
            "type": "heatmapgl"
           }
          ],
          "histogram": [
           {
            "marker": {
             "pattern": {
              "fillmode": "overlay",
              "size": 10,
              "solidity": 0.2
             }
            },
            "type": "histogram"
           }
          ],
          "histogram2d": [
           {
            "colorbar": {
             "outlinewidth": 0,
             "ticks": ""
            },
            "colorscale": [
             [
              0,
              "#0d0887"
             ],
             [
              0.1111111111111111,
              "#46039f"
             ],
             [
              0.2222222222222222,
              "#7201a8"
             ],
             [
              0.3333333333333333,
              "#9c179e"
             ],
             [
              0.4444444444444444,
              "#bd3786"
             ],
             [
              0.5555555555555556,
              "#d8576b"
             ],
             [
              0.6666666666666666,
              "#ed7953"
             ],
             [
              0.7777777777777778,
              "#fb9f3a"
             ],
             [
              0.8888888888888888,
              "#fdca26"
             ],
             [
              1,
              "#f0f921"
             ]
            ],
            "type": "histogram2d"
           }
          ],
          "histogram2dcontour": [
           {
            "colorbar": {
             "outlinewidth": 0,
             "ticks": ""
            },
            "colorscale": [
             [
              0,
              "#0d0887"
             ],
             [
              0.1111111111111111,
              "#46039f"
             ],
             [
              0.2222222222222222,
              "#7201a8"
             ],
             [
              0.3333333333333333,
              "#9c179e"
             ],
             [
              0.4444444444444444,
              "#bd3786"
             ],
             [
              0.5555555555555556,
              "#d8576b"
             ],
             [
              0.6666666666666666,
              "#ed7953"
             ],
             [
              0.7777777777777778,
              "#fb9f3a"
             ],
             [
              0.8888888888888888,
              "#fdca26"
             ],
             [
              1,
              "#f0f921"
             ]
            ],
            "type": "histogram2dcontour"
           }
          ],
          "mesh3d": [
           {
            "colorbar": {
             "outlinewidth": 0,
             "ticks": ""
            },
            "type": "mesh3d"
           }
          ],
          "parcoords": [
           {
            "line": {
             "colorbar": {
              "outlinewidth": 0,
              "ticks": ""
             }
            },
            "type": "parcoords"
           }
          ],
          "pie": [
           {
            "automargin": true,
            "type": "pie"
           }
          ],
          "scatter": [
           {
            "fillpattern": {
             "fillmode": "overlay",
             "size": 10,
             "solidity": 0.2
            },
            "type": "scatter"
           }
          ],
          "scatter3d": [
           {
            "line": {
             "colorbar": {
              "outlinewidth": 0,
              "ticks": ""
             }
            },
            "marker": {
             "colorbar": {
              "outlinewidth": 0,
              "ticks": ""
             }
            },
            "type": "scatter3d"
           }
          ],
          "scattercarpet": [
           {
            "marker": {
             "colorbar": {
              "outlinewidth": 0,
              "ticks": ""
             }
            },
            "type": "scattercarpet"
           }
          ],
          "scattergeo": [
           {
            "marker": {
             "colorbar": {
              "outlinewidth": 0,
              "ticks": ""
             }
            },
            "type": "scattergeo"
           }
          ],
          "scattergl": [
           {
            "marker": {
             "colorbar": {
              "outlinewidth": 0,
              "ticks": ""
             }
            },
            "type": "scattergl"
           }
          ],
          "scattermapbox": [
           {
            "marker": {
             "colorbar": {
              "outlinewidth": 0,
              "ticks": ""
             }
            },
            "type": "scattermapbox"
           }
          ],
          "scatterpolar": [
           {
            "marker": {
             "colorbar": {
              "outlinewidth": 0,
              "ticks": ""
             }
            },
            "type": "scatterpolar"
           }
          ],
          "scatterpolargl": [
           {
            "marker": {
             "colorbar": {
              "outlinewidth": 0,
              "ticks": ""
             }
            },
            "type": "scatterpolargl"
           }
          ],
          "scatterternary": [
           {
            "marker": {
             "colorbar": {
              "outlinewidth": 0,
              "ticks": ""
             }
            },
            "type": "scatterternary"
           }
          ],
          "surface": [
           {
            "colorbar": {
             "outlinewidth": 0,
             "ticks": ""
            },
            "colorscale": [
             [
              0,
              "#0d0887"
             ],
             [
              0.1111111111111111,
              "#46039f"
             ],
             [
              0.2222222222222222,
              "#7201a8"
             ],
             [
              0.3333333333333333,
              "#9c179e"
             ],
             [
              0.4444444444444444,
              "#bd3786"
             ],
             [
              0.5555555555555556,
              "#d8576b"
             ],
             [
              0.6666666666666666,
              "#ed7953"
             ],
             [
              0.7777777777777778,
              "#fb9f3a"
             ],
             [
              0.8888888888888888,
              "#fdca26"
             ],
             [
              1,
              "#f0f921"
             ]
            ],
            "type": "surface"
           }
          ],
          "table": [
           {
            "cells": {
             "fill": {
              "color": "#EBF0F8"
             },
             "line": {
              "color": "white"
             }
            },
            "header": {
             "fill": {
              "color": "#C8D4E3"
             },
             "line": {
              "color": "white"
             }
            },
            "type": "table"
           }
          ]
         },
         "layout": {
          "annotationdefaults": {
           "arrowcolor": "#2a3f5f",
           "arrowhead": 0,
           "arrowwidth": 1
          },
          "autotypenumbers": "strict",
          "coloraxis": {
           "colorbar": {
            "outlinewidth": 0,
            "ticks": ""
           }
          },
          "colorscale": {
           "diverging": [
            [
             0,
             "#8e0152"
            ],
            [
             0.1,
             "#c51b7d"
            ],
            [
             0.2,
             "#de77ae"
            ],
            [
             0.3,
             "#f1b6da"
            ],
            [
             0.4,
             "#fde0ef"
            ],
            [
             0.5,
             "#f7f7f7"
            ],
            [
             0.6,
             "#e6f5d0"
            ],
            [
             0.7,
             "#b8e186"
            ],
            [
             0.8,
             "#7fbc41"
            ],
            [
             0.9,
             "#4d9221"
            ],
            [
             1,
             "#276419"
            ]
           ],
           "sequential": [
            [
             0,
             "#0d0887"
            ],
            [
             0.1111111111111111,
             "#46039f"
            ],
            [
             0.2222222222222222,
             "#7201a8"
            ],
            [
             0.3333333333333333,
             "#9c179e"
            ],
            [
             0.4444444444444444,
             "#bd3786"
            ],
            [
             0.5555555555555556,
             "#d8576b"
            ],
            [
             0.6666666666666666,
             "#ed7953"
            ],
            [
             0.7777777777777778,
             "#fb9f3a"
            ],
            [
             0.8888888888888888,
             "#fdca26"
            ],
            [
             1,
             "#f0f921"
            ]
           ],
           "sequentialminus": [
            [
             0,
             "#0d0887"
            ],
            [
             0.1111111111111111,
             "#46039f"
            ],
            [
             0.2222222222222222,
             "#7201a8"
            ],
            [
             0.3333333333333333,
             "#9c179e"
            ],
            [
             0.4444444444444444,
             "#bd3786"
            ],
            [
             0.5555555555555556,
             "#d8576b"
            ],
            [
             0.6666666666666666,
             "#ed7953"
            ],
            [
             0.7777777777777778,
             "#fb9f3a"
            ],
            [
             0.8888888888888888,
             "#fdca26"
            ],
            [
             1,
             "#f0f921"
            ]
           ]
          },
          "colorway": [
           "#636efa",
           "#EF553B",
           "#00cc96",
           "#ab63fa",
           "#FFA15A",
           "#19d3f3",
           "#FF6692",
           "#B6E880",
           "#FF97FF",
           "#FECB52"
          ],
          "font": {
           "color": "#2a3f5f"
          },
          "geo": {
           "bgcolor": "white",
           "lakecolor": "white",
           "landcolor": "#E5ECF6",
           "showlakes": true,
           "showland": true,
           "subunitcolor": "white"
          },
          "hoverlabel": {
           "align": "left"
          },
          "hovermode": "closest",
          "mapbox": {
           "style": "light"
          },
          "paper_bgcolor": "white",
          "plot_bgcolor": "#E5ECF6",
          "polar": {
           "angularaxis": {
            "gridcolor": "white",
            "linecolor": "white",
            "ticks": ""
           },
           "bgcolor": "#E5ECF6",
           "radialaxis": {
            "gridcolor": "white",
            "linecolor": "white",
            "ticks": ""
           }
          },
          "scene": {
           "xaxis": {
            "backgroundcolor": "#E5ECF6",
            "gridcolor": "white",
            "gridwidth": 2,
            "linecolor": "white",
            "showbackground": true,
            "ticks": "",
            "zerolinecolor": "white"
           },
           "yaxis": {
            "backgroundcolor": "#E5ECF6",
            "gridcolor": "white",
            "gridwidth": 2,
            "linecolor": "white",
            "showbackground": true,
            "ticks": "",
            "zerolinecolor": "white"
           },
           "zaxis": {
            "backgroundcolor": "#E5ECF6",
            "gridcolor": "white",
            "gridwidth": 2,
            "linecolor": "white",
            "showbackground": true,
            "ticks": "",
            "zerolinecolor": "white"
           }
          },
          "shapedefaults": {
           "line": {
            "color": "#2a3f5f"
           }
          },
          "ternary": {
           "aaxis": {
            "gridcolor": "white",
            "linecolor": "white",
            "ticks": ""
           },
           "baxis": {
            "gridcolor": "white",
            "linecolor": "white",
            "ticks": ""
           },
           "bgcolor": "#E5ECF6",
           "caxis": {
            "gridcolor": "white",
            "linecolor": "white",
            "ticks": ""
           }
          },
          "title": {
           "x": 0.05
          },
          "xaxis": {
           "automargin": true,
           "gridcolor": "white",
           "linecolor": "white",
           "ticks": "",
           "title": {
            "standoff": 15
           },
           "zerolinecolor": "white",
           "zerolinewidth": 2
          },
          "yaxis": {
           "automargin": true,
           "gridcolor": "white",
           "linecolor": "white",
           "ticks": "",
           "title": {
            "standoff": 15
           },
           "zerolinecolor": "white",
           "zerolinewidth": 2
          }
         }
        }
       }
      }
     },
     "metadata": {},
     "output_type": "display_data"
    }
   ],
   "source": []
  },
  {
   "cell_type": "code",
   "execution_count": 40,
   "metadata": {},
   "outputs": [
    {
     "data": {
      "application/vnd.plotly.v1+json": {
       "config": {
        "plotlyServerURL": "https://plot.ly"
       },
       "data": [
        {
         "coloraxis": "coloraxis",
         "geo": "geo",
         "hovertemplate": "code=%{location}<br>average_cost_medium=%{z}<extra></extra>",
         "locationmode": "ISO-3",
         "locations": [
          "AFG",
          "ALB",
          "DZA",
          "ASM",
          "AND",
          "AGO",
          "AIA",
          "ATG",
          "ARG",
          "ARM",
          "ABW",
          "AUS",
          "AUT",
          "AZE",
          "BHM",
          "BHR",
          "BGD",
          "BRB",
          "BLR",
          "BEL",
          "BLZ",
          "BEN",
          "BMU",
          "BTN",
          "BOL",
          "BIH",
          "BWA",
          "BRA",
          "VGB",
          "BRN",
          "BGR",
          "BFA",
          "BDI",
          "KHM",
          "CMR",
          "CAN",
          "CPV",
          "TCD",
          "CHL",
          "CHN",
          "COL",
          "COM",
          "COD",
          "COK",
          "CRI",
          "HRV",
          "CUB",
          "CUW",
          "CYP",
          "CZE",
          "DNK",
          "DJI",
          "DMA",
          "DOM",
          "ECU",
          "EGY",
          "SLV",
          "GNQ",
          "ERI",
          "EST",
          "ETH",
          "FLK",
          "FRO",
          "FJI",
          "FIN",
          "FRA",
          null,
          "PYF",
          "GAB",
          "GMB",
          "GEO",
          "DEU",
          "GHA",
          "GIB",
          "GRC",
          "GRL",
          null,
          "GTM",
          "GIN",
          "GNB",
          "GUY",
          "HTI",
          "HND",
          "HKG",
          "HUN",
          "ISL",
          "IND",
          "IDN",
          "IRN",
          "IRQ",
          "IRL",
          "IMN",
          "ISR",
          "ITA",
          "CIV",
          "JAM",
          "JPN",
          "JEY",
          "JOR",
          "KAZ",
          "KEN",
          "KSV",
          "KWT",
          "KGZ",
          "LAO",
          "LVA",
          "LBN",
          "LSO",
          "LBR",
          "LBY",
          "LIE",
          "LTU",
          "LUX",
          "MDG",
          "MWI",
          "MYS",
          "MDV",
          "MLI",
          "MLT",
          "MHL",
          null,
          "MRT",
          "MUS",
          "MEX",
          "MDA",
          "MCO",
          "MNG",
          "MNE",
          null,
          "MAR",
          "MOZ",
          "MMR",
          "NAM",
          "NRU",
          "NPL",
          "NLD",
          "NCL",
          "NZL",
          "NIC",
          "NER",
          "NGA",
          "KOR",
          "MKD",
          "NOR",
          "OMN",
          "PAK",
          "PAN",
          "PNG",
          "PRY",
          "PER",
          "PHL",
          "POL",
          "PRT",
          "PRI",
          "QAT",
          null,
          "ROU",
          "RUS",
          "RWA",
          null,
          "KNA",
          "LCA",
          "VCT",
          "WSM",
          "SMR",
          "STP",
          "SAU",
          "SEN",
          "SRB",
          "SYC",
          "SLE",
          "SGP",
          "SXM",
          "SVK",
          "SVN",
          "SLB",
          "SOM",
          "ZAF",
          "PRK",
          "SSD",
          "ESP",
          "LKA",
          "SDN",
          "SUR",
          "SWZ",
          "SWE",
          "CHE",
          "SYR",
          "TWN",
          "TJK",
          "TZA",
          "THA",
          "TLS",
          "TGO",
          "TON",
          "TTO",
          "TUN",
          "TUR",
          "TKM",
          "TCA",
          "TUV",
          "UGA",
          "UKR",
          "ARE",
          "GBR",
          "USA",
          "URY",
          "UZB",
          "VUT",
          null,
          "VEN",
          "VNM",
          "YEM",
          "ZMB",
          "ZWE"
         ],
         "name": "",
         "type": "choropleth",
         "z": [
          376.75849999999997,
          159.75819480519482,
          143.94701071407334,
          null,
          733.0166666666668,
          299.79,
          null,
          null,
          222.72002213868,
          446.444,
          734.1100000000001,
          1022.6192095211004,
          669.5895336330336,
          132.98706313131314,
          1083.68,
          636.7699999999999,
          97.91203030303032,
          501.28000000000003,
          183.0762121212121,
          720.3073576721977,
          363.124,
          218.09,
          2256.08,
          132.77166666666668,
          279.32366666666667,
          160.4200256410256,
          208.025,
          205.40315640407718,
          null,
          588.265,
          199.33253246753245,
          218.60999999999999,
          132.53,
          295.71799999999996,
          124.05204761904761,
          1099.5687188139477,
          null,
          null,
          383.6418748538012,
          260.2393787970566,
          193.19396491228068,
          null,
          888.4699999999999,
          null,
          350.78999999999996,
          304.56227158806104,
          394.5039087301588,
          528.8499999999999,
          577.5080952380953,
          484.8262901717507,
          783.95075,
          645.5849999999999,
          328.88000000000005,
          280.8723333333334,
          298.85607864357866,
          88.35514369256475,
          545.9250000000001,
          457.21500000000003,
          null,
          285.8773787878788,
          467.87199999999996,
          null,
          null,
          246.45999999999992,
          641.3414492753623,
          663.3276107437832,
          null,
          783.2499999999998,
          572.6999999999999,
          197.29,
          320.62874999999997,
          620.4079699355805,
          95.17750000000001,
          1481.7099999999998,
          445.16540339146405,
          927.5600000000001,
          830.0400000000001,
          453.00999999999993,
          431.87,
          null,
          273.705,
          522.1075,
          342.00281818181816,
          1700.5999999999997,
          262.85525895852123,
          1166.0300000000002,
          96.89946093673879,
          166.98783843051862,
          585.8868664902681,
          233.14345796308953,
          1170.7842063492062,
          981.26,
          915.5351828810828,
          518.3869814608146,
          310.63,
          312.70125,
          493.95847325515393,
          1733.37,
          243.34291666666664,
          173.11313186813192,
          157.97299200799202,
          215.47626190476194,
          588.0799999999999,
          187.14499999999998,
          348.25,
          245.21263636363636,
          364.0633333333334,
          243.34000000000003,
          249.17000000000002,
          126.58399999999999,
          1101.9233333333334,
          273.9343231854145,
          1375.81525,
          189.12499999999997,
          297.445,
          230.44396380090498,
          711.6399999999999,
          594.0799999999998,
          780.1871969415516,
          968.75,
          null,
          289.52,
          238.39499999999998,
          291.8591845942135,
          134.1323888888889,
          null,
          141.63333333333335,
          309.4767676767677,
          null,
          187.195295435585,
          457.99850000000004,
          381.33000000000004,
          388.79999999999995,
          null,
          81.98619552669552,
          1023.235544871795,
          732.83,
          747.0336502611931,
          222.84913888888886,
          399.6500000000001,
          492.6680902816988,
          null,
          154.6879297996689,
          838.677507142857,
          411.848,
          76.9610129117874,
          431.43066666666675,
          1446.5024999999998,
          229.77100000000004,
          222.13920100732602,
          213.8970263325843,
          398.8322454349169,
          574.606835311656,
          480.8230555555556,
          1098.155,
          null,
          217.89332072496498,
          297.0365893131658,
          360.75999999999993,
          692.1699999999998,
          null,
          365.02000000000004,
          300.07,
          null,
          507.45666666666665,
          null,
          379.92031862745097,
          544.3149999999999,
          171.67071588518422,
          894.75,
          223.00000000000003,
          2082.9500000000003,
          850.1549999999999,
          412.9112624313982,
          400.762398245614,
          832.8100000000001,
          139.73333333333332,
          402.42587640692636,
          378.3115486899407,
          1819.8200000000002,
          596.2825845697851,
          61.40201694139194,
          249.5633333333333,
          307.1,
          252.695,
          661.0231698595147,
          1374.6499305581738,
          145.21985470085474,
          308.75356177156186,
          252.925,
          328.08085714285716,
          214.135354596532,
          731.2099999999999,
          184.8,
          null,
          419.6200833333333,
          126.67724880382775,
          132.61380626913527,
          703.1133333333333,
          null,
          null,
          192.63399999999996,
          161.76496941540844,
          1694.848,
          847.530099281235,
          1333.5714642692137,
          399.0004718614719,
          190.0397261904762,
          null,
          null,
          252.2188515406162,
          225.87681137167783,
          184.97966666666665,
          285.81399999999996,
          335.8041666666667
         ]
        }
       ],
       "layout": {
        "coloraxis": {
         "colorbar": {
          "title": {
           "text": "average_cost_medium"
          }
         },
         "colorscale": [
          [
           0,
           "#0d0887"
          ],
          [
           0.1111111111111111,
           "#46039f"
          ],
          [
           0.2222222222222222,
           "#7201a8"
          ],
          [
           0.3333333333333333,
           "#9c179e"
          ],
          [
           0.4444444444444444,
           "#bd3786"
          ],
          [
           0.5555555555555556,
           "#d8576b"
          ],
          [
           0.6666666666666666,
           "#ed7953"
          ],
          [
           0.7777777777777778,
           "#fb9f3a"
          ],
          [
           0.8888888888888888,
           "#fdca26"
          ],
          [
           1,
           "#f0f921"
          ]
         ]
        },
        "geo": {
         "center": {},
         "domain": {
          "x": [
           0,
           1
          ],
          "y": [
           0,
           1
          ]
         },
         "scope": "world"
        },
        "legend": {
         "tracegroupgap": 0
        },
        "margin": {
         "t": 60
        },
        "template": {
         "data": {
          "bar": [
           {
            "error_x": {
             "color": "#2a3f5f"
            },
            "error_y": {
             "color": "#2a3f5f"
            },
            "marker": {
             "line": {
              "color": "#E5ECF6",
              "width": 0.5
             },
             "pattern": {
              "fillmode": "overlay",
              "size": 10,
              "solidity": 0.2
             }
            },
            "type": "bar"
           }
          ],
          "barpolar": [
           {
            "marker": {
             "line": {
              "color": "#E5ECF6",
              "width": 0.5
             },
             "pattern": {
              "fillmode": "overlay",
              "size": 10,
              "solidity": 0.2
             }
            },
            "type": "barpolar"
           }
          ],
          "carpet": [
           {
            "aaxis": {
             "endlinecolor": "#2a3f5f",
             "gridcolor": "white",
             "linecolor": "white",
             "minorgridcolor": "white",
             "startlinecolor": "#2a3f5f"
            },
            "baxis": {
             "endlinecolor": "#2a3f5f",
             "gridcolor": "white",
             "linecolor": "white",
             "minorgridcolor": "white",
             "startlinecolor": "#2a3f5f"
            },
            "type": "carpet"
           }
          ],
          "choropleth": [
           {
            "colorbar": {
             "outlinewidth": 0,
             "ticks": ""
            },
            "type": "choropleth"
           }
          ],
          "contour": [
           {
            "colorbar": {
             "outlinewidth": 0,
             "ticks": ""
            },
            "colorscale": [
             [
              0,
              "#0d0887"
             ],
             [
              0.1111111111111111,
              "#46039f"
             ],
             [
              0.2222222222222222,
              "#7201a8"
             ],
             [
              0.3333333333333333,
              "#9c179e"
             ],
             [
              0.4444444444444444,
              "#bd3786"
             ],
             [
              0.5555555555555556,
              "#d8576b"
             ],
             [
              0.6666666666666666,
              "#ed7953"
             ],
             [
              0.7777777777777778,
              "#fb9f3a"
             ],
             [
              0.8888888888888888,
              "#fdca26"
             ],
             [
              1,
              "#f0f921"
             ]
            ],
            "type": "contour"
           }
          ],
          "contourcarpet": [
           {
            "colorbar": {
             "outlinewidth": 0,
             "ticks": ""
            },
            "type": "contourcarpet"
           }
          ],
          "heatmap": [
           {
            "colorbar": {
             "outlinewidth": 0,
             "ticks": ""
            },
            "colorscale": [
             [
              0,
              "#0d0887"
             ],
             [
              0.1111111111111111,
              "#46039f"
             ],
             [
              0.2222222222222222,
              "#7201a8"
             ],
             [
              0.3333333333333333,
              "#9c179e"
             ],
             [
              0.4444444444444444,
              "#bd3786"
             ],
             [
              0.5555555555555556,
              "#d8576b"
             ],
             [
              0.6666666666666666,
              "#ed7953"
             ],
             [
              0.7777777777777778,
              "#fb9f3a"
             ],
             [
              0.8888888888888888,
              "#fdca26"
             ],
             [
              1,
              "#f0f921"
             ]
            ],
            "type": "heatmap"
           }
          ],
          "heatmapgl": [
           {
            "colorbar": {
             "outlinewidth": 0,
             "ticks": ""
            },
            "colorscale": [
             [
              0,
              "#0d0887"
             ],
             [
              0.1111111111111111,
              "#46039f"
             ],
             [
              0.2222222222222222,
              "#7201a8"
             ],
             [
              0.3333333333333333,
              "#9c179e"
             ],
             [
              0.4444444444444444,
              "#bd3786"
             ],
             [
              0.5555555555555556,
              "#d8576b"
             ],
             [
              0.6666666666666666,
              "#ed7953"
             ],
             [
              0.7777777777777778,
              "#fb9f3a"
             ],
             [
              0.8888888888888888,
              "#fdca26"
             ],
             [
              1,
              "#f0f921"
             ]
            ],
            "type": "heatmapgl"
           }
          ],
          "histogram": [
           {
            "marker": {
             "pattern": {
              "fillmode": "overlay",
              "size": 10,
              "solidity": 0.2
             }
            },
            "type": "histogram"
           }
          ],
          "histogram2d": [
           {
            "colorbar": {
             "outlinewidth": 0,
             "ticks": ""
            },
            "colorscale": [
             [
              0,
              "#0d0887"
             ],
             [
              0.1111111111111111,
              "#46039f"
             ],
             [
              0.2222222222222222,
              "#7201a8"
             ],
             [
              0.3333333333333333,
              "#9c179e"
             ],
             [
              0.4444444444444444,
              "#bd3786"
             ],
             [
              0.5555555555555556,
              "#d8576b"
             ],
             [
              0.6666666666666666,
              "#ed7953"
             ],
             [
              0.7777777777777778,
              "#fb9f3a"
             ],
             [
              0.8888888888888888,
              "#fdca26"
             ],
             [
              1,
              "#f0f921"
             ]
            ],
            "type": "histogram2d"
           }
          ],
          "histogram2dcontour": [
           {
            "colorbar": {
             "outlinewidth": 0,
             "ticks": ""
            },
            "colorscale": [
             [
              0,
              "#0d0887"
             ],
             [
              0.1111111111111111,
              "#46039f"
             ],
             [
              0.2222222222222222,
              "#7201a8"
             ],
             [
              0.3333333333333333,
              "#9c179e"
             ],
             [
              0.4444444444444444,
              "#bd3786"
             ],
             [
              0.5555555555555556,
              "#d8576b"
             ],
             [
              0.6666666666666666,
              "#ed7953"
             ],
             [
              0.7777777777777778,
              "#fb9f3a"
             ],
             [
              0.8888888888888888,
              "#fdca26"
             ],
             [
              1,
              "#f0f921"
             ]
            ],
            "type": "histogram2dcontour"
           }
          ],
          "mesh3d": [
           {
            "colorbar": {
             "outlinewidth": 0,
             "ticks": ""
            },
            "type": "mesh3d"
           }
          ],
          "parcoords": [
           {
            "line": {
             "colorbar": {
              "outlinewidth": 0,
              "ticks": ""
             }
            },
            "type": "parcoords"
           }
          ],
          "pie": [
           {
            "automargin": true,
            "type": "pie"
           }
          ],
          "scatter": [
           {
            "fillpattern": {
             "fillmode": "overlay",
             "size": 10,
             "solidity": 0.2
            },
            "type": "scatter"
           }
          ],
          "scatter3d": [
           {
            "line": {
             "colorbar": {
              "outlinewidth": 0,
              "ticks": ""
             }
            },
            "marker": {
             "colorbar": {
              "outlinewidth": 0,
              "ticks": ""
             }
            },
            "type": "scatter3d"
           }
          ],
          "scattercarpet": [
           {
            "marker": {
             "colorbar": {
              "outlinewidth": 0,
              "ticks": ""
             }
            },
            "type": "scattercarpet"
           }
          ],
          "scattergeo": [
           {
            "marker": {
             "colorbar": {
              "outlinewidth": 0,
              "ticks": ""
             }
            },
            "type": "scattergeo"
           }
          ],
          "scattergl": [
           {
            "marker": {
             "colorbar": {
              "outlinewidth": 0,
              "ticks": ""
             }
            },
            "type": "scattergl"
           }
          ],
          "scattermapbox": [
           {
            "marker": {
             "colorbar": {
              "outlinewidth": 0,
              "ticks": ""
             }
            },
            "type": "scattermapbox"
           }
          ],
          "scatterpolar": [
           {
            "marker": {
             "colorbar": {
              "outlinewidth": 0,
              "ticks": ""
             }
            },
            "type": "scatterpolar"
           }
          ],
          "scatterpolargl": [
           {
            "marker": {
             "colorbar": {
              "outlinewidth": 0,
              "ticks": ""
             }
            },
            "type": "scatterpolargl"
           }
          ],
          "scatterternary": [
           {
            "marker": {
             "colorbar": {
              "outlinewidth": 0,
              "ticks": ""
             }
            },
            "type": "scatterternary"
           }
          ],
          "surface": [
           {
            "colorbar": {
             "outlinewidth": 0,
             "ticks": ""
            },
            "colorscale": [
             [
              0,
              "#0d0887"
             ],
             [
              0.1111111111111111,
              "#46039f"
             ],
             [
              0.2222222222222222,
              "#7201a8"
             ],
             [
              0.3333333333333333,
              "#9c179e"
             ],
             [
              0.4444444444444444,
              "#bd3786"
             ],
             [
              0.5555555555555556,
              "#d8576b"
             ],
             [
              0.6666666666666666,
              "#ed7953"
             ],
             [
              0.7777777777777778,
              "#fb9f3a"
             ],
             [
              0.8888888888888888,
              "#fdca26"
             ],
             [
              1,
              "#f0f921"
             ]
            ],
            "type": "surface"
           }
          ],
          "table": [
           {
            "cells": {
             "fill": {
              "color": "#EBF0F8"
             },
             "line": {
              "color": "white"
             }
            },
            "header": {
             "fill": {
              "color": "#C8D4E3"
             },
             "line": {
              "color": "white"
             }
            },
            "type": "table"
           }
          ]
         },
         "layout": {
          "annotationdefaults": {
           "arrowcolor": "#2a3f5f",
           "arrowhead": 0,
           "arrowwidth": 1
          },
          "autotypenumbers": "strict",
          "coloraxis": {
           "colorbar": {
            "outlinewidth": 0,
            "ticks": ""
           }
          },
          "colorscale": {
           "diverging": [
            [
             0,
             "#8e0152"
            ],
            [
             0.1,
             "#c51b7d"
            ],
            [
             0.2,
             "#de77ae"
            ],
            [
             0.3,
             "#f1b6da"
            ],
            [
             0.4,
             "#fde0ef"
            ],
            [
             0.5,
             "#f7f7f7"
            ],
            [
             0.6,
             "#e6f5d0"
            ],
            [
             0.7,
             "#b8e186"
            ],
            [
             0.8,
             "#7fbc41"
            ],
            [
             0.9,
             "#4d9221"
            ],
            [
             1,
             "#276419"
            ]
           ],
           "sequential": [
            [
             0,
             "#0d0887"
            ],
            [
             0.1111111111111111,
             "#46039f"
            ],
            [
             0.2222222222222222,
             "#7201a8"
            ],
            [
             0.3333333333333333,
             "#9c179e"
            ],
            [
             0.4444444444444444,
             "#bd3786"
            ],
            [
             0.5555555555555556,
             "#d8576b"
            ],
            [
             0.6666666666666666,
             "#ed7953"
            ],
            [
             0.7777777777777778,
             "#fb9f3a"
            ],
            [
             0.8888888888888888,
             "#fdca26"
            ],
            [
             1,
             "#f0f921"
            ]
           ],
           "sequentialminus": [
            [
             0,
             "#0d0887"
            ],
            [
             0.1111111111111111,
             "#46039f"
            ],
            [
             0.2222222222222222,
             "#7201a8"
            ],
            [
             0.3333333333333333,
             "#9c179e"
            ],
            [
             0.4444444444444444,
             "#bd3786"
            ],
            [
             0.5555555555555556,
             "#d8576b"
            ],
            [
             0.6666666666666666,
             "#ed7953"
            ],
            [
             0.7777777777777778,
             "#fb9f3a"
            ],
            [
             0.8888888888888888,
             "#fdca26"
            ],
            [
             1,
             "#f0f921"
            ]
           ]
          },
          "colorway": [
           "#636efa",
           "#EF553B",
           "#00cc96",
           "#ab63fa",
           "#FFA15A",
           "#19d3f3",
           "#FF6692",
           "#B6E880",
           "#FF97FF",
           "#FECB52"
          ],
          "font": {
           "color": "#2a3f5f"
          },
          "geo": {
           "bgcolor": "white",
           "lakecolor": "white",
           "landcolor": "#E5ECF6",
           "showlakes": true,
           "showland": true,
           "subunitcolor": "white"
          },
          "hoverlabel": {
           "align": "left"
          },
          "hovermode": "closest",
          "mapbox": {
           "style": "light"
          },
          "paper_bgcolor": "white",
          "plot_bgcolor": "#E5ECF6",
          "polar": {
           "angularaxis": {
            "gridcolor": "white",
            "linecolor": "white",
            "ticks": ""
           },
           "bgcolor": "#E5ECF6",
           "radialaxis": {
            "gridcolor": "white",
            "linecolor": "white",
            "ticks": ""
           }
          },
          "scene": {
           "xaxis": {
            "backgroundcolor": "#E5ECF6",
            "gridcolor": "white",
            "gridwidth": 2,
            "linecolor": "white",
            "showbackground": true,
            "ticks": "",
            "zerolinecolor": "white"
           },
           "yaxis": {
            "backgroundcolor": "#E5ECF6",
            "gridcolor": "white",
            "gridwidth": 2,
            "linecolor": "white",
            "showbackground": true,
            "ticks": "",
            "zerolinecolor": "white"
           },
           "zaxis": {
            "backgroundcolor": "#E5ECF6",
            "gridcolor": "white",
            "gridwidth": 2,
            "linecolor": "white",
            "showbackground": true,
            "ticks": "",
            "zerolinecolor": "white"
           }
          },
          "shapedefaults": {
           "line": {
            "color": "#2a3f5f"
           }
          },
          "ternary": {
           "aaxis": {
            "gridcolor": "white",
            "linecolor": "white",
            "ticks": ""
           },
           "baxis": {
            "gridcolor": "white",
            "linecolor": "white",
            "ticks": ""
           },
           "bgcolor": "#E5ECF6",
           "caxis": {
            "gridcolor": "white",
            "linecolor": "white",
            "ticks": ""
           }
          },
          "title": {
           "x": 0.05
          },
          "xaxis": {
           "automargin": true,
           "gridcolor": "white",
           "linecolor": "white",
           "ticks": "",
           "title": {
            "standoff": 15
           },
           "zerolinecolor": "white",
           "zerolinewidth": 2
          },
          "yaxis": {
           "automargin": true,
           "gridcolor": "white",
           "linecolor": "white",
           "ticks": "",
           "title": {
            "standoff": 15
           },
           "zerolinecolor": "white",
           "zerolinewidth": 2
          }
         }
        }
       }
      }
     },
     "metadata": {},
     "output_type": "display_data"
    }
   ],
   "source": [
    "import plotly.express as px\n",
    "import pandas as pd\n",
    "\n",
    "\n",
    "\n",
    "# Create a Plotly world map with country codes\n",
    "fig = px.choropleth(data_frame=data,\n",
    "                    locations='code',\n",
    "                    locationmode='ISO-3',\n",
    "                    color='average_cost_medium',\n",
    "                    scope='world')\n",
    "\n",
    "fig.show()"
   ]
  },
  {
   "cell_type": "code",
   "execution_count": 41,
   "metadata": {},
   "outputs": [
    {
     "data": {
      "application/vnd.plotly.v1+json": {
       "config": {
        "plotlyServerURL": "https://plot.ly"
       },
       "data": [
        {
         "coloraxis": "coloraxis",
         "geo": "geo",
         "hovertemplate": "code=%{location}<br>average_cost_lower=%{z}<extra></extra>",
         "locationmode": "ISO-3",
         "locations": [
          "AFG",
          "ALB",
          "DZA",
          "ASM",
          "AND",
          "AGO",
          "AIA",
          "ATG",
          "ARG",
          "ARM",
          "ABW",
          "AUS",
          "AUT",
          "AZE",
          "BHM",
          "BHR",
          "BGD",
          "BRB",
          "BLR",
          "BEL",
          "BLZ",
          "BEN",
          "BMU",
          "BTN",
          "BOL",
          "BIH",
          "BWA",
          "BRA",
          "VGB",
          "BRN",
          "BGR",
          "BFA",
          "BDI",
          "KHM",
          "CMR",
          "CAN",
          "CPV",
          "TCD",
          "CHL",
          "CHN",
          "COL",
          "COM",
          "COD",
          "COK",
          "CRI",
          "HRV",
          "CUB",
          "CUW",
          "CYP",
          "CZE",
          "DNK",
          "DJI",
          "DMA",
          "DOM",
          "ECU",
          "EGY",
          "SLV",
          "GNQ",
          "ERI",
          "EST",
          "ETH",
          "FLK",
          "FRO",
          "FJI",
          "FIN",
          "FRA",
          null,
          "PYF",
          "GAB",
          "GMB",
          "GEO",
          "DEU",
          "GHA",
          "GIB",
          "GRC",
          "GRL",
          null,
          "GTM",
          "GIN",
          "GNB",
          "GUY",
          "HTI",
          "HND",
          "HKG",
          "HUN",
          "ISL",
          "IND",
          "IDN",
          "IRN",
          "IRQ",
          "IRL",
          "IMN",
          "ISR",
          "ITA",
          "CIV",
          "JAM",
          "JPN",
          "JEY",
          "JOR",
          "KAZ",
          "KEN",
          "KSV",
          "KWT",
          "KGZ",
          "LAO",
          "LVA",
          "LBN",
          "LSO",
          "LBR",
          "LBY",
          "LIE",
          "LTU",
          "LUX",
          "MDG",
          "MWI",
          "MYS",
          "MDV",
          "MLI",
          "MLT",
          "MHL",
          null,
          "MRT",
          "MUS",
          "MEX",
          "MDA",
          "MCO",
          "MNG",
          "MNE",
          null,
          "MAR",
          "MOZ",
          "MMR",
          "NAM",
          "NRU",
          "NPL",
          "NLD",
          "NCL",
          "NZL",
          "NIC",
          "NER",
          "NGA",
          "KOR",
          "MKD",
          "NOR",
          "OMN",
          "PAK",
          "PAN",
          "PNG",
          "PRY",
          "PER",
          "PHL",
          "POL",
          "PRT",
          "PRI",
          "QAT",
          null,
          "ROU",
          "RUS",
          "RWA",
          null,
          "KNA",
          "LCA",
          "VCT",
          "WSM",
          "SMR",
          "STP",
          "SAU",
          "SEN",
          "SRB",
          "SYC",
          "SLE",
          "SGP",
          "SXM",
          "SVK",
          "SVN",
          "SLB",
          "SOM",
          "ZAF",
          "PRK",
          "SSD",
          "ESP",
          "LKA",
          "SDN",
          "SUR",
          "SWZ",
          "SWE",
          "CHE",
          "SYR",
          "TWN",
          "TJK",
          "TZA",
          "THA",
          "TLS",
          "TGO",
          "TON",
          "TTO",
          "TUN",
          "TUR",
          "TKM",
          "TCA",
          "TUV",
          "UGA",
          "UKR",
          "ARE",
          "GBR",
          "USA",
          "URY",
          "UZB",
          "VUT",
          null,
          "VEN",
          "VNM",
          "YEM",
          "ZMB",
          "ZWE"
         ],
         "name": "",
         "type": "choropleth",
         "z": [
          50.285999999999994,
          137.898,
          101.51183662606458,
          null,
          696.9133333333334,
          121.59,
          821.61,
          null,
          197.56135547201333,
          425.0416666666667,
          661.15,
          968.2178443377352,
          638.893141858142,
          112.53465909090909,
          1008.3000000000001,
          564.4666666666666,
          55.13401515151515,
          459.37,
          173.36340909090907,
          673.8484011125787,
          274.791,
          159.58999999999997,
          2117.8999999999996,
          99.2,
          210.59633333333335,
          133.21566666666664,
          178.695,
          176.18003100124957,
          null,
          491.36,
          186.811,
          172.23999999999995,
          102.3,
          251.33922222222222,
          77.41309523809525,
          1035.1631349437985,
          null,
          141.31999999999996,
          354.2128222222223,
          239.90435750571328,
          162.9552597840756,
          null,
          697.9066666666666,
          197.21,
          293.74499999999995,
          278.84802916381864,
          241.69777777777776,
          478.21000000000004,
          547.3328571428572,
          459.3131822612086,
          747.137,
          598.6,
          253.58999999999997,
          216.76672727272728,
          246.3080844155844,
          72.28095238095239,
          494.715,
          188.23499999999999,
          626.95,
          258.78321212121205,
          234.5255,
          null,
          null,
          208.36999999999995,
          613.1388566827696,
          633.6909611376545,
          null,
          683.6299999999998,
          505.44,
          93.035,
          304.98625000000004,
          580.2551617019905,
          65.93733333333333,
          1443.11,
          404.24166700802186,
          726.625,
          759.47,
          396.1953333333333,
          313.4,
          200.81000000000003,
          216,
          384.05,
          243.73555555555552,
          1668.33,
          248.66148796325632,
          1096.2000000000005,
          81.7086020999629,
          125.06791823308271,
          561.5011163537996,
          187.16377922077922,
          1113.8028643578643,
          945.09,
          881.4850009796239,
          492.6184172372811,
          237.26,
          268.54999999999995,
          447.4276882435594,
          1688.9,
          197.1020833333333,
          161.89046520146522,
          111.18306526806526,
          189.5535,
          552.395,
          171.92499999999998,
          235.63499999999996,
          227.1841111111111,
          298.50750000000005,
          null,
          190.8,
          95.99100000000001,
          1052.4540000000002,
          258.1196929824562,
          1327.4877500000002,
          121.18,
          134.33166666666665,
          193.68360995475115,
          597.94,
          551.46,
          745.8983153907496,
          886.4,
          null,
          173.25,
          203.975,
          259.56062664921905,
          120.77661111111111,
          null,
          126.27333333333337,
          281.050404040404,
          null,
          145.48425403225804,
          345.03000000000003,
          290.32000000000005,
          338.05,
          null,
          56.348295454545465,
          981.2268849782292,
          667.3600000000001,
          691.670054896794,
          169.29622222222224,
          370.2800000000001,
          439.01126677716843,
          null,
          135.347086078173,
          779.339361904762,
          308.8616666666666,
          48.57260894145334,
          384.48800000000006,
          1184.3174999999999,
          204.40900000000008,
          181.0781617647059,
          169.25516797825492,
          382.76124117537603,
          534.3917345259391,
          423.47833333333335,
          985.875,
          null,
          209.16331352628134,
          291.83931566247367,
          312.27,
          567.66,
          null,
          288.98,
          247.85999999999996,
          null,
          483.17,
          192.16000000000003,
          296.73386437908493,
          485.74333333333334,
          148.23076643450634,
          781.33,
          113.29,
          2042.31,
          775.4749999999999,
          390.653458078572,
          365.166949002849,
          683.2100000000002,
          91.01333333333334,
          352.66158318670574,
          348.07602341686305,
          1717.22,
          557.5059929320565,
          46.694875,
          161.1833333333333,
          261.37000000000006,
          194.585,
          623.5166641123883,
          1319.1012140944572,
          93.85207692307692,
          276.2342377622377,
          225.965,
          248.90419047619045,
          184.05842565145792,
          637.51,
          106.17,
          null,
          366.8620833333333,
          101.26127477785373,
          118.6351161524501,
          379.91749999999996,
          null,
          null,
          104.64833333333331,
          158.17125629113434,
          1579.234,
          815.4250079754557,
          1267.6760552022163,
          360.39590476190483,
          172.18001190476193,
          null,
          null,
          201.746106442577,
          207.58074021953277,
          108.332,
          176.42399999999998,
          226.70374999999999
         ]
        }
       ],
       "layout": {
        "coloraxis": {
         "colorbar": {
          "title": {
           "text": "average_cost_lower"
          }
         },
         "colorscale": [
          [
           0,
           "#0d0887"
          ],
          [
           0.1111111111111111,
           "#46039f"
          ],
          [
           0.2222222222222222,
           "#7201a8"
          ],
          [
           0.3333333333333333,
           "#9c179e"
          ],
          [
           0.4444444444444444,
           "#bd3786"
          ],
          [
           0.5555555555555556,
           "#d8576b"
          ],
          [
           0.6666666666666666,
           "#ed7953"
          ],
          [
           0.7777777777777778,
           "#fb9f3a"
          ],
          [
           0.8888888888888888,
           "#fdca26"
          ],
          [
           1,
           "#f0f921"
          ]
         ]
        },
        "geo": {
         "center": {},
         "domain": {
          "x": [
           0,
           1
          ],
          "y": [
           0,
           1
          ]
         },
         "scope": "world"
        },
        "legend": {
         "tracegroupgap": 0
        },
        "margin": {
         "t": 60
        },
        "template": {
         "data": {
          "bar": [
           {
            "error_x": {
             "color": "#2a3f5f"
            },
            "error_y": {
             "color": "#2a3f5f"
            },
            "marker": {
             "line": {
              "color": "#E5ECF6",
              "width": 0.5
             },
             "pattern": {
              "fillmode": "overlay",
              "size": 10,
              "solidity": 0.2
             }
            },
            "type": "bar"
           }
          ],
          "barpolar": [
           {
            "marker": {
             "line": {
              "color": "#E5ECF6",
              "width": 0.5
             },
             "pattern": {
              "fillmode": "overlay",
              "size": 10,
              "solidity": 0.2
             }
            },
            "type": "barpolar"
           }
          ],
          "carpet": [
           {
            "aaxis": {
             "endlinecolor": "#2a3f5f",
             "gridcolor": "white",
             "linecolor": "white",
             "minorgridcolor": "white",
             "startlinecolor": "#2a3f5f"
            },
            "baxis": {
             "endlinecolor": "#2a3f5f",
             "gridcolor": "white",
             "linecolor": "white",
             "minorgridcolor": "white",
             "startlinecolor": "#2a3f5f"
            },
            "type": "carpet"
           }
          ],
          "choropleth": [
           {
            "colorbar": {
             "outlinewidth": 0,
             "ticks": ""
            },
            "type": "choropleth"
           }
          ],
          "contour": [
           {
            "colorbar": {
             "outlinewidth": 0,
             "ticks": ""
            },
            "colorscale": [
             [
              0,
              "#0d0887"
             ],
             [
              0.1111111111111111,
              "#46039f"
             ],
             [
              0.2222222222222222,
              "#7201a8"
             ],
             [
              0.3333333333333333,
              "#9c179e"
             ],
             [
              0.4444444444444444,
              "#bd3786"
             ],
             [
              0.5555555555555556,
              "#d8576b"
             ],
             [
              0.6666666666666666,
              "#ed7953"
             ],
             [
              0.7777777777777778,
              "#fb9f3a"
             ],
             [
              0.8888888888888888,
              "#fdca26"
             ],
             [
              1,
              "#f0f921"
             ]
            ],
            "type": "contour"
           }
          ],
          "contourcarpet": [
           {
            "colorbar": {
             "outlinewidth": 0,
             "ticks": ""
            },
            "type": "contourcarpet"
           }
          ],
          "heatmap": [
           {
            "colorbar": {
             "outlinewidth": 0,
             "ticks": ""
            },
            "colorscale": [
             [
              0,
              "#0d0887"
             ],
             [
              0.1111111111111111,
              "#46039f"
             ],
             [
              0.2222222222222222,
              "#7201a8"
             ],
             [
              0.3333333333333333,
              "#9c179e"
             ],
             [
              0.4444444444444444,
              "#bd3786"
             ],
             [
              0.5555555555555556,
              "#d8576b"
             ],
             [
              0.6666666666666666,
              "#ed7953"
             ],
             [
              0.7777777777777778,
              "#fb9f3a"
             ],
             [
              0.8888888888888888,
              "#fdca26"
             ],
             [
              1,
              "#f0f921"
             ]
            ],
            "type": "heatmap"
           }
          ],
          "heatmapgl": [
           {
            "colorbar": {
             "outlinewidth": 0,
             "ticks": ""
            },
            "colorscale": [
             [
              0,
              "#0d0887"
             ],
             [
              0.1111111111111111,
              "#46039f"
             ],
             [
              0.2222222222222222,
              "#7201a8"
             ],
             [
              0.3333333333333333,
              "#9c179e"
             ],
             [
              0.4444444444444444,
              "#bd3786"
             ],
             [
              0.5555555555555556,
              "#d8576b"
             ],
             [
              0.6666666666666666,
              "#ed7953"
             ],
             [
              0.7777777777777778,
              "#fb9f3a"
             ],
             [
              0.8888888888888888,
              "#fdca26"
             ],
             [
              1,
              "#f0f921"
             ]
            ],
            "type": "heatmapgl"
           }
          ],
          "histogram": [
           {
            "marker": {
             "pattern": {
              "fillmode": "overlay",
              "size": 10,
              "solidity": 0.2
             }
            },
            "type": "histogram"
           }
          ],
          "histogram2d": [
           {
            "colorbar": {
             "outlinewidth": 0,
             "ticks": ""
            },
            "colorscale": [
             [
              0,
              "#0d0887"
             ],
             [
              0.1111111111111111,
              "#46039f"
             ],
             [
              0.2222222222222222,
              "#7201a8"
             ],
             [
              0.3333333333333333,
              "#9c179e"
             ],
             [
              0.4444444444444444,
              "#bd3786"
             ],
             [
              0.5555555555555556,
              "#d8576b"
             ],
             [
              0.6666666666666666,
              "#ed7953"
             ],
             [
              0.7777777777777778,
              "#fb9f3a"
             ],
             [
              0.8888888888888888,
              "#fdca26"
             ],
             [
              1,
              "#f0f921"
             ]
            ],
            "type": "histogram2d"
           }
          ],
          "histogram2dcontour": [
           {
            "colorbar": {
             "outlinewidth": 0,
             "ticks": ""
            },
            "colorscale": [
             [
              0,
              "#0d0887"
             ],
             [
              0.1111111111111111,
              "#46039f"
             ],
             [
              0.2222222222222222,
              "#7201a8"
             ],
             [
              0.3333333333333333,
              "#9c179e"
             ],
             [
              0.4444444444444444,
              "#bd3786"
             ],
             [
              0.5555555555555556,
              "#d8576b"
             ],
             [
              0.6666666666666666,
              "#ed7953"
             ],
             [
              0.7777777777777778,
              "#fb9f3a"
             ],
             [
              0.8888888888888888,
              "#fdca26"
             ],
             [
              1,
              "#f0f921"
             ]
            ],
            "type": "histogram2dcontour"
           }
          ],
          "mesh3d": [
           {
            "colorbar": {
             "outlinewidth": 0,
             "ticks": ""
            },
            "type": "mesh3d"
           }
          ],
          "parcoords": [
           {
            "line": {
             "colorbar": {
              "outlinewidth": 0,
              "ticks": ""
             }
            },
            "type": "parcoords"
           }
          ],
          "pie": [
           {
            "automargin": true,
            "type": "pie"
           }
          ],
          "scatter": [
           {
            "fillpattern": {
             "fillmode": "overlay",
             "size": 10,
             "solidity": 0.2
            },
            "type": "scatter"
           }
          ],
          "scatter3d": [
           {
            "line": {
             "colorbar": {
              "outlinewidth": 0,
              "ticks": ""
             }
            },
            "marker": {
             "colorbar": {
              "outlinewidth": 0,
              "ticks": ""
             }
            },
            "type": "scatter3d"
           }
          ],
          "scattercarpet": [
           {
            "marker": {
             "colorbar": {
              "outlinewidth": 0,
              "ticks": ""
             }
            },
            "type": "scattercarpet"
           }
          ],
          "scattergeo": [
           {
            "marker": {
             "colorbar": {
              "outlinewidth": 0,
              "ticks": ""
             }
            },
            "type": "scattergeo"
           }
          ],
          "scattergl": [
           {
            "marker": {
             "colorbar": {
              "outlinewidth": 0,
              "ticks": ""
             }
            },
            "type": "scattergl"
           }
          ],
          "scattermapbox": [
           {
            "marker": {
             "colorbar": {
              "outlinewidth": 0,
              "ticks": ""
             }
            },
            "type": "scattermapbox"
           }
          ],
          "scatterpolar": [
           {
            "marker": {
             "colorbar": {
              "outlinewidth": 0,
              "ticks": ""
             }
            },
            "type": "scatterpolar"
           }
          ],
          "scatterpolargl": [
           {
            "marker": {
             "colorbar": {
              "outlinewidth": 0,
              "ticks": ""
             }
            },
            "type": "scatterpolargl"
           }
          ],
          "scatterternary": [
           {
            "marker": {
             "colorbar": {
              "outlinewidth": 0,
              "ticks": ""
             }
            },
            "type": "scatterternary"
           }
          ],
          "surface": [
           {
            "colorbar": {
             "outlinewidth": 0,
             "ticks": ""
            },
            "colorscale": [
             [
              0,
              "#0d0887"
             ],
             [
              0.1111111111111111,
              "#46039f"
             ],
             [
              0.2222222222222222,
              "#7201a8"
             ],
             [
              0.3333333333333333,
              "#9c179e"
             ],
             [
              0.4444444444444444,
              "#bd3786"
             ],
             [
              0.5555555555555556,
              "#d8576b"
             ],
             [
              0.6666666666666666,
              "#ed7953"
             ],
             [
              0.7777777777777778,
              "#fb9f3a"
             ],
             [
              0.8888888888888888,
              "#fdca26"
             ],
             [
              1,
              "#f0f921"
             ]
            ],
            "type": "surface"
           }
          ],
          "table": [
           {
            "cells": {
             "fill": {
              "color": "#EBF0F8"
             },
             "line": {
              "color": "white"
             }
            },
            "header": {
             "fill": {
              "color": "#C8D4E3"
             },
             "line": {
              "color": "white"
             }
            },
            "type": "table"
           }
          ]
         },
         "layout": {
          "annotationdefaults": {
           "arrowcolor": "#2a3f5f",
           "arrowhead": 0,
           "arrowwidth": 1
          },
          "autotypenumbers": "strict",
          "coloraxis": {
           "colorbar": {
            "outlinewidth": 0,
            "ticks": ""
           }
          },
          "colorscale": {
           "diverging": [
            [
             0,
             "#8e0152"
            ],
            [
             0.1,
             "#c51b7d"
            ],
            [
             0.2,
             "#de77ae"
            ],
            [
             0.3,
             "#f1b6da"
            ],
            [
             0.4,
             "#fde0ef"
            ],
            [
             0.5,
             "#f7f7f7"
            ],
            [
             0.6,
             "#e6f5d0"
            ],
            [
             0.7,
             "#b8e186"
            ],
            [
             0.8,
             "#7fbc41"
            ],
            [
             0.9,
             "#4d9221"
            ],
            [
             1,
             "#276419"
            ]
           ],
           "sequential": [
            [
             0,
             "#0d0887"
            ],
            [
             0.1111111111111111,
             "#46039f"
            ],
            [
             0.2222222222222222,
             "#7201a8"
            ],
            [
             0.3333333333333333,
             "#9c179e"
            ],
            [
             0.4444444444444444,
             "#bd3786"
            ],
            [
             0.5555555555555556,
             "#d8576b"
            ],
            [
             0.6666666666666666,
             "#ed7953"
            ],
            [
             0.7777777777777778,
             "#fb9f3a"
            ],
            [
             0.8888888888888888,
             "#fdca26"
            ],
            [
             1,
             "#f0f921"
            ]
           ],
           "sequentialminus": [
            [
             0,
             "#0d0887"
            ],
            [
             0.1111111111111111,
             "#46039f"
            ],
            [
             0.2222222222222222,
             "#7201a8"
            ],
            [
             0.3333333333333333,
             "#9c179e"
            ],
            [
             0.4444444444444444,
             "#bd3786"
            ],
            [
             0.5555555555555556,
             "#d8576b"
            ],
            [
             0.6666666666666666,
             "#ed7953"
            ],
            [
             0.7777777777777778,
             "#fb9f3a"
            ],
            [
             0.8888888888888888,
             "#fdca26"
            ],
            [
             1,
             "#f0f921"
            ]
           ]
          },
          "colorway": [
           "#636efa",
           "#EF553B",
           "#00cc96",
           "#ab63fa",
           "#FFA15A",
           "#19d3f3",
           "#FF6692",
           "#B6E880",
           "#FF97FF",
           "#FECB52"
          ],
          "font": {
           "color": "#2a3f5f"
          },
          "geo": {
           "bgcolor": "white",
           "lakecolor": "white",
           "landcolor": "#E5ECF6",
           "showlakes": true,
           "showland": true,
           "subunitcolor": "white"
          },
          "hoverlabel": {
           "align": "left"
          },
          "hovermode": "closest",
          "mapbox": {
           "style": "light"
          },
          "paper_bgcolor": "white",
          "plot_bgcolor": "#E5ECF6",
          "polar": {
           "angularaxis": {
            "gridcolor": "white",
            "linecolor": "white",
            "ticks": ""
           },
           "bgcolor": "#E5ECF6",
           "radialaxis": {
            "gridcolor": "white",
            "linecolor": "white",
            "ticks": ""
           }
          },
          "scene": {
           "xaxis": {
            "backgroundcolor": "#E5ECF6",
            "gridcolor": "white",
            "gridwidth": 2,
            "linecolor": "white",
            "showbackground": true,
            "ticks": "",
            "zerolinecolor": "white"
           },
           "yaxis": {
            "backgroundcolor": "#E5ECF6",
            "gridcolor": "white",
            "gridwidth": 2,
            "linecolor": "white",
            "showbackground": true,
            "ticks": "",
            "zerolinecolor": "white"
           },
           "zaxis": {
            "backgroundcolor": "#E5ECF6",
            "gridcolor": "white",
            "gridwidth": 2,
            "linecolor": "white",
            "showbackground": true,
            "ticks": "",
            "zerolinecolor": "white"
           }
          },
          "shapedefaults": {
           "line": {
            "color": "#2a3f5f"
           }
          },
          "ternary": {
           "aaxis": {
            "gridcolor": "white",
            "linecolor": "white",
            "ticks": ""
           },
           "baxis": {
            "gridcolor": "white",
            "linecolor": "white",
            "ticks": ""
           },
           "bgcolor": "#E5ECF6",
           "caxis": {
            "gridcolor": "white",
            "linecolor": "white",
            "ticks": ""
           }
          },
          "title": {
           "x": 0.05
          },
          "xaxis": {
           "automargin": true,
           "gridcolor": "white",
           "linecolor": "white",
           "ticks": "",
           "title": {
            "standoff": 15
           },
           "zerolinecolor": "white",
           "zerolinewidth": 2
          },
          "yaxis": {
           "automargin": true,
           "gridcolor": "white",
           "linecolor": "white",
           "ticks": "",
           "title": {
            "standoff": 15
           },
           "zerolinecolor": "white",
           "zerolinewidth": 2
          }
         }
        }
       }
      }
     },
     "metadata": {},
     "output_type": "display_data"
    }
   ],
   "source": [
    "import plotly.express as px\n",
    "import pandas as pd\n",
    "\n",
    "\n",
    "\n",
    "# Create a Plotly world map with country codes\n",
    "fig = px.choropleth(data_frame=data,\n",
    "                    locations='code',\n",
    "                    locationmode='ISO-3',\n",
    "                    color='average_cost_lower',\n",
    "                    scope='world')\n",
    "\n",
    "fig.show()"
   ]
  },
  {
   "cell_type": "code",
   "execution_count": 51,
   "metadata": {},
   "outputs": [
    {
     "data": {
      "text/plain": [
       "[1, 2, 3, 4, 5, 6, 7, 8]"
      ]
     },
     "execution_count": 51,
     "metadata": {},
     "output_type": "execute_result"
    }
   ],
   "source": [
    "meals"
   ]
  },
  {
   "cell_type": "code",
   "execution_count": 50,
   "metadata": {},
   "outputs": [],
   "source": [
    "#data.to_csv(os.path.join(data_path, 'dataset_alpha.csv'), index=False)"
   ]
  },
  {
   "attachments": {},
   "cell_type": "markdown",
   "metadata": {},
   "source": [
    "### Adding ontinent names to dataset"
   ]
  },
  {
   "cell_type": "code",
   "execution_count": 20,
   "metadata": {},
   "outputs": [
    {
     "data": {
      "text/html": [
       "<div>\n",
       "<style scoped>\n",
       "    .dataframe tbody tr th:only-of-type {\n",
       "        vertical-align: middle;\n",
       "    }\n",
       "\n",
       "    .dataframe tbody tr th {\n",
       "        vertical-align: top;\n",
       "    }\n",
       "\n",
       "    .dataframe thead th {\n",
       "        text-align: right;\n",
       "    }\n",
       "</style>\n",
       "<table border=\"1\" class=\"dataframe\">\n",
       "  <thead>\n",
       "    <tr style=\"text-align: right;\">\n",
       "      <th></th>\n",
       "      <th>country</th>\n",
       "      <th>x1</th>\n",
       "      <th>x2</th>\n",
       "      <th>x3</th>\n",
       "      <th>x4</th>\n",
       "      <th>x5</th>\n",
       "      <th>x6</th>\n",
       "      <th>x7</th>\n",
       "      <th>x8</th>\n",
       "      <th>x23</th>\n",
       "      <th>...</th>\n",
       "      <th>pop_0_14_%</th>\n",
       "      <th>pop_0_14_%_female</th>\n",
       "      <th>pop_0_14_%_male</th>\n",
       "      <th>pop_15_64_%</th>\n",
       "      <th>pop_15_64_%_female</th>\n",
       "      <th>pop_15_64_%_male</th>\n",
       "      <th>pop_65_plus_%</th>\n",
       "      <th>pop_65_plus_%_female</th>\n",
       "      <th>pop_65_plus_%_male</th>\n",
       "      <th>continent</th>\n",
       "    </tr>\n",
       "  </thead>\n",
       "  <tbody>\n",
       "    <tr>\n",
       "      <th>0</th>\n",
       "      <td>Afghanistan</td>\n",
       "      <td>1.690000</td>\n",
       "      <td>6.870000</td>\n",
       "      <td>2.977500</td>\n",
       "      <td>2.260000</td>\n",
       "      <td>NaN</td>\n",
       "      <td>0.597500</td>\n",
       "      <td>0.327500</td>\n",
       "      <td>0.140000</td>\n",
       "      <td>0.226000</td>\n",
       "      <td>...</td>\n",
       "      <td>43.424543</td>\n",
       "      <td>42.836470</td>\n",
       "      <td>44.000703</td>\n",
       "      <td>54.171399</td>\n",
       "      <td>54.395516</td>\n",
       "      <td>53.951822</td>\n",
       "      <td>2.404058</td>\n",
       "      <td>2.768015</td>\n",
       "      <td>2.047475</td>\n",
       "      <td>Asia</td>\n",
       "    </tr>\n",
       "    <tr>\n",
       "      <th>1</th>\n",
       "      <td>Albania</td>\n",
       "      <td>4.460000</td>\n",
       "      <td>25.532000</td>\n",
       "      <td>4.223333</td>\n",
       "      <td>1.378667</td>\n",
       "      <td>1.842667</td>\n",
       "      <td>1.198667</td>\n",
       "      <td>1.148667</td>\n",
       "      <td>0.604000</td>\n",
       "      <td>0.534000</td>\n",
       "      <td>...</td>\n",
       "      <td>16.281724</td>\n",
       "      <td>15.945701</td>\n",
       "      <td>16.618407</td>\n",
       "      <td>67.484035</td>\n",
       "      <td>67.366308</td>\n",
       "      <td>67.601993</td>\n",
       "      <td>16.234241</td>\n",
       "      <td>16.687991</td>\n",
       "      <td>15.779600</td>\n",
       "      <td>Europe</td>\n",
       "    </tr>\n",
       "    <tr>\n",
       "      <th>2</th>\n",
       "      <td>Algeria</td>\n",
       "      <td>1.956562</td>\n",
       "      <td>13.983750</td>\n",
       "      <td>2.830000</td>\n",
       "      <td>1.419615</td>\n",
       "      <td>1.627778</td>\n",
       "      <td>0.507333</td>\n",
       "      <td>0.489091</td>\n",
       "      <td>0.198788</td>\n",
       "      <td>0.270294</td>\n",
       "      <td>...</td>\n",
       "      <td>30.712077</td>\n",
       "      <td>30.617768</td>\n",
       "      <td>30.802962</td>\n",
       "      <td>63.105923</td>\n",
       "      <td>62.825857</td>\n",
       "      <td>63.375825</td>\n",
       "      <td>6.182000</td>\n",
       "      <td>6.556375</td>\n",
       "      <td>5.821213</td>\n",
       "      <td>Africa</td>\n",
       "    </tr>\n",
       "    <tr>\n",
       "      <th>3</th>\n",
       "      <td>American Samoa</td>\n",
       "      <td>23.820000</td>\n",
       "      <td>6.660000</td>\n",
       "      <td>22.130000</td>\n",
       "      <td>1.910000</td>\n",
       "      <td>1.910000</td>\n",
       "      <td>1.000000</td>\n",
       "      <td>1.190000</td>\n",
       "      <td>2.110000</td>\n",
       "      <td>NaN</td>\n",
       "      <td>...</td>\n",
       "      <td>27.511935</td>\n",
       "      <td>26.431021</td>\n",
       "      <td>28.615012</td>\n",
       "      <td>65.643388</td>\n",
       "      <td>65.910490</td>\n",
       "      <td>65.370811</td>\n",
       "      <td>6.844676</td>\n",
       "      <td>7.658489</td>\n",
       "      <td>6.014177</td>\n",
       "      <td>Oceania</td>\n",
       "    </tr>\n",
       "    <tr>\n",
       "      <th>4</th>\n",
       "      <td>Andorra</td>\n",
       "      <td>13.173333</td>\n",
       "      <td>40.920000</td>\n",
       "      <td>7.010000</td>\n",
       "      <td>2.073333</td>\n",
       "      <td>2.600000</td>\n",
       "      <td>1.380000</td>\n",
       "      <td>1.713333</td>\n",
       "      <td>1.370000</td>\n",
       "      <td>0.760000</td>\n",
       "      <td>...</td>\n",
       "      <td>13.074753</td>\n",
       "      <td>13.063209</td>\n",
       "      <td>13.085814</td>\n",
       "      <td>72.389731</td>\n",
       "      <td>71.570972</td>\n",
       "      <td>73.174267</td>\n",
       "      <td>14.535516</td>\n",
       "      <td>15.365819</td>\n",
       "      <td>13.739919</td>\n",
       "      <td>Europe</td>\n",
       "    </tr>\n",
       "    <tr>\n",
       "      <th>...</th>\n",
       "      <td>...</td>\n",
       "      <td>...</td>\n",
       "      <td>...</td>\n",
       "      <td>...</td>\n",
       "      <td>...</td>\n",
       "      <td>...</td>\n",
       "      <td>...</td>\n",
       "      <td>...</td>\n",
       "      <td>...</td>\n",
       "      <td>...</td>\n",
       "      <td>...</td>\n",
       "      <td>...</td>\n",
       "      <td>...</td>\n",
       "      <td>...</td>\n",
       "      <td>...</td>\n",
       "      <td>...</td>\n",
       "      <td>...</td>\n",
       "      <td>...</td>\n",
       "      <td>...</td>\n",
       "      <td>...</td>\n",
       "      <td>...</td>\n",
       "    </tr>\n",
       "    <tr>\n",
       "      <th>210</th>\n",
       "      <td>Venezuela</td>\n",
       "      <td>8.618824</td>\n",
       "      <td>32.763333</td>\n",
       "      <td>9.021765</td>\n",
       "      <td>1.442353</td>\n",
       "      <td>2.205882</td>\n",
       "      <td>1.928824</td>\n",
       "      <td>1.110000</td>\n",
       "      <td>0.799412</td>\n",
       "      <td>1.235714</td>\n",
       "      <td>...</td>\n",
       "      <td>28.170727</td>\n",
       "      <td>27.150558</td>\n",
       "      <td>29.211820</td>\n",
       "      <td>63.491136</td>\n",
       "      <td>63.327932</td>\n",
       "      <td>63.657687</td>\n",
       "      <td>8.338137</td>\n",
       "      <td>9.521510</td>\n",
       "      <td>7.130493</td>\n",
       "      <td>South America</td>\n",
       "    </tr>\n",
       "    <tr>\n",
       "      <th>211</th>\n",
       "      <td>Vietnam</td>\n",
       "      <td>2.115882</td>\n",
       "      <td>18.662353</td>\n",
       "      <td>4.231429</td>\n",
       "      <td>0.790625</td>\n",
       "      <td>1.542353</td>\n",
       "      <td>1.689412</td>\n",
       "      <td>0.478824</td>\n",
       "      <td>0.281176</td>\n",
       "      <td>0.640526</td>\n",
       "      <td>...</td>\n",
       "      <td>22.545150</td>\n",
       "      <td>21.130319</td>\n",
       "      <td>23.995125</td>\n",
       "      <td>68.701716</td>\n",
       "      <td>68.456868</td>\n",
       "      <td>68.952645</td>\n",
       "      <td>8.753134</td>\n",
       "      <td>10.412813</td>\n",
       "      <td>7.052230</td>\n",
       "      <td>Asia</td>\n",
       "    </tr>\n",
       "    <tr>\n",
       "      <th>212</th>\n",
       "      <td>Yemen</td>\n",
       "      <td>6.150000</td>\n",
       "      <td>32.616667</td>\n",
       "      <td>11.158333</td>\n",
       "      <td>2.265000</td>\n",
       "      <td>2.282500</td>\n",
       "      <td>2.540000</td>\n",
       "      <td>1.610000</td>\n",
       "      <td>0.660000</td>\n",
       "      <td>1.072000</td>\n",
       "      <td>...</td>\n",
       "      <td>39.872107</td>\n",
       "      <td>39.344254</td>\n",
       "      <td>40.388712</td>\n",
       "      <td>57.438854</td>\n",
       "      <td>57.554137</td>\n",
       "      <td>57.326028</td>\n",
       "      <td>2.689038</td>\n",
       "      <td>3.101609</td>\n",
       "      <td>2.285260</td>\n",
       "      <td>Asia</td>\n",
       "    </tr>\n",
       "    <tr>\n",
       "      <th>213</th>\n",
       "      <td>Zambia</td>\n",
       "      <td>2.988000</td>\n",
       "      <td>18.370000</td>\n",
       "      <td>3.170000</td>\n",
       "      <td>1.152000</td>\n",
       "      <td>1.494000</td>\n",
       "      <td>1.742000</td>\n",
       "      <td>0.822000</td>\n",
       "      <td>0.458000</td>\n",
       "      <td>0.890000</td>\n",
       "      <td>...</td>\n",
       "      <td>43.262363</td>\n",
       "      <td>42.711936</td>\n",
       "      <td>43.827404</td>\n",
       "      <td>54.998707</td>\n",
       "      <td>55.174338</td>\n",
       "      <td>54.818413</td>\n",
       "      <td>1.738930</td>\n",
       "      <td>2.113726</td>\n",
       "      <td>1.354183</td>\n",
       "      <td>Africa</td>\n",
       "    </tr>\n",
       "    <tr>\n",
       "      <th>214</th>\n",
       "      <td>Zimbabwe</td>\n",
       "      <td>6.843750</td>\n",
       "      <td>36.250000</td>\n",
       "      <td>6.187500</td>\n",
       "      <td>1.318750</td>\n",
       "      <td>1.971429</td>\n",
       "      <td>2.285000</td>\n",
       "      <td>0.665000</td>\n",
       "      <td>0.470000</td>\n",
       "      <td>0.981250</td>\n",
       "      <td>...</td>\n",
       "      <td>40.893305</td>\n",
       "      <td>38.759415</td>\n",
       "      <td>43.283516</td>\n",
       "      <td>55.743353</td>\n",
       "      <td>57.424404</td>\n",
       "      <td>53.860375</td>\n",
       "      <td>3.363343</td>\n",
       "      <td>3.816182</td>\n",
       "      <td>2.856109</td>\n",
       "      <td>Africa</td>\n",
       "    </tr>\n",
       "  </tbody>\n",
       "</table>\n",
       "<p>215 rows × 36 columns</p>\n",
       "</div>"
      ],
      "text/plain": [
       "            country         x1         x2         x3        x4        x5  \\\n",
       "0       Afghanistan   1.690000   6.870000   2.977500  2.260000       NaN   \n",
       "1           Albania   4.460000  25.532000   4.223333  1.378667  1.842667   \n",
       "2           Algeria   1.956562  13.983750   2.830000  1.419615  1.627778   \n",
       "3    American Samoa  23.820000   6.660000  22.130000  1.910000  1.910000   \n",
       "4           Andorra  13.173333  40.920000   7.010000  2.073333  2.600000   \n",
       "..              ...        ...        ...        ...       ...       ...   \n",
       "210       Venezuela   8.618824  32.763333   9.021765  1.442353  2.205882   \n",
       "211         Vietnam   2.115882  18.662353   4.231429  0.790625  1.542353   \n",
       "212           Yemen   6.150000  32.616667  11.158333  2.265000  2.282500   \n",
       "213          Zambia   2.988000  18.370000   3.170000  1.152000  1.494000   \n",
       "214        Zimbabwe   6.843750  36.250000   6.187500  1.318750  1.971429   \n",
       "\n",
       "           x6        x7        x8       x23  ...  pop_0_14_%  \\\n",
       "0    0.597500  0.327500  0.140000  0.226000  ...   43.424543   \n",
       "1    1.198667  1.148667  0.604000  0.534000  ...   16.281724   \n",
       "2    0.507333  0.489091  0.198788  0.270294  ...   30.712077   \n",
       "3    1.000000  1.190000  2.110000       NaN  ...   27.511935   \n",
       "4    1.380000  1.713333  1.370000  0.760000  ...   13.074753   \n",
       "..        ...       ...       ...       ...  ...         ...   \n",
       "210  1.928824  1.110000  0.799412  1.235714  ...   28.170727   \n",
       "211  1.689412  0.478824  0.281176  0.640526  ...   22.545150   \n",
       "212  2.540000  1.610000  0.660000  1.072000  ...   39.872107   \n",
       "213  1.742000  0.822000  0.458000  0.890000  ...   43.262363   \n",
       "214  2.285000  0.665000  0.470000  0.981250  ...   40.893305   \n",
       "\n",
       "     pop_0_14_%_female  pop_0_14_%_male  pop_15_64_%  pop_15_64_%_female  \\\n",
       "0            42.836470        44.000703    54.171399           54.395516   \n",
       "1            15.945701        16.618407    67.484035           67.366308   \n",
       "2            30.617768        30.802962    63.105923           62.825857   \n",
       "3            26.431021        28.615012    65.643388           65.910490   \n",
       "4            13.063209        13.085814    72.389731           71.570972   \n",
       "..                 ...              ...          ...                 ...   \n",
       "210          27.150558        29.211820    63.491136           63.327932   \n",
       "211          21.130319        23.995125    68.701716           68.456868   \n",
       "212          39.344254        40.388712    57.438854           57.554137   \n",
       "213          42.711936        43.827404    54.998707           55.174338   \n",
       "214          38.759415        43.283516    55.743353           57.424404   \n",
       "\n",
       "     pop_15_64_%_male  pop_65_plus_%  pop_65_plus_%_female  \\\n",
       "0           53.951822       2.404058              2.768015   \n",
       "1           67.601993      16.234241             16.687991   \n",
       "2           63.375825       6.182000              6.556375   \n",
       "3           65.370811       6.844676              7.658489   \n",
       "4           73.174267      14.535516             15.365819   \n",
       "..                ...            ...                   ...   \n",
       "210         63.657687       8.338137              9.521510   \n",
       "211         68.952645       8.753134             10.412813   \n",
       "212         57.326028       2.689038              3.101609   \n",
       "213         54.818413       1.738930              2.113726   \n",
       "214         53.860375       3.363343              3.816182   \n",
       "\n",
       "     pop_65_plus_%_male      continent  \n",
       "0              2.047475           Asia  \n",
       "1             15.779600         Europe  \n",
       "2              5.821213         Africa  \n",
       "3              6.014177        Oceania  \n",
       "4             13.739919         Europe  \n",
       "..                  ...            ...  \n",
       "210            7.130493  South America  \n",
       "211            7.052230           Asia  \n",
       "212            2.285260           Asia  \n",
       "213            1.354183         Africa  \n",
       "214            2.856109         Africa  \n",
       "\n",
       "[215 rows x 36 columns]"
      ]
     },
     "execution_count": 20,
     "metadata": {},
     "output_type": "execute_result"
    }
   ],
   "source": [
    "path = os.path.join('..', 'data', 'dataset_alpha.csv')\n",
    "data = pd.read_csv(path)\n",
    "data"
   ]
  },
  {
   "cell_type": "code",
   "execution_count": 6,
   "metadata": {},
   "outputs": [],
   "source": [
    "from pycountry_convert import country_alpha2_to_continent_code, country_alpha3_to_country_alpha2\n",
    "\n",
    "def get_continent_from_country_code(country_code):\n",
    "    try:\n",
    "        alpha_2 = country_alpha3_to_country_alpha2(country_code)\n",
    "        continent_code = country_alpha2_to_continent_code(alpha_2)\n",
    "        continent_name = {\n",
    "            'AF': 'Africa',\n",
    "            'AN': 'Antarctica',\n",
    "            'AS': 'Asia',\n",
    "            'EU': 'Europe',\n",
    "            'NA': 'North America',\n",
    "            'OC': 'Oceania',\n",
    "            'SA': 'South America'\n",
    "        }[continent_code]\n",
    "        return continent_name\n",
    "    except:\n",
    "        return None\n",
    "\n",
    "countrys = (data.code).tolist()\n",
    "lista_continets = []\n",
    "for i in countrys:\n",
    "    continent = get_continent_from_country_code(i)\n",
    "    lista_continets.append(continent)\n",
    "#print(continent) \n",
    "\n",
    "data[\"continent\"] = lista_continets\n",
    "data.to_csv(os.path.join('..', 'data', 'dataset_alpha.csv'), index=False)"
   ]
  },
  {
   "cell_type": "code",
   "execution_count": 7,
   "metadata": {},
   "outputs": [
    {
     "data": {
      "text/html": [
       "<div>\n",
       "<style scoped>\n",
       "    .dataframe tbody tr th:only-of-type {\n",
       "        vertical-align: middle;\n",
       "    }\n",
       "\n",
       "    .dataframe tbody tr th {\n",
       "        vertical-align: top;\n",
       "    }\n",
       "\n",
       "    .dataframe thead th {\n",
       "        text-align: right;\n",
       "    }\n",
       "</style>\n",
       "<table border=\"1\" class=\"dataframe\">\n",
       "  <thead>\n",
       "    <tr style=\"text-align: right;\">\n",
       "      <th></th>\n",
       "      <th>country</th>\n",
       "      <th>x1</th>\n",
       "      <th>x2</th>\n",
       "      <th>x3</th>\n",
       "      <th>x4</th>\n",
       "      <th>x5</th>\n",
       "      <th>x6</th>\n",
       "      <th>x7</th>\n",
       "      <th>x8</th>\n",
       "      <th>x23</th>\n",
       "      <th>...</th>\n",
       "      <th>pop_0_14_%</th>\n",
       "      <th>pop_0_14_%_female</th>\n",
       "      <th>pop_0_14_%_male</th>\n",
       "      <th>pop_15_64_%</th>\n",
       "      <th>pop_15_64_%_female</th>\n",
       "      <th>pop_15_64_%_male</th>\n",
       "      <th>pop_65_plus_%</th>\n",
       "      <th>pop_65_plus_%_female</th>\n",
       "      <th>pop_65_plus_%_male</th>\n",
       "      <th>continent</th>\n",
       "    </tr>\n",
       "  </thead>\n",
       "  <tbody>\n",
       "    <tr>\n",
       "      <th>0</th>\n",
       "      <td>Afghanistan</td>\n",
       "      <td>1.690000</td>\n",
       "      <td>6.870000</td>\n",
       "      <td>2.977500</td>\n",
       "      <td>2.260000</td>\n",
       "      <td>NaN</td>\n",
       "      <td>0.597500</td>\n",
       "      <td>0.327500</td>\n",
       "      <td>0.140000</td>\n",
       "      <td>0.226000</td>\n",
       "      <td>...</td>\n",
       "      <td>43.424543</td>\n",
       "      <td>42.836470</td>\n",
       "      <td>44.000703</td>\n",
       "      <td>54.171399</td>\n",
       "      <td>54.395516</td>\n",
       "      <td>53.951822</td>\n",
       "      <td>2.404058</td>\n",
       "      <td>2.768015</td>\n",
       "      <td>2.047475</td>\n",
       "      <td>Asia</td>\n",
       "    </tr>\n",
       "    <tr>\n",
       "      <th>1</th>\n",
       "      <td>Albania</td>\n",
       "      <td>4.460000</td>\n",
       "      <td>25.532000</td>\n",
       "      <td>4.223333</td>\n",
       "      <td>1.378667</td>\n",
       "      <td>1.842667</td>\n",
       "      <td>1.198667</td>\n",
       "      <td>1.148667</td>\n",
       "      <td>0.604000</td>\n",
       "      <td>0.534000</td>\n",
       "      <td>...</td>\n",
       "      <td>16.281724</td>\n",
       "      <td>15.945701</td>\n",
       "      <td>16.618407</td>\n",
       "      <td>67.484035</td>\n",
       "      <td>67.366308</td>\n",
       "      <td>67.601993</td>\n",
       "      <td>16.234241</td>\n",
       "      <td>16.687991</td>\n",
       "      <td>15.779600</td>\n",
       "      <td>Europe</td>\n",
       "    </tr>\n",
       "    <tr>\n",
       "      <th>2</th>\n",
       "      <td>Algeria</td>\n",
       "      <td>1.956562</td>\n",
       "      <td>13.983750</td>\n",
       "      <td>2.830000</td>\n",
       "      <td>1.419615</td>\n",
       "      <td>1.627778</td>\n",
       "      <td>0.507333</td>\n",
       "      <td>0.489091</td>\n",
       "      <td>0.198788</td>\n",
       "      <td>0.270294</td>\n",
       "      <td>...</td>\n",
       "      <td>30.712077</td>\n",
       "      <td>30.617768</td>\n",
       "      <td>30.802962</td>\n",
       "      <td>63.105923</td>\n",
       "      <td>62.825857</td>\n",
       "      <td>63.375825</td>\n",
       "      <td>6.182000</td>\n",
       "      <td>6.556375</td>\n",
       "      <td>5.821213</td>\n",
       "      <td>Africa</td>\n",
       "    </tr>\n",
       "    <tr>\n",
       "      <th>3</th>\n",
       "      <td>American Samoa</td>\n",
       "      <td>23.820000</td>\n",
       "      <td>6.660000</td>\n",
       "      <td>22.130000</td>\n",
       "      <td>1.910000</td>\n",
       "      <td>1.910000</td>\n",
       "      <td>1.000000</td>\n",
       "      <td>1.190000</td>\n",
       "      <td>2.110000</td>\n",
       "      <td>NaN</td>\n",
       "      <td>...</td>\n",
       "      <td>27.511935</td>\n",
       "      <td>26.431021</td>\n",
       "      <td>28.615012</td>\n",
       "      <td>65.643388</td>\n",
       "      <td>65.910490</td>\n",
       "      <td>65.370811</td>\n",
       "      <td>6.844676</td>\n",
       "      <td>7.658489</td>\n",
       "      <td>6.014177</td>\n",
       "      <td>Oceania</td>\n",
       "    </tr>\n",
       "    <tr>\n",
       "      <th>4</th>\n",
       "      <td>Andorra</td>\n",
       "      <td>13.173333</td>\n",
       "      <td>40.920000</td>\n",
       "      <td>7.010000</td>\n",
       "      <td>2.073333</td>\n",
       "      <td>2.600000</td>\n",
       "      <td>1.380000</td>\n",
       "      <td>1.713333</td>\n",
       "      <td>1.370000</td>\n",
       "      <td>0.760000</td>\n",
       "      <td>...</td>\n",
       "      <td>13.074753</td>\n",
       "      <td>13.063209</td>\n",
       "      <td>13.085814</td>\n",
       "      <td>72.389731</td>\n",
       "      <td>71.570972</td>\n",
       "      <td>73.174267</td>\n",
       "      <td>14.535516</td>\n",
       "      <td>15.365819</td>\n",
       "      <td>13.739919</td>\n",
       "      <td>Europe</td>\n",
       "    </tr>\n",
       "    <tr>\n",
       "      <th>...</th>\n",
       "      <td>...</td>\n",
       "      <td>...</td>\n",
       "      <td>...</td>\n",
       "      <td>...</td>\n",
       "      <td>...</td>\n",
       "      <td>...</td>\n",
       "      <td>...</td>\n",
       "      <td>...</td>\n",
       "      <td>...</td>\n",
       "      <td>...</td>\n",
       "      <td>...</td>\n",
       "      <td>...</td>\n",
       "      <td>...</td>\n",
       "      <td>...</td>\n",
       "      <td>...</td>\n",
       "      <td>...</td>\n",
       "      <td>...</td>\n",
       "      <td>...</td>\n",
       "      <td>...</td>\n",
       "      <td>...</td>\n",
       "      <td>...</td>\n",
       "    </tr>\n",
       "    <tr>\n",
       "      <th>210</th>\n",
       "      <td>Venezuela</td>\n",
       "      <td>8.618824</td>\n",
       "      <td>32.763333</td>\n",
       "      <td>9.021765</td>\n",
       "      <td>1.442353</td>\n",
       "      <td>2.205882</td>\n",
       "      <td>1.928824</td>\n",
       "      <td>1.110000</td>\n",
       "      <td>0.799412</td>\n",
       "      <td>1.235714</td>\n",
       "      <td>...</td>\n",
       "      <td>28.170727</td>\n",
       "      <td>27.150558</td>\n",
       "      <td>29.211820</td>\n",
       "      <td>63.491136</td>\n",
       "      <td>63.327932</td>\n",
       "      <td>63.657687</td>\n",
       "      <td>8.338137</td>\n",
       "      <td>9.521510</td>\n",
       "      <td>7.130493</td>\n",
       "      <td>South America</td>\n",
       "    </tr>\n",
       "    <tr>\n",
       "      <th>211</th>\n",
       "      <td>Vietnam</td>\n",
       "      <td>2.115882</td>\n",
       "      <td>18.662353</td>\n",
       "      <td>4.231429</td>\n",
       "      <td>0.790625</td>\n",
       "      <td>1.542353</td>\n",
       "      <td>1.689412</td>\n",
       "      <td>0.478824</td>\n",
       "      <td>0.281176</td>\n",
       "      <td>0.640526</td>\n",
       "      <td>...</td>\n",
       "      <td>22.545150</td>\n",
       "      <td>21.130319</td>\n",
       "      <td>23.995125</td>\n",
       "      <td>68.701716</td>\n",
       "      <td>68.456868</td>\n",
       "      <td>68.952645</td>\n",
       "      <td>8.753134</td>\n",
       "      <td>10.412813</td>\n",
       "      <td>7.052230</td>\n",
       "      <td>Asia</td>\n",
       "    </tr>\n",
       "    <tr>\n",
       "      <th>212</th>\n",
       "      <td>Yemen</td>\n",
       "      <td>6.150000</td>\n",
       "      <td>32.616667</td>\n",
       "      <td>11.158333</td>\n",
       "      <td>2.265000</td>\n",
       "      <td>2.282500</td>\n",
       "      <td>2.540000</td>\n",
       "      <td>1.610000</td>\n",
       "      <td>0.660000</td>\n",
       "      <td>1.072000</td>\n",
       "      <td>...</td>\n",
       "      <td>39.872107</td>\n",
       "      <td>39.344254</td>\n",
       "      <td>40.388712</td>\n",
       "      <td>57.438854</td>\n",
       "      <td>57.554137</td>\n",
       "      <td>57.326028</td>\n",
       "      <td>2.689038</td>\n",
       "      <td>3.101609</td>\n",
       "      <td>2.285260</td>\n",
       "      <td>Asia</td>\n",
       "    </tr>\n",
       "    <tr>\n",
       "      <th>213</th>\n",
       "      <td>Zambia</td>\n",
       "      <td>2.988000</td>\n",
       "      <td>18.370000</td>\n",
       "      <td>3.170000</td>\n",
       "      <td>1.152000</td>\n",
       "      <td>1.494000</td>\n",
       "      <td>1.742000</td>\n",
       "      <td>0.822000</td>\n",
       "      <td>0.458000</td>\n",
       "      <td>0.890000</td>\n",
       "      <td>...</td>\n",
       "      <td>43.262363</td>\n",
       "      <td>42.711936</td>\n",
       "      <td>43.827404</td>\n",
       "      <td>54.998707</td>\n",
       "      <td>55.174338</td>\n",
       "      <td>54.818413</td>\n",
       "      <td>1.738930</td>\n",
       "      <td>2.113726</td>\n",
       "      <td>1.354183</td>\n",
       "      <td>Africa</td>\n",
       "    </tr>\n",
       "    <tr>\n",
       "      <th>214</th>\n",
       "      <td>Zimbabwe</td>\n",
       "      <td>6.843750</td>\n",
       "      <td>36.250000</td>\n",
       "      <td>6.187500</td>\n",
       "      <td>1.318750</td>\n",
       "      <td>1.971429</td>\n",
       "      <td>2.285000</td>\n",
       "      <td>0.665000</td>\n",
       "      <td>0.470000</td>\n",
       "      <td>0.981250</td>\n",
       "      <td>...</td>\n",
       "      <td>40.893305</td>\n",
       "      <td>38.759415</td>\n",
       "      <td>43.283516</td>\n",
       "      <td>55.743353</td>\n",
       "      <td>57.424404</td>\n",
       "      <td>53.860375</td>\n",
       "      <td>3.363343</td>\n",
       "      <td>3.816182</td>\n",
       "      <td>2.856109</td>\n",
       "      <td>Africa</td>\n",
       "    </tr>\n",
       "  </tbody>\n",
       "</table>\n",
       "<p>215 rows × 36 columns</p>\n",
       "</div>"
      ],
      "text/plain": [
       "            country         x1         x2         x3        x4        x5  \\\n",
       "0       Afghanistan   1.690000   6.870000   2.977500  2.260000       NaN   \n",
       "1           Albania   4.460000  25.532000   4.223333  1.378667  1.842667   \n",
       "2           Algeria   1.956562  13.983750   2.830000  1.419615  1.627778   \n",
       "3    American Samoa  23.820000   6.660000  22.130000  1.910000  1.910000   \n",
       "4           Andorra  13.173333  40.920000   7.010000  2.073333  2.600000   \n",
       "..              ...        ...        ...        ...       ...       ...   \n",
       "210       Venezuela   8.618824  32.763333   9.021765  1.442353  2.205882   \n",
       "211         Vietnam   2.115882  18.662353   4.231429  0.790625  1.542353   \n",
       "212           Yemen   6.150000  32.616667  11.158333  2.265000  2.282500   \n",
       "213          Zambia   2.988000  18.370000   3.170000  1.152000  1.494000   \n",
       "214        Zimbabwe   6.843750  36.250000   6.187500  1.318750  1.971429   \n",
       "\n",
       "           x6        x7        x8       x23  ...  pop_0_14_%  \\\n",
       "0    0.597500  0.327500  0.140000  0.226000  ...   43.424543   \n",
       "1    1.198667  1.148667  0.604000  0.534000  ...   16.281724   \n",
       "2    0.507333  0.489091  0.198788  0.270294  ...   30.712077   \n",
       "3    1.000000  1.190000  2.110000       NaN  ...   27.511935   \n",
       "4    1.380000  1.713333  1.370000  0.760000  ...   13.074753   \n",
       "..        ...       ...       ...       ...  ...         ...   \n",
       "210  1.928824  1.110000  0.799412  1.235714  ...   28.170727   \n",
       "211  1.689412  0.478824  0.281176  0.640526  ...   22.545150   \n",
       "212  2.540000  1.610000  0.660000  1.072000  ...   39.872107   \n",
       "213  1.742000  0.822000  0.458000  0.890000  ...   43.262363   \n",
       "214  2.285000  0.665000  0.470000  0.981250  ...   40.893305   \n",
       "\n",
       "     pop_0_14_%_female  pop_0_14_%_male  pop_15_64_%  pop_15_64_%_female  \\\n",
       "0            42.836470        44.000703    54.171399           54.395516   \n",
       "1            15.945701        16.618407    67.484035           67.366308   \n",
       "2            30.617768        30.802962    63.105923           62.825857   \n",
       "3            26.431021        28.615012    65.643388           65.910490   \n",
       "4            13.063209        13.085814    72.389731           71.570972   \n",
       "..                 ...              ...          ...                 ...   \n",
       "210          27.150558        29.211820    63.491136           63.327932   \n",
       "211          21.130319        23.995125    68.701716           68.456868   \n",
       "212          39.344254        40.388712    57.438854           57.554137   \n",
       "213          42.711936        43.827404    54.998707           55.174338   \n",
       "214          38.759415        43.283516    55.743353           57.424404   \n",
       "\n",
       "     pop_15_64_%_male  pop_65_plus_%  pop_65_plus_%_female  \\\n",
       "0           53.951822       2.404058              2.768015   \n",
       "1           67.601993      16.234241             16.687991   \n",
       "2           63.375825       6.182000              6.556375   \n",
       "3           65.370811       6.844676              7.658489   \n",
       "4           73.174267      14.535516             15.365819   \n",
       "..                ...            ...                   ...   \n",
       "210         63.657687       8.338137              9.521510   \n",
       "211         68.952645       8.753134             10.412813   \n",
       "212         57.326028       2.689038              3.101609   \n",
       "213         54.818413       1.738930              2.113726   \n",
       "214         53.860375       3.363343              3.816182   \n",
       "\n",
       "     pop_65_plus_%_male      continent  \n",
       "0              2.047475           Asia  \n",
       "1             15.779600         Europe  \n",
       "2              5.821213         Africa  \n",
       "3              6.014177        Oceania  \n",
       "4             13.739919         Europe  \n",
       "..                  ...            ...  \n",
       "210            7.130493  South America  \n",
       "211            7.052230           Asia  \n",
       "212            2.285260           Asia  \n",
       "213            1.354183         Africa  \n",
       "214            2.856109         Africa  \n",
       "\n",
       "[215 rows x 36 columns]"
      ]
     },
     "execution_count": 7,
     "metadata": {},
     "output_type": "execute_result"
    }
   ],
   "source": [
    "data"
   ]
  },
  {
   "cell_type": "code",
   "execution_count": 5,
   "metadata": {},
   "outputs": [],
   "source": [
    "path = os.path.join('..', 'data', 'dataset_alpha.csv')\n",
    "data = pd.read_csv(path)\n",
    "data['average_cost_rich'] = 2 * data.x2 + data.x24 + data.x48 + data.x30 + 60 * data.x37 + data.x38 + data.x6 + data.x23\n",
    "data['average_cost_medium'] = 2 * data.x3 + data.x4 + data.x49 + data.x28 + 30 * data.x37 + data.x38 + data.x6 + data.x23\n",
    "data['average_cost_lower'] = 2 * data.x1 + data.x49 + data.x8 + 10 * data.x37 + data.x23\n",
    "data['cost_average'] = data[['average_cost_rich', 'average_cost_medium', 'average_cost_lower']].mean(axis=1)\n",
    "data.to_csv(os.path.join('..', 'data', 'dataset_alpha.csv'), index=False)"
   ]
  }
 ],
 "metadata": {
  "kernelspec": {
   "display_name": "vad",
   "language": "python",
   "name": "vad"
  },
  "language_info": {
   "codemirror_mode": {
    "name": "ipython",
    "version": 3
   },
   "file_extension": ".py",
   "mimetype": "text/x-python",
   "name": "python",
   "nbconvert_exporter": "python",
   "pygments_lexer": "ipython3",
   "version": "3.10.4"
  },
  "orig_nbformat": 4
 },
 "nbformat": 4,
 "nbformat_minor": 2
}
