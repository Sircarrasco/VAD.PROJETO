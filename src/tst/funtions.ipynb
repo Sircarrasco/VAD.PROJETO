{
 "cells": [
  {
   "attachments": {},
   "cell_type": "markdown",
   "metadata": {},
   "source": [
    "Authors\n",
    "- Joana Simões\n",
    "- Pedro Carrasco"
   ]
  },
  {
   "cell_type": "code",
   "execution_count": 1,
   "metadata": {},
   "outputs": [],
   "source": [
    "import pandas as pd\n",
    "import numpy as np \n",
    "import seaborn as sns\n",
    "import matplotlib.pyplot as plt\n",
    "import os\n",
    "import plotly.express as px"
   ]
  },
  {
   "cell_type": "code",
   "execution_count": 2,
   "metadata": {},
   "outputs": [
    {
     "data": {
      "text/html": [
       "<div>\n",
       "<style scoped>\n",
       "    .dataframe tbody tr th:only-of-type {\n",
       "        vertical-align: middle;\n",
       "    }\n",
       "\n",
       "    .dataframe tbody tr th {\n",
       "        vertical-align: top;\n",
       "    }\n",
       "\n",
       "    .dataframe thead th {\n",
       "        text-align: right;\n",
       "    }\n",
       "</style>\n",
       "<table border=\"1\" class=\"dataframe\">\n",
       "  <thead>\n",
       "    <tr style=\"text-align: right;\">\n",
       "      <th></th>\n",
       "      <th>country</th>\n",
       "      <th>x1</th>\n",
       "      <th>x2</th>\n",
       "      <th>x3</th>\n",
       "      <th>x4</th>\n",
       "      <th>x5</th>\n",
       "      <th>x6</th>\n",
       "      <th>x7</th>\n",
       "      <th>x8</th>\n",
       "      <th>x23</th>\n",
       "      <th>...</th>\n",
       "      <th>pop_0_14_%_male</th>\n",
       "      <th>pop_15_64_%</th>\n",
       "      <th>pop_15_64_%_female</th>\n",
       "      <th>pop_15_64_%_male</th>\n",
       "      <th>pop_65_plus_%</th>\n",
       "      <th>pop_65_plus_%_female</th>\n",
       "      <th>pop_65_plus_%_male</th>\n",
       "      <th>continent</th>\n",
       "      <th>female_population</th>\n",
       "      <th>male_population</th>\n",
       "    </tr>\n",
       "  </thead>\n",
       "  <tbody>\n",
       "    <tr>\n",
       "      <th>0</th>\n",
       "      <td>Afghanistan</td>\n",
       "      <td>1.690000</td>\n",
       "      <td>6.870000</td>\n",
       "      <td>2.977500</td>\n",
       "      <td>2.260000</td>\n",
       "      <td>NaN</td>\n",
       "      <td>0.597500</td>\n",
       "      <td>0.327500</td>\n",
       "      <td>0.140000</td>\n",
       "      <td>0.226000</td>\n",
       "      <td>...</td>\n",
       "      <td>44.000703</td>\n",
       "      <td>54.171399</td>\n",
       "      <td>54.395516</td>\n",
       "      <td>53.951822</td>\n",
       "      <td>2.404058</td>\n",
       "      <td>2.768015</td>\n",
       "      <td>2.047475</td>\n",
       "      <td>Asia</td>\n",
       "      <td>19844584.0</td>\n",
       "      <td>20254878.0</td>\n",
       "    </tr>\n",
       "    <tr>\n",
       "      <th>1</th>\n",
       "      <td>Albania</td>\n",
       "      <td>4.460000</td>\n",
       "      <td>25.532000</td>\n",
       "      <td>4.223333</td>\n",
       "      <td>1.378667</td>\n",
       "      <td>1.842667</td>\n",
       "      <td>1.198667</td>\n",
       "      <td>1.148667</td>\n",
       "      <td>0.604000</td>\n",
       "      <td>0.534000</td>\n",
       "      <td>...</td>\n",
       "      <td>16.618407</td>\n",
       "      <td>67.484035</td>\n",
       "      <td>67.366308</td>\n",
       "      <td>67.601993</td>\n",
       "      <td>16.234241</td>\n",
       "      <td>16.687991</td>\n",
       "      <td>15.779600</td>\n",
       "      <td>Europe</td>\n",
       "      <td>1407212.0</td>\n",
       "      <td>1404454.0</td>\n",
       "    </tr>\n",
       "    <tr>\n",
       "      <th>2</th>\n",
       "      <td>Algeria</td>\n",
       "      <td>1.956562</td>\n",
       "      <td>13.983750</td>\n",
       "      <td>2.830000</td>\n",
       "      <td>1.419615</td>\n",
       "      <td>1.627778</td>\n",
       "      <td>0.507333</td>\n",
       "      <td>0.489091</td>\n",
       "      <td>0.198788</td>\n",
       "      <td>0.270294</td>\n",
       "      <td>...</td>\n",
       "      <td>30.802962</td>\n",
       "      <td>63.105923</td>\n",
       "      <td>62.825857</td>\n",
       "      <td>63.375825</td>\n",
       "      <td>6.182000</td>\n",
       "      <td>6.556375</td>\n",
       "      <td>5.821213</td>\n",
       "      <td>Africa</td>\n",
       "      <td>21680725.0</td>\n",
       "      <td>22497244.0</td>\n",
       "    </tr>\n",
       "    <tr>\n",
       "      <th>3</th>\n",
       "      <td>American Samoa</td>\n",
       "      <td>23.820000</td>\n",
       "      <td>6.660000</td>\n",
       "      <td>22.130000</td>\n",
       "      <td>1.910000</td>\n",
       "      <td>1.910000</td>\n",
       "      <td>1.000000</td>\n",
       "      <td>1.190000</td>\n",
       "      <td>2.110000</td>\n",
       "      <td>NaN</td>\n",
       "      <td>...</td>\n",
       "      <td>28.615012</td>\n",
       "      <td>65.643388</td>\n",
       "      <td>65.910490</td>\n",
       "      <td>65.370811</td>\n",
       "      <td>6.844676</td>\n",
       "      <td>7.658489</td>\n",
       "      <td>6.014177</td>\n",
       "      <td>Oceania</td>\n",
       "      <td>22746.0</td>\n",
       "      <td>22289.0</td>\n",
       "    </tr>\n",
       "    <tr>\n",
       "      <th>4</th>\n",
       "      <td>Andorra</td>\n",
       "      <td>13.173333</td>\n",
       "      <td>40.920000</td>\n",
       "      <td>7.010000</td>\n",
       "      <td>2.073333</td>\n",
       "      <td>2.600000</td>\n",
       "      <td>1.380000</td>\n",
       "      <td>1.713333</td>\n",
       "      <td>1.370000</td>\n",
       "      <td>0.760000</td>\n",
       "      <td>...</td>\n",
       "      <td>13.085814</td>\n",
       "      <td>72.389731</td>\n",
       "      <td>71.570972</td>\n",
       "      <td>73.174267</td>\n",
       "      <td>14.535516</td>\n",
       "      <td>15.365819</td>\n",
       "      <td>13.739919</td>\n",
       "      <td>Europe</td>\n",
       "      <td>38673.0</td>\n",
       "      <td>40361.0</td>\n",
       "    </tr>\n",
       "    <tr>\n",
       "      <th>...</th>\n",
       "      <td>...</td>\n",
       "      <td>...</td>\n",
       "      <td>...</td>\n",
       "      <td>...</td>\n",
       "      <td>...</td>\n",
       "      <td>...</td>\n",
       "      <td>...</td>\n",
       "      <td>...</td>\n",
       "      <td>...</td>\n",
       "      <td>...</td>\n",
       "      <td>...</td>\n",
       "      <td>...</td>\n",
       "      <td>...</td>\n",
       "      <td>...</td>\n",
       "      <td>...</td>\n",
       "      <td>...</td>\n",
       "      <td>...</td>\n",
       "      <td>...</td>\n",
       "      <td>...</td>\n",
       "      <td>...</td>\n",
       "      <td>...</td>\n",
       "    </tr>\n",
       "    <tr>\n",
       "      <th>210</th>\n",
       "      <td>Venezuela</td>\n",
       "      <td>8.618824</td>\n",
       "      <td>32.763333</td>\n",
       "      <td>9.021765</td>\n",
       "      <td>1.442353</td>\n",
       "      <td>2.205882</td>\n",
       "      <td>1.928824</td>\n",
       "      <td>1.110000</td>\n",
       "      <td>0.799412</td>\n",
       "      <td>1.235714</td>\n",
       "      <td>...</td>\n",
       "      <td>29.211820</td>\n",
       "      <td>63.491136</td>\n",
       "      <td>63.327932</td>\n",
       "      <td>63.657687</td>\n",
       "      <td>8.338137</td>\n",
       "      <td>9.521510</td>\n",
       "      <td>7.130493</td>\n",
       "      <td>South America</td>\n",
       "      <td>14243056.0</td>\n",
       "      <td>13956811.0</td>\n",
       "    </tr>\n",
       "    <tr>\n",
       "      <th>211</th>\n",
       "      <td>Vietnam</td>\n",
       "      <td>2.115882</td>\n",
       "      <td>18.662353</td>\n",
       "      <td>4.231429</td>\n",
       "      <td>0.790625</td>\n",
       "      <td>1.542353</td>\n",
       "      <td>1.689412</td>\n",
       "      <td>0.478824</td>\n",
       "      <td>0.281176</td>\n",
       "      <td>0.640526</td>\n",
       "      <td>...</td>\n",
       "      <td>23.995125</td>\n",
       "      <td>68.701716</td>\n",
       "      <td>68.456868</td>\n",
       "      <td>68.952645</td>\n",
       "      <td>8.753134</td>\n",
       "      <td>10.412813</td>\n",
       "      <td>7.052230</td>\n",
       "      <td>Asia</td>\n",
       "      <td>49331842.0</td>\n",
       "      <td>48136186.0</td>\n",
       "    </tr>\n",
       "    <tr>\n",
       "      <th>212</th>\n",
       "      <td>Yemen</td>\n",
       "      <td>6.150000</td>\n",
       "      <td>32.616667</td>\n",
       "      <td>11.158333</td>\n",
       "      <td>2.265000</td>\n",
       "      <td>2.282500</td>\n",
       "      <td>2.540000</td>\n",
       "      <td>1.610000</td>\n",
       "      <td>0.660000</td>\n",
       "      <td>1.072000</td>\n",
       "      <td>...</td>\n",
       "      <td>40.388712</td>\n",
       "      <td>57.438854</td>\n",
       "      <td>57.554137</td>\n",
       "      <td>57.326028</td>\n",
       "      <td>2.689038</td>\n",
       "      <td>3.101609</td>\n",
       "      <td>2.285260</td>\n",
       "      <td>Asia</td>\n",
       "      <td>16313210.0</td>\n",
       "      <td>16668432.0</td>\n",
       "    </tr>\n",
       "    <tr>\n",
       "      <th>213</th>\n",
       "      <td>Zambia</td>\n",
       "      <td>2.988000</td>\n",
       "      <td>18.370000</td>\n",
       "      <td>3.170000</td>\n",
       "      <td>1.152000</td>\n",
       "      <td>1.494000</td>\n",
       "      <td>1.742000</td>\n",
       "      <td>0.822000</td>\n",
       "      <td>0.458000</td>\n",
       "      <td>0.890000</td>\n",
       "      <td>...</td>\n",
       "      <td>43.827404</td>\n",
       "      <td>54.998707</td>\n",
       "      <td>55.174338</td>\n",
       "      <td>54.818413</td>\n",
       "      <td>1.738930</td>\n",
       "      <td>2.113726</td>\n",
       "      <td>1.354183</td>\n",
       "      <td>Africa</td>\n",
       "      <td>9864121.0</td>\n",
       "      <td>9609004.0</td>\n",
       "    </tr>\n",
       "    <tr>\n",
       "      <th>214</th>\n",
       "      <td>Zimbabwe</td>\n",
       "      <td>6.843750</td>\n",
       "      <td>36.250000</td>\n",
       "      <td>6.187500</td>\n",
       "      <td>1.318750</td>\n",
       "      <td>1.971429</td>\n",
       "      <td>2.285000</td>\n",
       "      <td>0.665000</td>\n",
       "      <td>0.470000</td>\n",
       "      <td>0.981250</td>\n",
       "      <td>...</td>\n",
       "      <td>43.283516</td>\n",
       "      <td>55.743353</td>\n",
       "      <td>57.424404</td>\n",
       "      <td>53.860375</td>\n",
       "      <td>3.363343</td>\n",
       "      <td>3.816182</td>\n",
       "      <td>2.856109</td>\n",
       "      <td>Africa</td>\n",
       "      <td>8449834.0</td>\n",
       "      <td>7543690.0</td>\n",
       "    </tr>\n",
       "  </tbody>\n",
       "</table>\n",
       "<p>215 rows × 38 columns</p>\n",
       "</div>"
      ],
      "text/plain": [
       "            country         x1         x2         x3        x4        x5   \n",
       "0       Afghanistan   1.690000   6.870000   2.977500  2.260000       NaN  \\\n",
       "1           Albania   4.460000  25.532000   4.223333  1.378667  1.842667   \n",
       "2           Algeria   1.956562  13.983750   2.830000  1.419615  1.627778   \n",
       "3    American Samoa  23.820000   6.660000  22.130000  1.910000  1.910000   \n",
       "4           Andorra  13.173333  40.920000   7.010000  2.073333  2.600000   \n",
       "..              ...        ...        ...        ...       ...       ...   \n",
       "210       Venezuela   8.618824  32.763333   9.021765  1.442353  2.205882   \n",
       "211         Vietnam   2.115882  18.662353   4.231429  0.790625  1.542353   \n",
       "212           Yemen   6.150000  32.616667  11.158333  2.265000  2.282500   \n",
       "213          Zambia   2.988000  18.370000   3.170000  1.152000  1.494000   \n",
       "214        Zimbabwe   6.843750  36.250000   6.187500  1.318750  1.971429   \n",
       "\n",
       "           x6        x7        x8       x23  ...  pop_0_14_%_male   \n",
       "0    0.597500  0.327500  0.140000  0.226000  ...        44.000703  \\\n",
       "1    1.198667  1.148667  0.604000  0.534000  ...        16.618407   \n",
       "2    0.507333  0.489091  0.198788  0.270294  ...        30.802962   \n",
       "3    1.000000  1.190000  2.110000       NaN  ...        28.615012   \n",
       "4    1.380000  1.713333  1.370000  0.760000  ...        13.085814   \n",
       "..        ...       ...       ...       ...  ...              ...   \n",
       "210  1.928824  1.110000  0.799412  1.235714  ...        29.211820   \n",
       "211  1.689412  0.478824  0.281176  0.640526  ...        23.995125   \n",
       "212  2.540000  1.610000  0.660000  1.072000  ...        40.388712   \n",
       "213  1.742000  0.822000  0.458000  0.890000  ...        43.827404   \n",
       "214  2.285000  0.665000  0.470000  0.981250  ...        43.283516   \n",
       "\n",
       "     pop_15_64_%  pop_15_64_%_female  pop_15_64_%_male  pop_65_plus_%   \n",
       "0      54.171399           54.395516         53.951822       2.404058  \\\n",
       "1      67.484035           67.366308         67.601993      16.234241   \n",
       "2      63.105923           62.825857         63.375825       6.182000   \n",
       "3      65.643388           65.910490         65.370811       6.844676   \n",
       "4      72.389731           71.570972         73.174267      14.535516   \n",
       "..           ...                 ...               ...            ...   \n",
       "210    63.491136           63.327932         63.657687       8.338137   \n",
       "211    68.701716           68.456868         68.952645       8.753134   \n",
       "212    57.438854           57.554137         57.326028       2.689038   \n",
       "213    54.998707           55.174338         54.818413       1.738930   \n",
       "214    55.743353           57.424404         53.860375       3.363343   \n",
       "\n",
       "     pop_65_plus_%_female  pop_65_plus_%_male      continent   \n",
       "0                2.768015            2.047475           Asia  \\\n",
       "1               16.687991           15.779600         Europe   \n",
       "2                6.556375            5.821213         Africa   \n",
       "3                7.658489            6.014177        Oceania   \n",
       "4               15.365819           13.739919         Europe   \n",
       "..                    ...                 ...            ...   \n",
       "210              9.521510            7.130493  South America   \n",
       "211             10.412813            7.052230           Asia   \n",
       "212              3.101609            2.285260           Asia   \n",
       "213              2.113726            1.354183         Africa   \n",
       "214              3.816182            2.856109         Africa   \n",
       "\n",
       "     female_population  male_population  \n",
       "0           19844584.0       20254878.0  \n",
       "1            1407212.0        1404454.0  \n",
       "2           21680725.0       22497244.0  \n",
       "3              22746.0          22289.0  \n",
       "4              38673.0          40361.0  \n",
       "..                 ...              ...  \n",
       "210         14243056.0       13956811.0  \n",
       "211         49331842.0       48136186.0  \n",
       "212         16313210.0       16668432.0  \n",
       "213          9864121.0        9609004.0  \n",
       "214          8449834.0        7543690.0  \n",
       "\n",
       "[215 rows x 38 columns]"
      ]
     },
     "execution_count": 2,
     "metadata": {},
     "output_type": "execute_result"
    }
   ],
   "source": [
    "path = os.path.join('..', 'data', 'dataset_alpha.csv')\n",
    "data = pd.read_csv(path)\n",
    "data"
   ]
  },
  {
   "cell_type": "code",
   "execution_count": 3,
   "metadata": {},
   "outputs": [],
   "source": [
    "import plotly.graph_objects as go"
   ]
  },
  {
   "cell_type": "code",
   "execution_count": 4,
   "metadata": {},
   "outputs": [
    {
     "ename": "ValueError",
     "evalue": "Mime type rendering requires nbformat>=4.2.0 but it is not installed",
     "output_type": "error",
     "traceback": [
      "\u001b[0;31m---------------------------------------------------------------------------\u001b[0m",
      "\u001b[0;31mValueError\u001b[0m                                Traceback (most recent call last)",
      "\u001b[1;32m/Users/joanasimoes/Desktop/projects/VAD.PROJETO/src/tst/funtions.ipynb Cell 4\u001b[0m in \u001b[0;36m<cell line: 4>\u001b[0;34m()\u001b[0m\n\u001b[1;32m      <a href='vscode-notebook-cell:/Users/joanasimoes/Desktop/projects/VAD.PROJETO/src/tst/funtions.ipynb#W3sZmlsZQ%3D%3D?line=0'>1</a>\u001b[0m fig \u001b[39m=\u001b[39m go\u001b[39m.\u001b[39mFigure(\n\u001b[1;32m      <a href='vscode-notebook-cell:/Users/joanasimoes/Desktop/projects/VAD.PROJETO/src/tst/funtions.ipynb#W3sZmlsZQ%3D%3D?line=1'>2</a>\u001b[0m     go\u001b[39m.\u001b[39mScatter(x\u001b[39m=\u001b[39m[\u001b[39m1\u001b[39m, \u001b[39m2\u001b[39m, \u001b[39m3\u001b[39m], y\u001b[39m=\u001b[39m[\u001b[39m1\u001b[39m, \u001b[39m2\u001b[39m, \u001b[39m3\u001b[39m])\n\u001b[1;32m      <a href='vscode-notebook-cell:/Users/joanasimoes/Desktop/projects/VAD.PROJETO/src/tst/funtions.ipynb#W3sZmlsZQ%3D%3D?line=2'>3</a>\u001b[0m )\n\u001b[0;32m----> <a href='vscode-notebook-cell:/Users/joanasimoes/Desktop/projects/VAD.PROJETO/src/tst/funtions.ipynb#W3sZmlsZQ%3D%3D?line=3'>4</a>\u001b[0m fig\u001b[39m.\u001b[39;49mshow()\n",
      "File \u001b[0;32m/opt/homebrew/anaconda3/envs/vad/lib/python3.10/site-packages/plotly/basedatatypes.py:3390\u001b[0m, in \u001b[0;36mBaseFigure.show\u001b[0;34m(self, *args, **kwargs)\u001b[0m\n\u001b[1;32m   3357\u001b[0m \u001b[39m\"\"\"\u001b[39;00m\n\u001b[1;32m   3358\u001b[0m \u001b[39mShow a figure using either the default renderer(s) or the renderer(s)\u001b[39;00m\n\u001b[1;32m   3359\u001b[0m \u001b[39mspecified by the renderer argument\u001b[39;00m\n\u001b[0;32m   (...)\u001b[0m\n\u001b[1;32m   3386\u001b[0m \u001b[39mNone\u001b[39;00m\n\u001b[1;32m   3387\u001b[0m \u001b[39m\"\"\"\u001b[39;00m\n\u001b[1;32m   3388\u001b[0m \u001b[39mimport\u001b[39;00m \u001b[39mplotly\u001b[39;00m\u001b[39m.\u001b[39;00m\u001b[39mio\u001b[39;00m \u001b[39mas\u001b[39;00m \u001b[39mpio\u001b[39;00m\n\u001b[0;32m-> 3390\u001b[0m \u001b[39mreturn\u001b[39;00m pio\u001b[39m.\u001b[39;49mshow(\u001b[39mself\u001b[39;49m, \u001b[39m*\u001b[39;49margs, \u001b[39m*\u001b[39;49m\u001b[39m*\u001b[39;49mkwargs)\n",
      "File \u001b[0;32m/opt/homebrew/anaconda3/envs/vad/lib/python3.10/site-packages/plotly/io/_renderers.py:396\u001b[0m, in \u001b[0;36mshow\u001b[0;34m(fig, renderer, validate, **kwargs)\u001b[0m\n\u001b[1;32m    391\u001b[0m         \u001b[39mraise\u001b[39;00m \u001b[39mValueError\u001b[39;00m(\n\u001b[1;32m    392\u001b[0m             \u001b[39m\"\u001b[39m\u001b[39mMime type rendering requires ipython but it is not installed\u001b[39m\u001b[39m\"\u001b[39m\n\u001b[1;32m    393\u001b[0m         )\n\u001b[1;32m    395\u001b[0m     \u001b[39mif\u001b[39;00m \u001b[39mnot\u001b[39;00m nbformat \u001b[39mor\u001b[39;00m Version(nbformat\u001b[39m.\u001b[39m__version__) \u001b[39m<\u001b[39m Version(\u001b[39m\"\u001b[39m\u001b[39m4.2.0\u001b[39m\u001b[39m\"\u001b[39m):\n\u001b[0;32m--> 396\u001b[0m         \u001b[39mraise\u001b[39;00m \u001b[39mValueError\u001b[39;00m(\n\u001b[1;32m    397\u001b[0m             \u001b[39m\"\u001b[39m\u001b[39mMime type rendering requires nbformat>=4.2.0 but it is not installed\u001b[39m\u001b[39m\"\u001b[39m\n\u001b[1;32m    398\u001b[0m         )\n\u001b[1;32m    400\u001b[0m     ipython_display\u001b[39m.\u001b[39mdisplay(bundle, raw\u001b[39m=\u001b[39m\u001b[39mTrue\u001b[39;00m)\n\u001b[1;32m    402\u001b[0m \u001b[39m# external renderers\u001b[39;00m\n",
      "\u001b[0;31mValueError\u001b[0m: Mime type rendering requires nbformat>=4.2.0 but it is not installed"
     ]
    }
   ],
   "source": [
    "fig = go.Figure(\n",
    "    go.Scatter(x=[1, 2, 3], y=[1, 2, 3])\n",
    ")\n",
    "fig.show()"
   ]
  },
  {
   "cell_type": "code",
   "execution_count": null,
   "metadata": {},
   "outputs": [],
   "source": [
    "data['average_cost_rich'] = 2 * data.x2 + data.x24 + data.x48 + data.x30 + 60 * data.x37 + data.x38 + data.x6 + data.x23\n",
    "data['average_cost_medium'] = 2 * data.x3 + data.x4 + data.x49 + data.x28 + 30 * data.x37 + data.x38 + data.x6 + data.x23\n",
    "data['average_cost_lower'] = 2 * data.x1 + data.x49 + data.x8 + 10 * data.x37 + data.x23"
   ]
  },
  {
   "cell_type": "code",
   "execution_count": null,
   "metadata": {},
   "outputs": [],
   "source": [
    "data_path = os.path.join('..', 'data')\n",
    "data.to_csv(os.path.join(data_path, 'teste.csv'))"
   ]
  },
  {
   "cell_type": "code",
   "execution_count": null,
   "metadata": {},
   "outputs": [
    {
     "ename": "ValueError",
     "evalue": "Mime type rendering requires nbformat>=4.2.0 but it is not installed",
     "output_type": "error",
     "traceback": [
      "\u001b[0;31m---------------------------------------------------------------------------\u001b[0m",
      "\u001b[0;31mValueError\u001b[0m                                Traceback (most recent call last)",
      "\u001b[1;32m/Users/joanasimoes/Desktop/projects/VAD.PROJETO/src/tst/funtions.ipynb Cell 5\u001b[0m in \u001b[0;36m<cell line: 59>\u001b[0;34m()\u001b[0m\n\u001b[1;32m     <a href='vscode-notebook-cell:/Users/joanasimoes/Desktop/projects/VAD.PROJETO/src/tst/funtions.ipynb#W4sZmlsZQ%3D%3D?line=55'>56</a>\u001b[0m     \u001b[39m#return fig, lista\u001b[39;00m\n\u001b[1;32m     <a href='vscode-notebook-cell:/Users/joanasimoes/Desktop/projects/VAD.PROJETO/src/tst/funtions.ipynb#W4sZmlsZQ%3D%3D?line=57'>58</a>\u001b[0m country \u001b[39m=\u001b[39m \u001b[39m\"\u001b[39m\u001b[39mEurope\u001b[39m\u001b[39m\"\u001b[39m\n\u001b[0;32m---> <a href='vscode-notebook-cell:/Users/joanasimoes/Desktop/projects/VAD.PROJETO/src/tst/funtions.ipynb#W4sZmlsZQ%3D%3D?line=58'>59</a>\u001b[0m map_filter(\u001b[39m\"\u001b[39;49m\u001b[39munesco props\u001b[39;49m\u001b[39m\"\u001b[39;49m)\n",
      "\u001b[1;32m/Users/joanasimoes/Desktop/projects/VAD.PROJETO/src/tst/funtions.ipynb Cell 5\u001b[0m in \u001b[0;36mmap_filter\u001b[0;34m(filter)\u001b[0m\n\u001b[1;32m     <a href='vscode-notebook-cell:/Users/joanasimoes/Desktop/projects/VAD.PROJETO/src/tst/funtions.ipynb#W4sZmlsZQ%3D%3D?line=43'>44</a>\u001b[0m fig \u001b[39m=\u001b[39m px\u001b[39m.\u001b[39mchoropleth(data_frame      \u001b[39m=\u001b[39m aux_data,\n\u001b[1;32m     <a href='vscode-notebook-cell:/Users/joanasimoes/Desktop/projects/VAD.PROJETO/src/tst/funtions.ipynb#W4sZmlsZQ%3D%3D?line=44'>45</a>\u001b[0m                     locations       \u001b[39m=\u001b[39m \u001b[39m'\u001b[39m\u001b[39mcode\u001b[39m\u001b[39m'\u001b[39m,\n\u001b[1;32m     <a href='vscode-notebook-cell:/Users/joanasimoes/Desktop/projects/VAD.PROJETO/src/tst/funtions.ipynb#W4sZmlsZQ%3D%3D?line=45'>46</a>\u001b[0m                     locationmode    \u001b[39m=\u001b[39m \u001b[39m'\u001b[39m\u001b[39mISO-3\u001b[39m\u001b[39m'\u001b[39m,\n\u001b[1;32m     <a href='vscode-notebook-cell:/Users/joanasimoes/Desktop/projects/VAD.PROJETO/src/tst/funtions.ipynb#W4sZmlsZQ%3D%3D?line=46'>47</a>\u001b[0m                     color_continuous_scale\u001b[39m=\u001b[39m[\u001b[39m'\u001b[39m\u001b[39mwhite\u001b[39m\u001b[39m'\u001b[39m, \u001b[39m'\u001b[39m\u001b[39morange\u001b[39m\u001b[39m'\u001b[39m], \u001b[39m# Set color\u001b[39;00m\n\u001b[1;32m     <a href='vscode-notebook-cell:/Users/joanasimoes/Desktop/projects/VAD.PROJETO/src/tst/funtions.ipynb#W4sZmlsZQ%3D%3D?line=47'>48</a>\u001b[0m                     color           \u001b[39m=\u001b[39m data_filter,\n\u001b[1;32m     <a href='vscode-notebook-cell:/Users/joanasimoes/Desktop/projects/VAD.PROJETO/src/tst/funtions.ipynb#W4sZmlsZQ%3D%3D?line=48'>49</a>\u001b[0m                     scope           \u001b[39m=\u001b[39m \u001b[39m'\u001b[39m\u001b[39musa\u001b[39m\u001b[39m'\u001b[39m)\n\u001b[1;32m     <a href='vscode-notebook-cell:/Users/joanasimoes/Desktop/projects/VAD.PROJETO/src/tst/funtions.ipynb#W4sZmlsZQ%3D%3D?line=50'>51</a>\u001b[0m fig\u001b[39m.\u001b[39mupdate_layout(margin\u001b[39m=\u001b[39m{\u001b[39m\"\u001b[39m\u001b[39mr\u001b[39m\u001b[39m\"\u001b[39m:\u001b[39m0\u001b[39m,\u001b[39m\"\u001b[39m\u001b[39mt\u001b[39m\u001b[39m\"\u001b[39m:\u001b[39m0\u001b[39m,\u001b[39m\"\u001b[39m\u001b[39ml\u001b[39m\u001b[39m\"\u001b[39m:\u001b[39m0\u001b[39m,\u001b[39m\"\u001b[39m\u001b[39mb\u001b[39m\u001b[39m\"\u001b[39m:\u001b[39m0\u001b[39m})\n\u001b[0;32m---> <a href='vscode-notebook-cell:/Users/joanasimoes/Desktop/projects/VAD.PROJETO/src/tst/funtions.ipynb#W4sZmlsZQ%3D%3D?line=51'>52</a>\u001b[0m fig\u001b[39m.\u001b[39;49mshow()\n\u001b[1;32m     <a href='vscode-notebook-cell:/Users/joanasimoes/Desktop/projects/VAD.PROJETO/src/tst/funtions.ipynb#W4sZmlsZQ%3D%3D?line=52'>53</a>\u001b[0m lista \u001b[39m=\u001b[39m aux_data[[\u001b[39m\"\u001b[39m\u001b[39mcountry\u001b[39m\u001b[39m\"\u001b[39m,data_filter]]\u001b[39m.\u001b[39mnlargest(\u001b[39m5\u001b[39m,data_filter)\u001b[39m.\u001b[39mreset_index(drop\u001b[39m=\u001b[39m\u001b[39mTrue\u001b[39;00m)\n\u001b[1;32m     <a href='vscode-notebook-cell:/Users/joanasimoes/Desktop/projects/VAD.PROJETO/src/tst/funtions.ipynb#W4sZmlsZQ%3D%3D?line=53'>54</a>\u001b[0m lista\u001b[39m.\u001b[39mindex \u001b[39m=\u001b[39m lista\u001b[39m.\u001b[39mindex \u001b[39m+\u001b[39m \u001b[39m1\u001b[39m\n",
      "File \u001b[0;32m/opt/homebrew/anaconda3/envs/vad/lib/python3.10/site-packages/plotly/basedatatypes.py:3390\u001b[0m, in \u001b[0;36mBaseFigure.show\u001b[0;34m(self, *args, **kwargs)\u001b[0m\n\u001b[1;32m   3357\u001b[0m \u001b[39m\"\"\"\u001b[39;00m\n\u001b[1;32m   3358\u001b[0m \u001b[39mShow a figure using either the default renderer(s) or the renderer(s)\u001b[39;00m\n\u001b[1;32m   3359\u001b[0m \u001b[39mspecified by the renderer argument\u001b[39;00m\n\u001b[0;32m   (...)\u001b[0m\n\u001b[1;32m   3386\u001b[0m \u001b[39mNone\u001b[39;00m\n\u001b[1;32m   3387\u001b[0m \u001b[39m\"\"\"\u001b[39;00m\n\u001b[1;32m   3388\u001b[0m \u001b[39mimport\u001b[39;00m \u001b[39mplotly\u001b[39;00m\u001b[39m.\u001b[39;00m\u001b[39mio\u001b[39;00m \u001b[39mas\u001b[39;00m \u001b[39mpio\u001b[39;00m\n\u001b[0;32m-> 3390\u001b[0m \u001b[39mreturn\u001b[39;00m pio\u001b[39m.\u001b[39;49mshow(\u001b[39mself\u001b[39;49m, \u001b[39m*\u001b[39;49margs, \u001b[39m*\u001b[39;49m\u001b[39m*\u001b[39;49mkwargs)\n",
      "File \u001b[0;32m/opt/homebrew/anaconda3/envs/vad/lib/python3.10/site-packages/plotly/io/_renderers.py:396\u001b[0m, in \u001b[0;36mshow\u001b[0;34m(fig, renderer, validate, **kwargs)\u001b[0m\n\u001b[1;32m    391\u001b[0m         \u001b[39mraise\u001b[39;00m \u001b[39mValueError\u001b[39;00m(\n\u001b[1;32m    392\u001b[0m             \u001b[39m\"\u001b[39m\u001b[39mMime type rendering requires ipython but it is not installed\u001b[39m\u001b[39m\"\u001b[39m\n\u001b[1;32m    393\u001b[0m         )\n\u001b[1;32m    395\u001b[0m     \u001b[39mif\u001b[39;00m \u001b[39mnot\u001b[39;00m nbformat \u001b[39mor\u001b[39;00m Version(nbformat\u001b[39m.\u001b[39m__version__) \u001b[39m<\u001b[39m Version(\u001b[39m\"\u001b[39m\u001b[39m4.2.0\u001b[39m\u001b[39m\"\u001b[39m):\n\u001b[0;32m--> 396\u001b[0m         \u001b[39mraise\u001b[39;00m \u001b[39mValueError\u001b[39;00m(\n\u001b[1;32m    397\u001b[0m             \u001b[39m\"\u001b[39m\u001b[39mMime type rendering requires nbformat>=4.2.0 but it is not installed\u001b[39m\u001b[39m\"\u001b[39m\n\u001b[1;32m    398\u001b[0m         )\n\u001b[1;32m    400\u001b[0m     ipython_display\u001b[39m.\u001b[39mdisplay(bundle, raw\u001b[39m=\u001b[39m\u001b[39mTrue\u001b[39;00m)\n\u001b[1;32m    402\u001b[0m \u001b[39m# external renderers\u001b[39;00m\n",
      "\u001b[0;31mValueError\u001b[0m: Mime type rendering requires nbformat>=4.2.0 but it is not installed"
     ]
    }
   ],
   "source": [
    "# function to show world map with filters \n",
    "def map_filter(filter):\n",
    "    # ['africa', 'asia', 'europe', 'north america', 'south america', 'usa', 'world']\n",
    "    data_filter = pd.DataFrame()\n",
    "\n",
    "    if country == \"Asia\":\n",
    "        aux_data = data[data[\"continent\"] == country]\n",
    "        aux_scope = \"asia\"\n",
    "\n",
    "    elif country == \"Europe\":\n",
    "        aux_data = data[data[\"continent\"] == country]\n",
    "        aux_scope = \"europe\"\n",
    "\n",
    "    elif country == \"North America\":\n",
    "        aux_data = data[data[\"continent\"] == country]\n",
    "        aux_scope = \"north america\"\n",
    "\n",
    "    elif country == \"South America\":\n",
    "        aux_data = data[data[\"continent\"] == country]\n",
    "        aux_scope = \"south america\"\n",
    "    else:\n",
    "        aux_data = data\n",
    "        aux_scope = \"world\"\n",
    "\n",
    "    if filter in [\"average_cost_rich\",\"average_cost_medium\",\"average_cost_lower\"]:\n",
    "        data_filter = filter\n",
    "    \n",
    "    elif filter == \"safety index\":\n",
    "        data_filter = \"safety_index\"\n",
    "\n",
    "    elif filter == \"unesco props\":\n",
    "        data_filter = \"unesco_props\"\n",
    "\n",
    "    elif filter == \"quality of life\":\n",
    "        data_filter = \"quality_of_life\" \n",
    "\n",
    "    elif filter == \"total population\":\n",
    "        data_filter = \"total_population\"\n",
    "\n",
    "    else:\n",
    "        data_filter = \"average_cost_rich\"\n",
    "    \n",
    "    # Create a Plotly world map with country codes\n",
    "    fig = px.choropleth(data_frame      = aux_data,\n",
    "                        locations       = 'code',\n",
    "                        locationmode    = 'ISO-3',\n",
    "                        color_continuous_scale=['white', 'orange'], # Set color\n",
    "                        color           = data_filter,\n",
    "                        scope           = 'usa')\n",
    "\n",
    "    fig.update_layout(margin={\"r\":0,\"t\":0,\"l\":0,\"b\":0})\n",
    "    fig.show()\n",
    "    lista = aux_data[[\"country\",data_filter]].nlargest(5,data_filter).reset_index(drop=True)\n",
    "    lista.index = lista.index + 1\n",
    "    print(\"lista: \",lista)\n",
    "    #return fig, lista\n",
    "\n",
    "country = \"Europe\"\n",
    "map_filter(\"unesco props\")"
   ]
  },
  {
   "cell_type": "code",
   "execution_count": null,
   "metadata": {},
   "outputs": [
    {
     "data": {
      "application/vnd.plotly.v1+json": {
       "config": {
        "plotlyServerURL": "https://plot.ly"
       },
       "data": [
        {
         "marker": {
          "color": "rgba(246, 78, 139, 0.6)",
          "line": {
           "color": "rgba(246, 78, 139, 1.0)",
           "width": 3
          }
         },
         "name": "SF Zoo",
         "orientation": "h",
         "type": "bar",
         "x": [
          20,
          null,
          14,
          null,
          23
         ],
         "y": [
          "giraffes",
          "orangutans",
          "monkeys"
         ]
        },
        {
         "marker": {
          "color": "rgba(58, 71, 80, 0.6)",
          "line": {
           "color": "rgba(58, 71, 80, 1.0)",
           "width": 3
          }
         },
         "name": "LA Zoo",
         "orientation": "h",
         "type": "bar",
         "x": [
          12,
          null,
          18,
          null,
          29
         ],
         "y": [
          "giraffes",
          "orangutans",
          "monkeys"
         ]
        },
        {
         "line": {
          "color": "black",
          "width": 2
         },
         "mode": "lines",
         "showlegend": false,
         "type": "scatter",
         "x": [
          17,
          17,
          17
         ],
         "y": [
          "giraffes",
          "orangutans",
          "monkeys"
         ]
        }
       ],
       "layout": {
        "barmode": "stack",
        "template": {
         "data": {
          "bar": [
           {
            "error_x": {
             "color": "#2a3f5f"
            },
            "error_y": {
             "color": "#2a3f5f"
            },
            "marker": {
             "line": {
              "color": "#E5ECF6",
              "width": 0.5
             },
             "pattern": {
              "fillmode": "overlay",
              "size": 10,
              "solidity": 0.2
             }
            },
            "type": "bar"
           }
          ],
          "barpolar": [
           {
            "marker": {
             "line": {
              "color": "#E5ECF6",
              "width": 0.5
             },
             "pattern": {
              "fillmode": "overlay",
              "size": 10,
              "solidity": 0.2
             }
            },
            "type": "barpolar"
           }
          ],
          "carpet": [
           {
            "aaxis": {
             "endlinecolor": "#2a3f5f",
             "gridcolor": "white",
             "linecolor": "white",
             "minorgridcolor": "white",
             "startlinecolor": "#2a3f5f"
            },
            "baxis": {
             "endlinecolor": "#2a3f5f",
             "gridcolor": "white",
             "linecolor": "white",
             "minorgridcolor": "white",
             "startlinecolor": "#2a3f5f"
            },
            "type": "carpet"
           }
          ],
          "choropleth": [
           {
            "colorbar": {
             "outlinewidth": 0,
             "ticks": ""
            },
            "type": "choropleth"
           }
          ],
          "contour": [
           {
            "colorbar": {
             "outlinewidth": 0,
             "ticks": ""
            },
            "colorscale": [
             [
              0,
              "#0d0887"
             ],
             [
              0.1111111111111111,
              "#46039f"
             ],
             [
              0.2222222222222222,
              "#7201a8"
             ],
             [
              0.3333333333333333,
              "#9c179e"
             ],
             [
              0.4444444444444444,
              "#bd3786"
             ],
             [
              0.5555555555555556,
              "#d8576b"
             ],
             [
              0.6666666666666666,
              "#ed7953"
             ],
             [
              0.7777777777777778,
              "#fb9f3a"
             ],
             [
              0.8888888888888888,
              "#fdca26"
             ],
             [
              1,
              "#f0f921"
             ]
            ],
            "type": "contour"
           }
          ],
          "contourcarpet": [
           {
            "colorbar": {
             "outlinewidth": 0,
             "ticks": ""
            },
            "type": "contourcarpet"
           }
          ],
          "heatmap": [
           {
            "colorbar": {
             "outlinewidth": 0,
             "ticks": ""
            },
            "colorscale": [
             [
              0,
              "#0d0887"
             ],
             [
              0.1111111111111111,
              "#46039f"
             ],
             [
              0.2222222222222222,
              "#7201a8"
             ],
             [
              0.3333333333333333,
              "#9c179e"
             ],
             [
              0.4444444444444444,
              "#bd3786"
             ],
             [
              0.5555555555555556,
              "#d8576b"
             ],
             [
              0.6666666666666666,
              "#ed7953"
             ],
             [
              0.7777777777777778,
              "#fb9f3a"
             ],
             [
              0.8888888888888888,
              "#fdca26"
             ],
             [
              1,
              "#f0f921"
             ]
            ],
            "type": "heatmap"
           }
          ],
          "heatmapgl": [
           {
            "colorbar": {
             "outlinewidth": 0,
             "ticks": ""
            },
            "colorscale": [
             [
              0,
              "#0d0887"
             ],
             [
              0.1111111111111111,
              "#46039f"
             ],
             [
              0.2222222222222222,
              "#7201a8"
             ],
             [
              0.3333333333333333,
              "#9c179e"
             ],
             [
              0.4444444444444444,
              "#bd3786"
             ],
             [
              0.5555555555555556,
              "#d8576b"
             ],
             [
              0.6666666666666666,
              "#ed7953"
             ],
             [
              0.7777777777777778,
              "#fb9f3a"
             ],
             [
              0.8888888888888888,
              "#fdca26"
             ],
             [
              1,
              "#f0f921"
             ]
            ],
            "type": "heatmapgl"
           }
          ],
          "histogram": [
           {
            "marker": {
             "pattern": {
              "fillmode": "overlay",
              "size": 10,
              "solidity": 0.2
             }
            },
            "type": "histogram"
           }
          ],
          "histogram2d": [
           {
            "colorbar": {
             "outlinewidth": 0,
             "ticks": ""
            },
            "colorscale": [
             [
              0,
              "#0d0887"
             ],
             [
              0.1111111111111111,
              "#46039f"
             ],
             [
              0.2222222222222222,
              "#7201a8"
             ],
             [
              0.3333333333333333,
              "#9c179e"
             ],
             [
              0.4444444444444444,
              "#bd3786"
             ],
             [
              0.5555555555555556,
              "#d8576b"
             ],
             [
              0.6666666666666666,
              "#ed7953"
             ],
             [
              0.7777777777777778,
              "#fb9f3a"
             ],
             [
              0.8888888888888888,
              "#fdca26"
             ],
             [
              1,
              "#f0f921"
             ]
            ],
            "type": "histogram2d"
           }
          ],
          "histogram2dcontour": [
           {
            "colorbar": {
             "outlinewidth": 0,
             "ticks": ""
            },
            "colorscale": [
             [
              0,
              "#0d0887"
             ],
             [
              0.1111111111111111,
              "#46039f"
             ],
             [
              0.2222222222222222,
              "#7201a8"
             ],
             [
              0.3333333333333333,
              "#9c179e"
             ],
             [
              0.4444444444444444,
              "#bd3786"
             ],
             [
              0.5555555555555556,
              "#d8576b"
             ],
             [
              0.6666666666666666,
              "#ed7953"
             ],
             [
              0.7777777777777778,
              "#fb9f3a"
             ],
             [
              0.8888888888888888,
              "#fdca26"
             ],
             [
              1,
              "#f0f921"
             ]
            ],
            "type": "histogram2dcontour"
           }
          ],
          "mesh3d": [
           {
            "colorbar": {
             "outlinewidth": 0,
             "ticks": ""
            },
            "type": "mesh3d"
           }
          ],
          "parcoords": [
           {
            "line": {
             "colorbar": {
              "outlinewidth": 0,
              "ticks": ""
             }
            },
            "type": "parcoords"
           }
          ],
          "pie": [
           {
            "automargin": true,
            "type": "pie"
           }
          ],
          "scatter": [
           {
            "fillpattern": {
             "fillmode": "overlay",
             "size": 10,
             "solidity": 0.2
            },
            "type": "scatter"
           }
          ],
          "scatter3d": [
           {
            "line": {
             "colorbar": {
              "outlinewidth": 0,
              "ticks": ""
             }
            },
            "marker": {
             "colorbar": {
              "outlinewidth": 0,
              "ticks": ""
             }
            },
            "type": "scatter3d"
           }
          ],
          "scattercarpet": [
           {
            "marker": {
             "colorbar": {
              "outlinewidth": 0,
              "ticks": ""
             }
            },
            "type": "scattercarpet"
           }
          ],
          "scattergeo": [
           {
            "marker": {
             "colorbar": {
              "outlinewidth": 0,
              "ticks": ""
             }
            },
            "type": "scattergeo"
           }
          ],
          "scattergl": [
           {
            "marker": {
             "colorbar": {
              "outlinewidth": 0,
              "ticks": ""
             }
            },
            "type": "scattergl"
           }
          ],
          "scattermapbox": [
           {
            "marker": {
             "colorbar": {
              "outlinewidth": 0,
              "ticks": ""
             }
            },
            "type": "scattermapbox"
           }
          ],
          "scatterpolar": [
           {
            "marker": {
             "colorbar": {
              "outlinewidth": 0,
              "ticks": ""
             }
            },
            "type": "scatterpolar"
           }
          ],
          "scatterpolargl": [
           {
            "marker": {
             "colorbar": {
              "outlinewidth": 0,
              "ticks": ""
             }
            },
            "type": "scatterpolargl"
           }
          ],
          "scatterternary": [
           {
            "marker": {
             "colorbar": {
              "outlinewidth": 0,
              "ticks": ""
             }
            },
            "type": "scatterternary"
           }
          ],
          "surface": [
           {
            "colorbar": {
             "outlinewidth": 0,
             "ticks": ""
            },
            "colorscale": [
             [
              0,
              "#0d0887"
             ],
             [
              0.1111111111111111,
              "#46039f"
             ],
             [
              0.2222222222222222,
              "#7201a8"
             ],
             [
              0.3333333333333333,
              "#9c179e"
             ],
             [
              0.4444444444444444,
              "#bd3786"
             ],
             [
              0.5555555555555556,
              "#d8576b"
             ],
             [
              0.6666666666666666,
              "#ed7953"
             ],
             [
              0.7777777777777778,
              "#fb9f3a"
             ],
             [
              0.8888888888888888,
              "#fdca26"
             ],
             [
              1,
              "#f0f921"
             ]
            ],
            "type": "surface"
           }
          ],
          "table": [
           {
            "cells": {
             "fill": {
              "color": "#EBF0F8"
             },
             "line": {
              "color": "white"
             }
            },
            "header": {
             "fill": {
              "color": "#C8D4E3"
             },
             "line": {
              "color": "white"
             }
            },
            "type": "table"
           }
          ]
         },
         "layout": {
          "annotationdefaults": {
           "arrowcolor": "#2a3f5f",
           "arrowhead": 0,
           "arrowwidth": 1
          },
          "autotypenumbers": "strict",
          "coloraxis": {
           "colorbar": {
            "outlinewidth": 0,
            "ticks": ""
           }
          },
          "colorscale": {
           "diverging": [
            [
             0,
             "#8e0152"
            ],
            [
             0.1,
             "#c51b7d"
            ],
            [
             0.2,
             "#de77ae"
            ],
            [
             0.3,
             "#f1b6da"
            ],
            [
             0.4,
             "#fde0ef"
            ],
            [
             0.5,
             "#f7f7f7"
            ],
            [
             0.6,
             "#e6f5d0"
            ],
            [
             0.7,
             "#b8e186"
            ],
            [
             0.8,
             "#7fbc41"
            ],
            [
             0.9,
             "#4d9221"
            ],
            [
             1,
             "#276419"
            ]
           ],
           "sequential": [
            [
             0,
             "#0d0887"
            ],
            [
             0.1111111111111111,
             "#46039f"
            ],
            [
             0.2222222222222222,
             "#7201a8"
            ],
            [
             0.3333333333333333,
             "#9c179e"
            ],
            [
             0.4444444444444444,
             "#bd3786"
            ],
            [
             0.5555555555555556,
             "#d8576b"
            ],
            [
             0.6666666666666666,
             "#ed7953"
            ],
            [
             0.7777777777777778,
             "#fb9f3a"
            ],
            [
             0.8888888888888888,
             "#fdca26"
            ],
            [
             1,
             "#f0f921"
            ]
           ],
           "sequentialminus": [
            [
             0,
             "#0d0887"
            ],
            [
             0.1111111111111111,
             "#46039f"
            ],
            [
             0.2222222222222222,
             "#7201a8"
            ],
            [
             0.3333333333333333,
             "#9c179e"
            ],
            [
             0.4444444444444444,
             "#bd3786"
            ],
            [
             0.5555555555555556,
             "#d8576b"
            ],
            [
             0.6666666666666666,
             "#ed7953"
            ],
            [
             0.7777777777777778,
             "#fb9f3a"
            ],
            [
             0.8888888888888888,
             "#fdca26"
            ],
            [
             1,
             "#f0f921"
            ]
           ]
          },
          "colorway": [
           "#636efa",
           "#EF553B",
           "#00cc96",
           "#ab63fa",
           "#FFA15A",
           "#19d3f3",
           "#FF6692",
           "#B6E880",
           "#FF97FF",
           "#FECB52"
          ],
          "font": {
           "color": "#2a3f5f"
          },
          "geo": {
           "bgcolor": "white",
           "lakecolor": "white",
           "landcolor": "#E5ECF6",
           "showlakes": true,
           "showland": true,
           "subunitcolor": "white"
          },
          "hoverlabel": {
           "align": "left"
          },
          "hovermode": "closest",
          "mapbox": {
           "style": "light"
          },
          "paper_bgcolor": "white",
          "plot_bgcolor": "#E5ECF6",
          "polar": {
           "angularaxis": {
            "gridcolor": "white",
            "linecolor": "white",
            "ticks": ""
           },
           "bgcolor": "#E5ECF6",
           "radialaxis": {
            "gridcolor": "white",
            "linecolor": "white",
            "ticks": ""
           }
          },
          "scene": {
           "xaxis": {
            "backgroundcolor": "#E5ECF6",
            "gridcolor": "white",
            "gridwidth": 2,
            "linecolor": "white",
            "showbackground": true,
            "ticks": "",
            "zerolinecolor": "white"
           },
           "yaxis": {
            "backgroundcolor": "#E5ECF6",
            "gridcolor": "white",
            "gridwidth": 2,
            "linecolor": "white",
            "showbackground": true,
            "ticks": "",
            "zerolinecolor": "white"
           },
           "zaxis": {
            "backgroundcolor": "#E5ECF6",
            "gridcolor": "white",
            "gridwidth": 2,
            "linecolor": "white",
            "showbackground": true,
            "ticks": "",
            "zerolinecolor": "white"
           }
          },
          "shapedefaults": {
           "line": {
            "color": "#2a3f5f"
           }
          },
          "ternary": {
           "aaxis": {
            "gridcolor": "white",
            "linecolor": "white",
            "ticks": ""
           },
           "baxis": {
            "gridcolor": "white",
            "linecolor": "white",
            "ticks": ""
           },
           "bgcolor": "#E5ECF6",
           "caxis": {
            "gridcolor": "white",
            "linecolor": "white",
            "ticks": ""
           }
          },
          "title": {
           "x": 0.05
          },
          "xaxis": {
           "automargin": true,
           "gridcolor": "white",
           "linecolor": "white",
           "ticks": "",
           "title": {
            "standoff": 15
           },
           "zerolinecolor": "white",
           "zerolinewidth": 2
          },
          "yaxis": {
           "automargin": true,
           "gridcolor": "white",
           "linecolor": "white",
           "ticks": "",
           "title": {
            "standoff": 15
           },
           "zerolinecolor": "white",
           "zerolinewidth": 2
          }
         }
        }
       }
      }
     },
     "metadata": {},
     "output_type": "display_data"
    }
   ],
   "source": [
    "import plotly.graph_objects as go\n",
    "\n",
    "# Create the bar chart\n",
    "fig = go.Figure()\n",
    "\n",
    "fig.add_trace(go.Bar(\n",
    "    y=['giraffes', 'orangutans', 'monkeys'],\n",
    "    x=[20, None, 14, None, 23],\n",
    "    name='SF Zoo',\n",
    "    orientation='h',\n",
    "    marker=dict(\n",
    "        color='rgba(246, 78, 139, 0.6)',\n",
    "        line=dict(color='rgba(246, 78, 139, 1.0)', width=3)\n",
    "    )\n",
    "))\n",
    "fig.add_trace(go.Bar(\n",
    "    y=['giraffes', 'orangutans', 'monkeys'],\n",
    "    x=[12, None, 18, None, 29],\n",
    "    name='LA Zoo',\n",
    "    orientation='h',\n",
    "    marker=dict(\n",
    "        color='rgba(58, 71, 80, 0.6)',\n",
    "        line=dict(color='rgba(58, 71, 80, 1.0)', width=3)\n",
    "    )\n",
    "))\n",
    "\n",
    "# Create the line chart\n",
    "fig.add_trace(go.Scatter(\n",
    "    y=['giraffes', 'orangutans', 'monkeys'],\n",
    "    x=[17, 17, 17],  # x values for the line chart\n",
    "    mode='lines',\n",
    "    line=dict(color='black', width=2),\n",
    "    showlegend=False\n",
    "))\n",
    "\n",
    "# Update the layout\n",
    "fig.update_layout(barmode='stack')\n",
    "\n",
    "fig.show()\n"
   ]
  },
  {
   "cell_type": "code",
   "execution_count": null,
   "metadata": {},
   "outputs": [
    {
     "ename": "ValueError",
     "evalue": "Mime type rendering requires nbformat>=4.2.0 but it is not installed",
     "output_type": "error",
     "traceback": [
      "\u001b[0;31m---------------------------------------------------------------------------\u001b[0m",
      "\u001b[0;31mValueError\u001b[0m                                Traceback (most recent call last)",
      "\u001b[1;32m/Users/joanasimoes/Desktop/projects/VAD.PROJETO/src/tst/funtions.ipynb Cell 7\u001b[0m in \u001b[0;36m<cell line: 18>\u001b[0;34m()\u001b[0m\n\u001b[1;32m     <a href='vscode-notebook-cell:/Users/joanasimoes/Desktop/projects/VAD.PROJETO/src/tst/funtions.ipynb#W6sZmlsZQ%3D%3D?line=14'>15</a>\u001b[0m     \u001b[39m# Show the chart\u001b[39;00m\n\u001b[1;32m     <a href='vscode-notebook-cell:/Users/joanasimoes/Desktop/projects/VAD.PROJETO/src/tst/funtions.ipynb#W6sZmlsZQ%3D%3D?line=15'>16</a>\u001b[0m     fig\u001b[39m.\u001b[39mshow()\n\u001b[0;32m---> <a href='vscode-notebook-cell:/Users/joanasimoes/Desktop/projects/VAD.PROJETO/src/tst/funtions.ipynb#W6sZmlsZQ%3D%3D?line=17'>18</a>\u001b[0m aux_graph(\u001b[39m\"\u001b[39;49m\u001b[39munesco_props\u001b[39;49m\u001b[39m\"\u001b[39;49m)\n",
      "\u001b[1;32m/Users/joanasimoes/Desktop/projects/VAD.PROJETO/src/tst/funtions.ipynb Cell 7\u001b[0m in \u001b[0;36maux_graph\u001b[0;34m(filter)\u001b[0m\n\u001b[1;32m      <a href='vscode-notebook-cell:/Users/joanasimoes/Desktop/projects/VAD.PROJETO/src/tst/funtions.ipynb#W6sZmlsZQ%3D%3D?line=7'>8</a>\u001b[0m fig \u001b[39m=\u001b[39m px\u001b[39m.\u001b[39mline(data_frame \u001b[39m=\u001b[39m data,\n\u001b[1;32m      <a href='vscode-notebook-cell:/Users/joanasimoes/Desktop/projects/VAD.PROJETO/src/tst/funtions.ipynb#W6sZmlsZQ%3D%3D?line=8'>9</a>\u001b[0m               x \u001b[39m=\u001b[39m data\u001b[39m.\u001b[39mindex, \n\u001b[1;32m     <a href='vscode-notebook-cell:/Users/joanasimoes/Desktop/projects/VAD.PROJETO/src/tst/funtions.ipynb#W6sZmlsZQ%3D%3D?line=9'>10</a>\u001b[0m               y \u001b[39m=\u001b[39m column_data, \n\u001b[1;32m     <a href='vscode-notebook-cell:/Users/joanasimoes/Desktop/projects/VAD.PROJETO/src/tst/funtions.ipynb#W6sZmlsZQ%3D%3D?line=10'>11</a>\u001b[0m               labels \u001b[39m=\u001b[39m {\u001b[39m'\u001b[39m\u001b[39mx\u001b[39m\u001b[39m'\u001b[39m: \u001b[39m'\u001b[39m\u001b[39mIndex\u001b[39m\u001b[39m'\u001b[39m, \u001b[39m'\u001b[39m\u001b[39my\u001b[39m\u001b[39m'\u001b[39m: \u001b[39mfilter\u001b[39m},\n\u001b[1;32m     <a href='vscode-notebook-cell:/Users/joanasimoes/Desktop/projects/VAD.PROJETO/src/tst/funtions.ipynb#W6sZmlsZQ%3D%3D?line=11'>12</a>\u001b[0m               hover_data \u001b[39m=\u001b[39m {\u001b[39mfilter\u001b[39m: \u001b[39m'\u001b[39m\u001b[39m:.2f\u001b[39m\u001b[39m'\u001b[39m},\n\u001b[1;32m     <a href='vscode-notebook-cell:/Users/joanasimoes/Desktop/projects/VAD.PROJETO/src/tst/funtions.ipynb#W6sZmlsZQ%3D%3D?line=12'>13</a>\u001b[0m               hover_name \u001b[39m=\u001b[39m aux_data\u001b[39m.\u001b[39mcountry)\n\u001b[1;32m     <a href='vscode-notebook-cell:/Users/joanasimoes/Desktop/projects/VAD.PROJETO/src/tst/funtions.ipynb#W6sZmlsZQ%3D%3D?line=14'>15</a>\u001b[0m \u001b[39m# Show the chart\u001b[39;00m\n\u001b[0;32m---> <a href='vscode-notebook-cell:/Users/joanasimoes/Desktop/projects/VAD.PROJETO/src/tst/funtions.ipynb#W6sZmlsZQ%3D%3D?line=15'>16</a>\u001b[0m fig\u001b[39m.\u001b[39;49mshow()\n",
      "File \u001b[0;32m/opt/homebrew/anaconda3/envs/vad/lib/python3.10/site-packages/plotly/basedatatypes.py:3390\u001b[0m, in \u001b[0;36mBaseFigure.show\u001b[0;34m(self, *args, **kwargs)\u001b[0m\n\u001b[1;32m   3357\u001b[0m \u001b[39m\"\"\"\u001b[39;00m\n\u001b[1;32m   3358\u001b[0m \u001b[39mShow a figure using either the default renderer(s) or the renderer(s)\u001b[39;00m\n\u001b[1;32m   3359\u001b[0m \u001b[39mspecified by the renderer argument\u001b[39;00m\n\u001b[0;32m   (...)\u001b[0m\n\u001b[1;32m   3386\u001b[0m \u001b[39mNone\u001b[39;00m\n\u001b[1;32m   3387\u001b[0m \u001b[39m\"\"\"\u001b[39;00m\n\u001b[1;32m   3388\u001b[0m \u001b[39mimport\u001b[39;00m \u001b[39mplotly\u001b[39;00m\u001b[39m.\u001b[39;00m\u001b[39mio\u001b[39;00m \u001b[39mas\u001b[39;00m \u001b[39mpio\u001b[39;00m\n\u001b[0;32m-> 3390\u001b[0m \u001b[39mreturn\u001b[39;00m pio\u001b[39m.\u001b[39;49mshow(\u001b[39mself\u001b[39;49m, \u001b[39m*\u001b[39;49margs, \u001b[39m*\u001b[39;49m\u001b[39m*\u001b[39;49mkwargs)\n",
      "File \u001b[0;32m/opt/homebrew/anaconda3/envs/vad/lib/python3.10/site-packages/plotly/io/_renderers.py:396\u001b[0m, in \u001b[0;36mshow\u001b[0;34m(fig, renderer, validate, **kwargs)\u001b[0m\n\u001b[1;32m    391\u001b[0m         \u001b[39mraise\u001b[39;00m \u001b[39mValueError\u001b[39;00m(\n\u001b[1;32m    392\u001b[0m             \u001b[39m\"\u001b[39m\u001b[39mMime type rendering requires ipython but it is not installed\u001b[39m\u001b[39m\"\u001b[39m\n\u001b[1;32m    393\u001b[0m         )\n\u001b[1;32m    395\u001b[0m     \u001b[39mif\u001b[39;00m \u001b[39mnot\u001b[39;00m nbformat \u001b[39mor\u001b[39;00m Version(nbformat\u001b[39m.\u001b[39m__version__) \u001b[39m<\u001b[39m Version(\u001b[39m\"\u001b[39m\u001b[39m4.2.0\u001b[39m\u001b[39m\"\u001b[39m):\n\u001b[0;32m--> 396\u001b[0m         \u001b[39mraise\u001b[39;00m \u001b[39mValueError\u001b[39;00m(\n\u001b[1;32m    397\u001b[0m             \u001b[39m\"\u001b[39m\u001b[39mMime type rendering requires nbformat>=4.2.0 but it is not installed\u001b[39m\u001b[39m\"\u001b[39m\n\u001b[1;32m    398\u001b[0m         )\n\u001b[1;32m    400\u001b[0m     ipython_display\u001b[39m.\u001b[39mdisplay(bundle, raw\u001b[39m=\u001b[39m\u001b[39mTrue\u001b[39;00m)\n\u001b[1;32m    402\u001b[0m \u001b[39m# external renderers\u001b[39;00m\n",
      "\u001b[0;31mValueError\u001b[0m: Mime type rendering requires nbformat>=4.2.0 but it is not installed"
     ]
    }
   ],
   "source": [
    "def aux_graph(filter):\n",
    "\n",
    "    # Convert column to list in ascending order\n",
    "    aux_data = data.sort_values(by=filter, ascending=True)\n",
    "    column_data = aux_data[filter].sort_values().tolist()\n",
    "\n",
    "    # Create line chart using Plotly\n",
    "    fig = px.line(data_frame = data,\n",
    "                  x = data.index, \n",
    "                  y = column_data, \n",
    "                  labels = {'x': 'Index', 'y': filter},\n",
    "                  hover_data = {filter: ':.2f'},\n",
    "                  hover_name = aux_data.country)\n",
    "\n",
    "    # Show the chart\n",
    "    fig.show()\n",
    "\n",
    "aux_graph(\"unesco_props\")"
   ]
  },
  {
   "cell_type": "code",
   "execution_count": null,
   "metadata": {},
   "outputs": [
    {
     "data": {
      "text/html": [
       "<div>\n",
       "<style scoped>\n",
       "    .dataframe tbody tr th:only-of-type {\n",
       "        vertical-align: middle;\n",
       "    }\n",
       "\n",
       "    .dataframe tbody tr th {\n",
       "        vertical-align: top;\n",
       "    }\n",
       "\n",
       "    .dataframe thead th {\n",
       "        text-align: right;\n",
       "    }\n",
       "</style>\n",
       "<table border=\"1\" class=\"dataframe\">\n",
       "  <thead>\n",
       "    <tr style=\"text-align: right;\">\n",
       "      <th></th>\n",
       "      <th>country</th>\n",
       "      <th>x1</th>\n",
       "      <th>x2</th>\n",
       "      <th>x3</th>\n",
       "      <th>x4</th>\n",
       "      <th>x5</th>\n",
       "      <th>x6</th>\n",
       "      <th>x7</th>\n",
       "      <th>x8</th>\n",
       "      <th>x23</th>\n",
       "      <th>...</th>\n",
       "      <th>pop_15_64_%_male</th>\n",
       "      <th>pop_65_plus_%</th>\n",
       "      <th>pop_65_plus_%_female</th>\n",
       "      <th>pop_65_plus_%_male</th>\n",
       "      <th>continent</th>\n",
       "      <th>female_population</th>\n",
       "      <th>male_population</th>\n",
       "      <th>average_cost_rich</th>\n",
       "      <th>average_cost_medium</th>\n",
       "      <th>average_cost_lower</th>\n",
       "    </tr>\n",
       "  </thead>\n",
       "  <tbody>\n",
       "    <tr>\n",
       "      <th>0</th>\n",
       "      <td>Afghanistan</td>\n",
       "      <td>1.690000</td>\n",
       "      <td>6.870000</td>\n",
       "      <td>2.977500</td>\n",
       "      <td>2.260000</td>\n",
       "      <td>NaN</td>\n",
       "      <td>0.597500</td>\n",
       "      <td>0.327500</td>\n",
       "      <td>0.140000</td>\n",
       "      <td>0.226000</td>\n",
       "      <td>...</td>\n",
       "      <td>53.951822</td>\n",
       "      <td>2.404058</td>\n",
       "      <td>2.768015</td>\n",
       "      <td>2.047475</td>\n",
       "      <td>Asia</td>\n",
       "      <td>19844584.0</td>\n",
       "      <td>20254878.0</td>\n",
       "      <td>424.636000</td>\n",
       "      <td>376.758500</td>\n",
       "      <td>50.286000</td>\n",
       "    </tr>\n",
       "    <tr>\n",
       "      <th>1</th>\n",
       "      <td>Albania</td>\n",
       "      <td>4.460000</td>\n",
       "      <td>25.532000</td>\n",
       "      <td>4.223333</td>\n",
       "      <td>1.378667</td>\n",
       "      <td>1.842667</td>\n",
       "      <td>1.198667</td>\n",
       "      <td>1.148667</td>\n",
       "      <td>0.604000</td>\n",
       "      <td>0.534000</td>\n",
       "      <td>...</td>\n",
       "      <td>67.601993</td>\n",
       "      <td>16.234241</td>\n",
       "      <td>16.687991</td>\n",
       "      <td>15.779600</td>\n",
       "      <td>Europe</td>\n",
       "      <td>1407212.0</td>\n",
       "      <td>1404454.0</td>\n",
       "      <td>291.958195</td>\n",
       "      <td>159.758195</td>\n",
       "      <td>137.898000</td>\n",
       "    </tr>\n",
       "    <tr>\n",
       "      <th>2</th>\n",
       "      <td>Algeria</td>\n",
       "      <td>1.956562</td>\n",
       "      <td>13.983750</td>\n",
       "      <td>2.830000</td>\n",
       "      <td>1.419615</td>\n",
       "      <td>1.627778</td>\n",
       "      <td>0.507333</td>\n",
       "      <td>0.489091</td>\n",
       "      <td>0.198788</td>\n",
       "      <td>0.270294</td>\n",
       "      <td>...</td>\n",
       "      <td>63.375825</td>\n",
       "      <td>6.182000</td>\n",
       "      <td>6.556375</td>\n",
       "      <td>5.821213</td>\n",
       "      <td>Africa</td>\n",
       "      <td>21680725.0</td>\n",
       "      <td>22497244.0</td>\n",
       "      <td>223.223439</td>\n",
       "      <td>143.947011</td>\n",
       "      <td>101.511837</td>\n",
       "    </tr>\n",
       "    <tr>\n",
       "      <th>3</th>\n",
       "      <td>American Samoa</td>\n",
       "      <td>23.820000</td>\n",
       "      <td>6.660000</td>\n",
       "      <td>22.130000</td>\n",
       "      <td>1.910000</td>\n",
       "      <td>1.910000</td>\n",
       "      <td>1.000000</td>\n",
       "      <td>1.190000</td>\n",
       "      <td>2.110000</td>\n",
       "      <td>NaN</td>\n",
       "      <td>...</td>\n",
       "      <td>65.370811</td>\n",
       "      <td>6.844676</td>\n",
       "      <td>7.658489</td>\n",
       "      <td>6.014177</td>\n",
       "      <td>Oceania</td>\n",
       "      <td>22746.0</td>\n",
       "      <td>22289.0</td>\n",
       "      <td>NaN</td>\n",
       "      <td>NaN</td>\n",
       "      <td>NaN</td>\n",
       "    </tr>\n",
       "    <tr>\n",
       "      <th>4</th>\n",
       "      <td>Andorra</td>\n",
       "      <td>13.173333</td>\n",
       "      <td>40.920000</td>\n",
       "      <td>7.010000</td>\n",
       "      <td>2.073333</td>\n",
       "      <td>2.600000</td>\n",
       "      <td>1.380000</td>\n",
       "      <td>1.713333</td>\n",
       "      <td>1.370000</td>\n",
       "      <td>0.760000</td>\n",
       "      <td>...</td>\n",
       "      <td>73.174267</td>\n",
       "      <td>14.535516</td>\n",
       "      <td>15.365819</td>\n",
       "      <td>13.739919</td>\n",
       "      <td>Europe</td>\n",
       "      <td>38673.0</td>\n",
       "      <td>40361.0</td>\n",
       "      <td>974.880000</td>\n",
       "      <td>733.016667</td>\n",
       "      <td>696.913333</td>\n",
       "    </tr>\n",
       "    <tr>\n",
       "      <th>...</th>\n",
       "      <td>...</td>\n",
       "      <td>...</td>\n",
       "      <td>...</td>\n",
       "      <td>...</td>\n",
       "      <td>...</td>\n",
       "      <td>...</td>\n",
       "      <td>...</td>\n",
       "      <td>...</td>\n",
       "      <td>...</td>\n",
       "      <td>...</td>\n",
       "      <td>...</td>\n",
       "      <td>...</td>\n",
       "      <td>...</td>\n",
       "      <td>...</td>\n",
       "      <td>...</td>\n",
       "      <td>...</td>\n",
       "      <td>...</td>\n",
       "      <td>...</td>\n",
       "      <td>...</td>\n",
       "      <td>...</td>\n",
       "      <td>...</td>\n",
       "    </tr>\n",
       "    <tr>\n",
       "      <th>210</th>\n",
       "      <td>Venezuela</td>\n",
       "      <td>8.618824</td>\n",
       "      <td>32.763333</td>\n",
       "      <td>9.021765</td>\n",
       "      <td>1.442353</td>\n",
       "      <td>2.205882</td>\n",
       "      <td>1.928824</td>\n",
       "      <td>1.110000</td>\n",
       "      <td>0.799412</td>\n",
       "      <td>1.235714</td>\n",
       "      <td>...</td>\n",
       "      <td>63.657687</td>\n",
       "      <td>8.338137</td>\n",
       "      <td>9.521510</td>\n",
       "      <td>7.130493</td>\n",
       "      <td>South America</td>\n",
       "      <td>14243056.0</td>\n",
       "      <td>13956811.0</td>\n",
       "      <td>323.523683</td>\n",
       "      <td>252.218852</td>\n",
       "      <td>201.746106</td>\n",
       "    </tr>\n",
       "    <tr>\n",
       "      <th>211</th>\n",
       "      <td>Vietnam</td>\n",
       "      <td>2.115882</td>\n",
       "      <td>18.662353</td>\n",
       "      <td>4.231429</td>\n",
       "      <td>0.790625</td>\n",
       "      <td>1.542353</td>\n",
       "      <td>1.689412</td>\n",
       "      <td>0.478824</td>\n",
       "      <td>0.281176</td>\n",
       "      <td>0.640526</td>\n",
       "      <td>...</td>\n",
       "      <td>68.952645</td>\n",
       "      <td>8.753134</td>\n",
       "      <td>10.412813</td>\n",
       "      <td>7.052230</td>\n",
       "      <td>Asia</td>\n",
       "      <td>49331842.0</td>\n",
       "      <td>48136186.0</td>\n",
       "      <td>387.208270</td>\n",
       "      <td>225.876811</td>\n",
       "      <td>207.580740</td>\n",
       "    </tr>\n",
       "    <tr>\n",
       "      <th>212</th>\n",
       "      <td>Yemen</td>\n",
       "      <td>6.150000</td>\n",
       "      <td>32.616667</td>\n",
       "      <td>11.158333</td>\n",
       "      <td>2.265000</td>\n",
       "      <td>2.282500</td>\n",
       "      <td>2.540000</td>\n",
       "      <td>1.610000</td>\n",
       "      <td>0.660000</td>\n",
       "      <td>1.072000</td>\n",
       "      <td>...</td>\n",
       "      <td>57.326028</td>\n",
       "      <td>2.689038</td>\n",
       "      <td>3.101609</td>\n",
       "      <td>2.285260</td>\n",
       "      <td>Asia</td>\n",
       "      <td>16313210.0</td>\n",
       "      <td>16668432.0</td>\n",
       "      <td>312.581333</td>\n",
       "      <td>184.979667</td>\n",
       "      <td>108.332000</td>\n",
       "    </tr>\n",
       "    <tr>\n",
       "      <th>213</th>\n",
       "      <td>Zambia</td>\n",
       "      <td>2.988000</td>\n",
       "      <td>18.370000</td>\n",
       "      <td>3.170000</td>\n",
       "      <td>1.152000</td>\n",
       "      <td>1.494000</td>\n",
       "      <td>1.742000</td>\n",
       "      <td>0.822000</td>\n",
       "      <td>0.458000</td>\n",
       "      <td>0.890000</td>\n",
       "      <td>...</td>\n",
       "      <td>54.818413</td>\n",
       "      <td>1.738930</td>\n",
       "      <td>2.113726</td>\n",
       "      <td>1.354183</td>\n",
       "      <td>Africa</td>\n",
       "      <td>9864121.0</td>\n",
       "      <td>9609004.0</td>\n",
       "      <td>417.066000</td>\n",
       "      <td>285.814000</td>\n",
       "      <td>176.424000</td>\n",
       "    </tr>\n",
       "    <tr>\n",
       "      <th>214</th>\n",
       "      <td>Zimbabwe</td>\n",
       "      <td>6.843750</td>\n",
       "      <td>36.250000</td>\n",
       "      <td>6.187500</td>\n",
       "      <td>1.318750</td>\n",
       "      <td>1.971429</td>\n",
       "      <td>2.285000</td>\n",
       "      <td>0.665000</td>\n",
       "      <td>0.470000</td>\n",
       "      <td>0.981250</td>\n",
       "      <td>...</td>\n",
       "      <td>53.860375</td>\n",
       "      <td>3.363343</td>\n",
       "      <td>3.816182</td>\n",
       "      <td>2.856109</td>\n",
       "      <td>Africa</td>\n",
       "      <td>8449834.0</td>\n",
       "      <td>7543690.0</td>\n",
       "      <td>399.377917</td>\n",
       "      <td>335.804167</td>\n",
       "      <td>226.703750</td>\n",
       "    </tr>\n",
       "  </tbody>\n",
       "</table>\n",
       "<p>215 rows × 41 columns</p>\n",
       "</div>"
      ],
      "text/plain": [
       "            country         x1         x2         x3        x4        x5   \n",
       "0       Afghanistan   1.690000   6.870000   2.977500  2.260000       NaN  \\\n",
       "1           Albania   4.460000  25.532000   4.223333  1.378667  1.842667   \n",
       "2           Algeria   1.956562  13.983750   2.830000  1.419615  1.627778   \n",
       "3    American Samoa  23.820000   6.660000  22.130000  1.910000  1.910000   \n",
       "4           Andorra  13.173333  40.920000   7.010000  2.073333  2.600000   \n",
       "..              ...        ...        ...        ...       ...       ...   \n",
       "210       Venezuela   8.618824  32.763333   9.021765  1.442353  2.205882   \n",
       "211         Vietnam   2.115882  18.662353   4.231429  0.790625  1.542353   \n",
       "212           Yemen   6.150000  32.616667  11.158333  2.265000  2.282500   \n",
       "213          Zambia   2.988000  18.370000   3.170000  1.152000  1.494000   \n",
       "214        Zimbabwe   6.843750  36.250000   6.187500  1.318750  1.971429   \n",
       "\n",
       "           x6        x7        x8       x23  ...  pop_15_64_%_male   \n",
       "0    0.597500  0.327500  0.140000  0.226000  ...         53.951822  \\\n",
       "1    1.198667  1.148667  0.604000  0.534000  ...         67.601993   \n",
       "2    0.507333  0.489091  0.198788  0.270294  ...         63.375825   \n",
       "3    1.000000  1.190000  2.110000       NaN  ...         65.370811   \n",
       "4    1.380000  1.713333  1.370000  0.760000  ...         73.174267   \n",
       "..        ...       ...       ...       ...  ...               ...   \n",
       "210  1.928824  1.110000  0.799412  1.235714  ...         63.657687   \n",
       "211  1.689412  0.478824  0.281176  0.640526  ...         68.952645   \n",
       "212  2.540000  1.610000  0.660000  1.072000  ...         57.326028   \n",
       "213  1.742000  0.822000  0.458000  0.890000  ...         54.818413   \n",
       "214  2.285000  0.665000  0.470000  0.981250  ...         53.860375   \n",
       "\n",
       "     pop_65_plus_%  pop_65_plus_%_female  pop_65_plus_%_male      continent   \n",
       "0         2.404058              2.768015            2.047475           Asia  \\\n",
       "1        16.234241             16.687991           15.779600         Europe   \n",
       "2         6.182000              6.556375            5.821213         Africa   \n",
       "3         6.844676              7.658489            6.014177        Oceania   \n",
       "4        14.535516             15.365819           13.739919         Europe   \n",
       "..             ...                   ...                 ...            ...   \n",
       "210       8.338137              9.521510            7.130493  South America   \n",
       "211       8.753134             10.412813            7.052230           Asia   \n",
       "212       2.689038              3.101609            2.285260           Asia   \n",
       "213       1.738930              2.113726            1.354183         Africa   \n",
       "214       3.363343              3.816182            2.856109         Africa   \n",
       "\n",
       "     female_population  male_population  average_cost_rich   \n",
       "0           19844584.0       20254878.0         424.636000  \\\n",
       "1            1407212.0        1404454.0         291.958195   \n",
       "2           21680725.0       22497244.0         223.223439   \n",
       "3              22746.0          22289.0                NaN   \n",
       "4              38673.0          40361.0         974.880000   \n",
       "..                 ...              ...                ...   \n",
       "210         14243056.0       13956811.0         323.523683   \n",
       "211         49331842.0       48136186.0         387.208270   \n",
       "212         16313210.0       16668432.0         312.581333   \n",
       "213          9864121.0        9609004.0         417.066000   \n",
       "214          8449834.0        7543690.0         399.377917   \n",
       "\n",
       "     average_cost_medium  average_cost_lower  \n",
       "0             376.758500           50.286000  \n",
       "1             159.758195          137.898000  \n",
       "2             143.947011          101.511837  \n",
       "3                    NaN                 NaN  \n",
       "4             733.016667          696.913333  \n",
       "..                   ...                 ...  \n",
       "210           252.218852          201.746106  \n",
       "211           225.876811          207.580740  \n",
       "212           184.979667          108.332000  \n",
       "213           285.814000          176.424000  \n",
       "214           335.804167          226.703750  \n",
       "\n",
       "[215 rows x 41 columns]"
      ]
     },
     "execution_count": 15,
     "metadata": {},
     "output_type": "execute_result"
    }
   ],
   "source": [
    "data"
   ]
  },
  {
   "cell_type": "code",
   "execution_count": null,
   "metadata": {},
   "outputs": [],
   "source": [
    "import plotly.graph_objects as go\n",
    "import plotly.express as px\n"
   ]
  }
 ],
 "metadata": {
  "kernelspec": {
   "display_name": "vad",
   "language": "python",
   "name": "vad"
  },
  "language_info": {
   "codemirror_mode": {
    "name": "ipython",
    "version": 3
   },
   "file_extension": ".py",
   "mimetype": "text/x-python",
   "name": "python",
   "nbconvert_exporter": "python",
   "pygments_lexer": "ipython3",
   "version": "3.10.4"
  },
  "orig_nbformat": 4
 },
 "nbformat": 4,
 "nbformat_minor": 2
}
