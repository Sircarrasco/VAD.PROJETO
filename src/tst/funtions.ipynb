{
 "cells": [
  {
   "cell_type": "code",
   "execution_count": 24,
   "metadata": {},
   "outputs": [],
   "source": [
    "import pandas as pd\n",
    "import numpy as np \n",
    "import seaborn as sns\n",
    "import matplotlib.pyplot as plt\n",
    "import os\n",
    "import plotly.express as px"
   ]
  },
  {
   "cell_type": "code",
   "execution_count": 25,
   "metadata": {},
   "outputs": [
    {
     "data": {
      "text/html": [
       "<div>\n",
       "<style scoped>\n",
       "    .dataframe tbody tr th:only-of-type {\n",
       "        vertical-align: middle;\n",
       "    }\n",
       "\n",
       "    .dataframe tbody tr th {\n",
       "        vertical-align: top;\n",
       "    }\n",
       "\n",
       "    .dataframe thead th {\n",
       "        text-align: right;\n",
       "    }\n",
       "</style>\n",
       "<table border=\"1\" class=\"dataframe\">\n",
       "  <thead>\n",
       "    <tr style=\"text-align: right;\">\n",
       "      <th></th>\n",
       "      <th>country</th>\n",
       "      <th>x1</th>\n",
       "      <th>x2</th>\n",
       "      <th>x3</th>\n",
       "      <th>x4</th>\n",
       "      <th>x5</th>\n",
       "      <th>x6</th>\n",
       "      <th>x7</th>\n",
       "      <th>x8</th>\n",
       "      <th>x23</th>\n",
       "      <th>...</th>\n",
       "      <th>pop_0_14_%</th>\n",
       "      <th>pop_0_14_%_female</th>\n",
       "      <th>pop_0_14_%_male</th>\n",
       "      <th>pop_15_64_%</th>\n",
       "      <th>pop_15_64_%_female</th>\n",
       "      <th>pop_15_64_%_male</th>\n",
       "      <th>pop_65_plus_%</th>\n",
       "      <th>pop_65_plus_%_female</th>\n",
       "      <th>pop_65_plus_%_male</th>\n",
       "      <th>continent</th>\n",
       "    </tr>\n",
       "  </thead>\n",
       "  <tbody>\n",
       "    <tr>\n",
       "      <th>0</th>\n",
       "      <td>Afghanistan</td>\n",
       "      <td>1.690000</td>\n",
       "      <td>6.870000</td>\n",
       "      <td>2.977500</td>\n",
       "      <td>2.260000</td>\n",
       "      <td>NaN</td>\n",
       "      <td>0.597500</td>\n",
       "      <td>0.327500</td>\n",
       "      <td>0.140000</td>\n",
       "      <td>0.226000</td>\n",
       "      <td>...</td>\n",
       "      <td>43.424543</td>\n",
       "      <td>42.836470</td>\n",
       "      <td>44.000703</td>\n",
       "      <td>54.171399</td>\n",
       "      <td>54.395516</td>\n",
       "      <td>53.951822</td>\n",
       "      <td>2.404058</td>\n",
       "      <td>2.768015</td>\n",
       "      <td>2.047475</td>\n",
       "      <td>Asia</td>\n",
       "    </tr>\n",
       "    <tr>\n",
       "      <th>1</th>\n",
       "      <td>Albania</td>\n",
       "      <td>4.460000</td>\n",
       "      <td>25.532000</td>\n",
       "      <td>4.223333</td>\n",
       "      <td>1.378667</td>\n",
       "      <td>1.842667</td>\n",
       "      <td>1.198667</td>\n",
       "      <td>1.148667</td>\n",
       "      <td>0.604000</td>\n",
       "      <td>0.534000</td>\n",
       "      <td>...</td>\n",
       "      <td>16.281724</td>\n",
       "      <td>15.945701</td>\n",
       "      <td>16.618407</td>\n",
       "      <td>67.484035</td>\n",
       "      <td>67.366308</td>\n",
       "      <td>67.601993</td>\n",
       "      <td>16.234241</td>\n",
       "      <td>16.687991</td>\n",
       "      <td>15.779600</td>\n",
       "      <td>Europe</td>\n",
       "    </tr>\n",
       "    <tr>\n",
       "      <th>2</th>\n",
       "      <td>Algeria</td>\n",
       "      <td>1.956562</td>\n",
       "      <td>13.983750</td>\n",
       "      <td>2.830000</td>\n",
       "      <td>1.419615</td>\n",
       "      <td>1.627778</td>\n",
       "      <td>0.507333</td>\n",
       "      <td>0.489091</td>\n",
       "      <td>0.198788</td>\n",
       "      <td>0.270294</td>\n",
       "      <td>...</td>\n",
       "      <td>30.712077</td>\n",
       "      <td>30.617768</td>\n",
       "      <td>30.802962</td>\n",
       "      <td>63.105923</td>\n",
       "      <td>62.825857</td>\n",
       "      <td>63.375825</td>\n",
       "      <td>6.182000</td>\n",
       "      <td>6.556375</td>\n",
       "      <td>5.821213</td>\n",
       "      <td>Africa</td>\n",
       "    </tr>\n",
       "    <tr>\n",
       "      <th>3</th>\n",
       "      <td>American Samoa</td>\n",
       "      <td>23.820000</td>\n",
       "      <td>6.660000</td>\n",
       "      <td>22.130000</td>\n",
       "      <td>1.910000</td>\n",
       "      <td>1.910000</td>\n",
       "      <td>1.000000</td>\n",
       "      <td>1.190000</td>\n",
       "      <td>2.110000</td>\n",
       "      <td>NaN</td>\n",
       "      <td>...</td>\n",
       "      <td>27.511935</td>\n",
       "      <td>26.431021</td>\n",
       "      <td>28.615012</td>\n",
       "      <td>65.643388</td>\n",
       "      <td>65.910490</td>\n",
       "      <td>65.370811</td>\n",
       "      <td>6.844676</td>\n",
       "      <td>7.658489</td>\n",
       "      <td>6.014177</td>\n",
       "      <td>Oceania</td>\n",
       "    </tr>\n",
       "    <tr>\n",
       "      <th>4</th>\n",
       "      <td>Andorra</td>\n",
       "      <td>13.173333</td>\n",
       "      <td>40.920000</td>\n",
       "      <td>7.010000</td>\n",
       "      <td>2.073333</td>\n",
       "      <td>2.600000</td>\n",
       "      <td>1.380000</td>\n",
       "      <td>1.713333</td>\n",
       "      <td>1.370000</td>\n",
       "      <td>0.760000</td>\n",
       "      <td>...</td>\n",
       "      <td>13.074753</td>\n",
       "      <td>13.063209</td>\n",
       "      <td>13.085814</td>\n",
       "      <td>72.389731</td>\n",
       "      <td>71.570972</td>\n",
       "      <td>73.174267</td>\n",
       "      <td>14.535516</td>\n",
       "      <td>15.365819</td>\n",
       "      <td>13.739919</td>\n",
       "      <td>Europe</td>\n",
       "    </tr>\n",
       "    <tr>\n",
       "      <th>...</th>\n",
       "      <td>...</td>\n",
       "      <td>...</td>\n",
       "      <td>...</td>\n",
       "      <td>...</td>\n",
       "      <td>...</td>\n",
       "      <td>...</td>\n",
       "      <td>...</td>\n",
       "      <td>...</td>\n",
       "      <td>...</td>\n",
       "      <td>...</td>\n",
       "      <td>...</td>\n",
       "      <td>...</td>\n",
       "      <td>...</td>\n",
       "      <td>...</td>\n",
       "      <td>...</td>\n",
       "      <td>...</td>\n",
       "      <td>...</td>\n",
       "      <td>...</td>\n",
       "      <td>...</td>\n",
       "      <td>...</td>\n",
       "      <td>...</td>\n",
       "    </tr>\n",
       "    <tr>\n",
       "      <th>210</th>\n",
       "      <td>Venezuela</td>\n",
       "      <td>8.618824</td>\n",
       "      <td>32.763333</td>\n",
       "      <td>9.021765</td>\n",
       "      <td>1.442353</td>\n",
       "      <td>2.205882</td>\n",
       "      <td>1.928824</td>\n",
       "      <td>1.110000</td>\n",
       "      <td>0.799412</td>\n",
       "      <td>1.235714</td>\n",
       "      <td>...</td>\n",
       "      <td>28.170727</td>\n",
       "      <td>27.150558</td>\n",
       "      <td>29.211820</td>\n",
       "      <td>63.491136</td>\n",
       "      <td>63.327932</td>\n",
       "      <td>63.657687</td>\n",
       "      <td>8.338137</td>\n",
       "      <td>9.521510</td>\n",
       "      <td>7.130493</td>\n",
       "      <td>South America</td>\n",
       "    </tr>\n",
       "    <tr>\n",
       "      <th>211</th>\n",
       "      <td>Vietnam</td>\n",
       "      <td>2.115882</td>\n",
       "      <td>18.662353</td>\n",
       "      <td>4.231429</td>\n",
       "      <td>0.790625</td>\n",
       "      <td>1.542353</td>\n",
       "      <td>1.689412</td>\n",
       "      <td>0.478824</td>\n",
       "      <td>0.281176</td>\n",
       "      <td>0.640526</td>\n",
       "      <td>...</td>\n",
       "      <td>22.545150</td>\n",
       "      <td>21.130319</td>\n",
       "      <td>23.995125</td>\n",
       "      <td>68.701716</td>\n",
       "      <td>68.456868</td>\n",
       "      <td>68.952645</td>\n",
       "      <td>8.753134</td>\n",
       "      <td>10.412813</td>\n",
       "      <td>7.052230</td>\n",
       "      <td>Asia</td>\n",
       "    </tr>\n",
       "    <tr>\n",
       "      <th>212</th>\n",
       "      <td>Yemen</td>\n",
       "      <td>6.150000</td>\n",
       "      <td>32.616667</td>\n",
       "      <td>11.158333</td>\n",
       "      <td>2.265000</td>\n",
       "      <td>2.282500</td>\n",
       "      <td>2.540000</td>\n",
       "      <td>1.610000</td>\n",
       "      <td>0.660000</td>\n",
       "      <td>1.072000</td>\n",
       "      <td>...</td>\n",
       "      <td>39.872107</td>\n",
       "      <td>39.344254</td>\n",
       "      <td>40.388712</td>\n",
       "      <td>57.438854</td>\n",
       "      <td>57.554137</td>\n",
       "      <td>57.326028</td>\n",
       "      <td>2.689038</td>\n",
       "      <td>3.101609</td>\n",
       "      <td>2.285260</td>\n",
       "      <td>Asia</td>\n",
       "    </tr>\n",
       "    <tr>\n",
       "      <th>213</th>\n",
       "      <td>Zambia</td>\n",
       "      <td>2.988000</td>\n",
       "      <td>18.370000</td>\n",
       "      <td>3.170000</td>\n",
       "      <td>1.152000</td>\n",
       "      <td>1.494000</td>\n",
       "      <td>1.742000</td>\n",
       "      <td>0.822000</td>\n",
       "      <td>0.458000</td>\n",
       "      <td>0.890000</td>\n",
       "      <td>...</td>\n",
       "      <td>43.262363</td>\n",
       "      <td>42.711936</td>\n",
       "      <td>43.827404</td>\n",
       "      <td>54.998707</td>\n",
       "      <td>55.174338</td>\n",
       "      <td>54.818413</td>\n",
       "      <td>1.738930</td>\n",
       "      <td>2.113726</td>\n",
       "      <td>1.354183</td>\n",
       "      <td>Africa</td>\n",
       "    </tr>\n",
       "    <tr>\n",
       "      <th>214</th>\n",
       "      <td>Zimbabwe</td>\n",
       "      <td>6.843750</td>\n",
       "      <td>36.250000</td>\n",
       "      <td>6.187500</td>\n",
       "      <td>1.318750</td>\n",
       "      <td>1.971429</td>\n",
       "      <td>2.285000</td>\n",
       "      <td>0.665000</td>\n",
       "      <td>0.470000</td>\n",
       "      <td>0.981250</td>\n",
       "      <td>...</td>\n",
       "      <td>40.893305</td>\n",
       "      <td>38.759415</td>\n",
       "      <td>43.283516</td>\n",
       "      <td>55.743353</td>\n",
       "      <td>57.424404</td>\n",
       "      <td>53.860375</td>\n",
       "      <td>3.363343</td>\n",
       "      <td>3.816182</td>\n",
       "      <td>2.856109</td>\n",
       "      <td>Africa</td>\n",
       "    </tr>\n",
       "  </tbody>\n",
       "</table>\n",
       "<p>215 rows × 36 columns</p>\n",
       "</div>"
      ],
      "text/plain": [
       "            country         x1         x2         x3        x4        x5  \\\n",
       "0       Afghanistan   1.690000   6.870000   2.977500  2.260000       NaN   \n",
       "1           Albania   4.460000  25.532000   4.223333  1.378667  1.842667   \n",
       "2           Algeria   1.956562  13.983750   2.830000  1.419615  1.627778   \n",
       "3    American Samoa  23.820000   6.660000  22.130000  1.910000  1.910000   \n",
       "4           Andorra  13.173333  40.920000   7.010000  2.073333  2.600000   \n",
       "..              ...        ...        ...        ...       ...       ...   \n",
       "210       Venezuela   8.618824  32.763333   9.021765  1.442353  2.205882   \n",
       "211         Vietnam   2.115882  18.662353   4.231429  0.790625  1.542353   \n",
       "212           Yemen   6.150000  32.616667  11.158333  2.265000  2.282500   \n",
       "213          Zambia   2.988000  18.370000   3.170000  1.152000  1.494000   \n",
       "214        Zimbabwe   6.843750  36.250000   6.187500  1.318750  1.971429   \n",
       "\n",
       "           x6        x7        x8       x23  ...  pop_0_14_%  \\\n",
       "0    0.597500  0.327500  0.140000  0.226000  ...   43.424543   \n",
       "1    1.198667  1.148667  0.604000  0.534000  ...   16.281724   \n",
       "2    0.507333  0.489091  0.198788  0.270294  ...   30.712077   \n",
       "3    1.000000  1.190000  2.110000       NaN  ...   27.511935   \n",
       "4    1.380000  1.713333  1.370000  0.760000  ...   13.074753   \n",
       "..        ...       ...       ...       ...  ...         ...   \n",
       "210  1.928824  1.110000  0.799412  1.235714  ...   28.170727   \n",
       "211  1.689412  0.478824  0.281176  0.640526  ...   22.545150   \n",
       "212  2.540000  1.610000  0.660000  1.072000  ...   39.872107   \n",
       "213  1.742000  0.822000  0.458000  0.890000  ...   43.262363   \n",
       "214  2.285000  0.665000  0.470000  0.981250  ...   40.893305   \n",
       "\n",
       "     pop_0_14_%_female  pop_0_14_%_male  pop_15_64_%  pop_15_64_%_female  \\\n",
       "0            42.836470        44.000703    54.171399           54.395516   \n",
       "1            15.945701        16.618407    67.484035           67.366308   \n",
       "2            30.617768        30.802962    63.105923           62.825857   \n",
       "3            26.431021        28.615012    65.643388           65.910490   \n",
       "4            13.063209        13.085814    72.389731           71.570972   \n",
       "..                 ...              ...          ...                 ...   \n",
       "210          27.150558        29.211820    63.491136           63.327932   \n",
       "211          21.130319        23.995125    68.701716           68.456868   \n",
       "212          39.344254        40.388712    57.438854           57.554137   \n",
       "213          42.711936        43.827404    54.998707           55.174338   \n",
       "214          38.759415        43.283516    55.743353           57.424404   \n",
       "\n",
       "     pop_15_64_%_male  pop_65_plus_%  pop_65_plus_%_female  \\\n",
       "0           53.951822       2.404058              2.768015   \n",
       "1           67.601993      16.234241             16.687991   \n",
       "2           63.375825       6.182000              6.556375   \n",
       "3           65.370811       6.844676              7.658489   \n",
       "4           73.174267      14.535516             15.365819   \n",
       "..                ...            ...                   ...   \n",
       "210         63.657687       8.338137              9.521510   \n",
       "211         68.952645       8.753134             10.412813   \n",
       "212         57.326028       2.689038              3.101609   \n",
       "213         54.818413       1.738930              2.113726   \n",
       "214         53.860375       3.363343              3.816182   \n",
       "\n",
       "     pop_65_plus_%_male      continent  \n",
       "0              2.047475           Asia  \n",
       "1             15.779600         Europe  \n",
       "2              5.821213         Africa  \n",
       "3              6.014177        Oceania  \n",
       "4             13.739919         Europe  \n",
       "..                  ...            ...  \n",
       "210            7.130493  South America  \n",
       "211            7.052230           Asia  \n",
       "212            2.285260           Asia  \n",
       "213            1.354183         Africa  \n",
       "214            2.856109         Africa  \n",
       "\n",
       "[215 rows x 36 columns]"
      ]
     },
     "execution_count": 25,
     "metadata": {},
     "output_type": "execute_result"
    }
   ],
   "source": [
    "path = os.path.join('..', 'data', 'dataset_alpha.csv')\n",
    "data = pd.read_csv(path)\n",
    "data"
   ]
  },
  {
   "cell_type": "code",
   "execution_count": 26,
   "metadata": {},
   "outputs": [],
   "source": [
    "data['average_cost_rich'] = 2 * data.x2 + data.x24 + data.x48 + data.x30 + 60 * data.x37 + data.x38 + data.x6 + data.x23\n",
    "data['average_cost_medium'] = 2 * data.x3 + data.x4 + data.x49 + data.x28 + 30 * data.x37 + data.x38 + data.x6 + data.x23\n",
    "data['average_cost_lower'] = 2 * data.x1 + data.x49 + data.x8 + 10 * data.x37 + data.x23"
   ]
  },
  {
   "cell_type": "code",
   "execution_count": null,
   "metadata": {},
   "outputs": [],
   "source": [
    "data_path = os.path.join('..', 'data')\n",
    "data.to_csv(os.path.join(data_path, 'teste.csv'))"
   ]
  },
  {
   "cell_type": "code",
   "execution_count": 30,
   "metadata": {},
   "outputs": [
    {
     "data": {
      "application/vnd.plotly.v1+json": {
       "config": {
        "plotlyServerURL": "https://plot.ly"
       },
       "data": [
        {
         "coloraxis": "coloraxis",
         "geo": "geo",
         "hovertemplate": "code=%{location}<br>unesco_props=%{z}<extra></extra>",
         "locationmode": "ISO-3",
         "locations": [
          "ALB",
          "AND",
          "AUT",
          "BLR",
          "BEL",
          "BIH",
          "BGR",
          "HRV",
          "CZE",
          "DNK",
          "EST",
          "FRO",
          "FIN",
          "FRA",
          "DEU",
          "GIB",
          "GRC",
          "HUN",
          "ISL",
          "IRL",
          "IMN",
          "ITA",
          "JEY",
          "LVA",
          "LIE",
          "LTU",
          "LUX",
          "MLT",
          "MDA",
          "MCO",
          "MNE",
          "NLD",
          "MKD",
          "NOR",
          "POL",
          "PRT",
          "ROU",
          "RUS",
          "SMR",
          "SRB",
          "SVK",
          "SVN",
          "ESP",
          "SWE",
          "CHE",
          "UKR",
          "GBR"
         ],
         "name": "",
         "type": "choropleth",
         "z": [
          4,
          1,
          12,
          4,
          15,
          4,
          10,
          10,
          16,
          10,
          2,
          null,
          7,
          49,
          51,
          null,
          18,
          8,
          3,
          2,
          null,
          58,
          null,
          2,
          null,
          4,
          1,
          3,
          1,
          0,
          4,
          12,
          2,
          8,
          17,
          17,
          9,
          30,
          1,
          5,
          8,
          5,
          49,
          15,
          13,
          8,
          33
         ]
        }
       ],
       "layout": {
        "coloraxis": {
         "colorbar": {
          "title": {
           "text": "unesco_props"
          }
         },
         "colorscale": [
          [
           0,
           "white"
          ],
          [
           1,
           "orange"
          ]
         ]
        },
        "geo": {
         "center": {},
         "domain": {
          "x": [
           0,
           1
          ],
          "y": [
           0,
           1
          ]
         },
         "scope": "europe"
        },
        "legend": {
         "tracegroupgap": 0
        },
        "margin": {
         "b": 0,
         "l": 0,
         "r": 0,
         "t": 0
        },
        "template": {
         "data": {
          "bar": [
           {
            "error_x": {
             "color": "#2a3f5f"
            },
            "error_y": {
             "color": "#2a3f5f"
            },
            "marker": {
             "line": {
              "color": "#E5ECF6",
              "width": 0.5
             },
             "pattern": {
              "fillmode": "overlay",
              "size": 10,
              "solidity": 0.2
             }
            },
            "type": "bar"
           }
          ],
          "barpolar": [
           {
            "marker": {
             "line": {
              "color": "#E5ECF6",
              "width": 0.5
             },
             "pattern": {
              "fillmode": "overlay",
              "size": 10,
              "solidity": 0.2
             }
            },
            "type": "barpolar"
           }
          ],
          "carpet": [
           {
            "aaxis": {
             "endlinecolor": "#2a3f5f",
             "gridcolor": "white",
             "linecolor": "white",
             "minorgridcolor": "white",
             "startlinecolor": "#2a3f5f"
            },
            "baxis": {
             "endlinecolor": "#2a3f5f",
             "gridcolor": "white",
             "linecolor": "white",
             "minorgridcolor": "white",
             "startlinecolor": "#2a3f5f"
            },
            "type": "carpet"
           }
          ],
          "choropleth": [
           {
            "colorbar": {
             "outlinewidth": 0,
             "ticks": ""
            },
            "type": "choropleth"
           }
          ],
          "contour": [
           {
            "colorbar": {
             "outlinewidth": 0,
             "ticks": ""
            },
            "colorscale": [
             [
              0,
              "#0d0887"
             ],
             [
              0.1111111111111111,
              "#46039f"
             ],
             [
              0.2222222222222222,
              "#7201a8"
             ],
             [
              0.3333333333333333,
              "#9c179e"
             ],
             [
              0.4444444444444444,
              "#bd3786"
             ],
             [
              0.5555555555555556,
              "#d8576b"
             ],
             [
              0.6666666666666666,
              "#ed7953"
             ],
             [
              0.7777777777777778,
              "#fb9f3a"
             ],
             [
              0.8888888888888888,
              "#fdca26"
             ],
             [
              1,
              "#f0f921"
             ]
            ],
            "type": "contour"
           }
          ],
          "contourcarpet": [
           {
            "colorbar": {
             "outlinewidth": 0,
             "ticks": ""
            },
            "type": "contourcarpet"
           }
          ],
          "heatmap": [
           {
            "colorbar": {
             "outlinewidth": 0,
             "ticks": ""
            },
            "colorscale": [
             [
              0,
              "#0d0887"
             ],
             [
              0.1111111111111111,
              "#46039f"
             ],
             [
              0.2222222222222222,
              "#7201a8"
             ],
             [
              0.3333333333333333,
              "#9c179e"
             ],
             [
              0.4444444444444444,
              "#bd3786"
             ],
             [
              0.5555555555555556,
              "#d8576b"
             ],
             [
              0.6666666666666666,
              "#ed7953"
             ],
             [
              0.7777777777777778,
              "#fb9f3a"
             ],
             [
              0.8888888888888888,
              "#fdca26"
             ],
             [
              1,
              "#f0f921"
             ]
            ],
            "type": "heatmap"
           }
          ],
          "heatmapgl": [
           {
            "colorbar": {
             "outlinewidth": 0,
             "ticks": ""
            },
            "colorscale": [
             [
              0,
              "#0d0887"
             ],
             [
              0.1111111111111111,
              "#46039f"
             ],
             [
              0.2222222222222222,
              "#7201a8"
             ],
             [
              0.3333333333333333,
              "#9c179e"
             ],
             [
              0.4444444444444444,
              "#bd3786"
             ],
             [
              0.5555555555555556,
              "#d8576b"
             ],
             [
              0.6666666666666666,
              "#ed7953"
             ],
             [
              0.7777777777777778,
              "#fb9f3a"
             ],
             [
              0.8888888888888888,
              "#fdca26"
             ],
             [
              1,
              "#f0f921"
             ]
            ],
            "type": "heatmapgl"
           }
          ],
          "histogram": [
           {
            "marker": {
             "pattern": {
              "fillmode": "overlay",
              "size": 10,
              "solidity": 0.2
             }
            },
            "type": "histogram"
           }
          ],
          "histogram2d": [
           {
            "colorbar": {
             "outlinewidth": 0,
             "ticks": ""
            },
            "colorscale": [
             [
              0,
              "#0d0887"
             ],
             [
              0.1111111111111111,
              "#46039f"
             ],
             [
              0.2222222222222222,
              "#7201a8"
             ],
             [
              0.3333333333333333,
              "#9c179e"
             ],
             [
              0.4444444444444444,
              "#bd3786"
             ],
             [
              0.5555555555555556,
              "#d8576b"
             ],
             [
              0.6666666666666666,
              "#ed7953"
             ],
             [
              0.7777777777777778,
              "#fb9f3a"
             ],
             [
              0.8888888888888888,
              "#fdca26"
             ],
             [
              1,
              "#f0f921"
             ]
            ],
            "type": "histogram2d"
           }
          ],
          "histogram2dcontour": [
           {
            "colorbar": {
             "outlinewidth": 0,
             "ticks": ""
            },
            "colorscale": [
             [
              0,
              "#0d0887"
             ],
             [
              0.1111111111111111,
              "#46039f"
             ],
             [
              0.2222222222222222,
              "#7201a8"
             ],
             [
              0.3333333333333333,
              "#9c179e"
             ],
             [
              0.4444444444444444,
              "#bd3786"
             ],
             [
              0.5555555555555556,
              "#d8576b"
             ],
             [
              0.6666666666666666,
              "#ed7953"
             ],
             [
              0.7777777777777778,
              "#fb9f3a"
             ],
             [
              0.8888888888888888,
              "#fdca26"
             ],
             [
              1,
              "#f0f921"
             ]
            ],
            "type": "histogram2dcontour"
           }
          ],
          "mesh3d": [
           {
            "colorbar": {
             "outlinewidth": 0,
             "ticks": ""
            },
            "type": "mesh3d"
           }
          ],
          "parcoords": [
           {
            "line": {
             "colorbar": {
              "outlinewidth": 0,
              "ticks": ""
             }
            },
            "type": "parcoords"
           }
          ],
          "pie": [
           {
            "automargin": true,
            "type": "pie"
           }
          ],
          "scatter": [
           {
            "fillpattern": {
             "fillmode": "overlay",
             "size": 10,
             "solidity": 0.2
            },
            "type": "scatter"
           }
          ],
          "scatter3d": [
           {
            "line": {
             "colorbar": {
              "outlinewidth": 0,
              "ticks": ""
             }
            },
            "marker": {
             "colorbar": {
              "outlinewidth": 0,
              "ticks": ""
             }
            },
            "type": "scatter3d"
           }
          ],
          "scattercarpet": [
           {
            "marker": {
             "colorbar": {
              "outlinewidth": 0,
              "ticks": ""
             }
            },
            "type": "scattercarpet"
           }
          ],
          "scattergeo": [
           {
            "marker": {
             "colorbar": {
              "outlinewidth": 0,
              "ticks": ""
             }
            },
            "type": "scattergeo"
           }
          ],
          "scattergl": [
           {
            "marker": {
             "colorbar": {
              "outlinewidth": 0,
              "ticks": ""
             }
            },
            "type": "scattergl"
           }
          ],
          "scattermapbox": [
           {
            "marker": {
             "colorbar": {
              "outlinewidth": 0,
              "ticks": ""
             }
            },
            "type": "scattermapbox"
           }
          ],
          "scatterpolar": [
           {
            "marker": {
             "colorbar": {
              "outlinewidth": 0,
              "ticks": ""
             }
            },
            "type": "scatterpolar"
           }
          ],
          "scatterpolargl": [
           {
            "marker": {
             "colorbar": {
              "outlinewidth": 0,
              "ticks": ""
             }
            },
            "type": "scatterpolargl"
           }
          ],
          "scatterternary": [
           {
            "marker": {
             "colorbar": {
              "outlinewidth": 0,
              "ticks": ""
             }
            },
            "type": "scatterternary"
           }
          ],
          "surface": [
           {
            "colorbar": {
             "outlinewidth": 0,
             "ticks": ""
            },
            "colorscale": [
             [
              0,
              "#0d0887"
             ],
             [
              0.1111111111111111,
              "#46039f"
             ],
             [
              0.2222222222222222,
              "#7201a8"
             ],
             [
              0.3333333333333333,
              "#9c179e"
             ],
             [
              0.4444444444444444,
              "#bd3786"
             ],
             [
              0.5555555555555556,
              "#d8576b"
             ],
             [
              0.6666666666666666,
              "#ed7953"
             ],
             [
              0.7777777777777778,
              "#fb9f3a"
             ],
             [
              0.8888888888888888,
              "#fdca26"
             ],
             [
              1,
              "#f0f921"
             ]
            ],
            "type": "surface"
           }
          ],
          "table": [
           {
            "cells": {
             "fill": {
              "color": "#EBF0F8"
             },
             "line": {
              "color": "white"
             }
            },
            "header": {
             "fill": {
              "color": "#C8D4E3"
             },
             "line": {
              "color": "white"
             }
            },
            "type": "table"
           }
          ]
         },
         "layout": {
          "annotationdefaults": {
           "arrowcolor": "#2a3f5f",
           "arrowhead": 0,
           "arrowwidth": 1
          },
          "autotypenumbers": "strict",
          "coloraxis": {
           "colorbar": {
            "outlinewidth": 0,
            "ticks": ""
           }
          },
          "colorscale": {
           "diverging": [
            [
             0,
             "#8e0152"
            ],
            [
             0.1,
             "#c51b7d"
            ],
            [
             0.2,
             "#de77ae"
            ],
            [
             0.3,
             "#f1b6da"
            ],
            [
             0.4,
             "#fde0ef"
            ],
            [
             0.5,
             "#f7f7f7"
            ],
            [
             0.6,
             "#e6f5d0"
            ],
            [
             0.7,
             "#b8e186"
            ],
            [
             0.8,
             "#7fbc41"
            ],
            [
             0.9,
             "#4d9221"
            ],
            [
             1,
             "#276419"
            ]
           ],
           "sequential": [
            [
             0,
             "#0d0887"
            ],
            [
             0.1111111111111111,
             "#46039f"
            ],
            [
             0.2222222222222222,
             "#7201a8"
            ],
            [
             0.3333333333333333,
             "#9c179e"
            ],
            [
             0.4444444444444444,
             "#bd3786"
            ],
            [
             0.5555555555555556,
             "#d8576b"
            ],
            [
             0.6666666666666666,
             "#ed7953"
            ],
            [
             0.7777777777777778,
             "#fb9f3a"
            ],
            [
             0.8888888888888888,
             "#fdca26"
            ],
            [
             1,
             "#f0f921"
            ]
           ],
           "sequentialminus": [
            [
             0,
             "#0d0887"
            ],
            [
             0.1111111111111111,
             "#46039f"
            ],
            [
             0.2222222222222222,
             "#7201a8"
            ],
            [
             0.3333333333333333,
             "#9c179e"
            ],
            [
             0.4444444444444444,
             "#bd3786"
            ],
            [
             0.5555555555555556,
             "#d8576b"
            ],
            [
             0.6666666666666666,
             "#ed7953"
            ],
            [
             0.7777777777777778,
             "#fb9f3a"
            ],
            [
             0.8888888888888888,
             "#fdca26"
            ],
            [
             1,
             "#f0f921"
            ]
           ]
          },
          "colorway": [
           "#636efa",
           "#EF553B",
           "#00cc96",
           "#ab63fa",
           "#FFA15A",
           "#19d3f3",
           "#FF6692",
           "#B6E880",
           "#FF97FF",
           "#FECB52"
          ],
          "font": {
           "color": "#2a3f5f"
          },
          "geo": {
           "bgcolor": "white",
           "lakecolor": "white",
           "landcolor": "#E5ECF6",
           "showlakes": true,
           "showland": true,
           "subunitcolor": "white"
          },
          "hoverlabel": {
           "align": "left"
          },
          "hovermode": "closest",
          "mapbox": {
           "style": "light"
          },
          "paper_bgcolor": "white",
          "plot_bgcolor": "#E5ECF6",
          "polar": {
           "angularaxis": {
            "gridcolor": "white",
            "linecolor": "white",
            "ticks": ""
           },
           "bgcolor": "#E5ECF6",
           "radialaxis": {
            "gridcolor": "white",
            "linecolor": "white",
            "ticks": ""
           }
          },
          "scene": {
           "xaxis": {
            "backgroundcolor": "#E5ECF6",
            "gridcolor": "white",
            "gridwidth": 2,
            "linecolor": "white",
            "showbackground": true,
            "ticks": "",
            "zerolinecolor": "white"
           },
           "yaxis": {
            "backgroundcolor": "#E5ECF6",
            "gridcolor": "white",
            "gridwidth": 2,
            "linecolor": "white",
            "showbackground": true,
            "ticks": "",
            "zerolinecolor": "white"
           },
           "zaxis": {
            "backgroundcolor": "#E5ECF6",
            "gridcolor": "white",
            "gridwidth": 2,
            "linecolor": "white",
            "showbackground": true,
            "ticks": "",
            "zerolinecolor": "white"
           }
          },
          "shapedefaults": {
           "line": {
            "color": "#2a3f5f"
           }
          },
          "ternary": {
           "aaxis": {
            "gridcolor": "white",
            "linecolor": "white",
            "ticks": ""
           },
           "baxis": {
            "gridcolor": "white",
            "linecolor": "white",
            "ticks": ""
           },
           "bgcolor": "#E5ECF6",
           "caxis": {
            "gridcolor": "white",
            "linecolor": "white",
            "ticks": ""
           }
          },
          "title": {
           "x": 0.05
          },
          "xaxis": {
           "automargin": true,
           "gridcolor": "white",
           "linecolor": "white",
           "ticks": "",
           "title": {
            "standoff": 15
           },
           "zerolinecolor": "white",
           "zerolinewidth": 2
          },
          "yaxis": {
           "automargin": true,
           "gridcolor": "white",
           "linecolor": "white",
           "ticks": "",
           "title": {
            "standoff": 15
           },
           "zerolinecolor": "white",
           "zerolinewidth": 2
          }
         }
        }
       }
      }
     },
     "metadata": {},
     "output_type": "display_data"
    },
    {
     "name": "stdout",
     "output_type": "stream",
     "text": [
      "lista:            country  unesco_props\n",
      "1           Italy          58.0\n",
      "2         Germany          51.0\n",
      "3          France          49.0\n",
      "4           Spain          49.0\n",
      "5  United Kingdom          33.0\n"
     ]
    }
   ],
   "source": [
    "# function to show world map with filters \n",
    "def map_filter(filter):\n",
    "    # ['africa', 'asia', 'europe', 'north america', 'south america', 'usa', 'world']\n",
    "    data_filter = pd.DataFrame()\n",
    "\n",
    "    if country == \"Asia\":\n",
    "        aux_data = data[data[\"continent\"] == country]\n",
    "        aux_scope = \"asia\"\n",
    "\n",
    "    elif country == \"Europe\":\n",
    "        aux_data = data[data[\"continent\"] == country]\n",
    "        aux_scope = \"europe\"\n",
    "\n",
    "    elif country == \"North America\":\n",
    "        aux_data = data[data[\"continent\"] == country]\n",
    "        aux_scope = \"north america\"\n",
    "\n",
    "    elif country == \"South America\":\n",
    "        aux_data = data[data[\"continent\"] == country]\n",
    "        aux_scope = \"south america\"\n",
    "    else:\n",
    "        aux_data = data\n",
    "        aux_scope = \"world\"\n",
    "\n",
    "    if filter in [\"average_cost_rich\",\"average_cost_medium\",\"average_cost_lower\"]:\n",
    "        data_filter = filter\n",
    "    \n",
    "    elif filter == \"safety index\":\n",
    "        data_filter = \"safety_index\"\n",
    "\n",
    "    elif filter == \"unesco props\":\n",
    "        data_filter = \"unesco_props\"\n",
    "\n",
    "    elif filter == \"quality of life\":\n",
    "        data_filter = \"quality_of_life\" \n",
    "\n",
    "    elif filter == \"total population\":\n",
    "        data_filter = \"total_population\"\n",
    "\n",
    "    else:\n",
    "        data_filter = \"average_cost_rich\"\n",
    "    \n",
    "    # Create a Plotly world map with country codes\n",
    "    fig = px.choropleth(data_frame      = aux_data,\n",
    "                        locations       = 'code',\n",
    "                        locationmode    = 'ISO-3',\n",
    "                        color_continuous_scale=['white', 'orange'], # Set color\n",
    "                        color           = data_filter,\n",
    "                        scope           = aux_scope)\n",
    "\n",
    "    fig.update_layout(margin={\"r\":0,\"t\":0,\"l\":0,\"b\":0})\n",
    "    fig.show()\n",
    "    lista = aux_data[[\"country\",data_filter]].nlargest(5,data_filter).reset_index(drop=True)\n",
    "    lista.index = lista.index + 1\n",
    "    print(\"lista: \",lista)\n",
    "    #return fig, lista\n",
    "\n",
    "country = \"Europe\"\n",
    "map_filter(\"unesco props\")"
   ]
  },
  {
   "cell_type": "code",
   "execution_count": null,
   "metadata": {},
   "outputs": [
    {
     "data": {
      "application/vnd.plotly.v1+json": {
       "config": {
        "plotlyServerURL": "https://plot.ly"
       },
       "data": [
        {
         "marker": {
          "color": "rgba(246, 78, 139, 0.6)",
          "line": {
           "color": "rgba(246, 78, 139, 1.0)",
           "width": 3
          }
         },
         "name": "SF Zoo",
         "orientation": "h",
         "type": "bar",
         "x": [
          20,
          null,
          14,
          null,
          23
         ],
         "y": [
          "giraffes",
          "orangutans",
          "monkeys"
         ]
        },
        {
         "marker": {
          "color": "rgba(58, 71, 80, 0.6)",
          "line": {
           "color": "rgba(58, 71, 80, 1.0)",
           "width": 3
          }
         },
         "name": "LA Zoo",
         "orientation": "h",
         "type": "bar",
         "x": [
          12,
          null,
          18,
          null,
          29
         ],
         "y": [
          "giraffes",
          "orangutans",
          "monkeys"
         ]
        },
        {
         "line": {
          "color": "black",
          "width": 2
         },
         "mode": "lines",
         "showlegend": false,
         "type": "scatter",
         "x": [
          17,
          17,
          17
         ],
         "y": [
          "giraffes",
          "orangutans",
          "monkeys"
         ]
        }
       ],
       "layout": {
        "barmode": "stack",
        "template": {
         "data": {
          "bar": [
           {
            "error_x": {
             "color": "#2a3f5f"
            },
            "error_y": {
             "color": "#2a3f5f"
            },
            "marker": {
             "line": {
              "color": "#E5ECF6",
              "width": 0.5
             },
             "pattern": {
              "fillmode": "overlay",
              "size": 10,
              "solidity": 0.2
             }
            },
            "type": "bar"
           }
          ],
          "barpolar": [
           {
            "marker": {
             "line": {
              "color": "#E5ECF6",
              "width": 0.5
             },
             "pattern": {
              "fillmode": "overlay",
              "size": 10,
              "solidity": 0.2
             }
            },
            "type": "barpolar"
           }
          ],
          "carpet": [
           {
            "aaxis": {
             "endlinecolor": "#2a3f5f",
             "gridcolor": "white",
             "linecolor": "white",
             "minorgridcolor": "white",
             "startlinecolor": "#2a3f5f"
            },
            "baxis": {
             "endlinecolor": "#2a3f5f",
             "gridcolor": "white",
             "linecolor": "white",
             "minorgridcolor": "white",
             "startlinecolor": "#2a3f5f"
            },
            "type": "carpet"
           }
          ],
          "choropleth": [
           {
            "colorbar": {
             "outlinewidth": 0,
             "ticks": ""
            },
            "type": "choropleth"
           }
          ],
          "contour": [
           {
            "colorbar": {
             "outlinewidth": 0,
             "ticks": ""
            },
            "colorscale": [
             [
              0,
              "#0d0887"
             ],
             [
              0.1111111111111111,
              "#46039f"
             ],
             [
              0.2222222222222222,
              "#7201a8"
             ],
             [
              0.3333333333333333,
              "#9c179e"
             ],
             [
              0.4444444444444444,
              "#bd3786"
             ],
             [
              0.5555555555555556,
              "#d8576b"
             ],
             [
              0.6666666666666666,
              "#ed7953"
             ],
             [
              0.7777777777777778,
              "#fb9f3a"
             ],
             [
              0.8888888888888888,
              "#fdca26"
             ],
             [
              1,
              "#f0f921"
             ]
            ],
            "type": "contour"
           }
          ],
          "contourcarpet": [
           {
            "colorbar": {
             "outlinewidth": 0,
             "ticks": ""
            },
            "type": "contourcarpet"
           }
          ],
          "heatmap": [
           {
            "colorbar": {
             "outlinewidth": 0,
             "ticks": ""
            },
            "colorscale": [
             [
              0,
              "#0d0887"
             ],
             [
              0.1111111111111111,
              "#46039f"
             ],
             [
              0.2222222222222222,
              "#7201a8"
             ],
             [
              0.3333333333333333,
              "#9c179e"
             ],
             [
              0.4444444444444444,
              "#bd3786"
             ],
             [
              0.5555555555555556,
              "#d8576b"
             ],
             [
              0.6666666666666666,
              "#ed7953"
             ],
             [
              0.7777777777777778,
              "#fb9f3a"
             ],
             [
              0.8888888888888888,
              "#fdca26"
             ],
             [
              1,
              "#f0f921"
             ]
            ],
            "type": "heatmap"
           }
          ],
          "heatmapgl": [
           {
            "colorbar": {
             "outlinewidth": 0,
             "ticks": ""
            },
            "colorscale": [
             [
              0,
              "#0d0887"
             ],
             [
              0.1111111111111111,
              "#46039f"
             ],
             [
              0.2222222222222222,
              "#7201a8"
             ],
             [
              0.3333333333333333,
              "#9c179e"
             ],
             [
              0.4444444444444444,
              "#bd3786"
             ],
             [
              0.5555555555555556,
              "#d8576b"
             ],
             [
              0.6666666666666666,
              "#ed7953"
             ],
             [
              0.7777777777777778,
              "#fb9f3a"
             ],
             [
              0.8888888888888888,
              "#fdca26"
             ],
             [
              1,
              "#f0f921"
             ]
            ],
            "type": "heatmapgl"
           }
          ],
          "histogram": [
           {
            "marker": {
             "pattern": {
              "fillmode": "overlay",
              "size": 10,
              "solidity": 0.2
             }
            },
            "type": "histogram"
           }
          ],
          "histogram2d": [
           {
            "colorbar": {
             "outlinewidth": 0,
             "ticks": ""
            },
            "colorscale": [
             [
              0,
              "#0d0887"
             ],
             [
              0.1111111111111111,
              "#46039f"
             ],
             [
              0.2222222222222222,
              "#7201a8"
             ],
             [
              0.3333333333333333,
              "#9c179e"
             ],
             [
              0.4444444444444444,
              "#bd3786"
             ],
             [
              0.5555555555555556,
              "#d8576b"
             ],
             [
              0.6666666666666666,
              "#ed7953"
             ],
             [
              0.7777777777777778,
              "#fb9f3a"
             ],
             [
              0.8888888888888888,
              "#fdca26"
             ],
             [
              1,
              "#f0f921"
             ]
            ],
            "type": "histogram2d"
           }
          ],
          "histogram2dcontour": [
           {
            "colorbar": {
             "outlinewidth": 0,
             "ticks": ""
            },
            "colorscale": [
             [
              0,
              "#0d0887"
             ],
             [
              0.1111111111111111,
              "#46039f"
             ],
             [
              0.2222222222222222,
              "#7201a8"
             ],
             [
              0.3333333333333333,
              "#9c179e"
             ],
             [
              0.4444444444444444,
              "#bd3786"
             ],
             [
              0.5555555555555556,
              "#d8576b"
             ],
             [
              0.6666666666666666,
              "#ed7953"
             ],
             [
              0.7777777777777778,
              "#fb9f3a"
             ],
             [
              0.8888888888888888,
              "#fdca26"
             ],
             [
              1,
              "#f0f921"
             ]
            ],
            "type": "histogram2dcontour"
           }
          ],
          "mesh3d": [
           {
            "colorbar": {
             "outlinewidth": 0,
             "ticks": ""
            },
            "type": "mesh3d"
           }
          ],
          "parcoords": [
           {
            "line": {
             "colorbar": {
              "outlinewidth": 0,
              "ticks": ""
             }
            },
            "type": "parcoords"
           }
          ],
          "pie": [
           {
            "automargin": true,
            "type": "pie"
           }
          ],
          "scatter": [
           {
            "fillpattern": {
             "fillmode": "overlay",
             "size": 10,
             "solidity": 0.2
            },
            "type": "scatter"
           }
          ],
          "scatter3d": [
           {
            "line": {
             "colorbar": {
              "outlinewidth": 0,
              "ticks": ""
             }
            },
            "marker": {
             "colorbar": {
              "outlinewidth": 0,
              "ticks": ""
             }
            },
            "type": "scatter3d"
           }
          ],
          "scattercarpet": [
           {
            "marker": {
             "colorbar": {
              "outlinewidth": 0,
              "ticks": ""
             }
            },
            "type": "scattercarpet"
           }
          ],
          "scattergeo": [
           {
            "marker": {
             "colorbar": {
              "outlinewidth": 0,
              "ticks": ""
             }
            },
            "type": "scattergeo"
           }
          ],
          "scattergl": [
           {
            "marker": {
             "colorbar": {
              "outlinewidth": 0,
              "ticks": ""
             }
            },
            "type": "scattergl"
           }
          ],
          "scattermapbox": [
           {
            "marker": {
             "colorbar": {
              "outlinewidth": 0,
              "ticks": ""
             }
            },
            "type": "scattermapbox"
           }
          ],
          "scatterpolar": [
           {
            "marker": {
             "colorbar": {
              "outlinewidth": 0,
              "ticks": ""
             }
            },
            "type": "scatterpolar"
           }
          ],
          "scatterpolargl": [
           {
            "marker": {
             "colorbar": {
              "outlinewidth": 0,
              "ticks": ""
             }
            },
            "type": "scatterpolargl"
           }
          ],
          "scatterternary": [
           {
            "marker": {
             "colorbar": {
              "outlinewidth": 0,
              "ticks": ""
             }
            },
            "type": "scatterternary"
           }
          ],
          "surface": [
           {
            "colorbar": {
             "outlinewidth": 0,
             "ticks": ""
            },
            "colorscale": [
             [
              0,
              "#0d0887"
             ],
             [
              0.1111111111111111,
              "#46039f"
             ],
             [
              0.2222222222222222,
              "#7201a8"
             ],
             [
              0.3333333333333333,
              "#9c179e"
             ],
             [
              0.4444444444444444,
              "#bd3786"
             ],
             [
              0.5555555555555556,
              "#d8576b"
             ],
             [
              0.6666666666666666,
              "#ed7953"
             ],
             [
              0.7777777777777778,
              "#fb9f3a"
             ],
             [
              0.8888888888888888,
              "#fdca26"
             ],
             [
              1,
              "#f0f921"
             ]
            ],
            "type": "surface"
           }
          ],
          "table": [
           {
            "cells": {
             "fill": {
              "color": "#EBF0F8"
             },
             "line": {
              "color": "white"
             }
            },
            "header": {
             "fill": {
              "color": "#C8D4E3"
             },
             "line": {
              "color": "white"
             }
            },
            "type": "table"
           }
          ]
         },
         "layout": {
          "annotationdefaults": {
           "arrowcolor": "#2a3f5f",
           "arrowhead": 0,
           "arrowwidth": 1
          },
          "autotypenumbers": "strict",
          "coloraxis": {
           "colorbar": {
            "outlinewidth": 0,
            "ticks": ""
           }
          },
          "colorscale": {
           "diverging": [
            [
             0,
             "#8e0152"
            ],
            [
             0.1,
             "#c51b7d"
            ],
            [
             0.2,
             "#de77ae"
            ],
            [
             0.3,
             "#f1b6da"
            ],
            [
             0.4,
             "#fde0ef"
            ],
            [
             0.5,
             "#f7f7f7"
            ],
            [
             0.6,
             "#e6f5d0"
            ],
            [
             0.7,
             "#b8e186"
            ],
            [
             0.8,
             "#7fbc41"
            ],
            [
             0.9,
             "#4d9221"
            ],
            [
             1,
             "#276419"
            ]
           ],
           "sequential": [
            [
             0,
             "#0d0887"
            ],
            [
             0.1111111111111111,
             "#46039f"
            ],
            [
             0.2222222222222222,
             "#7201a8"
            ],
            [
             0.3333333333333333,
             "#9c179e"
            ],
            [
             0.4444444444444444,
             "#bd3786"
            ],
            [
             0.5555555555555556,
             "#d8576b"
            ],
            [
             0.6666666666666666,
             "#ed7953"
            ],
            [
             0.7777777777777778,
             "#fb9f3a"
            ],
            [
             0.8888888888888888,
             "#fdca26"
            ],
            [
             1,
             "#f0f921"
            ]
           ],
           "sequentialminus": [
            [
             0,
             "#0d0887"
            ],
            [
             0.1111111111111111,
             "#46039f"
            ],
            [
             0.2222222222222222,
             "#7201a8"
            ],
            [
             0.3333333333333333,
             "#9c179e"
            ],
            [
             0.4444444444444444,
             "#bd3786"
            ],
            [
             0.5555555555555556,
             "#d8576b"
            ],
            [
             0.6666666666666666,
             "#ed7953"
            ],
            [
             0.7777777777777778,
             "#fb9f3a"
            ],
            [
             0.8888888888888888,
             "#fdca26"
            ],
            [
             1,
             "#f0f921"
            ]
           ]
          },
          "colorway": [
           "#636efa",
           "#EF553B",
           "#00cc96",
           "#ab63fa",
           "#FFA15A",
           "#19d3f3",
           "#FF6692",
           "#B6E880",
           "#FF97FF",
           "#FECB52"
          ],
          "font": {
           "color": "#2a3f5f"
          },
          "geo": {
           "bgcolor": "white",
           "lakecolor": "white",
           "landcolor": "#E5ECF6",
           "showlakes": true,
           "showland": true,
           "subunitcolor": "white"
          },
          "hoverlabel": {
           "align": "left"
          },
          "hovermode": "closest",
          "mapbox": {
           "style": "light"
          },
          "paper_bgcolor": "white",
          "plot_bgcolor": "#E5ECF6",
          "polar": {
           "angularaxis": {
            "gridcolor": "white",
            "linecolor": "white",
            "ticks": ""
           },
           "bgcolor": "#E5ECF6",
           "radialaxis": {
            "gridcolor": "white",
            "linecolor": "white",
            "ticks": ""
           }
          },
          "scene": {
           "xaxis": {
            "backgroundcolor": "#E5ECF6",
            "gridcolor": "white",
            "gridwidth": 2,
            "linecolor": "white",
            "showbackground": true,
            "ticks": "",
            "zerolinecolor": "white"
           },
           "yaxis": {
            "backgroundcolor": "#E5ECF6",
            "gridcolor": "white",
            "gridwidth": 2,
            "linecolor": "white",
            "showbackground": true,
            "ticks": "",
            "zerolinecolor": "white"
           },
           "zaxis": {
            "backgroundcolor": "#E5ECF6",
            "gridcolor": "white",
            "gridwidth": 2,
            "linecolor": "white",
            "showbackground": true,
            "ticks": "",
            "zerolinecolor": "white"
           }
          },
          "shapedefaults": {
           "line": {
            "color": "#2a3f5f"
           }
          },
          "ternary": {
           "aaxis": {
            "gridcolor": "white",
            "linecolor": "white",
            "ticks": ""
           },
           "baxis": {
            "gridcolor": "white",
            "linecolor": "white",
            "ticks": ""
           },
           "bgcolor": "#E5ECF6",
           "caxis": {
            "gridcolor": "white",
            "linecolor": "white",
            "ticks": ""
           }
          },
          "title": {
           "x": 0.05
          },
          "xaxis": {
           "automargin": true,
           "gridcolor": "white",
           "linecolor": "white",
           "ticks": "",
           "title": {
            "standoff": 15
           },
           "zerolinecolor": "white",
           "zerolinewidth": 2
          },
          "yaxis": {
           "automargin": true,
           "gridcolor": "white",
           "linecolor": "white",
           "ticks": "",
           "title": {
            "standoff": 15
           },
           "zerolinecolor": "white",
           "zerolinewidth": 2
          }
         }
        }
       }
      }
     },
     "metadata": {},
     "output_type": "display_data"
    }
   ],
   "source": [
    "import plotly.graph_objects as go\n",
    "\n",
    "# Create the bar chart\n",
    "fig = go.Figure()\n",
    "\n",
    "fig.add_trace(go.Bar(\n",
    "    y=['giraffes', 'orangutans', 'monkeys'],\n",
    "    x=[20, None, 14, None, 23],\n",
    "    name='SF Zoo',\n",
    "    orientation='h',\n",
    "    marker=dict(\n",
    "        color='rgba(246, 78, 139, 0.6)',\n",
    "        line=dict(color='rgba(246, 78, 139, 1.0)', width=3)\n",
    "    )\n",
    "))\n",
    "fig.add_trace(go.Bar(\n",
    "    y=['giraffes', 'orangutans', 'monkeys'],\n",
    "    x=[12, None, 18, None, 29],\n",
    "    name='LA Zoo',\n",
    "    orientation='h',\n",
    "    marker=dict(\n",
    "        color='rgba(58, 71, 80, 0.6)',\n",
    "        line=dict(color='rgba(58, 71, 80, 1.0)', width=3)\n",
    "    )\n",
    "))\n",
    "\n",
    "# Create the line chart\n",
    "fig.add_trace(go.Scatter(\n",
    "    y=['giraffes', 'orangutans', 'monkeys'],\n",
    "    x=[17, 17, 17],  # x values for the line chart\n",
    "    mode='lines',\n",
    "    line=dict(color='black', width=2),\n",
    "    showlegend=False\n",
    "))\n",
    "\n",
    "# Update the layout\n",
    "fig.update_layout(barmode='stack')\n",
    "\n",
    "fig.show()\n"
   ]
  },
  {
   "cell_type": "code",
   "execution_count": null,
   "metadata": {},
   "outputs": [
    {
     "data": {
      "application/vnd.plotly.v1+json": {
       "config": {
        "plotlyServerURL": "https://plot.ly"
       },
       "data": [
        {
         "customdata": [
          [
           2
          ],
          [
           4
          ],
          [
           7
          ],
          [
           null
          ],
          [
           1
          ],
          [
           1
          ],
          [
           null
          ],
          [
           1
          ],
          [
           11
          ],
          [
           3
          ],
          [
           null
          ],
          [
           20
          ],
          [
           12
          ],
          [
           3
          ],
          [
           0
          ],
          [
           3
          ],
          [
           3
          ],
          [
           1
          ],
          [
           4
          ],
          [
           15
          ],
          [
           1
          ],
          [
           2
          ],
          [
           null
          ],
          [
           0
          ],
          [
           7
          ],
          [
           4
          ],
          [
           2
          ],
          [
           23
          ],
          [
           null
          ],
          [
           0
          ],
          [
           10
          ],
          [
           3
          ],
          [
           0
          ],
          [
           3
          ],
          [
           2
          ],
          [
           20
          ],
          [
           1
          ],
          [
           2
          ],
          [
           7
          ],
          [
           56
          ],
          [
           9
          ],
          [
           0
          ],
          [
           1
          ],
          [
           0
          ],
          [
           4
          ],
          [
           10
          ],
          [
           9
          ],
          [
           null
          ],
          [
           3
          ],
          [
           16
          ],
          [
           10
          ],
          [
           0
          ],
          [
           1
          ],
          [
           1
          ],
          [
           5
          ],
          [
           7
          ],
          [
           1
          ],
          [
           0
          ],
          [
           1
          ],
          [
           2
          ],
          [
           9
          ],
          [
           null
          ],
          [
           null
          ],
          [
           1
          ],
          [
           7
          ],
          [
           49
          ],
          [
           null
          ],
          [
           null
          ],
          [
           2
          ],
          [
           2
          ],
          [
           4
          ],
          [
           51
          ],
          [
           2
          ],
          [
           null
          ],
          [
           18
          ],
          [
           null
          ],
          [
           null
          ],
          [
           3
          ],
          [
           1
          ],
          [
           0
          ],
          [
           0
          ],
          [
           1
          ],
          [
           2
          ],
          [
           null
          ],
          [
           8
          ],
          [
           3
          ],
          [
           40
          ],
          [
           9
          ],
          [
           26
          ],
          [
           6
          ],
          [
           2
          ],
          [
           null
          ],
          [
           9
          ],
          [
           58
          ],
          [
           5
          ],
          [
           1
          ],
          [
           25
          ],
          [
           null
          ],
          [
           6
          ],
          [
           5
          ],
          [
           7
          ],
          [
           null
          ],
          [
           0
          ],
          [
           3
          ],
          [
           3
          ],
          [
           2
          ],
          [
           6
          ],
          [
           1
          ],
          [
           0
          ],
          [
           5
          ],
          [
           null
          ],
          [
           4
          ],
          [
           1
          ],
          [
           3
          ],
          [
           2
          ],
          [
           4
          ],
          [
           0
          ],
          [
           4
          ],
          [
           3
          ],
          [
           1
          ],
          [
           null
          ],
          [
           2
          ],
          [
           2
          ],
          [
           35
          ],
          [
           1
          ],
          [
           0
          ],
          [
           5
          ],
          [
           4
          ],
          [
           null
          ],
          [
           9
          ],
          [
           1
          ],
          [
           2
          ],
          [
           2
          ],
          [
           null
          ],
          [
           4
          ],
          [
           12
          ],
          [
           null
          ],
          [
           3
          ],
          [
           2
          ],
          [
           3
          ],
          [
           2
          ],
          [
           2
          ],
          [
           2
          ],
          [
           8
          ],
          [
           5
          ],
          [
           6
          ],
          [
           5
          ],
          [
           1
          ],
          [
           1
          ],
          [
           13
          ],
          [
           6
          ],
          [
           17
          ],
          [
           17
          ],
          [
           null
          ],
          [
           1
          ],
          [
           null
          ],
          [
           9
          ],
          [
           30
          ],
          [
           0
          ],
          [
           null
          ],
          [
           1
          ],
          [
           1
          ],
          [
           0
          ],
          [
           0
          ],
          [
           1
          ],
          [
           0
          ],
          [
           6
          ],
          [
           7
          ],
          [
           5
          ],
          [
           2
          ],
          [
           0
          ],
          [
           1
          ],
          [
           null
          ],
          [
           8
          ],
          [
           5
          ],
          [
           1
          ],
          [
           0
          ],
          [
           10
          ],
          [
           15
          ],
          [
           0
          ],
          [
           49
          ],
          [
           8
          ],
          [
           3
          ],
          [
           2
          ],
          [
           0
          ],
          [
           15
          ],
          [
           13
          ],
          [
           6
          ],
          [
           null
          ],
          [
           2
          ],
          [
           7
          ],
          [
           6
          ],
          [
           0
          ],
          [
           1
          ],
          [
           0
          ],
          [
           0
          ],
          [
           8
          ],
          [
           19
          ],
          [
           3
          ],
          [
           null
          ],
          [
           null
          ],
          [
           3
          ],
          [
           8
          ],
          [
           1
          ],
          [
           33
          ],
          [
           24
          ],
          [
           3
          ],
          [
           5
          ],
          [
           1
          ],
          [
           null
          ],
          [
           3
          ],
          [
           8
          ],
          [
           5
          ],
          [
           1
          ],
          [
           5
          ]
         ],
         "hovertemplate": "<b>%{hovertext}</b><br><br>index=%{x}<br>unesco_props=%{customdata[0]}<extra></extra>",
         "hovertext": [
          "Bhutan",
          "Brunei",
          "Burundi",
          "Rwanda",
          "Maldives",
          "South Sudan",
          "Cook Islands",
          "Somalia",
          "Equatorial Guinea",
          "Trinidad And Tobago",
          "Djibouti",
          "Tonga",
          "Kuwait",
          "Monaco",
          "Guyana",
          "Timor-Leste",
          "Saint Vincent And The Grenadines",
          "Samoa",
          "Sierra Leone",
          "Comoros",
          "Sao Tome And Principe",
          "Swaziland",
          "Guinea-Bissau",
          "Bahamas",
          "Liberia",
          "Qatar",
          "Jamaica",
          "Togo",
          "Dominican Republic",
          "El Salvador",
          "Eritrea",
          "Saint Kitts And Nevis",
          "Solomon Islands",
          "Fiji",
          "Saint Lucia",
          "Singapore",
          "San Marino",
          "Guinea",
          "Dominica",
          "Paraguay",
          "Haiti",
          "Congo",
          "Vanuatu",
          "Angola",
          "Moldova",
          "Papua New Guinea",
          "Barbados",
          "Andorra",
          "Antigua And Barbuda",
          "Belize",
          "United Arab Emirates",
          "Luxembourg",
          "Zambia",
          "Lesotho",
          "Cape Verde",
          "Marshall Islands",
          "Mozambique",
          "Honduras",
          "Myanmar",
          "Namibia",
          "North Macedonia",
          "Ireland",
          "North Korea",
          "Mauritius",
          "Mauritania",
          "Malawi",
          "Latvia",
          "Nigeria",
          "Afghanistan",
          "Gabon",
          "Nicaragua",
          "Chad",
          "Tajikistan",
          "Suriname",
          "Cameroon",
          "Estonia",
          "Botswana",
          "Gambia",
          "Ghana",
          "Seychelles",
          "Benin",
          "Azerbaijan",
          "Malta",
          "Madagascar",
          "Uganda",
          "Guatemala",
          "Turkmenistan",
          "Burkina Faso",
          "Bahrain",
          "Cambodia",
          "Kyrgyzstan",
          "Laos",
          "Uruguay",
          "Venezuela",
          "Cyprus",
          "Sudan",
          "New Zealand",
          "Niger",
          "Iceland",
          "Armenia",
          "Bangladesh",
          "Albania",
          "Montenegro",
          "Nepal",
          "Lithuania",
          "Mali",
          "Bosnia And Herzegovina",
          "Malaysia",
          "Costa Rica",
          "Georgia",
          "Belarus",
          "Uzbekistan",
          "Oman",
          "Panama",
          "Yemen",
          "Slovenia",
          "Serbia",
          "Libya",
          "Zimbabwe",
          "Mongolia",
          "Ecuador",
          "Kazakhstan",
          "Ivory Coast",
          "Lebanon",
          "Pakistan",
          "Jordan",
          "Saudi Arabia",
          "Philippines",
          "Syria",
          "Iraq",
          "Thailand",
          "Egypt",
          "Senegal",
          "Tanzania",
          "Finland",
          "Chile",
          "Bolivia",
          "Kenya",
          "Algeria",
          "Tunisia",
          "Ukraine",
          "Sri Lanka",
          "Vietnam",
          "Hungary",
          "Norway",
          "Slovakia",
          "Cuba",
          "Ethiopia",
          "Colombia",
          "Morocco",
          "Romania",
          "Israel",
          "Indonesia",
          "Bulgaria",
          "Croatia",
          "Denmark",
          "South Africa",
          "Argentina",
          "Austria",
          "Netherlands",
          "Peru",
          "Switzerland",
          "Sweden",
          "South Korea",
          "Belgium",
          "Czech Republic",
          "Poland",
          "Portugal",
          "Greece",
          "Turkey",
          "Canada",
          "Australia",
          "Brazil",
          "United States",
          "Japan",
          "Iran",
          "Russia",
          "United Kingdom",
          "Mexico",
          "India",
          "France",
          "Spain",
          "Germany",
          "China",
          "Italy",
          "American Samoa",
          "Anguilla",
          "Aruba",
          "Bermuda",
          "British Virgin Islands",
          "Curacao",
          "Falkland Islands",
          "Faroe Islands",
          "French Guiana",
          "French Polynesia",
          "Gibraltar",
          "Greenland",
          "Guadeloupe",
          "Hong Kong",
          "Isle Of Man",
          "Jersey",
          "Kosovo (Disputed Territory)",
          "Liechtenstein",
          "Martinique",
          "Montserrat",
          "Nauru",
          "New Caledonia",
          "Puerto Rico",
          "Reunion",
          "Saint Helena",
          "Sint Maarten",
          "Taiwan",
          "Turks And Caicos Islands",
          "Tuvalu",
          "Vatican City"
         ],
         "legendgroup": "",
         "line": {
          "color": "#636efa",
          "dash": "solid"
         },
         "marker": {
          "symbol": "circle"
         },
         "mode": "lines",
         "name": "",
         "orientation": "v",
         "showlegend": false,
         "type": "scatter",
         "x": [
          0,
          1,
          2,
          3,
          4,
          5,
          6,
          7,
          8,
          9,
          10,
          11,
          12,
          13,
          14,
          15,
          16,
          17,
          18,
          19,
          20,
          21,
          22,
          23,
          24,
          25,
          26,
          27,
          28,
          29,
          30,
          31,
          32,
          33,
          34,
          35,
          36,
          37,
          38,
          39,
          40,
          41,
          42,
          43,
          44,
          45,
          46,
          47,
          48,
          49,
          50,
          51,
          52,
          53,
          54,
          55,
          56,
          57,
          58,
          59,
          60,
          61,
          62,
          63,
          64,
          65,
          66,
          67,
          68,
          69,
          70,
          71,
          72,
          73,
          74,
          75,
          76,
          77,
          78,
          79,
          80,
          81,
          82,
          83,
          84,
          85,
          86,
          87,
          88,
          89,
          90,
          91,
          92,
          93,
          94,
          95,
          96,
          97,
          98,
          99,
          100,
          101,
          102,
          103,
          104,
          105,
          106,
          107,
          108,
          109,
          110,
          111,
          112,
          113,
          114,
          115,
          116,
          117,
          118,
          119,
          120,
          121,
          122,
          123,
          124,
          125,
          126,
          127,
          128,
          129,
          130,
          131,
          132,
          133,
          134,
          135,
          136,
          137,
          138,
          139,
          140,
          141,
          142,
          143,
          144,
          145,
          146,
          147,
          148,
          149,
          150,
          151,
          152,
          153,
          154,
          155,
          156,
          157,
          158,
          159,
          160,
          161,
          162,
          163,
          164,
          165,
          166,
          167,
          168,
          169,
          170,
          171,
          172,
          173,
          174,
          175,
          176,
          177,
          178,
          179,
          180,
          181,
          182,
          183,
          184,
          185,
          186,
          187,
          188,
          189,
          190,
          191,
          192,
          193,
          194,
          195,
          196,
          197,
          198,
          199,
          200,
          201,
          202,
          203,
          204,
          205,
          206,
          207,
          208,
          209,
          210,
          211,
          212,
          213,
          214
         ],
         "xaxis": "x",
         "y": [
          0,
          0,
          0,
          0,
          0,
          0,
          0,
          0,
          0,
          0,
          0,
          0,
          0,
          0,
          0,
          0,
          0,
          0,
          0,
          0,
          0,
          0,
          0,
          0,
          0,
          1,
          1,
          1,
          1,
          1,
          1,
          1,
          1,
          1,
          1,
          1,
          1,
          1,
          1,
          1,
          1,
          1,
          1,
          1,
          1,
          1,
          1,
          1,
          1,
          1,
          1,
          1,
          1,
          1,
          1,
          1,
          1,
          2,
          2,
          2,
          2,
          2,
          2,
          2,
          2,
          2,
          2,
          2,
          2,
          2,
          2,
          2,
          2,
          2,
          2,
          2,
          2,
          2,
          2,
          2,
          2,
          3,
          3,
          3,
          3,
          3,
          3,
          3,
          3,
          3,
          3,
          3,
          3,
          3,
          3,
          3,
          3,
          3,
          3,
          3,
          3,
          4,
          4,
          4,
          4,
          4,
          4,
          4,
          4,
          4,
          4,
          5,
          5,
          5,
          5,
          5,
          5,
          5,
          5,
          5,
          5,
          5,
          5,
          6,
          6,
          6,
          6,
          6,
          6,
          6,
          6,
          7,
          7,
          7,
          7,
          7,
          7,
          7,
          7,
          8,
          8,
          8,
          8,
          8,
          8,
          8,
          9,
          9,
          9,
          9,
          9,
          9,
          9,
          10,
          10,
          10,
          10,
          11,
          12,
          12,
          13,
          13,
          15,
          15,
          15,
          16,
          17,
          17,
          18,
          19,
          20,
          20,
          23,
          24,
          25,
          26,
          30,
          33,
          35,
          40,
          49,
          49,
          51,
          56,
          58,
          null,
          null,
          null,
          null,
          null,
          null,
          null,
          null,
          null,
          null,
          null,
          null,
          null,
          null,
          null,
          null,
          null,
          null,
          null,
          null,
          null,
          null,
          null,
          null,
          null,
          null,
          null,
          null,
          null,
          null
         ],
         "yaxis": "y"
        }
       ],
       "layout": {
        "legend": {
         "tracegroupgap": 0
        },
        "margin": {
         "t": 60
        },
        "template": {
         "data": {
          "bar": [
           {
            "error_x": {
             "color": "#2a3f5f"
            },
            "error_y": {
             "color": "#2a3f5f"
            },
            "marker": {
             "line": {
              "color": "#E5ECF6",
              "width": 0.5
             },
             "pattern": {
              "fillmode": "overlay",
              "size": 10,
              "solidity": 0.2
             }
            },
            "type": "bar"
           }
          ],
          "barpolar": [
           {
            "marker": {
             "line": {
              "color": "#E5ECF6",
              "width": 0.5
             },
             "pattern": {
              "fillmode": "overlay",
              "size": 10,
              "solidity": 0.2
             }
            },
            "type": "barpolar"
           }
          ],
          "carpet": [
           {
            "aaxis": {
             "endlinecolor": "#2a3f5f",
             "gridcolor": "white",
             "linecolor": "white",
             "minorgridcolor": "white",
             "startlinecolor": "#2a3f5f"
            },
            "baxis": {
             "endlinecolor": "#2a3f5f",
             "gridcolor": "white",
             "linecolor": "white",
             "minorgridcolor": "white",
             "startlinecolor": "#2a3f5f"
            },
            "type": "carpet"
           }
          ],
          "choropleth": [
           {
            "colorbar": {
             "outlinewidth": 0,
             "ticks": ""
            },
            "type": "choropleth"
           }
          ],
          "contour": [
           {
            "colorbar": {
             "outlinewidth": 0,
             "ticks": ""
            },
            "colorscale": [
             [
              0,
              "#0d0887"
             ],
             [
              0.1111111111111111,
              "#46039f"
             ],
             [
              0.2222222222222222,
              "#7201a8"
             ],
             [
              0.3333333333333333,
              "#9c179e"
             ],
             [
              0.4444444444444444,
              "#bd3786"
             ],
             [
              0.5555555555555556,
              "#d8576b"
             ],
             [
              0.6666666666666666,
              "#ed7953"
             ],
             [
              0.7777777777777778,
              "#fb9f3a"
             ],
             [
              0.8888888888888888,
              "#fdca26"
             ],
             [
              1,
              "#f0f921"
             ]
            ],
            "type": "contour"
           }
          ],
          "contourcarpet": [
           {
            "colorbar": {
             "outlinewidth": 0,
             "ticks": ""
            },
            "type": "contourcarpet"
           }
          ],
          "heatmap": [
           {
            "colorbar": {
             "outlinewidth": 0,
             "ticks": ""
            },
            "colorscale": [
             [
              0,
              "#0d0887"
             ],
             [
              0.1111111111111111,
              "#46039f"
             ],
             [
              0.2222222222222222,
              "#7201a8"
             ],
             [
              0.3333333333333333,
              "#9c179e"
             ],
             [
              0.4444444444444444,
              "#bd3786"
             ],
             [
              0.5555555555555556,
              "#d8576b"
             ],
             [
              0.6666666666666666,
              "#ed7953"
             ],
             [
              0.7777777777777778,
              "#fb9f3a"
             ],
             [
              0.8888888888888888,
              "#fdca26"
             ],
             [
              1,
              "#f0f921"
             ]
            ],
            "type": "heatmap"
           }
          ],
          "heatmapgl": [
           {
            "colorbar": {
             "outlinewidth": 0,
             "ticks": ""
            },
            "colorscale": [
             [
              0,
              "#0d0887"
             ],
             [
              0.1111111111111111,
              "#46039f"
             ],
             [
              0.2222222222222222,
              "#7201a8"
             ],
             [
              0.3333333333333333,
              "#9c179e"
             ],
             [
              0.4444444444444444,
              "#bd3786"
             ],
             [
              0.5555555555555556,
              "#d8576b"
             ],
             [
              0.6666666666666666,
              "#ed7953"
             ],
             [
              0.7777777777777778,
              "#fb9f3a"
             ],
             [
              0.8888888888888888,
              "#fdca26"
             ],
             [
              1,
              "#f0f921"
             ]
            ],
            "type": "heatmapgl"
           }
          ],
          "histogram": [
           {
            "marker": {
             "pattern": {
              "fillmode": "overlay",
              "size": 10,
              "solidity": 0.2
             }
            },
            "type": "histogram"
           }
          ],
          "histogram2d": [
           {
            "colorbar": {
             "outlinewidth": 0,
             "ticks": ""
            },
            "colorscale": [
             [
              0,
              "#0d0887"
             ],
             [
              0.1111111111111111,
              "#46039f"
             ],
             [
              0.2222222222222222,
              "#7201a8"
             ],
             [
              0.3333333333333333,
              "#9c179e"
             ],
             [
              0.4444444444444444,
              "#bd3786"
             ],
             [
              0.5555555555555556,
              "#d8576b"
             ],
             [
              0.6666666666666666,
              "#ed7953"
             ],
             [
              0.7777777777777778,
              "#fb9f3a"
             ],
             [
              0.8888888888888888,
              "#fdca26"
             ],
             [
              1,
              "#f0f921"
             ]
            ],
            "type": "histogram2d"
           }
          ],
          "histogram2dcontour": [
           {
            "colorbar": {
             "outlinewidth": 0,
             "ticks": ""
            },
            "colorscale": [
             [
              0,
              "#0d0887"
             ],
             [
              0.1111111111111111,
              "#46039f"
             ],
             [
              0.2222222222222222,
              "#7201a8"
             ],
             [
              0.3333333333333333,
              "#9c179e"
             ],
             [
              0.4444444444444444,
              "#bd3786"
             ],
             [
              0.5555555555555556,
              "#d8576b"
             ],
             [
              0.6666666666666666,
              "#ed7953"
             ],
             [
              0.7777777777777778,
              "#fb9f3a"
             ],
             [
              0.8888888888888888,
              "#fdca26"
             ],
             [
              1,
              "#f0f921"
             ]
            ],
            "type": "histogram2dcontour"
           }
          ],
          "mesh3d": [
           {
            "colorbar": {
             "outlinewidth": 0,
             "ticks": ""
            },
            "type": "mesh3d"
           }
          ],
          "parcoords": [
           {
            "line": {
             "colorbar": {
              "outlinewidth": 0,
              "ticks": ""
             }
            },
            "type": "parcoords"
           }
          ],
          "pie": [
           {
            "automargin": true,
            "type": "pie"
           }
          ],
          "scatter": [
           {
            "fillpattern": {
             "fillmode": "overlay",
             "size": 10,
             "solidity": 0.2
            },
            "type": "scatter"
           }
          ],
          "scatter3d": [
           {
            "line": {
             "colorbar": {
              "outlinewidth": 0,
              "ticks": ""
             }
            },
            "marker": {
             "colorbar": {
              "outlinewidth": 0,
              "ticks": ""
             }
            },
            "type": "scatter3d"
           }
          ],
          "scattercarpet": [
           {
            "marker": {
             "colorbar": {
              "outlinewidth": 0,
              "ticks": ""
             }
            },
            "type": "scattercarpet"
           }
          ],
          "scattergeo": [
           {
            "marker": {
             "colorbar": {
              "outlinewidth": 0,
              "ticks": ""
             }
            },
            "type": "scattergeo"
           }
          ],
          "scattergl": [
           {
            "marker": {
             "colorbar": {
              "outlinewidth": 0,
              "ticks": ""
             }
            },
            "type": "scattergl"
           }
          ],
          "scattermapbox": [
           {
            "marker": {
             "colorbar": {
              "outlinewidth": 0,
              "ticks": ""
             }
            },
            "type": "scattermapbox"
           }
          ],
          "scatterpolar": [
           {
            "marker": {
             "colorbar": {
              "outlinewidth": 0,
              "ticks": ""
             }
            },
            "type": "scatterpolar"
           }
          ],
          "scatterpolargl": [
           {
            "marker": {
             "colorbar": {
              "outlinewidth": 0,
              "ticks": ""
             }
            },
            "type": "scatterpolargl"
           }
          ],
          "scatterternary": [
           {
            "marker": {
             "colorbar": {
              "outlinewidth": 0,
              "ticks": ""
             }
            },
            "type": "scatterternary"
           }
          ],
          "surface": [
           {
            "colorbar": {
             "outlinewidth": 0,
             "ticks": ""
            },
            "colorscale": [
             [
              0,
              "#0d0887"
             ],
             [
              0.1111111111111111,
              "#46039f"
             ],
             [
              0.2222222222222222,
              "#7201a8"
             ],
             [
              0.3333333333333333,
              "#9c179e"
             ],
             [
              0.4444444444444444,
              "#bd3786"
             ],
             [
              0.5555555555555556,
              "#d8576b"
             ],
             [
              0.6666666666666666,
              "#ed7953"
             ],
             [
              0.7777777777777778,
              "#fb9f3a"
             ],
             [
              0.8888888888888888,
              "#fdca26"
             ],
             [
              1,
              "#f0f921"
             ]
            ],
            "type": "surface"
           }
          ],
          "table": [
           {
            "cells": {
             "fill": {
              "color": "#EBF0F8"
             },
             "line": {
              "color": "white"
             }
            },
            "header": {
             "fill": {
              "color": "#C8D4E3"
             },
             "line": {
              "color": "white"
             }
            },
            "type": "table"
           }
          ]
         },
         "layout": {
          "annotationdefaults": {
           "arrowcolor": "#2a3f5f",
           "arrowhead": 0,
           "arrowwidth": 1
          },
          "autotypenumbers": "strict",
          "coloraxis": {
           "colorbar": {
            "outlinewidth": 0,
            "ticks": ""
           }
          },
          "colorscale": {
           "diverging": [
            [
             0,
             "#8e0152"
            ],
            [
             0.1,
             "#c51b7d"
            ],
            [
             0.2,
             "#de77ae"
            ],
            [
             0.3,
             "#f1b6da"
            ],
            [
             0.4,
             "#fde0ef"
            ],
            [
             0.5,
             "#f7f7f7"
            ],
            [
             0.6,
             "#e6f5d0"
            ],
            [
             0.7,
             "#b8e186"
            ],
            [
             0.8,
             "#7fbc41"
            ],
            [
             0.9,
             "#4d9221"
            ],
            [
             1,
             "#276419"
            ]
           ],
           "sequential": [
            [
             0,
             "#0d0887"
            ],
            [
             0.1111111111111111,
             "#46039f"
            ],
            [
             0.2222222222222222,
             "#7201a8"
            ],
            [
             0.3333333333333333,
             "#9c179e"
            ],
            [
             0.4444444444444444,
             "#bd3786"
            ],
            [
             0.5555555555555556,
             "#d8576b"
            ],
            [
             0.6666666666666666,
             "#ed7953"
            ],
            [
             0.7777777777777778,
             "#fb9f3a"
            ],
            [
             0.8888888888888888,
             "#fdca26"
            ],
            [
             1,
             "#f0f921"
            ]
           ],
           "sequentialminus": [
            [
             0,
             "#0d0887"
            ],
            [
             0.1111111111111111,
             "#46039f"
            ],
            [
             0.2222222222222222,
             "#7201a8"
            ],
            [
             0.3333333333333333,
             "#9c179e"
            ],
            [
             0.4444444444444444,
             "#bd3786"
            ],
            [
             0.5555555555555556,
             "#d8576b"
            ],
            [
             0.6666666666666666,
             "#ed7953"
            ],
            [
             0.7777777777777778,
             "#fb9f3a"
            ],
            [
             0.8888888888888888,
             "#fdca26"
            ],
            [
             1,
             "#f0f921"
            ]
           ]
          },
          "colorway": [
           "#636efa",
           "#EF553B",
           "#00cc96",
           "#ab63fa",
           "#FFA15A",
           "#19d3f3",
           "#FF6692",
           "#B6E880",
           "#FF97FF",
           "#FECB52"
          ],
          "font": {
           "color": "#2a3f5f"
          },
          "geo": {
           "bgcolor": "white",
           "lakecolor": "white",
           "landcolor": "#E5ECF6",
           "showlakes": true,
           "showland": true,
           "subunitcolor": "white"
          },
          "hoverlabel": {
           "align": "left"
          },
          "hovermode": "closest",
          "mapbox": {
           "style": "light"
          },
          "paper_bgcolor": "white",
          "plot_bgcolor": "#E5ECF6",
          "polar": {
           "angularaxis": {
            "gridcolor": "white",
            "linecolor": "white",
            "ticks": ""
           },
           "bgcolor": "#E5ECF6",
           "radialaxis": {
            "gridcolor": "white",
            "linecolor": "white",
            "ticks": ""
           }
          },
          "scene": {
           "xaxis": {
            "backgroundcolor": "#E5ECF6",
            "gridcolor": "white",
            "gridwidth": 2,
            "linecolor": "white",
            "showbackground": true,
            "ticks": "",
            "zerolinecolor": "white"
           },
           "yaxis": {
            "backgroundcolor": "#E5ECF6",
            "gridcolor": "white",
            "gridwidth": 2,
            "linecolor": "white",
            "showbackground": true,
            "ticks": "",
            "zerolinecolor": "white"
           },
           "zaxis": {
            "backgroundcolor": "#E5ECF6",
            "gridcolor": "white",
            "gridwidth": 2,
            "linecolor": "white",
            "showbackground": true,
            "ticks": "",
            "zerolinecolor": "white"
           }
          },
          "shapedefaults": {
           "line": {
            "color": "#2a3f5f"
           }
          },
          "ternary": {
           "aaxis": {
            "gridcolor": "white",
            "linecolor": "white",
            "ticks": ""
           },
           "baxis": {
            "gridcolor": "white",
            "linecolor": "white",
            "ticks": ""
           },
           "bgcolor": "#E5ECF6",
           "caxis": {
            "gridcolor": "white",
            "linecolor": "white",
            "ticks": ""
           }
          },
          "title": {
           "x": 0.05
          },
          "xaxis": {
           "automargin": true,
           "gridcolor": "white",
           "linecolor": "white",
           "ticks": "",
           "title": {
            "standoff": 15
           },
           "zerolinecolor": "white",
           "zerolinewidth": 2
          },
          "yaxis": {
           "automargin": true,
           "gridcolor": "white",
           "linecolor": "white",
           "ticks": "",
           "title": {
            "standoff": 15
           },
           "zerolinecolor": "white",
           "zerolinewidth": 2
          }
         }
        },
        "xaxis": {
         "anchor": "y",
         "domain": [
          0,
          1
         ],
         "title": {
          "text": "index"
         }
        },
        "yaxis": {
         "anchor": "x",
         "domain": [
          0,
          1
         ],
         "title": {
          "text": "unesco_props"
         }
        }
       }
      }
     },
     "metadata": {},
     "output_type": "display_data"
    }
   ],
   "source": [
    "def aux_graph(filter):\n",
    "\n",
    "    # Convert column to list in ascending order\n",
    "    aux_data = data.sort_values(by=filter, ascending=True)\n",
    "    column_data = aux_data[filter].sort_values().tolist()\n",
    "\n",
    "    # Create line chart using Plotly\n",
    "    fig = px.line(data_frame = data,\n",
    "                  x = data.index, \n",
    "                  y = column_data, \n",
    "                  labels = {'x': 'Index', 'y': filter},\n",
    "                  hover_data = {filter: ':.2f'},\n",
    "                  hover_name = aux_data.country)\n",
    "\n",
    "    # Show the chart\n",
    "    fig.show()\n",
    "\n",
    "aux_graph(\"unesco_props\")"
   ]
  }
 ],
 "metadata": {
  "kernelspec": {
   "display_name": "Python 3",
   "language": "python",
   "name": "python3"
  },
  "language_info": {
   "codemirror_mode": {
    "name": "ipython",
    "version": 3
   },
   "file_extension": ".py",
   "mimetype": "text/x-python",
   "name": "python",
   "nbconvert_exporter": "python",
   "pygments_lexer": "ipython3",
   "version": "3.8.5"
  },
  "orig_nbformat": 4
 },
 "nbformat": 4,
 "nbformat_minor": 2
}
