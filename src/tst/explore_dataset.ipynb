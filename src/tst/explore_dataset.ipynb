{
 "cells": [
  {
   "cell_type": "code",
   "execution_count": 72,
   "metadata": {},
   "outputs": [],
   "source": [
    "import pandas as pd\n",
    "import os "
   ]
  },
  {
   "cell_type": "code",
   "execution_count": 73,
   "metadata": {},
   "outputs": [],
   "source": [
    "data_path = os.path.join('..', 'data')"
   ]
  },
  {
   "cell_type": "code",
   "execution_count": 74,
   "metadata": {},
   "outputs": [],
   "source": [
    "metadata = pd.read_csv( os.path.join(data_path,  'metadata.csv'), sep=';')"
   ]
  },
  {
   "cell_type": "code",
   "execution_count": 75,
   "metadata": {},
   "outputs": [],
   "source": [
    "df = pd.read_csv(os.path.join(data_path, 'cost-of-living_v2.csv'))"
   ]
  },
  {
   "cell_type": "code",
   "execution_count": 76,
   "metadata": {},
   "outputs": [],
   "source": [
    "df = df.drop('city', axis=1)"
   ]
  },
  {
   "cell_type": "code",
   "execution_count": 77,
   "metadata": {},
   "outputs": [],
   "source": [
    "data = df.groupby('country').mean()"
   ]
  },
  {
   "cell_type": "code",
   "execution_count": 78,
   "metadata": {},
   "outputs": [],
   "source": [
    "data = data.reset_index()"
   ]
  },
  {
   "cell_type": "code",
   "execution_count": 79,
   "metadata": {},
   "outputs": [
    {
     "data": {
      "text/plain": [
       "0              Afghanistan\n",
       "3           American Samoa\n",
       "4                  Andorra\n",
       "6                 Anguilla\n",
       "7      Antigua And Barbuda\n",
       "              ...         \n",
       "200                 Tuvalu\n",
       "208                Vanuatu\n",
       "209           Vatican City\n",
       "212                  Yemen\n",
       "213                 Zambia\n",
       "Name: country, Length: 62, dtype: object"
      ]
     },
     "execution_count": 79,
     "metadata": {},
     "output_type": "execute_result"
    }
   ],
   "source": [
    "data.country.loc[data.isnull().any(axis=1)==True]"
   ]
  },
  {
   "cell_type": "code",
   "execution_count": 80,
   "metadata": {},
   "outputs": [],
   "source": [
    "data.to_csv(os.path.join(data_path, 'cost_of_living_per_country.csv'))"
   ]
  },
  {
   "cell_type": "code",
   "execution_count": 81,
   "metadata": {},
   "outputs": [
    {
     "name": "stdout",
     "output_type": "stream",
     "text": [
      "<class 'pandas.core.frame.DataFrame'>\n",
      "RangeIndex: 215 entries, 0 to 214\n",
      "Data columns (total 57 columns):\n",
      " #   Column        Non-Null Count  Dtype  \n",
      "---  ------        --------------  -----  \n",
      " 0   country       215 non-null    object \n",
      " 1   x1            212 non-null    float64\n",
      " 2   x2            212 non-null    float64\n",
      " 3   x3            211 non-null    float64\n",
      " 4   x4            211 non-null    float64\n",
      " 5   x5            210 non-null    float64\n",
      " 6   x6            212 non-null    float64\n",
      " 7   x7            214 non-null    float64\n",
      " 8   x8            214 non-null    float64\n",
      " 9   x9            214 non-null    float64\n",
      " 10  x10           214 non-null    float64\n",
      " 11  x11           210 non-null    float64\n",
      " 12  x12           212 non-null    float64\n",
      " 13  x13           203 non-null    float64\n",
      " 14  x14           210 non-null    float64\n",
      " 15  x15           208 non-null    float64\n",
      " 16  x16           209 non-null    float64\n",
      " 17  x17           210 non-null    float64\n",
      " 18  x18           210 non-null    float64\n",
      " 19  x19           209 non-null    float64\n",
      " 20  x20           208 non-null    float64\n",
      " 21  x21           208 non-null    float64\n",
      " 22  x22           206 non-null    float64\n",
      " 23  x23           209 non-null    float64\n",
      " 24  x24           209 non-null    float64\n",
      " 25  x25           205 non-null    float64\n",
      " 26  x26           207 non-null    float64\n",
      " 27  x27           206 non-null    float64\n",
      " 28  x28           203 non-null    float64\n",
      " 29  x29           186 non-null    float64\n",
      " 30  x30           201 non-null    float64\n",
      " 31  x31           195 non-null    float64\n",
      " 32  x32           194 non-null    float64\n",
      " 33  x33           208 non-null    float64\n",
      " 34  x34           194 non-null    float64\n",
      " 35  x35           190 non-null    float64\n",
      " 36  x36           208 non-null    float64\n",
      " 37  x37           198 non-null    float64\n",
      " 38  x38           206 non-null    float64\n",
      " 39  x39           207 non-null    float64\n",
      " 40  x40           194 non-null    float64\n",
      " 41  x41           200 non-null    float64\n",
      " 42  x42           195 non-null    float64\n",
      " 43  x43           195 non-null    float64\n",
      " 44  x44           199 non-null    float64\n",
      " 45  x45           197 non-null    float64\n",
      " 46  x46           199 non-null    float64\n",
      " 47  x47           199 non-null    float64\n",
      " 48  x48           211 non-null    float64\n",
      " 49  x49           212 non-null    float64\n",
      " 50  x50           206 non-null    float64\n",
      " 51  x51           208 non-null    float64\n",
      " 52  x52           190 non-null    float64\n",
      " 53  x53           189 non-null    float64\n",
      " 54  x54           209 non-null    float64\n",
      " 55  x55           188 non-null    float64\n",
      " 56  data_quality  215 non-null    float64\n",
      "dtypes: float64(56), object(1)\n",
      "memory usage: 95.9+ KB\n"
     ]
    }
   ],
   "source": [
    "data.info()"
   ]
  },
  {
   "cell_type": "code",
   "execution_count": 82,
   "metadata": {},
   "outputs": [],
   "source": [
    "# data.columns = list(metadata.description)"
   ]
  },
  {
   "cell_type": "code",
   "execution_count": 85,
   "metadata": {},
   "outputs": [],
   "source": [
    "meals = [1, 2, 3, 4, 5, 6, 7, 8]"
   ]
  },
  {
   "cell_type": "code",
   "execution_count": 56,
   "metadata": {},
   "outputs": [],
   "source": [
    "market = [23, 25, 24, 27]"
   ]
  },
  {
   "cell_type": "code",
   "execution_count": 57,
   "metadata": {},
   "outputs": [],
   "source": [
    "transports = [28, 30, 33]"
   ]
  },
  {
   "cell_type": "code",
   "execution_count": 58,
   "metadata": {},
   "outputs": [],
   "source": [
    "internet = [37, 38]"
   ]
  },
  {
   "cell_type": "code",
   "execution_count": 59,
   "metadata": {},
   "outputs": [],
   "source": [
    "habitation = [48, 49]"
   ]
  },
  {
   "cell_type": "code",
   "execution_count": 60,
   "metadata": {},
   "outputs": [],
   "source": [
    "cols = meals + market + transports + internet + habitation\n",
    "columns = [f'x{c}' for c in cols]"
   ]
  },
  {
   "cell_type": "code",
   "execution_count": 61,
   "metadata": {},
   "outputs": [],
   "source": [
    "columns = ['country'] + columns"
   ]
  },
  {
   "cell_type": "code",
   "execution_count": 63,
   "metadata": {},
   "outputs": [
    {
     "name": "stdout",
     "output_type": "stream",
     "text": [
      "<class 'pandas.core.frame.DataFrame'>\n",
      "RangeIndex: 215 entries, 0 to 214\n",
      "Data columns (total 57 columns):\n",
      " #   Column                                                                          Non-Null Count  Dtype  \n",
      "---  ------                                                                          --------------  -----  \n",
      " 0   Country                                                                         215 non-null    object \n",
      " 1   Meal, Inexpensive Restaurant (USD)                                              212 non-null    float64\n",
      " 2   Meal for 2 People, Mid-range Restaurant, Three-course (USD)                     212 non-null    float64\n",
      " 3   McMeal at McDonalds (or Equivalent Combo Meal) (USD)                            211 non-null    float64\n",
      " 4   Domestic Beer (0.5 liter draught, in restaurants) (USD)                         211 non-null    float64\n",
      " 5   Imported Beer (0.33 liter bottle, in restaurants) (USD)                         210 non-null    float64\n",
      " 6   Cappuccino (regular, in restaurants) (USD)                                      212 non-null    float64\n",
      " 7   Coke/Pepsi (0.33 liter bottle, in restaurants) (USD)                            214 non-null    float64\n",
      " 8   Water (0.33 liter bottle, in restaurants) (USD)                                 214 non-null    float64\n",
      " 9   Milk (regular), (1 liter) (USD)                                                 214 non-null    float64\n",
      " 10  Loaf of Fresh White Bread (500g) (USD)                                          214 non-null    float64\n",
      " 11  Rice (white), (1kg) (USD)                                                       210 non-null    float64\n",
      " 12  Eggs (regular) (12) (USD)                                                       212 non-null    float64\n",
      " 13  Local Cheese (1kg) (USD)                                                        203 non-null    float64\n",
      " 14  Chicken Fillets (1kg) (USD)                                                     210 non-null    float64\n",
      " 15  Beef Round (1kg) (or Equivalent Back Leg Red Meat) (USD)                        208 non-null    float64\n",
      " 16  Apples (1kg) (USD)                                                              209 non-null    float64\n",
      " 17  Banana (1kg) (USD)                                                              210 non-null    float64\n",
      " 18  Oranges (1kg) (USD)                                                             210 non-null    float64\n",
      " 19  Tomato (1kg) (USD)                                                              209 non-null    float64\n",
      " 20  Potato (1kg) (USD)                                                              208 non-null    float64\n",
      " 21  Onion (1kg) (USD)                                                               208 non-null    float64\n",
      " 22  Lettuce (1 head) (USD)                                                          206 non-null    float64\n",
      " 23  Water (1.5 liter bottle, at the market) (USD)                                   209 non-null    float64\n",
      " 24  Bottle of Wine (Mid-Range, at the market) (USD)                                 209 non-null    float64\n",
      " 25  Domestic Beer (0.5 liter bottle, at the market) (USD)                           205 non-null    float64\n",
      " 26  Imported Beer (0.33 liter bottle, at the market) (USD)                          207 non-null    float64\n",
      " 27  Cigarettes 20 Pack (Marlboro) (USD)                                             206 non-null    float64\n",
      " 28  One-way Ticket (Local Transport) (USD)                                          203 non-null    float64\n",
      " 29  Monthly Pass (Regular Price) (USD)                                              186 non-null    float64\n",
      " 30  Taxi Start (Normal Tariff) (USD)                                                201 non-null    float64\n",
      " 31  Taxi 1km (Normal Tariff) (USD)                                                  195 non-null    float64\n",
      " 32  Taxi 1hour Waiting (Normal Tariff) (USD)                                        194 non-null    float64\n",
      " 33  Gasoline (1 liter) (USD)                                                        208 non-null    float64\n",
      " 34  Volkswagen Golf 1.4 90 KW Trendline (Or Equivalent New Car) (USD)               194 non-null    float64\n",
      " 35  Toyota Corolla Sedan 1.6l 97kW Comfort (Or Equivalent New Car) (USD)            190 non-null    float64\n",
      " 36  Basic (Electricity, Heating, Cooling, Water, Garbage) for 85m2 Apartment (USD)  208 non-null    float64\n",
      " 37  1 min. of Prepaid Mobile Tariff Local (No Discounts or Plans) (USD)             198 non-null    float64\n",
      " 38  Internet (60 Mbps or More, Unlimited Data, Cable/ADSL) (USD)                    206 non-null    float64\n",
      " 39  Fitness Club, Monthly Fee for 1 Adult (USD)                                     207 non-null    float64\n",
      " 40  Tennis Court Rent (1 Hour on Weekend) (USD)                                     194 non-null    float64\n",
      " 41  Cinema, International Release, 1 Seat (USD)                                     200 non-null    float64\n",
      " 42  Preschool (or Kindergarten), Full Day, Private, Monthly for 1 Child (USD)       195 non-null    float64\n",
      " 43  International Primary School, Yearly for 1 Child (USD)                          195 non-null    float64\n",
      " 44  1 Pair of Jeans (Levis 501 Or Similar) (USD)                                    199 non-null    float64\n",
      " 45  1 Summer Dress in a Chain Store (Zara, H&M, …) (USD)                            197 non-null    float64\n",
      " 46  1 Pair of Nike Running Shoes (Mid-Range) (USD)                                  199 non-null    float64\n",
      " 47  1Pair of Men Leather Business Shoes (USD)                                       199 non-null    float64\n",
      " 48  Apartment (1 bedroom) in City Centre (USD)                                      211 non-null    float64\n",
      " 49  Apartment (1 bedroom) Outside of Centre (USD)                                   212 non-null    float64\n",
      " 50  Apartment (3 bedrooms) in City Centre (USD)                                     206 non-null    float64\n",
      " 51  Apartment (3 bedrooms) Outside of Centre (USD)                                  208 non-null    float64\n",
      " 52  Price per Square Meter to Buy Apartment in City Centre (USD)                    190 non-null    float64\n",
      " 53  Price per Square Meter to Buy Apartment Outside of Centre (USD)                 189 non-null    float64\n",
      " 54  Average Monthly Net Salary (After Tax) (USD)                                    209 non-null    float64\n",
      " 55  Mortgage Interest Rate in Percentages (%), Yearly, for 20 Years Fixed-Rate      188 non-null    float64\n",
      " 56  Quality index                                                                   215 non-null    float64\n",
      "dtypes: float64(56), object(1)\n",
      "memory usage: 95.9+ KB\n"
     ]
    }
   ],
   "source": [
    "data.info()"
   ]
  },
  {
   "cell_type": "code",
   "execution_count": 64,
   "metadata": {},
   "outputs": [
    {
     "data": {
      "text/plain": [
       "array(['Afghanistan', 'Albania', 'Algeria', 'American Samoa', 'Andorra',\n",
       "       'Angola', 'Anguilla', 'Antigua And Barbuda', 'Argentina',\n",
       "       'Armenia', 'Aruba', 'Australia', 'Austria', 'Azerbaijan',\n",
       "       'Bahamas', 'Bahrain', 'Bangladesh', 'Barbados', 'Belarus',\n",
       "       'Belgium', 'Belize', 'Benin', 'Bermuda', 'Bhutan', 'Bolivia',\n",
       "       'Bosnia And Herzegovina', 'Botswana', 'Brazil',\n",
       "       'British Virgin Islands', 'Brunei', 'Bulgaria', 'Burkina Faso',\n",
       "       'Burundi', 'Cambodia', 'Cameroon', 'Canada', 'Cape Verde', 'Chad',\n",
       "       'Chile', 'China', 'Colombia', 'Comoros', 'Congo', 'Cook Islands',\n",
       "       'Costa Rica', 'Croatia', 'Cuba', 'Curacao', 'Cyprus',\n",
       "       'Czech Republic', 'Denmark', 'Djibouti', 'Dominica',\n",
       "       'Dominican Republic', 'Ecuador', 'Egypt', 'El Salvador',\n",
       "       'Equatorial Guinea', 'Eritrea', 'Estonia', 'Ethiopia',\n",
       "       'Falkland Islands', 'Faroe Islands', 'Fiji', 'Finland', 'France',\n",
       "       'French Guiana', 'French Polynesia', 'Gabon', 'Gambia', 'Georgia',\n",
       "       'Germany', 'Ghana', 'Gibraltar', 'Greece', 'Greenland',\n",
       "       'Guadeloupe', 'Guatemala', 'Guinea', 'Guinea-Bissau', 'Guyana',\n",
       "       'Haiti', 'Honduras', 'Hong Kong', 'Hungary', 'Iceland', 'India',\n",
       "       'Indonesia', 'Iran', 'Iraq', 'Ireland', 'Isle Of Man', 'Israel',\n",
       "       'Italy', 'Ivory Coast', 'Jamaica', 'Japan', 'Jersey', 'Jordan',\n",
       "       'Kazakhstan', 'Kenya', 'Kosovo (Disputed Territory)', 'Kuwait',\n",
       "       'Kyrgyzstan', 'Laos', 'Latvia', 'Lebanon', 'Lesotho', 'Liberia',\n",
       "       'Libya', 'Liechtenstein', 'Lithuania', 'Luxembourg', 'Madagascar',\n",
       "       'Malawi', 'Malaysia', 'Maldives', 'Mali', 'Malta',\n",
       "       'Marshall Islands', 'Martinique', 'Mauritania', 'Mauritius',\n",
       "       'Mexico', 'Moldova', 'Monaco', 'Mongolia', 'Montenegro',\n",
       "       'Montserrat', 'Morocco', 'Mozambique', 'Myanmar', 'Namibia',\n",
       "       'Nauru', 'Nepal', 'Netherlands', 'New Caledonia', 'New Zealand',\n",
       "       'Nicaragua', 'Niger', 'Nigeria', 'North Korea', 'North Macedonia',\n",
       "       'Norway', 'Oman', 'Pakistan', 'Panama', 'Papua New Guinea',\n",
       "       'Paraguay', 'Peru', 'Philippines', 'Poland', 'Portugal',\n",
       "       'Puerto Rico', 'Qatar', 'Reunion', 'Romania', 'Russia', 'Rwanda',\n",
       "       'Saint Helena', 'Saint Kitts And Nevis', 'Saint Lucia',\n",
       "       'Saint Vincent And The Grenadines', 'Samoa', 'San Marino',\n",
       "       'Sao Tome And Principe', 'Saudi Arabia', 'Senegal', 'Serbia',\n",
       "       'Seychelles', 'Sierra Leone', 'Singapore', 'Sint Maarten',\n",
       "       'Slovakia', 'Slovenia', 'Solomon Islands', 'Somalia',\n",
       "       'South Africa', 'South Korea', 'South Sudan', 'Spain', 'Sri Lanka',\n",
       "       'Sudan', 'Suriname', 'Swaziland', 'Sweden', 'Switzerland', 'Syria',\n",
       "       'Taiwan', 'Tajikistan', 'Tanzania', 'Thailand', 'Timor-Leste',\n",
       "       'Togo', 'Tonga', 'Trinidad And Tobago', 'Tunisia', 'Turkey',\n",
       "       'Turkmenistan', 'Turks And Caicos Islands', 'Tuvalu', 'Uganda',\n",
       "       'Ukraine', 'United Arab Emirates', 'United Kingdom',\n",
       "       'United States', 'Uruguay', 'Uzbekistan', 'Vanuatu',\n",
       "       'Vatican City', 'Venezuela', 'Vietnam', 'Yemen', 'Zambia',\n",
       "       'Zimbabwe'], dtype=object)"
      ]
     },
     "execution_count": 64,
     "metadata": {},
     "output_type": "execute_result"
    }
   ],
   "source": [
    "data['Country'].unique()"
   ]
  },
  {
   "cell_type": "code",
   "execution_count": 86,
   "metadata": {},
   "outputs": [
    {
     "data": {
      "text/html": [
       "<div>\n",
       "<style scoped>\n",
       "    .dataframe tbody tr th:only-of-type {\n",
       "        vertical-align: middle;\n",
       "    }\n",
       "\n",
       "    .dataframe tbody tr th {\n",
       "        vertical-align: top;\n",
       "    }\n",
       "\n",
       "    .dataframe thead th {\n",
       "        text-align: right;\n",
       "    }\n",
       "</style>\n",
       "<table border=\"1\" class=\"dataframe\">\n",
       "  <thead>\n",
       "    <tr style=\"text-align: right;\">\n",
       "      <th></th>\n",
       "      <th>country</th>\n",
       "      <th>x1</th>\n",
       "      <th>x2</th>\n",
       "      <th>x3</th>\n",
       "      <th>x4</th>\n",
       "      <th>x5</th>\n",
       "      <th>x6</th>\n",
       "      <th>x7</th>\n",
       "      <th>x8</th>\n",
       "      <th>x9</th>\n",
       "      <th>...</th>\n",
       "      <th>x47</th>\n",
       "      <th>x48</th>\n",
       "      <th>x49</th>\n",
       "      <th>x50</th>\n",
       "      <th>x51</th>\n",
       "      <th>x52</th>\n",
       "      <th>x53</th>\n",
       "      <th>x54</th>\n",
       "      <th>x55</th>\n",
       "      <th>data_quality</th>\n",
       "    </tr>\n",
       "  </thead>\n",
       "  <tbody>\n",
       "    <tr>\n",
       "      <th>0</th>\n",
       "      <td>Afghanistan</td>\n",
       "      <td>1.690000</td>\n",
       "      <td>6.870000</td>\n",
       "      <td>2.977500</td>\n",
       "      <td>2.260000</td>\n",
       "      <td>NaN</td>\n",
       "      <td>0.597500</td>\n",
       "      <td>0.327500</td>\n",
       "      <td>0.140000</td>\n",
       "      <td>0.512000</td>\n",
       "      <td>...</td>\n",
       "      <td>27.965000</td>\n",
       "      <td>82.317500</td>\n",
       "      <td>46.140000</td>\n",
       "      <td>151.596667</td>\n",
       "      <td>94.163333</td>\n",
       "      <td>486.063333</td>\n",
       "      <td>239.113333</td>\n",
       "      <td>191.463333</td>\n",
       "      <td>11.193333</td>\n",
       "      <td>0.166667</td>\n",
       "    </tr>\n",
       "    <tr>\n",
       "      <th>1</th>\n",
       "      <td>Albania</td>\n",
       "      <td>4.460000</td>\n",
       "      <td>25.532000</td>\n",
       "      <td>4.223333</td>\n",
       "      <td>1.378667</td>\n",
       "      <td>1.842667</td>\n",
       "      <td>1.198667</td>\n",
       "      <td>1.148667</td>\n",
       "      <td>0.604000</td>\n",
       "      <td>1.136667</td>\n",
       "      <td>...</td>\n",
       "      <td>77.191429</td>\n",
       "      <td>204.213636</td>\n",
       "      <td>125.985455</td>\n",
       "      <td>366.069000</td>\n",
       "      <td>219.701000</td>\n",
       "      <td>887.849000</td>\n",
       "      <td>536.041111</td>\n",
       "      <td>368.735000</td>\n",
       "      <td>4.880833</td>\n",
       "      <td>0.200000</td>\n",
       "    </tr>\n",
       "    <tr>\n",
       "      <th>2</th>\n",
       "      <td>Algeria</td>\n",
       "      <td>1.956562</td>\n",
       "      <td>13.983750</td>\n",
       "      <td>2.830000</td>\n",
       "      <td>1.419615</td>\n",
       "      <td>1.627778</td>\n",
       "      <td>0.507333</td>\n",
       "      <td>0.489091</td>\n",
       "      <td>0.198788</td>\n",
       "      <td>0.673333</td>\n",
       "      <td>...</td>\n",
       "      <td>63.352258</td>\n",
       "      <td>145.281034</td>\n",
       "      <td>96.479630</td>\n",
       "      <td>239.689643</td>\n",
       "      <td>166.367778</td>\n",
       "      <td>947.055789</td>\n",
       "      <td>616.633684</td>\n",
       "      <td>262.671034</td>\n",
       "      <td>6.372667</td>\n",
       "      <td>0.088235</td>\n",
       "    </tr>\n",
       "    <tr>\n",
       "      <th>3</th>\n",
       "      <td>American Samoa</td>\n",
       "      <td>23.820000</td>\n",
       "      <td>6.660000</td>\n",
       "      <td>22.130000</td>\n",
       "      <td>1.910000</td>\n",
       "      <td>1.910000</td>\n",
       "      <td>1.000000</td>\n",
       "      <td>1.190000</td>\n",
       "      <td>2.110000</td>\n",
       "      <td>1.050000</td>\n",
       "      <td>...</td>\n",
       "      <td>NaN</td>\n",
       "      <td>89.460000</td>\n",
       "      <td>NaN</td>\n",
       "      <td>NaN</td>\n",
       "      <td>NaN</td>\n",
       "      <td>NaN</td>\n",
       "      <td>NaN</td>\n",
       "      <td>NaN</td>\n",
       "      <td>NaN</td>\n",
       "      <td>0.000000</td>\n",
       "    </tr>\n",
       "    <tr>\n",
       "      <th>4</th>\n",
       "      <td>Andorra</td>\n",
       "      <td>13.173333</td>\n",
       "      <td>40.920000</td>\n",
       "      <td>7.010000</td>\n",
       "      <td>2.073333</td>\n",
       "      <td>2.600000</td>\n",
       "      <td>1.380000</td>\n",
       "      <td>1.713333</td>\n",
       "      <td>1.370000</td>\n",
       "      <td>0.950000</td>\n",
       "      <td>...</td>\n",
       "      <td>124.693333</td>\n",
       "      <td>823.490000</td>\n",
       "      <td>664.736667</td>\n",
       "      <td>1724.043333</td>\n",
       "      <td>1320.693333</td>\n",
       "      <td>4390.603333</td>\n",
       "      <td>4109.603333</td>\n",
       "      <td>2842.183333</td>\n",
       "      <td>2.843333</td>\n",
       "      <td>0.000000</td>\n",
       "    </tr>\n",
       "    <tr>\n",
       "      <th>...</th>\n",
       "      <td>...</td>\n",
       "      <td>...</td>\n",
       "      <td>...</td>\n",
       "      <td>...</td>\n",
       "      <td>...</td>\n",
       "      <td>...</td>\n",
       "      <td>...</td>\n",
       "      <td>...</td>\n",
       "      <td>...</td>\n",
       "      <td>...</td>\n",
       "      <td>...</td>\n",
       "      <td>...</td>\n",
       "      <td>...</td>\n",
       "      <td>...</td>\n",
       "      <td>...</td>\n",
       "      <td>...</td>\n",
       "      <td>...</td>\n",
       "      <td>...</td>\n",
       "      <td>...</td>\n",
       "      <td>...</td>\n",
       "      <td>...</td>\n",
       "    </tr>\n",
       "    <tr>\n",
       "      <th>210</th>\n",
       "      <td>Venezuela</td>\n",
       "      <td>8.618824</td>\n",
       "      <td>32.763333</td>\n",
       "      <td>9.021765</td>\n",
       "      <td>1.442353</td>\n",
       "      <td>2.205882</td>\n",
       "      <td>1.928824</td>\n",
       "      <td>1.110000</td>\n",
       "      <td>0.799412</td>\n",
       "      <td>1.508333</td>\n",
       "      <td>...</td>\n",
       "      <td>68.483750</td>\n",
       "      <td>193.940000</td>\n",
       "      <td>181.823333</td>\n",
       "      <td>384.291667</td>\n",
       "      <td>296.666667</td>\n",
       "      <td>665.510000</td>\n",
       "      <td>550.611250</td>\n",
       "      <td>193.140000</td>\n",
       "      <td>31.720000</td>\n",
       "      <td>0.055556</td>\n",
       "    </tr>\n",
       "    <tr>\n",
       "      <th>211</th>\n",
       "      <td>Vietnam</td>\n",
       "      <td>2.115882</td>\n",
       "      <td>18.662353</td>\n",
       "      <td>4.231429</td>\n",
       "      <td>0.790625</td>\n",
       "      <td>1.542353</td>\n",
       "      <td>1.689412</td>\n",
       "      <td>0.478824</td>\n",
       "      <td>0.281176</td>\n",
       "      <td>1.337368</td>\n",
       "      <td>...</td>\n",
       "      <td>75.618947</td>\n",
       "      <td>324.830000</td>\n",
       "      <td>201.647273</td>\n",
       "      <td>728.840909</td>\n",
       "      <td>472.695455</td>\n",
       "      <td>1748.847778</td>\n",
       "      <td>986.321111</td>\n",
       "      <td>443.186667</td>\n",
       "      <td>11.003125</td>\n",
       "      <td>0.095238</td>\n",
       "    </tr>\n",
       "    <tr>\n",
       "      <th>212</th>\n",
       "      <td>Yemen</td>\n",
       "      <td>6.150000</td>\n",
       "      <td>32.616667</td>\n",
       "      <td>11.158333</td>\n",
       "      <td>2.265000</td>\n",
       "      <td>2.282500</td>\n",
       "      <td>2.540000</td>\n",
       "      <td>1.610000</td>\n",
       "      <td>0.660000</td>\n",
       "      <td>2.298000</td>\n",
       "      <td>...</td>\n",
       "      <td>71.310000</td>\n",
       "      <td>162.295000</td>\n",
       "      <td>93.740000</td>\n",
       "      <td>443.155000</td>\n",
       "      <td>221.605000</td>\n",
       "      <td>2786.350000</td>\n",
       "      <td>1015.360000</td>\n",
       "      <td>439.540000</td>\n",
       "      <td>12.875000</td>\n",
       "      <td>0.142857</td>\n",
       "    </tr>\n",
       "    <tr>\n",
       "      <th>213</th>\n",
       "      <td>Zambia</td>\n",
       "      <td>2.988000</td>\n",
       "      <td>18.370000</td>\n",
       "      <td>3.170000</td>\n",
       "      <td>1.152000</td>\n",
       "      <td>1.494000</td>\n",
       "      <td>1.742000</td>\n",
       "      <td>0.822000</td>\n",
       "      <td>0.458000</td>\n",
       "      <td>1.248000</td>\n",
       "      <td>...</td>\n",
       "      <td>105.640000</td>\n",
       "      <td>262.010000</td>\n",
       "      <td>168.400000</td>\n",
       "      <td>832.640000</td>\n",
       "      <td>439.960000</td>\n",
       "      <td>10763.910000</td>\n",
       "      <td>NaN</td>\n",
       "      <td>396.940000</td>\n",
       "      <td>26.000000</td>\n",
       "      <td>0.142857</td>\n",
       "    </tr>\n",
       "    <tr>\n",
       "      <th>214</th>\n",
       "      <td>Zimbabwe</td>\n",
       "      <td>6.843750</td>\n",
       "      <td>36.250000</td>\n",
       "      <td>6.187500</td>\n",
       "      <td>1.318750</td>\n",
       "      <td>1.971429</td>\n",
       "      <td>2.285000</td>\n",
       "      <td>0.665000</td>\n",
       "      <td>0.470000</td>\n",
       "      <td>1.688750</td>\n",
       "      <td>...</td>\n",
       "      <td>53.572500</td>\n",
       "      <td>196.586667</td>\n",
       "      <td>209.665000</td>\n",
       "      <td>534.723333</td>\n",
       "      <td>426.390000</td>\n",
       "      <td>1122.050000</td>\n",
       "      <td>1041.260000</td>\n",
       "      <td>311.110000</td>\n",
       "      <td>15.000000</td>\n",
       "      <td>0.100000</td>\n",
       "    </tr>\n",
       "  </tbody>\n",
       "</table>\n",
       "<p>215 rows × 57 columns</p>\n",
       "</div>"
      ],
      "text/plain": [
       "            country         x1         x2         x3        x4        x5  \\\n",
       "0       Afghanistan   1.690000   6.870000   2.977500  2.260000       NaN   \n",
       "1           Albania   4.460000  25.532000   4.223333  1.378667  1.842667   \n",
       "2           Algeria   1.956562  13.983750   2.830000  1.419615  1.627778   \n",
       "3    American Samoa  23.820000   6.660000  22.130000  1.910000  1.910000   \n",
       "4           Andorra  13.173333  40.920000   7.010000  2.073333  2.600000   \n",
       "..              ...        ...        ...        ...       ...       ...   \n",
       "210       Venezuela   8.618824  32.763333   9.021765  1.442353  2.205882   \n",
       "211         Vietnam   2.115882  18.662353   4.231429  0.790625  1.542353   \n",
       "212           Yemen   6.150000  32.616667  11.158333  2.265000  2.282500   \n",
       "213          Zambia   2.988000  18.370000   3.170000  1.152000  1.494000   \n",
       "214        Zimbabwe   6.843750  36.250000   6.187500  1.318750  1.971429   \n",
       "\n",
       "           x6        x7        x8        x9  ...         x47         x48  \\\n",
       "0    0.597500  0.327500  0.140000  0.512000  ...   27.965000   82.317500   \n",
       "1    1.198667  1.148667  0.604000  1.136667  ...   77.191429  204.213636   \n",
       "2    0.507333  0.489091  0.198788  0.673333  ...   63.352258  145.281034   \n",
       "3    1.000000  1.190000  2.110000  1.050000  ...         NaN   89.460000   \n",
       "4    1.380000  1.713333  1.370000  0.950000  ...  124.693333  823.490000   \n",
       "..        ...       ...       ...       ...  ...         ...         ...   \n",
       "210  1.928824  1.110000  0.799412  1.508333  ...   68.483750  193.940000   \n",
       "211  1.689412  0.478824  0.281176  1.337368  ...   75.618947  324.830000   \n",
       "212  2.540000  1.610000  0.660000  2.298000  ...   71.310000  162.295000   \n",
       "213  1.742000  0.822000  0.458000  1.248000  ...  105.640000  262.010000   \n",
       "214  2.285000  0.665000  0.470000  1.688750  ...   53.572500  196.586667   \n",
       "\n",
       "            x49          x50          x51           x52          x53  \\\n",
       "0     46.140000   151.596667    94.163333    486.063333   239.113333   \n",
       "1    125.985455   366.069000   219.701000    887.849000   536.041111   \n",
       "2     96.479630   239.689643   166.367778    947.055789   616.633684   \n",
       "3           NaN          NaN          NaN           NaN          NaN   \n",
       "4    664.736667  1724.043333  1320.693333   4390.603333  4109.603333   \n",
       "..          ...          ...          ...           ...          ...   \n",
       "210  181.823333   384.291667   296.666667    665.510000   550.611250   \n",
       "211  201.647273   728.840909   472.695455   1748.847778   986.321111   \n",
       "212   93.740000   443.155000   221.605000   2786.350000  1015.360000   \n",
       "213  168.400000   832.640000   439.960000  10763.910000          NaN   \n",
       "214  209.665000   534.723333   426.390000   1122.050000  1041.260000   \n",
       "\n",
       "             x54        x55  data_quality  \n",
       "0     191.463333  11.193333      0.166667  \n",
       "1     368.735000   4.880833      0.200000  \n",
       "2     262.671034   6.372667      0.088235  \n",
       "3            NaN        NaN      0.000000  \n",
       "4    2842.183333   2.843333      0.000000  \n",
       "..           ...        ...           ...  \n",
       "210   193.140000  31.720000      0.055556  \n",
       "211   443.186667  11.003125      0.095238  \n",
       "212   439.540000  12.875000      0.142857  \n",
       "213   396.940000  26.000000      0.142857  \n",
       "214   311.110000  15.000000      0.100000  \n",
       "\n",
       "[215 rows x 57 columns]"
      ]
     },
     "execution_count": 86,
     "metadata": {},
     "output_type": "execute_result"
    }
   ],
   "source": [
    "data"
   ]
  },
  {
   "cell_type": "code",
   "execution_count": 137,
   "metadata": {},
   "outputs": [],
   "source": [
    "dataset = pd.DataFrame(data[columns])"
   ]
  },
  {
   "cell_type": "code",
   "execution_count": 138,
   "metadata": {},
   "outputs": [],
   "source": [
    "dataset.country = dataset.country.str.title()"
   ]
  },
  {
   "cell_type": "code",
   "execution_count": 209,
   "metadata": {},
   "outputs": [],
   "source": [
    "import numpy as np"
   ]
  },
  {
   "cell_type": "code",
   "execution_count": 240,
   "metadata": {},
   "outputs": [],
   "source": [
    "countries = pd.read_csv(os.path.join(data_path, 'GDP_global.csv'))\n",
    "countries.COUNTRY = countries.COUNTRY.str.title()"
   ]
  },
  {
   "cell_type": "code",
   "execution_count": 241,
   "metadata": {},
   "outputs": [],
   "source": [
    "dataset['code'] = np.nan\n",
    "dataset['GDP'] = np.nan"
   ]
  },
  {
   "cell_type": "code",
   "execution_count": 242,
   "metadata": {},
   "outputs": [],
   "source": [
    "for country, code, gdp in zip(countries.COUNTRY, countries.CODE, countries['GDP (BILLIONS)']):\n",
    "    indexes = dataset['country'] == country\n",
    "    dataset.loc[indexes, 'code'] = code\n",
    "    dataset.loc[indexes, 'GDP'] = gdp"
   ]
  },
  {
   "cell_type": "code",
   "execution_count": 250,
   "metadata": {},
   "outputs": [],
   "source": [
    "unesco = pd.read_csv(os.path.join('..', 'data', 'unesco.csv'))"
   ]
  },
  {
   "cell_type": "code",
   "execution_count": 251,
   "metadata": {},
   "outputs": [],
   "source": [
    "unesco.Country = unesco.Country.str.title()"
   ]
  },
  {
   "cell_type": "code",
   "execution_count": 252,
   "metadata": {},
   "outputs": [],
   "source": [
    "dataset['unesco_props'] = np.nan\n",
    "for country, prop in zip(unesco.Country, unesco.Properties):\n",
    "    indexes = dataset['country'] == country\n",
    "    dataset.loc[indexes, 'unesco_props'] = prop\n"
   ]
  },
  {
   "cell_type": "code",
   "execution_count": 253,
   "metadata": {},
   "outputs": [
    {
     "data": {
      "text/plain": [
       "33"
      ]
     },
     "execution_count": 253,
     "metadata": {},
     "output_type": "execute_result"
    }
   ],
   "source": [
    "dataset.unesco_props.isnull().sum()"
   ]
  },
  {
   "cell_type": "code",
   "execution_count": 254,
   "metadata": {},
   "outputs": [
    {
     "data": {
      "text/plain": [
       "3                   American Samoa\n",
       "6                         Anguilla\n",
       "10                           Aruba\n",
       "22                         Bermuda\n",
       "28          British Virgin Islands\n",
       "29                          Brunei\n",
       "47                         Curacao\n",
       "61                Falkland Islands\n",
       "62                   Faroe Islands\n",
       "66                   French Guiana\n",
       "67                French Polynesia\n",
       "73                       Gibraltar\n",
       "75                       Greenland\n",
       "76                      Guadeloupe\n",
       "83                       Hong Kong\n",
       "91                     Isle Of Man\n",
       "97                          Jersey\n",
       "101    Kosovo (Disputed Territory)\n",
       "110                  Liechtenstein\n",
       "120                     Martinique\n",
       "128                     Montserrat\n",
       "133                          Nauru\n",
       "136                  New Caledonia\n",
       "153                    Puerto Rico\n",
       "155                        Reunion\n",
       "159                   Saint Helena\n",
       "172                   Sint Maarten\n",
       "184                      Swaziland\n",
       "188                         Taiwan\n",
       "197                         Turkey\n",
       "199       Turks And Caicos Islands\n",
       "200                         Tuvalu\n",
       "209                   Vatican City\n",
       "Name: country, dtype: object"
      ]
     },
     "execution_count": 254,
     "metadata": {},
     "output_type": "execute_result"
    }
   ],
   "source": [
    "dataset.loc[dataset.unesco_props.isnull(), 'country']"
   ]
  },
  {
   "cell_type": "code",
   "execution_count": 255,
   "metadata": {},
   "outputs": [],
   "source": [
    "safety = pd.read_csv(os.path.join('..', 'data', 'safety_index.csv'))"
   ]
  },
  {
   "cell_type": "code",
   "execution_count": 256,
   "metadata": {},
   "outputs": [],
   "source": [
    "safety.Country = safety.Country.str.title()"
   ]
  },
  {
   "cell_type": "code",
   "execution_count": 257,
   "metadata": {},
   "outputs": [],
   "source": [
    "dataset['safety_index'] = np.nan\n",
    "for country, ind in zip(safety.Country, safety['Safety Index']):\n",
    "    indexes = dataset['country'] == country\n",
    "    dataset.loc[indexes, 'safety_index'] = ind"
   ]
  },
  {
   "cell_type": "code",
   "execution_count": 258,
   "metadata": {},
   "outputs": [
    {
     "data": {
      "text/plain": [
       "75"
      ]
     },
     "execution_count": 258,
     "metadata": {},
     "output_type": "execute_result"
    }
   ],
   "source": [
    "dataset.safety_index.isnull().sum()"
   ]
  },
  {
   "cell_type": "code",
   "execution_count": 259,
   "metadata": {},
   "outputs": [],
   "source": [
    "dataset.to_csv(os.path.join('..', 'data', 'dataset_alpha.csv'))"
   ]
  }
 ],
 "metadata": {
  "kernelspec": {
   "display_name": "vad",
   "language": "python",
   "name": "python3"
  },
  "language_info": {
   "codemirror_mode": {
    "name": "ipython",
    "version": 3
   },
   "file_extension": ".py",
   "mimetype": "text/x-python",
   "name": "python",
   "nbconvert_exporter": "python",
   "pygments_lexer": "ipython3",
   "version": "3.8.5"
  },
  "orig_nbformat": 4,
  "vscode": {
   "interpreter": {
    "hash": "62fda4eeca0b06a1fc53b4da55afa55411321a0c2c90e72399a943834f34b8a3"
   }
  }
 },
 "nbformat": 4,
 "nbformat_minor": 2
}
