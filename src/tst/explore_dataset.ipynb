{
 "cells": [
  {
   "cell_type": "code",
   "execution_count": 2,
   "metadata": {},
   "outputs": [],
   "source": [
    "import pandas as pd\n",
    "import os "
   ]
  },
  {
   "cell_type": "code",
   "execution_count": 5,
   "metadata": {},
   "outputs": [],
   "source": [
    "data_path = os.path.join('..', 'data')"
   ]
  },
  {
   "cell_type": "code",
   "execution_count": 16,
   "metadata": {},
   "outputs": [],
   "source": [
    "metadata = pd.read_csv( os.path.join(data_path,  'metadata.csv'), sep=';')"
   ]
  },
  {
   "cell_type": "code",
   "execution_count": 7,
   "metadata": {},
   "outputs": [],
   "source": [
    "df = pd.read_csv(os.path.join(data_path, 'cost-of-living_v2.csv'))"
   ]
  },
  {
   "cell_type": "code",
   "execution_count": 8,
   "metadata": {},
   "outputs": [],
   "source": [
    "df = df.drop('city', axis=1)"
   ]
  },
  {
   "cell_type": "code",
   "execution_count": 26,
   "metadata": {},
   "outputs": [],
   "source": [
    "data = df.groupby('country').mean()"
   ]
  },
  {
   "cell_type": "code",
   "execution_count": 27,
   "metadata": {},
   "outputs": [],
   "source": [
    "data = data.reset_index()"
   ]
  },
  {
   "cell_type": "code",
   "execution_count": 28,
   "metadata": {},
   "outputs": [],
   "source": [
    "data.to_csv(os.path.join(data_path, 'cost_of_living_per_country.csv'))"
   ]
  },
  {
   "cell_type": "code",
   "execution_count": 29,
   "metadata": {},
   "outputs": [
    {
     "name": "stdout",
     "output_type": "stream",
     "text": [
      "<class 'pandas.core.frame.DataFrame'>\n",
      "RangeIndex: 215 entries, 0 to 214\n",
      "Data columns (total 57 columns):\n",
      " #   Column        Non-Null Count  Dtype  \n",
      "---  ------        --------------  -----  \n",
      " 0   country       215 non-null    object \n",
      " 1   x1            212 non-null    float64\n",
      " 2   x2            212 non-null    float64\n",
      " 3   x3            211 non-null    float64\n",
      " 4   x4            211 non-null    float64\n",
      " 5   x5            210 non-null    float64\n",
      " 6   x6            212 non-null    float64\n",
      " 7   x7            214 non-null    float64\n",
      " 8   x8            214 non-null    float64\n",
      " 9   x9            214 non-null    float64\n",
      " 10  x10           214 non-null    float64\n",
      " 11  x11           210 non-null    float64\n",
      " 12  x12           212 non-null    float64\n",
      " 13  x13           203 non-null    float64\n",
      " 14  x14           210 non-null    float64\n",
      " 15  x15           208 non-null    float64\n",
      " 16  x16           209 non-null    float64\n",
      " 17  x17           210 non-null    float64\n",
      " 18  x18           210 non-null    float64\n",
      " 19  x19           209 non-null    float64\n",
      " 20  x20           208 non-null    float64\n",
      " 21  x21           208 non-null    float64\n",
      " 22  x22           206 non-null    float64\n",
      " 23  x23           209 non-null    float64\n",
      " 24  x24           209 non-null    float64\n",
      " 25  x25           205 non-null    float64\n",
      " 26  x26           207 non-null    float64\n",
      " 27  x27           206 non-null    float64\n",
      " 28  x28           203 non-null    float64\n",
      " 29  x29           186 non-null    float64\n",
      " 30  x30           201 non-null    float64\n",
      " 31  x31           195 non-null    float64\n",
      " 32  x32           194 non-null    float64\n",
      " 33  x33           208 non-null    float64\n",
      " 34  x34           194 non-null    float64\n",
      " 35  x35           190 non-null    float64\n",
      " 36  x36           208 non-null    float64\n",
      " 37  x37           198 non-null    float64\n",
      " 38  x38           206 non-null    float64\n",
      " 39  x39           207 non-null    float64\n",
      " 40  x40           194 non-null    float64\n",
      " 41  x41           200 non-null    float64\n",
      " 42  x42           195 non-null    float64\n",
      " 43  x43           195 non-null    float64\n",
      " 44  x44           199 non-null    float64\n",
      " 45  x45           197 non-null    float64\n",
      " 46  x46           199 non-null    float64\n",
      " 47  x47           199 non-null    float64\n",
      " 48  x48           211 non-null    float64\n",
      " 49  x49           212 non-null    float64\n",
      " 50  x50           206 non-null    float64\n",
      " 51  x51           208 non-null    float64\n",
      " 52  x52           190 non-null    float64\n",
      " 53  x53           189 non-null    float64\n",
      " 54  x54           209 non-null    float64\n",
      " 55  x55           188 non-null    float64\n",
      " 56  data_quality  215 non-null    float64\n",
      "dtypes: float64(56), object(1)\n",
      "memory usage: 95.9+ KB\n"
     ]
    }
   ],
   "source": [
    "data.info()"
   ]
  },
  {
   "cell_type": "code",
   "execution_count": 31,
   "metadata": {},
   "outputs": [],
   "source": [
    "data.columns = list(metadata.description)"
   ]
  },
  {
   "cell_type": "code",
   "execution_count": 33,
   "metadata": {},
   "outputs": [
    {
     "data": {
      "text/plain": [
       "array(['Afghanistan', 'Albania', 'Algeria', 'American Samoa', 'Andorra',\n",
       "       'Angola', 'Anguilla', 'Antigua And Barbuda', 'Argentina',\n",
       "       'Armenia', 'Aruba', 'Australia', 'Austria', 'Azerbaijan',\n",
       "       'Bahamas', 'Bahrain', 'Bangladesh', 'Barbados', 'Belarus',\n",
       "       'Belgium', 'Belize', 'Benin', 'Bermuda', 'Bhutan', 'Bolivia',\n",
       "       'Bosnia And Herzegovina', 'Botswana', 'Brazil',\n",
       "       'British Virgin Islands', 'Brunei', 'Bulgaria', 'Burkina Faso',\n",
       "       'Burundi', 'Cambodia', 'Cameroon', 'Canada', 'Cape Verde', 'Chad',\n",
       "       'Chile', 'China', 'Colombia', 'Comoros', 'Congo', 'Cook Islands',\n",
       "       'Costa Rica', 'Croatia', 'Cuba', 'Curacao', 'Cyprus',\n",
       "       'Czech Republic', 'Denmark', 'Djibouti', 'Dominica',\n",
       "       'Dominican Republic', 'Ecuador', 'Egypt', 'El Salvador',\n",
       "       'Equatorial Guinea', 'Eritrea', 'Estonia', 'Ethiopia',\n",
       "       'Falkland Islands', 'Faroe Islands', 'Fiji', 'Finland', 'France',\n",
       "       'French Guiana', 'French Polynesia', 'Gabon', 'Gambia', 'Georgia',\n",
       "       'Germany', 'Ghana', 'Gibraltar', 'Greece', 'Greenland',\n",
       "       'Guadeloupe', 'Guatemala', 'Guinea', 'Guinea-Bissau', 'Guyana',\n",
       "       'Haiti', 'Honduras', 'Hong Kong', 'Hungary', 'Iceland', 'India',\n",
       "       'Indonesia', 'Iran', 'Iraq', 'Ireland', 'Isle Of Man', 'Israel',\n",
       "       'Italy', 'Ivory Coast', 'Jamaica', 'Japan', 'Jersey', 'Jordan',\n",
       "       'Kazakhstan', 'Kenya', 'Kosovo (Disputed Territory)', 'Kuwait',\n",
       "       'Kyrgyzstan', 'Laos', 'Latvia', 'Lebanon', 'Lesotho', 'Liberia',\n",
       "       'Libya', 'Liechtenstein', 'Lithuania', 'Luxembourg', 'Madagascar',\n",
       "       'Malawi', 'Malaysia', 'Maldives', 'Mali', 'Malta',\n",
       "       'Marshall Islands', 'Martinique', 'Mauritania', 'Mauritius',\n",
       "       'Mexico', 'Moldova', 'Monaco', 'Mongolia', 'Montenegro',\n",
       "       'Montserrat', 'Morocco', 'Mozambique', 'Myanmar', 'Namibia',\n",
       "       'Nauru', 'Nepal', 'Netherlands', 'New Caledonia', 'New Zealand',\n",
       "       'Nicaragua', 'Niger', 'Nigeria', 'North Korea', 'North Macedonia',\n",
       "       'Norway', 'Oman', 'Pakistan', 'Panama', 'Papua New Guinea',\n",
       "       'Paraguay', 'Peru', 'Philippines', 'Poland', 'Portugal',\n",
       "       'Puerto Rico', 'Qatar', 'Reunion', 'Romania', 'Russia', 'Rwanda',\n",
       "       'Saint Helena', 'Saint Kitts And Nevis', 'Saint Lucia',\n",
       "       'Saint Vincent And The Grenadines', 'Samoa', 'San Marino',\n",
       "       'Sao Tome And Principe', 'Saudi Arabia', 'Senegal', 'Serbia',\n",
       "       'Seychelles', 'Sierra Leone', 'Singapore', 'Sint Maarten',\n",
       "       'Slovakia', 'Slovenia', 'Solomon Islands', 'Somalia',\n",
       "       'South Africa', 'South Korea', 'South Sudan', 'Spain', 'Sri Lanka',\n",
       "       'Sudan', 'Suriname', 'Swaziland', 'Sweden', 'Switzerland', 'Syria',\n",
       "       'Taiwan', 'Tajikistan', 'Tanzania', 'Thailand', 'Timor-Leste',\n",
       "       'Togo', 'Tonga', 'Trinidad And Tobago', 'Tunisia', 'Turkey',\n",
       "       'Turkmenistan', 'Turks And Caicos Islands', 'Tuvalu', 'Uganda',\n",
       "       'Ukraine', 'United Arab Emirates', 'United Kingdom',\n",
       "       'United States', 'Uruguay', 'Uzbekistan', 'Vanuatu',\n",
       "       'Vatican City', 'Venezuela', 'Vietnam', 'Yemen', 'Zambia',\n",
       "       'Zimbabwe'], dtype=object)"
      ]
     },
     "execution_count": 33,
     "metadata": {},
     "output_type": "execute_result"
    }
   ],
   "source": [
    "data['Country'].unique()"
   ]
  },
  {
   "cell_type": "code",
   "execution_count": 35,
   "metadata": {},
   "outputs": [],
   "source": [
    "countries = pd.read_csv(os.path.join(data_path, 'GDP_global.csv'))"
   ]
  },
  {
   "cell_type": "code",
   "execution_count": 36,
   "metadata": {},
   "outputs": [
    {
     "data": {
      "text/html": [
       "        <script type=\"text/javascript\">\n",
       "        window.PlotlyConfig = {MathJaxConfig: 'local'};\n",
       "        if (window.MathJax && window.MathJax.Hub && window.MathJax.Hub.Config) {window.MathJax.Hub.Config({SVG: {font: \"STIX-Web\"}});}\n",
       "        if (typeof require !== 'undefined') {\n",
       "        require.undef(\"plotly\");\n",
       "        requirejs.config({\n",
       "            paths: {\n",
       "                'plotly': ['https://cdn.plot.ly/plotly-2.18.0.min']\n",
       "            }\n",
       "        });\n",
       "        require(['plotly'], function(Plotly) {\n",
       "            window._Plotly = Plotly;\n",
       "        });\n",
       "        }\n",
       "        </script>\n",
       "        "
      ]
     },
     "metadata": {},
     "output_type": "display_data"
    }
   ],
   "source": [
    "import plotly.offline as po\n",
    "import plotly.graph_objs as pg\n",
    "import matplotlib.pyplot as plt\n",
    "\n",
    "po.init_notebook_mode(connected = True)\n"
   ]
  },
  {
   "cell_type": "code",
   "execution_count": 37,
   "metadata": {},
   "outputs": [],
   "source": [
    "df['code'] = [''] * len(df)"
   ]
  },
  {
   "cell_type": "code",
   "execution_count": 38,
   "metadata": {},
   "outputs": [],
   "source": [
    "for country, code in zip(countries.COUNTRY, countries.CODE):\n",
    "    indexes = data['Country'] == country\n",
    "    data.loc[indexes, 'code'] = code"
   ]
  },
  {
   "cell_type": "code",
   "execution_count": 39,
   "metadata": {},
   "outputs": [
    {
     "data": {
      "text/html": [
       "<div>\n",
       "<style scoped>\n",
       "    .dataframe tbody tr th:only-of-type {\n",
       "        vertical-align: middle;\n",
       "    }\n",
       "\n",
       "    .dataframe tbody tr th {\n",
       "        vertical-align: top;\n",
       "    }\n",
       "\n",
       "    .dataframe thead th {\n",
       "        text-align: right;\n",
       "    }\n",
       "</style>\n",
       "<table border=\"1\" class=\"dataframe\">\n",
       "  <thead>\n",
       "    <tr style=\"text-align: right;\">\n",
       "      <th></th>\n",
       "      <th>Country</th>\n",
       "      <th>code</th>\n",
       "    </tr>\n",
       "  </thead>\n",
       "  <tbody>\n",
       "    <tr>\n",
       "      <th>85</th>\n",
       "      <td>Iceland</td>\n",
       "      <td>ISL</td>\n",
       "    </tr>\n",
       "  </tbody>\n",
       "</table>\n",
       "</div>"
      ],
      "text/plain": [
       "    Country code\n",
       "85  Iceland  ISL"
      ]
     },
     "execution_count": 39,
     "metadata": {},
     "output_type": "execute_result"
    }
   ],
   "source": [
    "data.loc[data['Country'] == 'Iceland',['Country', 'code']]"
   ]
  },
  {
   "cell_type": "code",
   "execution_count": 40,
   "metadata": {},
   "outputs": [
    {
     "data": {
      "text/html": [
       "<div>\n",
       "<style scoped>\n",
       "    .dataframe tbody tr th:only-of-type {\n",
       "        vertical-align: middle;\n",
       "    }\n",
       "\n",
       "    .dataframe tbody tr th {\n",
       "        vertical-align: top;\n",
       "    }\n",
       "\n",
       "    .dataframe thead th {\n",
       "        text-align: right;\n",
       "    }\n",
       "</style>\n",
       "<table border=\"1\" class=\"dataframe\">\n",
       "  <thead>\n",
       "    <tr style=\"text-align: right;\">\n",
       "      <th></th>\n",
       "      <th>Country</th>\n",
       "      <th>Meal, Inexpensive Restaurant (USD)</th>\n",
       "      <th>Meal for 2 People, Mid-range Restaurant, Three-course (USD)</th>\n",
       "      <th>McMeal at McDonalds (or Equivalent Combo Meal) (USD)</th>\n",
       "      <th>Domestic Beer (0.5 liter draught, in restaurants) (USD)</th>\n",
       "      <th>Imported Beer (0.33 liter bottle, in restaurants) (USD)</th>\n",
       "      <th>Cappuccino (regular, in restaurants) (USD)</th>\n",
       "      <th>Coke/Pepsi (0.33 liter bottle, in restaurants) (USD)</th>\n",
       "      <th>Water (0.33 liter bottle, in restaurants) (USD)</th>\n",
       "      <th>Milk (regular), (1 liter) (USD)</th>\n",
       "      <th>...</th>\n",
       "      <th>Apartment (1 bedroom) in City Centre (USD)</th>\n",
       "      <th>Apartment (1 bedroom) Outside of Centre (USD)</th>\n",
       "      <th>Apartment (3 bedrooms) in City Centre (USD)</th>\n",
       "      <th>Apartment (3 bedrooms) Outside of Centre (USD)</th>\n",
       "      <th>Price per Square Meter to Buy Apartment in City Centre (USD)</th>\n",
       "      <th>Price per Square Meter to Buy Apartment Outside of Centre (USD)</th>\n",
       "      <th>Average Monthly Net Salary (After Tax) (USD)</th>\n",
       "      <th>Mortgage Interest Rate in Percentages (%), Yearly, for 20 Years Fixed-Rate</th>\n",
       "      <th>Quality index</th>\n",
       "      <th>code</th>\n",
       "    </tr>\n",
       "  </thead>\n",
       "  <tbody>\n",
       "    <tr>\n",
       "      <th>0</th>\n",
       "      <td>Afghanistan</td>\n",
       "      <td>1.690000</td>\n",
       "      <td>6.870000</td>\n",
       "      <td>2.977500</td>\n",
       "      <td>2.260000</td>\n",
       "      <td>NaN</td>\n",
       "      <td>0.597500</td>\n",
       "      <td>0.327500</td>\n",
       "      <td>0.140000</td>\n",
       "      <td>0.512000</td>\n",
       "      <td>...</td>\n",
       "      <td>82.317500</td>\n",
       "      <td>46.140000</td>\n",
       "      <td>151.596667</td>\n",
       "      <td>94.163333</td>\n",
       "      <td>486.063333</td>\n",
       "      <td>239.113333</td>\n",
       "      <td>191.463333</td>\n",
       "      <td>11.193333</td>\n",
       "      <td>0.166667</td>\n",
       "      <td>AFG</td>\n",
       "    </tr>\n",
       "    <tr>\n",
       "      <th>1</th>\n",
       "      <td>Albania</td>\n",
       "      <td>4.460000</td>\n",
       "      <td>25.532000</td>\n",
       "      <td>4.223333</td>\n",
       "      <td>1.378667</td>\n",
       "      <td>1.842667</td>\n",
       "      <td>1.198667</td>\n",
       "      <td>1.148667</td>\n",
       "      <td>0.604000</td>\n",
       "      <td>1.136667</td>\n",
       "      <td>...</td>\n",
       "      <td>204.213636</td>\n",
       "      <td>125.985455</td>\n",
       "      <td>366.069000</td>\n",
       "      <td>219.701000</td>\n",
       "      <td>887.849000</td>\n",
       "      <td>536.041111</td>\n",
       "      <td>368.735000</td>\n",
       "      <td>4.880833</td>\n",
       "      <td>0.200000</td>\n",
       "      <td>ALB</td>\n",
       "    </tr>\n",
       "    <tr>\n",
       "      <th>2</th>\n",
       "      <td>Algeria</td>\n",
       "      <td>1.956562</td>\n",
       "      <td>13.983750</td>\n",
       "      <td>2.830000</td>\n",
       "      <td>1.419615</td>\n",
       "      <td>1.627778</td>\n",
       "      <td>0.507333</td>\n",
       "      <td>0.489091</td>\n",
       "      <td>0.198788</td>\n",
       "      <td>0.673333</td>\n",
       "      <td>...</td>\n",
       "      <td>145.281034</td>\n",
       "      <td>96.479630</td>\n",
       "      <td>239.689643</td>\n",
       "      <td>166.367778</td>\n",
       "      <td>947.055789</td>\n",
       "      <td>616.633684</td>\n",
       "      <td>262.671034</td>\n",
       "      <td>6.372667</td>\n",
       "      <td>0.088235</td>\n",
       "      <td>DZA</td>\n",
       "    </tr>\n",
       "    <tr>\n",
       "      <th>3</th>\n",
       "      <td>American Samoa</td>\n",
       "      <td>23.820000</td>\n",
       "      <td>6.660000</td>\n",
       "      <td>22.130000</td>\n",
       "      <td>1.910000</td>\n",
       "      <td>1.910000</td>\n",
       "      <td>1.000000</td>\n",
       "      <td>1.190000</td>\n",
       "      <td>2.110000</td>\n",
       "      <td>1.050000</td>\n",
       "      <td>...</td>\n",
       "      <td>89.460000</td>\n",
       "      <td>NaN</td>\n",
       "      <td>NaN</td>\n",
       "      <td>NaN</td>\n",
       "      <td>NaN</td>\n",
       "      <td>NaN</td>\n",
       "      <td>NaN</td>\n",
       "      <td>NaN</td>\n",
       "      <td>0.000000</td>\n",
       "      <td>ASM</td>\n",
       "    </tr>\n",
       "    <tr>\n",
       "      <th>4</th>\n",
       "      <td>Andorra</td>\n",
       "      <td>13.173333</td>\n",
       "      <td>40.920000</td>\n",
       "      <td>7.010000</td>\n",
       "      <td>2.073333</td>\n",
       "      <td>2.600000</td>\n",
       "      <td>1.380000</td>\n",
       "      <td>1.713333</td>\n",
       "      <td>1.370000</td>\n",
       "      <td>0.950000</td>\n",
       "      <td>...</td>\n",
       "      <td>823.490000</td>\n",
       "      <td>664.736667</td>\n",
       "      <td>1724.043333</td>\n",
       "      <td>1320.693333</td>\n",
       "      <td>4390.603333</td>\n",
       "      <td>4109.603333</td>\n",
       "      <td>2842.183333</td>\n",
       "      <td>2.843333</td>\n",
       "      <td>0.000000</td>\n",
       "      <td>AND</td>\n",
       "    </tr>\n",
       "    <tr>\n",
       "      <th>...</th>\n",
       "      <td>...</td>\n",
       "      <td>...</td>\n",
       "      <td>...</td>\n",
       "      <td>...</td>\n",
       "      <td>...</td>\n",
       "      <td>...</td>\n",
       "      <td>...</td>\n",
       "      <td>...</td>\n",
       "      <td>...</td>\n",
       "      <td>...</td>\n",
       "      <td>...</td>\n",
       "      <td>...</td>\n",
       "      <td>...</td>\n",
       "      <td>...</td>\n",
       "      <td>...</td>\n",
       "      <td>...</td>\n",
       "      <td>...</td>\n",
       "      <td>...</td>\n",
       "      <td>...</td>\n",
       "      <td>...</td>\n",
       "      <td>...</td>\n",
       "    </tr>\n",
       "    <tr>\n",
       "      <th>210</th>\n",
       "      <td>Venezuela</td>\n",
       "      <td>8.618824</td>\n",
       "      <td>32.763333</td>\n",
       "      <td>9.021765</td>\n",
       "      <td>1.442353</td>\n",
       "      <td>2.205882</td>\n",
       "      <td>1.928824</td>\n",
       "      <td>1.110000</td>\n",
       "      <td>0.799412</td>\n",
       "      <td>1.508333</td>\n",
       "      <td>...</td>\n",
       "      <td>193.940000</td>\n",
       "      <td>181.823333</td>\n",
       "      <td>384.291667</td>\n",
       "      <td>296.666667</td>\n",
       "      <td>665.510000</td>\n",
       "      <td>550.611250</td>\n",
       "      <td>193.140000</td>\n",
       "      <td>31.720000</td>\n",
       "      <td>0.055556</td>\n",
       "      <td>VEN</td>\n",
       "    </tr>\n",
       "    <tr>\n",
       "      <th>211</th>\n",
       "      <td>Vietnam</td>\n",
       "      <td>2.115882</td>\n",
       "      <td>18.662353</td>\n",
       "      <td>4.231429</td>\n",
       "      <td>0.790625</td>\n",
       "      <td>1.542353</td>\n",
       "      <td>1.689412</td>\n",
       "      <td>0.478824</td>\n",
       "      <td>0.281176</td>\n",
       "      <td>1.337368</td>\n",
       "      <td>...</td>\n",
       "      <td>324.830000</td>\n",
       "      <td>201.647273</td>\n",
       "      <td>728.840909</td>\n",
       "      <td>472.695455</td>\n",
       "      <td>1748.847778</td>\n",
       "      <td>986.321111</td>\n",
       "      <td>443.186667</td>\n",
       "      <td>11.003125</td>\n",
       "      <td>0.095238</td>\n",
       "      <td>VNM</td>\n",
       "    </tr>\n",
       "    <tr>\n",
       "      <th>212</th>\n",
       "      <td>Yemen</td>\n",
       "      <td>6.150000</td>\n",
       "      <td>32.616667</td>\n",
       "      <td>11.158333</td>\n",
       "      <td>2.265000</td>\n",
       "      <td>2.282500</td>\n",
       "      <td>2.540000</td>\n",
       "      <td>1.610000</td>\n",
       "      <td>0.660000</td>\n",
       "      <td>2.298000</td>\n",
       "      <td>...</td>\n",
       "      <td>162.295000</td>\n",
       "      <td>93.740000</td>\n",
       "      <td>443.155000</td>\n",
       "      <td>221.605000</td>\n",
       "      <td>2786.350000</td>\n",
       "      <td>1015.360000</td>\n",
       "      <td>439.540000</td>\n",
       "      <td>12.875000</td>\n",
       "      <td>0.142857</td>\n",
       "      <td>YEM</td>\n",
       "    </tr>\n",
       "    <tr>\n",
       "      <th>213</th>\n",
       "      <td>Zambia</td>\n",
       "      <td>2.988000</td>\n",
       "      <td>18.370000</td>\n",
       "      <td>3.170000</td>\n",
       "      <td>1.152000</td>\n",
       "      <td>1.494000</td>\n",
       "      <td>1.742000</td>\n",
       "      <td>0.822000</td>\n",
       "      <td>0.458000</td>\n",
       "      <td>1.248000</td>\n",
       "      <td>...</td>\n",
       "      <td>262.010000</td>\n",
       "      <td>168.400000</td>\n",
       "      <td>832.640000</td>\n",
       "      <td>439.960000</td>\n",
       "      <td>10763.910000</td>\n",
       "      <td>NaN</td>\n",
       "      <td>396.940000</td>\n",
       "      <td>26.000000</td>\n",
       "      <td>0.142857</td>\n",
       "      <td>ZMB</td>\n",
       "    </tr>\n",
       "    <tr>\n",
       "      <th>214</th>\n",
       "      <td>Zimbabwe</td>\n",
       "      <td>6.843750</td>\n",
       "      <td>36.250000</td>\n",
       "      <td>6.187500</td>\n",
       "      <td>1.318750</td>\n",
       "      <td>1.971429</td>\n",
       "      <td>2.285000</td>\n",
       "      <td>0.665000</td>\n",
       "      <td>0.470000</td>\n",
       "      <td>1.688750</td>\n",
       "      <td>...</td>\n",
       "      <td>196.586667</td>\n",
       "      <td>209.665000</td>\n",
       "      <td>534.723333</td>\n",
       "      <td>426.390000</td>\n",
       "      <td>1122.050000</td>\n",
       "      <td>1041.260000</td>\n",
       "      <td>311.110000</td>\n",
       "      <td>15.000000</td>\n",
       "      <td>0.100000</td>\n",
       "      <td>ZWE</td>\n",
       "    </tr>\n",
       "  </tbody>\n",
       "</table>\n",
       "<p>215 rows × 58 columns</p>\n",
       "</div>"
      ],
      "text/plain": [
       "            Country  Meal, Inexpensive Restaurant (USD)  \\\n",
       "0       Afghanistan                            1.690000   \n",
       "1           Albania                            4.460000   \n",
       "2           Algeria                            1.956562   \n",
       "3    American Samoa                           23.820000   \n",
       "4           Andorra                           13.173333   \n",
       "..              ...                                 ...   \n",
       "210       Venezuela                            8.618824   \n",
       "211         Vietnam                            2.115882   \n",
       "212           Yemen                            6.150000   \n",
       "213          Zambia                            2.988000   \n",
       "214        Zimbabwe                            6.843750   \n",
       "\n",
       "     Meal for 2 People, Mid-range Restaurant, Three-course (USD)  \\\n",
       "0                                             6.870000             \n",
       "1                                            25.532000             \n",
       "2                                            13.983750             \n",
       "3                                             6.660000             \n",
       "4                                            40.920000             \n",
       "..                                                 ...             \n",
       "210                                          32.763333             \n",
       "211                                          18.662353             \n",
       "212                                          32.616667             \n",
       "213                                          18.370000             \n",
       "214                                          36.250000             \n",
       "\n",
       "     McMeal at McDonalds (or Equivalent Combo Meal) (USD)  \\\n",
       "0                                             2.977500      \n",
       "1                                             4.223333      \n",
       "2                                             2.830000      \n",
       "3                                            22.130000      \n",
       "4                                             7.010000      \n",
       "..                                                 ...      \n",
       "210                                           9.021765      \n",
       "211                                           4.231429      \n",
       "212                                          11.158333      \n",
       "213                                           3.170000      \n",
       "214                                           6.187500      \n",
       "\n",
       "     Domestic Beer (0.5 liter draught, in restaurants) (USD)  \\\n",
       "0                                             2.260000         \n",
       "1                                             1.378667         \n",
       "2                                             1.419615         \n",
       "3                                             1.910000         \n",
       "4                                             2.073333         \n",
       "..                                                 ...         \n",
       "210                                           1.442353         \n",
       "211                                           0.790625         \n",
       "212                                           2.265000         \n",
       "213                                           1.152000         \n",
       "214                                           1.318750         \n",
       "\n",
       "     Imported Beer (0.33 liter bottle, in restaurants) (USD)  \\\n",
       "0                                                  NaN         \n",
       "1                                             1.842667         \n",
       "2                                             1.627778         \n",
       "3                                             1.910000         \n",
       "4                                             2.600000         \n",
       "..                                                 ...         \n",
       "210                                           2.205882         \n",
       "211                                           1.542353         \n",
       "212                                           2.282500         \n",
       "213                                           1.494000         \n",
       "214                                           1.971429         \n",
       "\n",
       "     Cappuccino (regular, in restaurants) (USD)  \\\n",
       "0                                      0.597500   \n",
       "1                                      1.198667   \n",
       "2                                      0.507333   \n",
       "3                                      1.000000   \n",
       "4                                      1.380000   \n",
       "..                                          ...   \n",
       "210                                    1.928824   \n",
       "211                                    1.689412   \n",
       "212                                    2.540000   \n",
       "213                                    1.742000   \n",
       "214                                    2.285000   \n",
       "\n",
       "     Coke/Pepsi (0.33 liter bottle, in restaurants) (USD)  \\\n",
       "0                                             0.327500      \n",
       "1                                             1.148667      \n",
       "2                                             0.489091      \n",
       "3                                             1.190000      \n",
       "4                                             1.713333      \n",
       "..                                                 ...      \n",
       "210                                           1.110000      \n",
       "211                                           0.478824      \n",
       "212                                           1.610000      \n",
       "213                                           0.822000      \n",
       "214                                           0.665000      \n",
       "\n",
       "     Water (0.33 liter bottle, in restaurants) (USD)  \\\n",
       "0                                           0.140000   \n",
       "1                                           0.604000   \n",
       "2                                           0.198788   \n",
       "3                                           2.110000   \n",
       "4                                           1.370000   \n",
       "..                                               ...   \n",
       "210                                         0.799412   \n",
       "211                                         0.281176   \n",
       "212                                         0.660000   \n",
       "213                                         0.458000   \n",
       "214                                         0.470000   \n",
       "\n",
       "     Milk (regular), (1 liter) (USD)  ...  \\\n",
       "0                           0.512000  ...   \n",
       "1                           1.136667  ...   \n",
       "2                           0.673333  ...   \n",
       "3                           1.050000  ...   \n",
       "4                           0.950000  ...   \n",
       "..                               ...  ...   \n",
       "210                         1.508333  ...   \n",
       "211                         1.337368  ...   \n",
       "212                         2.298000  ...   \n",
       "213                         1.248000  ...   \n",
       "214                         1.688750  ...   \n",
       "\n",
       "     Apartment (1 bedroom) in City Centre (USD)  \\\n",
       "0                                     82.317500   \n",
       "1                                    204.213636   \n",
       "2                                    145.281034   \n",
       "3                                     89.460000   \n",
       "4                                    823.490000   \n",
       "..                                          ...   \n",
       "210                                  193.940000   \n",
       "211                                  324.830000   \n",
       "212                                  162.295000   \n",
       "213                                  262.010000   \n",
       "214                                  196.586667   \n",
       "\n",
       "     Apartment (1 bedroom) Outside of Centre (USD)  \\\n",
       "0                                        46.140000   \n",
       "1                                       125.985455   \n",
       "2                                        96.479630   \n",
       "3                                              NaN   \n",
       "4                                       664.736667   \n",
       "..                                             ...   \n",
       "210                                     181.823333   \n",
       "211                                     201.647273   \n",
       "212                                      93.740000   \n",
       "213                                     168.400000   \n",
       "214                                     209.665000   \n",
       "\n",
       "     Apartment (3 bedrooms) in City Centre (USD)  \\\n",
       "0                                     151.596667   \n",
       "1                                     366.069000   \n",
       "2                                     239.689643   \n",
       "3                                            NaN   \n",
       "4                                    1724.043333   \n",
       "..                                           ...   \n",
       "210                                   384.291667   \n",
       "211                                   728.840909   \n",
       "212                                   443.155000   \n",
       "213                                   832.640000   \n",
       "214                                   534.723333   \n",
       "\n",
       "     Apartment (3 bedrooms) Outside of Centre (USD)  \\\n",
       "0                                         94.163333   \n",
       "1                                        219.701000   \n",
       "2                                        166.367778   \n",
       "3                                               NaN   \n",
       "4                                       1320.693333   \n",
       "..                                              ...   \n",
       "210                                      296.666667   \n",
       "211                                      472.695455   \n",
       "212                                      221.605000   \n",
       "213                                      439.960000   \n",
       "214                                      426.390000   \n",
       "\n",
       "     Price per Square Meter to Buy Apartment in City Centre (USD)  \\\n",
       "0                                           486.063333              \n",
       "1                                           887.849000              \n",
       "2                                           947.055789              \n",
       "3                                                  NaN              \n",
       "4                                          4390.603333              \n",
       "..                                                 ...              \n",
       "210                                         665.510000              \n",
       "211                                        1748.847778              \n",
       "212                                        2786.350000              \n",
       "213                                       10763.910000              \n",
       "214                                        1122.050000              \n",
       "\n",
       "     Price per Square Meter to Buy Apartment Outside of Centre (USD)  \\\n",
       "0                                           239.113333                 \n",
       "1                                           536.041111                 \n",
       "2                                           616.633684                 \n",
       "3                                                  NaN                 \n",
       "4                                          4109.603333                 \n",
       "..                                                 ...                 \n",
       "210                                         550.611250                 \n",
       "211                                         986.321111                 \n",
       "212                                        1015.360000                 \n",
       "213                                                NaN                 \n",
       "214                                        1041.260000                 \n",
       "\n",
       "     Average Monthly Net Salary (After Tax) (USD)  \\\n",
       "0                                      191.463333   \n",
       "1                                      368.735000   \n",
       "2                                      262.671034   \n",
       "3                                             NaN   \n",
       "4                                     2842.183333   \n",
       "..                                            ...   \n",
       "210                                    193.140000   \n",
       "211                                    443.186667   \n",
       "212                                    439.540000   \n",
       "213                                    396.940000   \n",
       "214                                    311.110000   \n",
       "\n",
       "     Mortgage Interest Rate in Percentages (%), Yearly, for 20 Years Fixed-Rate  \\\n",
       "0                                            11.193333                            \n",
       "1                                             4.880833                            \n",
       "2                                             6.372667                            \n",
       "3                                                  NaN                            \n",
       "4                                             2.843333                            \n",
       "..                                                 ...                            \n",
       "210                                          31.720000                            \n",
       "211                                          11.003125                            \n",
       "212                                          12.875000                            \n",
       "213                                          26.000000                            \n",
       "214                                          15.000000                            \n",
       "\n",
       "     Quality index  code  \n",
       "0         0.166667   AFG  \n",
       "1         0.200000   ALB  \n",
       "2         0.088235   DZA  \n",
       "3         0.000000   ASM  \n",
       "4         0.000000   AND  \n",
       "..             ...   ...  \n",
       "210       0.055556   VEN  \n",
       "211       0.095238   VNM  \n",
       "212       0.142857   YEM  \n",
       "213       0.142857   ZMB  \n",
       "214       0.100000   ZWE  \n",
       "\n",
       "[215 rows x 58 columns]"
      ]
     },
     "execution_count": 40,
     "metadata": {},
     "output_type": "execute_result"
    }
   ],
   "source": [
    "data"
   ]
  },
  {
   "cell_type": "code",
   "execution_count": 41,
   "metadata": {},
   "outputs": [],
   "source": [
    "d = dict(\n",
    "    type='choropleth',\n",
    "    locations = data['code'],\n",
    "    z=data['Meal, Inexpensive Restaurant (USD)'],\n",
    "    text=data['Country']\n",
    ")"
   ]
  },
  {
   "cell_type": "code",
   "execution_count": 42,
   "metadata": {},
   "outputs": [
    {
     "data": {
      "application/vnd.plotly.v1+json": {
       "config": {
        "linkText": "Export to plot.ly",
        "plotlyServerURL": "https://plot.ly",
        "showLink": false
       },
       "data": [
        {
         "locations": [
          "AFG",
          "ALB",
          "DZA",
          "ASM",
          "AND",
          "AGO",
          "AIA",
          null,
          "ARG",
          "ARM",
          "ABW",
          "AUS",
          "AUT",
          "AZE",
          null,
          "BHR",
          "BGD",
          "BRB",
          "BLR",
          "BEL",
          "BLZ",
          "BEN",
          "BMU",
          "BTN",
          "BOL",
          null,
          "BWA",
          "BRA",
          "VGB",
          "BRN",
          "BGR",
          "BFA",
          "BDI",
          "KHM",
          "CMR",
          "CAN",
          null,
          "TCD",
          "CHL",
          "CHN",
          "COL",
          "COM",
          null,
          "COK",
          "CRI",
          "HRV",
          "CUB",
          "CUW",
          "CYP",
          "CZE",
          "DNK",
          "DJI",
          "DMA",
          "DOM",
          "ECU",
          "EGY",
          "SLV",
          "GNQ",
          "ERI",
          "EST",
          "ETH",
          null,
          "FRO",
          "FJI",
          "FIN",
          "FRA",
          null,
          "PYF",
          "GAB",
          null,
          "GEO",
          "DEU",
          "GHA",
          "GIB",
          "GRC",
          "GRL",
          null,
          "GTM",
          "GIN",
          "GNB",
          "GUY",
          "HTI",
          "HND",
          "HKG",
          "HUN",
          "ISL",
          "IND",
          "IDN",
          "IRN",
          "IRQ",
          "IRL",
          null,
          "ISR",
          "ITA",
          null,
          "JAM",
          "JPN",
          "JEY",
          "JOR",
          "KAZ",
          "KEN",
          null,
          "KWT",
          "KGZ",
          "LAO",
          "LVA",
          "LBN",
          "LSO",
          "LBR",
          "LBY",
          "LIE",
          "LTU",
          "LUX",
          "MDG",
          "MWI",
          "MYS",
          "MDV",
          "MLI",
          "MLT",
          "MHL",
          null,
          "MRT",
          "MUS",
          "MEX",
          "MDA",
          "MCO",
          "MNG",
          "MNE",
          null,
          "MAR",
          "MOZ",
          null,
          "NAM",
          null,
          "NPL",
          "NLD",
          "NCL",
          "NZL",
          "NIC",
          "NER",
          "NGA",
          null,
          null,
          "NOR",
          "OMN",
          "PAK",
          "PAN",
          "PNG",
          "PRY",
          "PER",
          "PHL",
          "POL",
          "PRT",
          "PRI",
          "QAT",
          null,
          "ROU",
          "RUS",
          "RWA",
          null,
          null,
          "LCA",
          null,
          "WSM",
          "SMR",
          null,
          "SAU",
          "SEN",
          "SRB",
          "SYC",
          "SLE",
          "SGP",
          "SXM",
          "SVK",
          "SVN",
          "SLB",
          "SOM",
          "ZAF",
          null,
          "SSD",
          "ESP",
          "LKA",
          "SDN",
          "SUR",
          "SWZ",
          "SWE",
          "CHE",
          "SYR",
          "TWN",
          "TJK",
          "TZA",
          "THA",
          "TLS",
          "TGO",
          "TON",
          null,
          "TUN",
          "TUR",
          "TKM",
          null,
          "TUV",
          "UGA",
          "UKR",
          "ARE",
          "GBR",
          "USA",
          "URY",
          "UZB",
          "VUT",
          null,
          "VEN",
          "VNM",
          "YEM",
          "ZMB",
          "ZWE"
         ],
         "text": [
          "Afghanistan",
          "Albania",
          "Algeria",
          "American Samoa",
          "Andorra",
          "Angola",
          "Anguilla",
          "Antigua And Barbuda",
          "Argentina",
          "Armenia",
          "Aruba",
          "Australia",
          "Austria",
          "Azerbaijan",
          "Bahamas",
          "Bahrain",
          "Bangladesh",
          "Barbados",
          "Belarus",
          "Belgium",
          "Belize",
          "Benin",
          "Bermuda",
          "Bhutan",
          "Bolivia",
          "Bosnia And Herzegovina",
          "Botswana",
          "Brazil",
          "British Virgin Islands",
          "Brunei",
          "Bulgaria",
          "Burkina Faso",
          "Burundi",
          "Cambodia",
          "Cameroon",
          "Canada",
          "Cape Verde",
          "Chad",
          "Chile",
          "China",
          "Colombia",
          "Comoros",
          "Congo",
          "Cook Islands",
          "Costa Rica",
          "Croatia",
          "Cuba",
          "Curacao",
          "Cyprus",
          "Czech Republic",
          "Denmark",
          "Djibouti",
          "Dominica",
          "Dominican Republic",
          "Ecuador",
          "Egypt",
          "El Salvador",
          "Equatorial Guinea",
          "Eritrea",
          "Estonia",
          "Ethiopia",
          "Falkland Islands",
          "Faroe Islands",
          "Fiji",
          "Finland",
          "France",
          "French Guiana",
          "French Polynesia",
          "Gabon",
          "Gambia",
          "Georgia",
          "Germany",
          "Ghana",
          "Gibraltar",
          "Greece",
          "Greenland",
          "Guadeloupe",
          "Guatemala",
          "Guinea",
          "Guinea-Bissau",
          "Guyana",
          "Haiti",
          "Honduras",
          "Hong Kong",
          "Hungary",
          "Iceland",
          "India",
          "Indonesia",
          "Iran",
          "Iraq",
          "Ireland",
          "Isle Of Man",
          "Israel",
          "Italy",
          "Ivory Coast",
          "Jamaica",
          "Japan",
          "Jersey",
          "Jordan",
          "Kazakhstan",
          "Kenya",
          "Kosovo (Disputed Territory)",
          "Kuwait",
          "Kyrgyzstan",
          "Laos",
          "Latvia",
          "Lebanon",
          "Lesotho",
          "Liberia",
          "Libya",
          "Liechtenstein",
          "Lithuania",
          "Luxembourg",
          "Madagascar",
          "Malawi",
          "Malaysia",
          "Maldives",
          "Mali",
          "Malta",
          "Marshall Islands",
          "Martinique",
          "Mauritania",
          "Mauritius",
          "Mexico",
          "Moldova",
          "Monaco",
          "Mongolia",
          "Montenegro",
          "Montserrat",
          "Morocco",
          "Mozambique",
          "Myanmar",
          "Namibia",
          "Nauru",
          "Nepal",
          "Netherlands",
          "New Caledonia",
          "New Zealand",
          "Nicaragua",
          "Niger",
          "Nigeria",
          "North Korea",
          "North Macedonia",
          "Norway",
          "Oman",
          "Pakistan",
          "Panama",
          "Papua New Guinea",
          "Paraguay",
          "Peru",
          "Philippines",
          "Poland",
          "Portugal",
          "Puerto Rico",
          "Qatar",
          "Reunion",
          "Romania",
          "Russia",
          "Rwanda",
          "Saint Helena",
          "Saint Kitts And Nevis",
          "Saint Lucia",
          "Saint Vincent And The Grenadines",
          "Samoa",
          "San Marino",
          "Sao Tome And Principe",
          "Saudi Arabia",
          "Senegal",
          "Serbia",
          "Seychelles",
          "Sierra Leone",
          "Singapore",
          "Sint Maarten",
          "Slovakia",
          "Slovenia",
          "Solomon Islands",
          "Somalia",
          "South Africa",
          "South Korea",
          "South Sudan",
          "Spain",
          "Sri Lanka",
          "Sudan",
          "Suriname",
          "Swaziland",
          "Sweden",
          "Switzerland",
          "Syria",
          "Taiwan",
          "Tajikistan",
          "Tanzania",
          "Thailand",
          "Timor-Leste",
          "Togo",
          "Tonga",
          "Trinidad And Tobago",
          "Tunisia",
          "Turkey",
          "Turkmenistan",
          "Turks And Caicos Islands",
          "Tuvalu",
          "Uganda",
          "Ukraine",
          "United Arab Emirates",
          "United Kingdom",
          "United States",
          "Uruguay",
          "Uzbekistan",
          "Vanuatu",
          "Vatican City",
          "Venezuela",
          "Vietnam",
          "Yemen",
          "Zambia",
          "Zimbabwe"
         ],
         "type": "choropleth",
         "z": [
          1.69,
          4.46,
          1.9565625,
          23.82,
          13.173333333333332,
          18.92,
          8,
          5.55,
          6.483333333333333,
          5.683333333333334,
          12,
          15.418909090909091,
          15.015714285714285,
          5.159090909090909,
          25,
          5.4366666666666665,
          2.0391666666666666,
          20,
          7.929090909090909,
          16.79105263157895,
          5.88,
          3.21,
          29,
          3.08,
          2.748,
          4.53,
          9.033333333333333,
          4.861,
          20,
          2.96,
          7.736,
          0.8,
          1.94,
          3.2700000000000005,
          2.5242857142857145,
          15.502056074766356,
          4.28,
          3.21,
          6.605600000000001,
          3.3451648351648355,
          2.487692307692308,
          null,
          12.82,
          9.62,
          6.265,
          7.715909090909091,
          7.388888888888889,
          22.18,
          13.697142857142856,
          6.392,
          17.685,
          9.27,
          5.55,
          5.811666666666667,
          3.3249999999999997,
          3.0047619047619047,
          4.05,
          12.85,
          11.4,
          7.64,
          5.184,
          17.22,
          19.675,
          3.793333333333333,
          12.777407407407408,
          15.668800000000001,
          12.64,
          15.89,
          15.13,
          1.21,
          8.47875,
          11.78292857142857,
          2.144,
          17.84,
          11.3275,
          19.135,
          8.96,
          5.220000000000001,
          5,
          2.62,
          5.49,
          12.6,
          4.49,
          7.7,
          5.881951219512195,
          15.611666666666666,
          2.323141025641026,
          1.64425,
          4.6332258064516125,
          4.629545454545454,
          15.874545454545455,
          22.14,
          18.66176470588235,
          15.011828571428572,
          3.21,
          5.11875,
          6.329315068493151,
          27.68,
          5.7700000000000005,
          5.5633333333333335,
          3.027857142857143,
          3.582,
          5.705,
          4.736666666666667,
          2.35,
          7.463333333333334,
          10,
          null,
          12.5,
          3.2880000000000003,
          24.381999999999998,
          7.626666666666667,
          15.94,
          2.1775,
          3.733333333333333,
          2.4423076923076925,
          7.33,
          4.72,
          15.614848484848483,
          15.2,
          10.54,
          5.58,
          5.725,
          6.740731707317074,
          2.7355555555555555,
          26.34,
          3.52,
          6.944545454545454,
          9.25,
          2.6996875,
          11.430000000000001,
          2.94,
          9.434999999999999,
          10.87,
          1.9127272727272726,
          17.004716981132077,
          17.66,
          15.05695652173913,
          3.954444444444445,
          4.02,
          1.3564516129032258,
          4.27,
          3.7936363636363635,
          18.7472,
          4.976666666666667,
          1.1932432432432432,
          5.25,
          8.86,
          3.9619999999999997,
          2.9647058823529413,
          2.9763513513513513,
          6.4803225806451605,
          8.616923076923076,
          12.848333333333334,
          8.24,
          8.17,
          6.676470588235294,
          10.196859504132231,
          1.9566666666666668,
          14.76,
          12.95,
          7.4,
          11.1,
          4.63,
          15.81,
          15.81,
          6.4366666666666665,
          4.006666666666667,
          4.911290322580645,
          16.01,
          4.31,
          11.09,
          14,
          5.8679411764705875,
          8.81074074074074,
          5.47,
          3,
          7.782424242424242,
          5.98896551724138,
          7.5,
          11.533139534883722,
          1.448,
          5,
          4.86,
          3.115,
          10.613666666666665,
          25.530526315789473,
          4.055833333333333,
          3.4546153846153844,
          3.97,
          3.8216666666666668,
          1.826111111111111,
          5,
          2.01,
          40,
          8.975,
          1.760952380952381,
          2.7801666666666667,
          37.142,
          null,
          3.56,
          2.3310000000000004,
          4.89547619047619,
          7.678,
          16.985548387096774,
          17.13636877828054,
          13.956363636363637,
          3.34,
          12.71,
          1.05,
          8.618823529411765,
          2.1158823529411763,
          6.15,
          2.988,
          6.84375
         ]
        }
       ],
       "layout": {
        "geo": {
         "projection": {
          "type": "orthographic"
         }
        },
        "template": {
         "data": {
          "bar": [
           {
            "error_x": {
             "color": "#2a3f5f"
            },
            "error_y": {
             "color": "#2a3f5f"
            },
            "marker": {
             "line": {
              "color": "#E5ECF6",
              "width": 0.5
             },
             "pattern": {
              "fillmode": "overlay",
              "size": 10,
              "solidity": 0.2
             }
            },
            "type": "bar"
           }
          ],
          "barpolar": [
           {
            "marker": {
             "line": {
              "color": "#E5ECF6",
              "width": 0.5
             },
             "pattern": {
              "fillmode": "overlay",
              "size": 10,
              "solidity": 0.2
             }
            },
            "type": "barpolar"
           }
          ],
          "carpet": [
           {
            "aaxis": {
             "endlinecolor": "#2a3f5f",
             "gridcolor": "white",
             "linecolor": "white",
             "minorgridcolor": "white",
             "startlinecolor": "#2a3f5f"
            },
            "baxis": {
             "endlinecolor": "#2a3f5f",
             "gridcolor": "white",
             "linecolor": "white",
             "minorgridcolor": "white",
             "startlinecolor": "#2a3f5f"
            },
            "type": "carpet"
           }
          ],
          "choropleth": [
           {
            "colorbar": {
             "outlinewidth": 0,
             "ticks": ""
            },
            "type": "choropleth"
           }
          ],
          "contour": [
           {
            "colorbar": {
             "outlinewidth": 0,
             "ticks": ""
            },
            "colorscale": [
             [
              0,
              "#0d0887"
             ],
             [
              0.1111111111111111,
              "#46039f"
             ],
             [
              0.2222222222222222,
              "#7201a8"
             ],
             [
              0.3333333333333333,
              "#9c179e"
             ],
             [
              0.4444444444444444,
              "#bd3786"
             ],
             [
              0.5555555555555556,
              "#d8576b"
             ],
             [
              0.6666666666666666,
              "#ed7953"
             ],
             [
              0.7777777777777778,
              "#fb9f3a"
             ],
             [
              0.8888888888888888,
              "#fdca26"
             ],
             [
              1,
              "#f0f921"
             ]
            ],
            "type": "contour"
           }
          ],
          "contourcarpet": [
           {
            "colorbar": {
             "outlinewidth": 0,
             "ticks": ""
            },
            "type": "contourcarpet"
           }
          ],
          "heatmap": [
           {
            "colorbar": {
             "outlinewidth": 0,
             "ticks": ""
            },
            "colorscale": [
             [
              0,
              "#0d0887"
             ],
             [
              0.1111111111111111,
              "#46039f"
             ],
             [
              0.2222222222222222,
              "#7201a8"
             ],
             [
              0.3333333333333333,
              "#9c179e"
             ],
             [
              0.4444444444444444,
              "#bd3786"
             ],
             [
              0.5555555555555556,
              "#d8576b"
             ],
             [
              0.6666666666666666,
              "#ed7953"
             ],
             [
              0.7777777777777778,
              "#fb9f3a"
             ],
             [
              0.8888888888888888,
              "#fdca26"
             ],
             [
              1,
              "#f0f921"
             ]
            ],
            "type": "heatmap"
           }
          ],
          "heatmapgl": [
           {
            "colorbar": {
             "outlinewidth": 0,
             "ticks": ""
            },
            "colorscale": [
             [
              0,
              "#0d0887"
             ],
             [
              0.1111111111111111,
              "#46039f"
             ],
             [
              0.2222222222222222,
              "#7201a8"
             ],
             [
              0.3333333333333333,
              "#9c179e"
             ],
             [
              0.4444444444444444,
              "#bd3786"
             ],
             [
              0.5555555555555556,
              "#d8576b"
             ],
             [
              0.6666666666666666,
              "#ed7953"
             ],
             [
              0.7777777777777778,
              "#fb9f3a"
             ],
             [
              0.8888888888888888,
              "#fdca26"
             ],
             [
              1,
              "#f0f921"
             ]
            ],
            "type": "heatmapgl"
           }
          ],
          "histogram": [
           {
            "marker": {
             "pattern": {
              "fillmode": "overlay",
              "size": 10,
              "solidity": 0.2
             }
            },
            "type": "histogram"
           }
          ],
          "histogram2d": [
           {
            "colorbar": {
             "outlinewidth": 0,
             "ticks": ""
            },
            "colorscale": [
             [
              0,
              "#0d0887"
             ],
             [
              0.1111111111111111,
              "#46039f"
             ],
             [
              0.2222222222222222,
              "#7201a8"
             ],
             [
              0.3333333333333333,
              "#9c179e"
             ],
             [
              0.4444444444444444,
              "#bd3786"
             ],
             [
              0.5555555555555556,
              "#d8576b"
             ],
             [
              0.6666666666666666,
              "#ed7953"
             ],
             [
              0.7777777777777778,
              "#fb9f3a"
             ],
             [
              0.8888888888888888,
              "#fdca26"
             ],
             [
              1,
              "#f0f921"
             ]
            ],
            "type": "histogram2d"
           }
          ],
          "histogram2dcontour": [
           {
            "colorbar": {
             "outlinewidth": 0,
             "ticks": ""
            },
            "colorscale": [
             [
              0,
              "#0d0887"
             ],
             [
              0.1111111111111111,
              "#46039f"
             ],
             [
              0.2222222222222222,
              "#7201a8"
             ],
             [
              0.3333333333333333,
              "#9c179e"
             ],
             [
              0.4444444444444444,
              "#bd3786"
             ],
             [
              0.5555555555555556,
              "#d8576b"
             ],
             [
              0.6666666666666666,
              "#ed7953"
             ],
             [
              0.7777777777777778,
              "#fb9f3a"
             ],
             [
              0.8888888888888888,
              "#fdca26"
             ],
             [
              1,
              "#f0f921"
             ]
            ],
            "type": "histogram2dcontour"
           }
          ],
          "mesh3d": [
           {
            "colorbar": {
             "outlinewidth": 0,
             "ticks": ""
            },
            "type": "mesh3d"
           }
          ],
          "parcoords": [
           {
            "line": {
             "colorbar": {
              "outlinewidth": 0,
              "ticks": ""
             }
            },
            "type": "parcoords"
           }
          ],
          "pie": [
           {
            "automargin": true,
            "type": "pie"
           }
          ],
          "scatter": [
           {
            "fillpattern": {
             "fillmode": "overlay",
             "size": 10,
             "solidity": 0.2
            },
            "type": "scatter"
           }
          ],
          "scatter3d": [
           {
            "line": {
             "colorbar": {
              "outlinewidth": 0,
              "ticks": ""
             }
            },
            "marker": {
             "colorbar": {
              "outlinewidth": 0,
              "ticks": ""
             }
            },
            "type": "scatter3d"
           }
          ],
          "scattercarpet": [
           {
            "marker": {
             "colorbar": {
              "outlinewidth": 0,
              "ticks": ""
             }
            },
            "type": "scattercarpet"
           }
          ],
          "scattergeo": [
           {
            "marker": {
             "colorbar": {
              "outlinewidth": 0,
              "ticks": ""
             }
            },
            "type": "scattergeo"
           }
          ],
          "scattergl": [
           {
            "marker": {
             "colorbar": {
              "outlinewidth": 0,
              "ticks": ""
             }
            },
            "type": "scattergl"
           }
          ],
          "scattermapbox": [
           {
            "marker": {
             "colorbar": {
              "outlinewidth": 0,
              "ticks": ""
             }
            },
            "type": "scattermapbox"
           }
          ],
          "scatterpolar": [
           {
            "marker": {
             "colorbar": {
              "outlinewidth": 0,
              "ticks": ""
             }
            },
            "type": "scatterpolar"
           }
          ],
          "scatterpolargl": [
           {
            "marker": {
             "colorbar": {
              "outlinewidth": 0,
              "ticks": ""
             }
            },
            "type": "scatterpolargl"
           }
          ],
          "scatterternary": [
           {
            "marker": {
             "colorbar": {
              "outlinewidth": 0,
              "ticks": ""
             }
            },
            "type": "scatterternary"
           }
          ],
          "surface": [
           {
            "colorbar": {
             "outlinewidth": 0,
             "ticks": ""
            },
            "colorscale": [
             [
              0,
              "#0d0887"
             ],
             [
              0.1111111111111111,
              "#46039f"
             ],
             [
              0.2222222222222222,
              "#7201a8"
             ],
             [
              0.3333333333333333,
              "#9c179e"
             ],
             [
              0.4444444444444444,
              "#bd3786"
             ],
             [
              0.5555555555555556,
              "#d8576b"
             ],
             [
              0.6666666666666666,
              "#ed7953"
             ],
             [
              0.7777777777777778,
              "#fb9f3a"
             ],
             [
              0.8888888888888888,
              "#fdca26"
             ],
             [
              1,
              "#f0f921"
             ]
            ],
            "type": "surface"
           }
          ],
          "table": [
           {
            "cells": {
             "fill": {
              "color": "#EBF0F8"
             },
             "line": {
              "color": "white"
             }
            },
            "header": {
             "fill": {
              "color": "#C8D4E3"
             },
             "line": {
              "color": "white"
             }
            },
            "type": "table"
           }
          ]
         },
         "layout": {
          "annotationdefaults": {
           "arrowcolor": "#2a3f5f",
           "arrowhead": 0,
           "arrowwidth": 1
          },
          "autotypenumbers": "strict",
          "coloraxis": {
           "colorbar": {
            "outlinewidth": 0,
            "ticks": ""
           }
          },
          "colorscale": {
           "diverging": [
            [
             0,
             "#8e0152"
            ],
            [
             0.1,
             "#c51b7d"
            ],
            [
             0.2,
             "#de77ae"
            ],
            [
             0.3,
             "#f1b6da"
            ],
            [
             0.4,
             "#fde0ef"
            ],
            [
             0.5,
             "#f7f7f7"
            ],
            [
             0.6,
             "#e6f5d0"
            ],
            [
             0.7,
             "#b8e186"
            ],
            [
             0.8,
             "#7fbc41"
            ],
            [
             0.9,
             "#4d9221"
            ],
            [
             1,
             "#276419"
            ]
           ],
           "sequential": [
            [
             0,
             "#0d0887"
            ],
            [
             0.1111111111111111,
             "#46039f"
            ],
            [
             0.2222222222222222,
             "#7201a8"
            ],
            [
             0.3333333333333333,
             "#9c179e"
            ],
            [
             0.4444444444444444,
             "#bd3786"
            ],
            [
             0.5555555555555556,
             "#d8576b"
            ],
            [
             0.6666666666666666,
             "#ed7953"
            ],
            [
             0.7777777777777778,
             "#fb9f3a"
            ],
            [
             0.8888888888888888,
             "#fdca26"
            ],
            [
             1,
             "#f0f921"
            ]
           ],
           "sequentialminus": [
            [
             0,
             "#0d0887"
            ],
            [
             0.1111111111111111,
             "#46039f"
            ],
            [
             0.2222222222222222,
             "#7201a8"
            ],
            [
             0.3333333333333333,
             "#9c179e"
            ],
            [
             0.4444444444444444,
             "#bd3786"
            ],
            [
             0.5555555555555556,
             "#d8576b"
            ],
            [
             0.6666666666666666,
             "#ed7953"
            ],
            [
             0.7777777777777778,
             "#fb9f3a"
            ],
            [
             0.8888888888888888,
             "#fdca26"
            ],
            [
             1,
             "#f0f921"
            ]
           ]
          },
          "colorway": [
           "#636efa",
           "#EF553B",
           "#00cc96",
           "#ab63fa",
           "#FFA15A",
           "#19d3f3",
           "#FF6692",
           "#B6E880",
           "#FF97FF",
           "#FECB52"
          ],
          "font": {
           "color": "#2a3f5f"
          },
          "geo": {
           "bgcolor": "white",
           "lakecolor": "white",
           "landcolor": "#E5ECF6",
           "showlakes": true,
           "showland": true,
           "subunitcolor": "white"
          },
          "hoverlabel": {
           "align": "left"
          },
          "hovermode": "closest",
          "mapbox": {
           "style": "light"
          },
          "paper_bgcolor": "white",
          "plot_bgcolor": "#E5ECF6",
          "polar": {
           "angularaxis": {
            "gridcolor": "white",
            "linecolor": "white",
            "ticks": ""
           },
           "bgcolor": "#E5ECF6",
           "radialaxis": {
            "gridcolor": "white",
            "linecolor": "white",
            "ticks": ""
           }
          },
          "scene": {
           "xaxis": {
            "backgroundcolor": "#E5ECF6",
            "gridcolor": "white",
            "gridwidth": 2,
            "linecolor": "white",
            "showbackground": true,
            "ticks": "",
            "zerolinecolor": "white"
           },
           "yaxis": {
            "backgroundcolor": "#E5ECF6",
            "gridcolor": "white",
            "gridwidth": 2,
            "linecolor": "white",
            "showbackground": true,
            "ticks": "",
            "zerolinecolor": "white"
           },
           "zaxis": {
            "backgroundcolor": "#E5ECF6",
            "gridcolor": "white",
            "gridwidth": 2,
            "linecolor": "white",
            "showbackground": true,
            "ticks": "",
            "zerolinecolor": "white"
           }
          },
          "shapedefaults": {
           "line": {
            "color": "#2a3f5f"
           }
          },
          "ternary": {
           "aaxis": {
            "gridcolor": "white",
            "linecolor": "white",
            "ticks": ""
           },
           "baxis": {
            "gridcolor": "white",
            "linecolor": "white",
            "ticks": ""
           },
           "bgcolor": "#E5ECF6",
           "caxis": {
            "gridcolor": "white",
            "linecolor": "white",
            "ticks": ""
           }
          },
          "title": {
           "x": 0.05
          },
          "xaxis": {
           "automargin": true,
           "gridcolor": "white",
           "linecolor": "white",
           "ticks": "",
           "title": {
            "standoff": 15
           },
           "zerolinecolor": "white",
           "zerolinewidth": 2
          },
          "yaxis": {
           "automargin": true,
           "gridcolor": "white",
           "linecolor": "white",
           "ticks": "",
           "title": {
            "standoff": 15
           },
           "zerolinecolor": "white",
           "zerolinewidth": 2
          }
         }
        },
        "title": {
         "text": "Meal, Inexpensive Restaurant (USD)"
        }
       }
      },
      "text/html": [
       "<div>                            <div id=\"aa7e0500-7e89-4ff3-8749-2dab54de7a7d\" class=\"plotly-graph-div\" style=\"height:525px; width:100%;\"></div>            <script type=\"text/javascript\">                require([\"plotly\"], function(Plotly) {                    window.PLOTLYENV=window.PLOTLYENV || {};                                    if (document.getElementById(\"aa7e0500-7e89-4ff3-8749-2dab54de7a7d\")) {                    Plotly.newPlot(                        \"aa7e0500-7e89-4ff3-8749-2dab54de7a7d\",                        [{\"locations\":[\"AFG\",\"ALB\",\"DZA\",\"ASM\",\"AND\",\"AGO\",\"AIA\",null,\"ARG\",\"ARM\",\"ABW\",\"AUS\",\"AUT\",\"AZE\",null,\"BHR\",\"BGD\",\"BRB\",\"BLR\",\"BEL\",\"BLZ\",\"BEN\",\"BMU\",\"BTN\",\"BOL\",null,\"BWA\",\"BRA\",\"VGB\",\"BRN\",\"BGR\",\"BFA\",\"BDI\",\"KHM\",\"CMR\",\"CAN\",null,\"TCD\",\"CHL\",\"CHN\",\"COL\",\"COM\",null,\"COK\",\"CRI\",\"HRV\",\"CUB\",\"CUW\",\"CYP\",\"CZE\",\"DNK\",\"DJI\",\"DMA\",\"DOM\",\"ECU\",\"EGY\",\"SLV\",\"GNQ\",\"ERI\",\"EST\",\"ETH\",null,\"FRO\",\"FJI\",\"FIN\",\"FRA\",null,\"PYF\",\"GAB\",null,\"GEO\",\"DEU\",\"GHA\",\"GIB\",\"GRC\",\"GRL\",null,\"GTM\",\"GIN\",\"GNB\",\"GUY\",\"HTI\",\"HND\",\"HKG\",\"HUN\",\"ISL\",\"IND\",\"IDN\",\"IRN\",\"IRQ\",\"IRL\",null,\"ISR\",\"ITA\",null,\"JAM\",\"JPN\",\"JEY\",\"JOR\",\"KAZ\",\"KEN\",null,\"KWT\",\"KGZ\",\"LAO\",\"LVA\",\"LBN\",\"LSO\",\"LBR\",\"LBY\",\"LIE\",\"LTU\",\"LUX\",\"MDG\",\"MWI\",\"MYS\",\"MDV\",\"MLI\",\"MLT\",\"MHL\",null,\"MRT\",\"MUS\",\"MEX\",\"MDA\",\"MCO\",\"MNG\",\"MNE\",null,\"MAR\",\"MOZ\",null,\"NAM\",null,\"NPL\",\"NLD\",\"NCL\",\"NZL\",\"NIC\",\"NER\",\"NGA\",null,null,\"NOR\",\"OMN\",\"PAK\",\"PAN\",\"PNG\",\"PRY\",\"PER\",\"PHL\",\"POL\",\"PRT\",\"PRI\",\"QAT\",null,\"ROU\",\"RUS\",\"RWA\",null,null,\"LCA\",null,\"WSM\",\"SMR\",null,\"SAU\",\"SEN\",\"SRB\",\"SYC\",\"SLE\",\"SGP\",\"SXM\",\"SVK\",\"SVN\",\"SLB\",\"SOM\",\"ZAF\",null,\"SSD\",\"ESP\",\"LKA\",\"SDN\",\"SUR\",\"SWZ\",\"SWE\",\"CHE\",\"SYR\",\"TWN\",\"TJK\",\"TZA\",\"THA\",\"TLS\",\"TGO\",\"TON\",null,\"TUN\",\"TUR\",\"TKM\",null,\"TUV\",\"UGA\",\"UKR\",\"ARE\",\"GBR\",\"USA\",\"URY\",\"UZB\",\"VUT\",null,\"VEN\",\"VNM\",\"YEM\",\"ZMB\",\"ZWE\"],\"text\":[\"Afghanistan\",\"Albania\",\"Algeria\",\"American Samoa\",\"Andorra\",\"Angola\",\"Anguilla\",\"Antigua And Barbuda\",\"Argentina\",\"Armenia\",\"Aruba\",\"Australia\",\"Austria\",\"Azerbaijan\",\"Bahamas\",\"Bahrain\",\"Bangladesh\",\"Barbados\",\"Belarus\",\"Belgium\",\"Belize\",\"Benin\",\"Bermuda\",\"Bhutan\",\"Bolivia\",\"Bosnia And Herzegovina\",\"Botswana\",\"Brazil\",\"British Virgin Islands\",\"Brunei\",\"Bulgaria\",\"Burkina Faso\",\"Burundi\",\"Cambodia\",\"Cameroon\",\"Canada\",\"Cape Verde\",\"Chad\",\"Chile\",\"China\",\"Colombia\",\"Comoros\",\"Congo\",\"Cook Islands\",\"Costa Rica\",\"Croatia\",\"Cuba\",\"Curacao\",\"Cyprus\",\"Czech Republic\",\"Denmark\",\"Djibouti\",\"Dominica\",\"Dominican Republic\",\"Ecuador\",\"Egypt\",\"El Salvador\",\"Equatorial Guinea\",\"Eritrea\",\"Estonia\",\"Ethiopia\",\"Falkland Islands\",\"Faroe Islands\",\"Fiji\",\"Finland\",\"France\",\"French Guiana\",\"French Polynesia\",\"Gabon\",\"Gambia\",\"Georgia\",\"Germany\",\"Ghana\",\"Gibraltar\",\"Greece\",\"Greenland\",\"Guadeloupe\",\"Guatemala\",\"Guinea\",\"Guinea-Bissau\",\"Guyana\",\"Haiti\",\"Honduras\",\"Hong Kong\",\"Hungary\",\"Iceland\",\"India\",\"Indonesia\",\"Iran\",\"Iraq\",\"Ireland\",\"Isle Of Man\",\"Israel\",\"Italy\",\"Ivory Coast\",\"Jamaica\",\"Japan\",\"Jersey\",\"Jordan\",\"Kazakhstan\",\"Kenya\",\"Kosovo (Disputed Territory)\",\"Kuwait\",\"Kyrgyzstan\",\"Laos\",\"Latvia\",\"Lebanon\",\"Lesotho\",\"Liberia\",\"Libya\",\"Liechtenstein\",\"Lithuania\",\"Luxembourg\",\"Madagascar\",\"Malawi\",\"Malaysia\",\"Maldives\",\"Mali\",\"Malta\",\"Marshall Islands\",\"Martinique\",\"Mauritania\",\"Mauritius\",\"Mexico\",\"Moldova\",\"Monaco\",\"Mongolia\",\"Montenegro\",\"Montserrat\",\"Morocco\",\"Mozambique\",\"Myanmar\",\"Namibia\",\"Nauru\",\"Nepal\",\"Netherlands\",\"New Caledonia\",\"New Zealand\",\"Nicaragua\",\"Niger\",\"Nigeria\",\"North Korea\",\"North Macedonia\",\"Norway\",\"Oman\",\"Pakistan\",\"Panama\",\"Papua New Guinea\",\"Paraguay\",\"Peru\",\"Philippines\",\"Poland\",\"Portugal\",\"Puerto Rico\",\"Qatar\",\"Reunion\",\"Romania\",\"Russia\",\"Rwanda\",\"Saint Helena\",\"Saint Kitts And Nevis\",\"Saint Lucia\",\"Saint Vincent And The Grenadines\",\"Samoa\",\"San Marino\",\"Sao Tome And Principe\",\"Saudi Arabia\",\"Senegal\",\"Serbia\",\"Seychelles\",\"Sierra Leone\",\"Singapore\",\"Sint Maarten\",\"Slovakia\",\"Slovenia\",\"Solomon Islands\",\"Somalia\",\"South Africa\",\"South Korea\",\"South Sudan\",\"Spain\",\"Sri Lanka\",\"Sudan\",\"Suriname\",\"Swaziland\",\"Sweden\",\"Switzerland\",\"Syria\",\"Taiwan\",\"Tajikistan\",\"Tanzania\",\"Thailand\",\"Timor-Leste\",\"Togo\",\"Tonga\",\"Trinidad And Tobago\",\"Tunisia\",\"Turkey\",\"Turkmenistan\",\"Turks And Caicos Islands\",\"Tuvalu\",\"Uganda\",\"Ukraine\",\"United Arab Emirates\",\"United Kingdom\",\"United States\",\"Uruguay\",\"Uzbekistan\",\"Vanuatu\",\"Vatican City\",\"Venezuela\",\"Vietnam\",\"Yemen\",\"Zambia\",\"Zimbabwe\"],\"z\":[1.69,4.46,1.9565625,23.82,13.173333333333332,18.92,8.0,5.55,6.483333333333333,5.683333333333334,12.0,15.418909090909091,15.015714285714285,5.159090909090909,25.0,5.4366666666666665,2.0391666666666666,20.0,7.929090909090909,16.79105263157895,5.88,3.21,29.0,3.08,2.748,4.53,9.033333333333333,4.861,20.0,2.96,7.736,0.8,1.94,3.2700000000000005,2.5242857142857145,15.502056074766356,4.28,3.21,6.605600000000001,3.3451648351648355,2.487692307692308,null,12.82,9.62,6.265,7.715909090909091,7.388888888888889,22.18,13.697142857142856,6.392,17.685,9.27,5.55,5.811666666666667,3.3249999999999997,3.0047619047619047,4.05,12.85,11.4,7.64,5.184,17.22,19.675,3.793333333333333,12.777407407407408,15.668800000000001,12.64,15.89,15.13,1.21,8.47875,11.78292857142857,2.144,17.84,11.3275,19.135,8.96,5.220000000000001,5.0,2.62,5.49,12.6,4.49,7.7,5.881951219512195,15.611666666666666,2.323141025641026,1.64425,4.6332258064516125,4.629545454545454,15.874545454545455,22.14,18.66176470588235,15.011828571428572,3.21,5.11875,6.329315068493151,27.68,5.7700000000000005,5.5633333333333335,3.027857142857143,3.582,5.705,4.736666666666667,2.35,7.463333333333334,10.0,null,12.5,3.2880000000000003,24.381999999999998,7.626666666666667,15.94,2.1775,3.733333333333333,2.4423076923076925,7.33,4.72,15.614848484848483,15.2,10.54,5.58,5.725,6.740731707317074,2.7355555555555555,26.34,3.52,6.944545454545454,9.25,2.6996875,11.430000000000001,2.94,9.434999999999999,10.87,1.9127272727272726,17.004716981132077,17.66,15.05695652173913,3.954444444444445,4.02,1.3564516129032258,4.27,3.7936363636363635,18.7472,4.976666666666667,1.1932432432432432,5.25,8.86,3.9619999999999997,2.9647058823529413,2.9763513513513513,6.4803225806451605,8.616923076923076,12.848333333333334,8.24,8.17,6.676470588235294,10.196859504132231,1.9566666666666668,14.76,12.95,7.4,11.1,4.63,15.81,15.81,6.4366666666666665,4.006666666666667,4.911290322580645,16.01,4.31,11.09,14.0,5.8679411764705875,8.81074074074074,5.47,3.0,7.782424242424242,5.98896551724138,7.5,11.533139534883722,1.448,5.0,4.86,3.115,10.613666666666665,25.530526315789473,4.055833333333333,3.4546153846153844,3.97,3.8216666666666668,1.826111111111111,5.0,2.01,40.0,8.975,1.760952380952381,2.7801666666666667,37.142,null,3.56,2.3310000000000004,4.89547619047619,7.678,16.985548387096774,17.13636877828054,13.956363636363637,3.34,12.71,1.05,8.618823529411765,2.1158823529411763,6.15,2.988,6.84375],\"type\":\"choropleth\"}],                        {\"geo\":{\"projection\":{\"type\":\"orthographic\"}},\"template\":{\"data\":{\"barpolar\":[{\"marker\":{\"line\":{\"color\":\"#E5ECF6\",\"width\":0.5},\"pattern\":{\"fillmode\":\"overlay\",\"size\":10,\"solidity\":0.2}},\"type\":\"barpolar\"}],\"bar\":[{\"error_x\":{\"color\":\"#2a3f5f\"},\"error_y\":{\"color\":\"#2a3f5f\"},\"marker\":{\"line\":{\"color\":\"#E5ECF6\",\"width\":0.5},\"pattern\":{\"fillmode\":\"overlay\",\"size\":10,\"solidity\":0.2}},\"type\":\"bar\"}],\"carpet\":[{\"aaxis\":{\"endlinecolor\":\"#2a3f5f\",\"gridcolor\":\"white\",\"linecolor\":\"white\",\"minorgridcolor\":\"white\",\"startlinecolor\":\"#2a3f5f\"},\"baxis\":{\"endlinecolor\":\"#2a3f5f\",\"gridcolor\":\"white\",\"linecolor\":\"white\",\"minorgridcolor\":\"white\",\"startlinecolor\":\"#2a3f5f\"},\"type\":\"carpet\"}],\"choropleth\":[{\"colorbar\":{\"outlinewidth\":0,\"ticks\":\"\"},\"type\":\"choropleth\"}],\"contourcarpet\":[{\"colorbar\":{\"outlinewidth\":0,\"ticks\":\"\"},\"type\":\"contourcarpet\"}],\"contour\":[{\"colorbar\":{\"outlinewidth\":0,\"ticks\":\"\"},\"colorscale\":[[0.0,\"#0d0887\"],[0.1111111111111111,\"#46039f\"],[0.2222222222222222,\"#7201a8\"],[0.3333333333333333,\"#9c179e\"],[0.4444444444444444,\"#bd3786\"],[0.5555555555555556,\"#d8576b\"],[0.6666666666666666,\"#ed7953\"],[0.7777777777777778,\"#fb9f3a\"],[0.8888888888888888,\"#fdca26\"],[1.0,\"#f0f921\"]],\"type\":\"contour\"}],\"heatmapgl\":[{\"colorbar\":{\"outlinewidth\":0,\"ticks\":\"\"},\"colorscale\":[[0.0,\"#0d0887\"],[0.1111111111111111,\"#46039f\"],[0.2222222222222222,\"#7201a8\"],[0.3333333333333333,\"#9c179e\"],[0.4444444444444444,\"#bd3786\"],[0.5555555555555556,\"#d8576b\"],[0.6666666666666666,\"#ed7953\"],[0.7777777777777778,\"#fb9f3a\"],[0.8888888888888888,\"#fdca26\"],[1.0,\"#f0f921\"]],\"type\":\"heatmapgl\"}],\"heatmap\":[{\"colorbar\":{\"outlinewidth\":0,\"ticks\":\"\"},\"colorscale\":[[0.0,\"#0d0887\"],[0.1111111111111111,\"#46039f\"],[0.2222222222222222,\"#7201a8\"],[0.3333333333333333,\"#9c179e\"],[0.4444444444444444,\"#bd3786\"],[0.5555555555555556,\"#d8576b\"],[0.6666666666666666,\"#ed7953\"],[0.7777777777777778,\"#fb9f3a\"],[0.8888888888888888,\"#fdca26\"],[1.0,\"#f0f921\"]],\"type\":\"heatmap\"}],\"histogram2dcontour\":[{\"colorbar\":{\"outlinewidth\":0,\"ticks\":\"\"},\"colorscale\":[[0.0,\"#0d0887\"],[0.1111111111111111,\"#46039f\"],[0.2222222222222222,\"#7201a8\"],[0.3333333333333333,\"#9c179e\"],[0.4444444444444444,\"#bd3786\"],[0.5555555555555556,\"#d8576b\"],[0.6666666666666666,\"#ed7953\"],[0.7777777777777778,\"#fb9f3a\"],[0.8888888888888888,\"#fdca26\"],[1.0,\"#f0f921\"]],\"type\":\"histogram2dcontour\"}],\"histogram2d\":[{\"colorbar\":{\"outlinewidth\":0,\"ticks\":\"\"},\"colorscale\":[[0.0,\"#0d0887\"],[0.1111111111111111,\"#46039f\"],[0.2222222222222222,\"#7201a8\"],[0.3333333333333333,\"#9c179e\"],[0.4444444444444444,\"#bd3786\"],[0.5555555555555556,\"#d8576b\"],[0.6666666666666666,\"#ed7953\"],[0.7777777777777778,\"#fb9f3a\"],[0.8888888888888888,\"#fdca26\"],[1.0,\"#f0f921\"]],\"type\":\"histogram2d\"}],\"histogram\":[{\"marker\":{\"pattern\":{\"fillmode\":\"overlay\",\"size\":10,\"solidity\":0.2}},\"type\":\"histogram\"}],\"mesh3d\":[{\"colorbar\":{\"outlinewidth\":0,\"ticks\":\"\"},\"type\":\"mesh3d\"}],\"parcoords\":[{\"line\":{\"colorbar\":{\"outlinewidth\":0,\"ticks\":\"\"}},\"type\":\"parcoords\"}],\"pie\":[{\"automargin\":true,\"type\":\"pie\"}],\"scatter3d\":[{\"line\":{\"colorbar\":{\"outlinewidth\":0,\"ticks\":\"\"}},\"marker\":{\"colorbar\":{\"outlinewidth\":0,\"ticks\":\"\"}},\"type\":\"scatter3d\"}],\"scattercarpet\":[{\"marker\":{\"colorbar\":{\"outlinewidth\":0,\"ticks\":\"\"}},\"type\":\"scattercarpet\"}],\"scattergeo\":[{\"marker\":{\"colorbar\":{\"outlinewidth\":0,\"ticks\":\"\"}},\"type\":\"scattergeo\"}],\"scattergl\":[{\"marker\":{\"colorbar\":{\"outlinewidth\":0,\"ticks\":\"\"}},\"type\":\"scattergl\"}],\"scattermapbox\":[{\"marker\":{\"colorbar\":{\"outlinewidth\":0,\"ticks\":\"\"}},\"type\":\"scattermapbox\"}],\"scatterpolargl\":[{\"marker\":{\"colorbar\":{\"outlinewidth\":0,\"ticks\":\"\"}},\"type\":\"scatterpolargl\"}],\"scatterpolar\":[{\"marker\":{\"colorbar\":{\"outlinewidth\":0,\"ticks\":\"\"}},\"type\":\"scatterpolar\"}],\"scatter\":[{\"fillpattern\":{\"fillmode\":\"overlay\",\"size\":10,\"solidity\":0.2},\"type\":\"scatter\"}],\"scatterternary\":[{\"marker\":{\"colorbar\":{\"outlinewidth\":0,\"ticks\":\"\"}},\"type\":\"scatterternary\"}],\"surface\":[{\"colorbar\":{\"outlinewidth\":0,\"ticks\":\"\"},\"colorscale\":[[0.0,\"#0d0887\"],[0.1111111111111111,\"#46039f\"],[0.2222222222222222,\"#7201a8\"],[0.3333333333333333,\"#9c179e\"],[0.4444444444444444,\"#bd3786\"],[0.5555555555555556,\"#d8576b\"],[0.6666666666666666,\"#ed7953\"],[0.7777777777777778,\"#fb9f3a\"],[0.8888888888888888,\"#fdca26\"],[1.0,\"#f0f921\"]],\"type\":\"surface\"}],\"table\":[{\"cells\":{\"fill\":{\"color\":\"#EBF0F8\"},\"line\":{\"color\":\"white\"}},\"header\":{\"fill\":{\"color\":\"#C8D4E3\"},\"line\":{\"color\":\"white\"}},\"type\":\"table\"}]},\"layout\":{\"annotationdefaults\":{\"arrowcolor\":\"#2a3f5f\",\"arrowhead\":0,\"arrowwidth\":1},\"autotypenumbers\":\"strict\",\"coloraxis\":{\"colorbar\":{\"outlinewidth\":0,\"ticks\":\"\"}},\"colorscale\":{\"diverging\":[[0,\"#8e0152\"],[0.1,\"#c51b7d\"],[0.2,\"#de77ae\"],[0.3,\"#f1b6da\"],[0.4,\"#fde0ef\"],[0.5,\"#f7f7f7\"],[0.6,\"#e6f5d0\"],[0.7,\"#b8e186\"],[0.8,\"#7fbc41\"],[0.9,\"#4d9221\"],[1,\"#276419\"]],\"sequential\":[[0.0,\"#0d0887\"],[0.1111111111111111,\"#46039f\"],[0.2222222222222222,\"#7201a8\"],[0.3333333333333333,\"#9c179e\"],[0.4444444444444444,\"#bd3786\"],[0.5555555555555556,\"#d8576b\"],[0.6666666666666666,\"#ed7953\"],[0.7777777777777778,\"#fb9f3a\"],[0.8888888888888888,\"#fdca26\"],[1.0,\"#f0f921\"]],\"sequentialminus\":[[0.0,\"#0d0887\"],[0.1111111111111111,\"#46039f\"],[0.2222222222222222,\"#7201a8\"],[0.3333333333333333,\"#9c179e\"],[0.4444444444444444,\"#bd3786\"],[0.5555555555555556,\"#d8576b\"],[0.6666666666666666,\"#ed7953\"],[0.7777777777777778,\"#fb9f3a\"],[0.8888888888888888,\"#fdca26\"],[1.0,\"#f0f921\"]]},\"colorway\":[\"#636efa\",\"#EF553B\",\"#00cc96\",\"#ab63fa\",\"#FFA15A\",\"#19d3f3\",\"#FF6692\",\"#B6E880\",\"#FF97FF\",\"#FECB52\"],\"font\":{\"color\":\"#2a3f5f\"},\"geo\":{\"bgcolor\":\"white\",\"lakecolor\":\"white\",\"landcolor\":\"#E5ECF6\",\"showlakes\":true,\"showland\":true,\"subunitcolor\":\"white\"},\"hoverlabel\":{\"align\":\"left\"},\"hovermode\":\"closest\",\"mapbox\":{\"style\":\"light\"},\"paper_bgcolor\":\"white\",\"plot_bgcolor\":\"#E5ECF6\",\"polar\":{\"angularaxis\":{\"gridcolor\":\"white\",\"linecolor\":\"white\",\"ticks\":\"\"},\"bgcolor\":\"#E5ECF6\",\"radialaxis\":{\"gridcolor\":\"white\",\"linecolor\":\"white\",\"ticks\":\"\"}},\"scene\":{\"xaxis\":{\"backgroundcolor\":\"#E5ECF6\",\"gridcolor\":\"white\",\"gridwidth\":2,\"linecolor\":\"white\",\"showbackground\":true,\"ticks\":\"\",\"zerolinecolor\":\"white\"},\"yaxis\":{\"backgroundcolor\":\"#E5ECF6\",\"gridcolor\":\"white\",\"gridwidth\":2,\"linecolor\":\"white\",\"showbackground\":true,\"ticks\":\"\",\"zerolinecolor\":\"white\"},\"zaxis\":{\"backgroundcolor\":\"#E5ECF6\",\"gridcolor\":\"white\",\"gridwidth\":2,\"linecolor\":\"white\",\"showbackground\":true,\"ticks\":\"\",\"zerolinecolor\":\"white\"}},\"shapedefaults\":{\"line\":{\"color\":\"#2a3f5f\"}},\"ternary\":{\"aaxis\":{\"gridcolor\":\"white\",\"linecolor\":\"white\",\"ticks\":\"\"},\"baxis\":{\"gridcolor\":\"white\",\"linecolor\":\"white\",\"ticks\":\"\"},\"bgcolor\":\"#E5ECF6\",\"caxis\":{\"gridcolor\":\"white\",\"linecolor\":\"white\",\"ticks\":\"\"}},\"title\":{\"x\":0.05},\"xaxis\":{\"automargin\":true,\"gridcolor\":\"white\",\"linecolor\":\"white\",\"ticks\":\"\",\"title\":{\"standoff\":15},\"zerolinecolor\":\"white\",\"zerolinewidth\":2},\"yaxis\":{\"automargin\":true,\"gridcolor\":\"white\",\"linecolor\":\"white\",\"ticks\":\"\",\"title\":{\"standoff\":15},\"zerolinecolor\":\"white\",\"zerolinewidth\":2}}},\"title\":{\"text\":\"Meal, Inexpensive Restaurant (USD)\"}},                        {\"responsive\": true}                    ).then(function(){\n",
       "                            \n",
       "var gd = document.getElementById('aa7e0500-7e89-4ff3-8749-2dab54de7a7d');\n",
       "var x = new MutationObserver(function (mutations, observer) {{\n",
       "        var display = window.getComputedStyle(gd).display;\n",
       "        if (!display || display === 'none') {{\n",
       "            console.log([gd, 'removed!']);\n",
       "            Plotly.purge(gd);\n",
       "            observer.disconnect();\n",
       "        }}\n",
       "}});\n",
       "\n",
       "// Listen for the removal of the full notebook cells\n",
       "var notebookContainer = gd.closest('#notebook-container');\n",
       "if (notebookContainer) {{\n",
       "    x.observe(notebookContainer, {childList: true});\n",
       "}}\n",
       "\n",
       "// Listen for the clearing of the current output cell\n",
       "var outputEl = gd.closest('.output');\n",
       "if (outputEl) {{\n",
       "    x.observe(outputEl, {childList: true});\n",
       "}}\n",
       "\n",
       "                        })                };                });            </script>        </div>"
      ]
     },
     "metadata": {},
     "output_type": "display_data"
    }
   ],
   "source": [
    "layout = dict(\n",
    "                title = 'Meal, Inexpensive Restaurant (USD)',\n",
    "                geo = dict( projection = {'type':'orthographic'},\n",
    "                        ),\n",
    "                )\n",
    "x = pg.Figure(data = [d], \n",
    "              layout = layout)\n",
    "\n",
    "po.iplot(x)"
   ]
  }
 ],
 "metadata": {
  "kernelspec": {
   "display_name": "vad",
   "language": "python",
   "name": "python3"
  },
  "language_info": {
   "codemirror_mode": {
    "name": "ipython",
    "version": 3
   },
   "file_extension": ".py",
   "mimetype": "text/x-python",
   "name": "python",
   "nbconvert_exporter": "python",
   "pygments_lexer": "ipython3",
   "version": "3.8.5"
  },
  "orig_nbformat": 4,
  "vscode": {
   "interpreter": {
    "hash": "62fda4eeca0b06a1fc53b4da55afa55411321a0c2c90e72399a943834f34b8a3"
   }
  }
 },
 "nbformat": 4,
 "nbformat_minor": 2
}
